{
 "cells": [
  {
   "cell_type": "markdown",
   "metadata": {},
   "source": [
    "### Importing all the necessary libraries"
   ]
  },
  {
   "cell_type": "code",
   "execution_count": 1,
   "metadata": {},
   "outputs": [],
   "source": [
    "import numpy as np\n",
    "import pandas as pd\n",
    "import matplotlib.pyplot as plt\n",
    "import seaborn as sns\n",
    "\n",
    "import sklearn\n",
    "from sklearn.preprocessing import StandardScaler\n",
    "from sklearn.cluster import KMeans\n",
    "from sklearn.metrics import silhouette_score\n",
    "\n",
    "from tabulate import tabulate\n",
    "\n",
    "from scipy.cluster.hierarchy import linkage\n",
    "from scipy.cluster.hierarchy import dendrogram\n",
    "from scipy.cluster.hierarchy import cut_tree"
   ]
  },
  {
   "cell_type": "markdown",
   "metadata": {},
   "source": [
    "### Read the data"
   ]
  },
  {
   "cell_type": "code",
   "execution_count": 2,
   "metadata": {},
   "outputs": [
    {
     "data": {
      "text/html": [
       "<div>\n",
       "<style scoped>\n",
       "    .dataframe tbody tr th:only-of-type {\n",
       "        vertical-align: middle;\n",
       "    }\n",
       "\n",
       "    .dataframe tbody tr th {\n",
       "        vertical-align: top;\n",
       "    }\n",
       "\n",
       "    .dataframe thead th {\n",
       "        text-align: right;\n",
       "    }\n",
       "</style>\n",
       "<table border=\"1\" class=\"dataframe\">\n",
       "  <thead>\n",
       "    <tr style=\"text-align: right;\">\n",
       "      <th></th>\n",
       "      <th>country</th>\n",
       "      <th>child_mort</th>\n",
       "      <th>exports</th>\n",
       "      <th>health</th>\n",
       "      <th>imports</th>\n",
       "      <th>income</th>\n",
       "      <th>inflation</th>\n",
       "      <th>life_expec</th>\n",
       "      <th>total_fer</th>\n",
       "      <th>gdpp</th>\n",
       "    </tr>\n",
       "  </thead>\n",
       "  <tbody>\n",
       "    <tr>\n",
       "      <th>0</th>\n",
       "      <td>Afghanistan</td>\n",
       "      <td>90.2</td>\n",
       "      <td>10.0</td>\n",
       "      <td>7.58</td>\n",
       "      <td>44.9</td>\n",
       "      <td>1610</td>\n",
       "      <td>9.44</td>\n",
       "      <td>56.2</td>\n",
       "      <td>5.82</td>\n",
       "      <td>553</td>\n",
       "    </tr>\n",
       "    <tr>\n",
       "      <th>1</th>\n",
       "      <td>Albania</td>\n",
       "      <td>16.6</td>\n",
       "      <td>28.0</td>\n",
       "      <td>6.55</td>\n",
       "      <td>48.6</td>\n",
       "      <td>9930</td>\n",
       "      <td>4.49</td>\n",
       "      <td>76.3</td>\n",
       "      <td>1.65</td>\n",
       "      <td>4090</td>\n",
       "    </tr>\n",
       "    <tr>\n",
       "      <th>2</th>\n",
       "      <td>Algeria</td>\n",
       "      <td>27.3</td>\n",
       "      <td>38.4</td>\n",
       "      <td>4.17</td>\n",
       "      <td>31.4</td>\n",
       "      <td>12900</td>\n",
       "      <td>16.10</td>\n",
       "      <td>76.5</td>\n",
       "      <td>2.89</td>\n",
       "      <td>4460</td>\n",
       "    </tr>\n",
       "    <tr>\n",
       "      <th>3</th>\n",
       "      <td>Angola</td>\n",
       "      <td>119.0</td>\n",
       "      <td>62.3</td>\n",
       "      <td>2.85</td>\n",
       "      <td>42.9</td>\n",
       "      <td>5900</td>\n",
       "      <td>22.40</td>\n",
       "      <td>60.1</td>\n",
       "      <td>6.16</td>\n",
       "      <td>3530</td>\n",
       "    </tr>\n",
       "    <tr>\n",
       "      <th>4</th>\n",
       "      <td>Antigua and Barbuda</td>\n",
       "      <td>10.3</td>\n",
       "      <td>45.5</td>\n",
       "      <td>6.03</td>\n",
       "      <td>58.9</td>\n",
       "      <td>19100</td>\n",
       "      <td>1.44</td>\n",
       "      <td>76.8</td>\n",
       "      <td>2.13</td>\n",
       "      <td>12200</td>\n",
       "    </tr>\n",
       "  </tbody>\n",
       "</table>\n",
       "</div>"
      ],
      "text/plain": [
       "               country  child_mort  exports  health  imports  income  \\\n",
       "0          Afghanistan        90.2     10.0    7.58     44.9    1610   \n",
       "1              Albania        16.6     28.0    6.55     48.6    9930   \n",
       "2              Algeria        27.3     38.4    4.17     31.4   12900   \n",
       "3               Angola       119.0     62.3    2.85     42.9    5900   \n",
       "4  Antigua and Barbuda        10.3     45.5    6.03     58.9   19100   \n",
       "\n",
       "   inflation  life_expec  total_fer   gdpp  \n",
       "0       9.44        56.2       5.82    553  \n",
       "1       4.49        76.3       1.65   4090  \n",
       "2      16.10        76.5       2.89   4460  \n",
       "3      22.40        60.1       6.16   3530  \n",
       "4       1.44        76.8       2.13  12200  "
      ]
     },
     "execution_count": 2,
     "metadata": {},
     "output_type": "execute_result"
    }
   ],
   "source": [
    "countries = pd.read_csv('Country-data.csv')\n",
    "countries.head()"
   ]
  },
  {
   "cell_type": "markdown",
   "metadata": {},
   "source": [
    "### Checking the shape of the dataframe"
   ]
  },
  {
   "cell_type": "code",
   "execution_count": 3,
   "metadata": {},
   "outputs": [
    {
     "data": {
      "text/plain": [
       "(167, 10)"
      ]
     },
     "execution_count": 3,
     "metadata": {},
     "output_type": "execute_result"
    }
   ],
   "source": [
    "countries.shape"
   ]
  },
  {
   "cell_type": "raw",
   "metadata": {},
   "source": [
    "There are 167 rows and 10 columns in this dataframe"
   ]
  },
  {
   "cell_type": "markdown",
   "metadata": {},
   "source": [
    "### Data Quality Checks"
   ]
  },
  {
   "cell_type": "code",
   "execution_count": 4,
   "metadata": {},
   "outputs": [
    {
     "name": "stdout",
     "output_type": "stream",
     "text": [
      "<class 'pandas.core.frame.DataFrame'>\n",
      "RangeIndex: 167 entries, 0 to 166\n",
      "Data columns (total 10 columns):\n",
      " #   Column      Non-Null Count  Dtype  \n",
      "---  ------      --------------  -----  \n",
      " 0   country     167 non-null    object \n",
      " 1   child_mort  167 non-null    float64\n",
      " 2   exports     167 non-null    float64\n",
      " 3   health      167 non-null    float64\n",
      " 4   imports     167 non-null    float64\n",
      " 5   income      167 non-null    int64  \n",
      " 6   inflation   167 non-null    float64\n",
      " 7   life_expec  167 non-null    float64\n",
      " 8   total_fer   167 non-null    float64\n",
      " 9   gdpp        167 non-null    int64  \n",
      "dtypes: float64(7), int64(2), object(1)\n",
      "memory usage: 13.2+ KB\n"
     ]
    }
   ],
   "source": [
    "countries.info()"
   ]
  },
  {
   "cell_type": "raw",
   "metadata": {},
   "source": [
    "The datatypes for all the columns seem to be proper."
   ]
  },
  {
   "cell_type": "code",
   "execution_count": 5,
   "metadata": {},
   "outputs": [
    {
     "data": {
      "text/plain": [
       "country       0\n",
       "child_mort    0\n",
       "exports       0\n",
       "health        0\n",
       "imports       0\n",
       "income        0\n",
       "inflation     0\n",
       "life_expec    0\n",
       "total_fer     0\n",
       "gdpp          0\n",
       "dtype: int64"
      ]
     },
     "execution_count": 5,
     "metadata": {},
     "output_type": "execute_result"
    }
   ],
   "source": [
    "countries.isnull().sum()"
   ]
  },
  {
   "cell_type": "raw",
   "metadata": {},
   "source": [
    "No missing values are present"
   ]
  },
  {
   "cell_type": "markdown",
   "metadata": {},
   "source": [
    "#### Since the data for 'exports', 'health' and 'imports' are in percentage of 'gdpp', so those are required to be converted to their actual values"
   ]
  },
  {
   "cell_type": "code",
   "execution_count": 6,
   "metadata": {},
   "outputs": [],
   "source": [
    "countries['exports'] = 0.01 * countries['exports'] * countries['gdpp']\n",
    "countries['imports'] = 0.01 * countries['imports'] * countries['gdpp']\n",
    "countries['health'] = 0.01 * countries['health'] * countries['gdpp']"
   ]
  },
  {
   "cell_type": "code",
   "execution_count": 7,
   "metadata": {},
   "outputs": [
    {
     "data": {
      "text/html": [
       "<div>\n",
       "<style scoped>\n",
       "    .dataframe tbody tr th:only-of-type {\n",
       "        vertical-align: middle;\n",
       "    }\n",
       "\n",
       "    .dataframe tbody tr th {\n",
       "        vertical-align: top;\n",
       "    }\n",
       "\n",
       "    .dataframe thead th {\n",
       "        text-align: right;\n",
       "    }\n",
       "</style>\n",
       "<table border=\"1\" class=\"dataframe\">\n",
       "  <thead>\n",
       "    <tr style=\"text-align: right;\">\n",
       "      <th></th>\n",
       "      <th>country</th>\n",
       "      <th>child_mort</th>\n",
       "      <th>exports</th>\n",
       "      <th>health</th>\n",
       "      <th>imports</th>\n",
       "      <th>income</th>\n",
       "      <th>inflation</th>\n",
       "      <th>life_expec</th>\n",
       "      <th>total_fer</th>\n",
       "      <th>gdpp</th>\n",
       "    </tr>\n",
       "  </thead>\n",
       "  <tbody>\n",
       "    <tr>\n",
       "      <th>0</th>\n",
       "      <td>Afghanistan</td>\n",
       "      <td>90.2</td>\n",
       "      <td>55.30</td>\n",
       "      <td>41.9174</td>\n",
       "      <td>248.297</td>\n",
       "      <td>1610</td>\n",
       "      <td>9.44</td>\n",
       "      <td>56.2</td>\n",
       "      <td>5.82</td>\n",
       "      <td>553</td>\n",
       "    </tr>\n",
       "    <tr>\n",
       "      <th>1</th>\n",
       "      <td>Albania</td>\n",
       "      <td>16.6</td>\n",
       "      <td>1145.20</td>\n",
       "      <td>267.8950</td>\n",
       "      <td>1987.740</td>\n",
       "      <td>9930</td>\n",
       "      <td>4.49</td>\n",
       "      <td>76.3</td>\n",
       "      <td>1.65</td>\n",
       "      <td>4090</td>\n",
       "    </tr>\n",
       "    <tr>\n",
       "      <th>2</th>\n",
       "      <td>Algeria</td>\n",
       "      <td>27.3</td>\n",
       "      <td>1712.64</td>\n",
       "      <td>185.9820</td>\n",
       "      <td>1400.440</td>\n",
       "      <td>12900</td>\n",
       "      <td>16.10</td>\n",
       "      <td>76.5</td>\n",
       "      <td>2.89</td>\n",
       "      <td>4460</td>\n",
       "    </tr>\n",
       "    <tr>\n",
       "      <th>3</th>\n",
       "      <td>Angola</td>\n",
       "      <td>119.0</td>\n",
       "      <td>2199.19</td>\n",
       "      <td>100.6050</td>\n",
       "      <td>1514.370</td>\n",
       "      <td>5900</td>\n",
       "      <td>22.40</td>\n",
       "      <td>60.1</td>\n",
       "      <td>6.16</td>\n",
       "      <td>3530</td>\n",
       "    </tr>\n",
       "    <tr>\n",
       "      <th>4</th>\n",
       "      <td>Antigua and Barbuda</td>\n",
       "      <td>10.3</td>\n",
       "      <td>5551.00</td>\n",
       "      <td>735.6600</td>\n",
       "      <td>7185.800</td>\n",
       "      <td>19100</td>\n",
       "      <td>1.44</td>\n",
       "      <td>76.8</td>\n",
       "      <td>2.13</td>\n",
       "      <td>12200</td>\n",
       "    </tr>\n",
       "  </tbody>\n",
       "</table>\n",
       "</div>"
      ],
      "text/plain": [
       "               country  child_mort  exports    health   imports  income  \\\n",
       "0          Afghanistan        90.2    55.30   41.9174   248.297    1610   \n",
       "1              Albania        16.6  1145.20  267.8950  1987.740    9930   \n",
       "2              Algeria        27.3  1712.64  185.9820  1400.440   12900   \n",
       "3               Angola       119.0  2199.19  100.6050  1514.370    5900   \n",
       "4  Antigua and Barbuda        10.3  5551.00  735.6600  7185.800   19100   \n",
       "\n",
       "   inflation  life_expec  total_fer   gdpp  \n",
       "0       9.44        56.2       5.82    553  \n",
       "1       4.49        76.3       1.65   4090  \n",
       "2      16.10        76.5       2.89   4460  \n",
       "3      22.40        60.1       6.16   3530  \n",
       "4       1.44        76.8       2.13  12200  "
      ]
     },
     "execution_count": 7,
     "metadata": {},
     "output_type": "execute_result"
    }
   ],
   "source": [
    "countries.head()"
   ]
  },
  {
   "cell_type": "markdown",
   "metadata": {},
   "source": [
    "### Sanity Check"
   ]
  },
  {
   "cell_type": "code",
   "execution_count": 8,
   "metadata": {},
   "outputs": [
    {
     "data": {
      "text/plain": [
       "array([], dtype=int64)"
      ]
     },
     "execution_count": 8,
     "metadata": {},
     "output_type": "execute_result"
    }
   ],
   "source": [
    "# Checking if there any duplicate entries for a country\n",
    "\n",
    "countries[countries.duplicated(subset=['country'])].index.values"
   ]
  },
  {
   "cell_type": "raw",
   "metadata": {},
   "source": [
    "No duplicate entries are present."
   ]
  },
  {
   "cell_type": "markdown",
   "metadata": {},
   "source": [
    "#### Deriving a new feature - Trade Deficit"
   ]
  },
  {
   "cell_type": "raw",
   "metadata": {},
   "source": [
    "Export and import numbers are important parameters which reflect the economic condition of a nation. A developed country should be having high export and import values, thereby trade surplus. A trade deficit nation will have a high import value, but a low export value, leading to the gradual decine in the economic nature of the land.\n",
    "\n",
    "Hence, Trade Deficit = Imports - Exports\n",
    "\n",
    "Lower or negative the value of Trade Deficit, the better it is for the economy."
   ]
  },
  {
   "cell_type": "code",
   "execution_count": 9,
   "metadata": {},
   "outputs": [],
   "source": [
    "countries['Trade Deficit'] = countries['imports'] - countries['exports']"
   ]
  },
  {
   "cell_type": "code",
   "execution_count": 10,
   "metadata": {},
   "outputs": [
    {
     "data": {
      "text/plain": [
       "(167, 9)"
      ]
     },
     "execution_count": 10,
     "metadata": {},
     "output_type": "execute_result"
    }
   ],
   "source": [
    "# Since the impacts of the columns 'exports' and 'imports' have already been considered in the new feature - 'Trade Deficit',\n",
    "# hence dropping those 2 columns\n",
    "\n",
    "countries.drop(['exports','imports'], axis = 1, inplace = True)\n",
    "countries.shape"
   ]
  },
  {
   "cell_type": "raw",
   "metadata": {},
   "source": [
    "Now, we will work with 9 columns of the dataset."
   ]
  },
  {
   "cell_type": "code",
   "execution_count": 11,
   "metadata": {},
   "outputs": [
    {
     "data": {
      "text/html": [
       "<div>\n",
       "<style scoped>\n",
       "    .dataframe tbody tr th:only-of-type {\n",
       "        vertical-align: middle;\n",
       "    }\n",
       "\n",
       "    .dataframe tbody tr th {\n",
       "        vertical-align: top;\n",
       "    }\n",
       "\n",
       "    .dataframe thead th {\n",
       "        text-align: right;\n",
       "    }\n",
       "</style>\n",
       "<table border=\"1\" class=\"dataframe\">\n",
       "  <thead>\n",
       "    <tr style=\"text-align: right;\">\n",
       "      <th></th>\n",
       "      <th>country</th>\n",
       "      <th>child_mort</th>\n",
       "      <th>health</th>\n",
       "      <th>income</th>\n",
       "      <th>inflation</th>\n",
       "      <th>life_expec</th>\n",
       "      <th>total_fer</th>\n",
       "      <th>gdpp</th>\n",
       "      <th>Trade Deficit</th>\n",
       "    </tr>\n",
       "  </thead>\n",
       "  <tbody>\n",
       "    <tr>\n",
       "      <th>0</th>\n",
       "      <td>Afghanistan</td>\n",
       "      <td>90.2</td>\n",
       "      <td>41.9174</td>\n",
       "      <td>1610</td>\n",
       "      <td>9.44</td>\n",
       "      <td>56.2</td>\n",
       "      <td>5.82</td>\n",
       "      <td>553</td>\n",
       "      <td>192.997</td>\n",
       "    </tr>\n",
       "    <tr>\n",
       "      <th>1</th>\n",
       "      <td>Albania</td>\n",
       "      <td>16.6</td>\n",
       "      <td>267.8950</td>\n",
       "      <td>9930</td>\n",
       "      <td>4.49</td>\n",
       "      <td>76.3</td>\n",
       "      <td>1.65</td>\n",
       "      <td>4090</td>\n",
       "      <td>842.540</td>\n",
       "    </tr>\n",
       "    <tr>\n",
       "      <th>2</th>\n",
       "      <td>Algeria</td>\n",
       "      <td>27.3</td>\n",
       "      <td>185.9820</td>\n",
       "      <td>12900</td>\n",
       "      <td>16.10</td>\n",
       "      <td>76.5</td>\n",
       "      <td>2.89</td>\n",
       "      <td>4460</td>\n",
       "      <td>-312.200</td>\n",
       "    </tr>\n",
       "    <tr>\n",
       "      <th>3</th>\n",
       "      <td>Angola</td>\n",
       "      <td>119.0</td>\n",
       "      <td>100.6050</td>\n",
       "      <td>5900</td>\n",
       "      <td>22.40</td>\n",
       "      <td>60.1</td>\n",
       "      <td>6.16</td>\n",
       "      <td>3530</td>\n",
       "      <td>-684.820</td>\n",
       "    </tr>\n",
       "    <tr>\n",
       "      <th>4</th>\n",
       "      <td>Antigua and Barbuda</td>\n",
       "      <td>10.3</td>\n",
       "      <td>735.6600</td>\n",
       "      <td>19100</td>\n",
       "      <td>1.44</td>\n",
       "      <td>76.8</td>\n",
       "      <td>2.13</td>\n",
       "      <td>12200</td>\n",
       "      <td>1634.800</td>\n",
       "    </tr>\n",
       "  </tbody>\n",
       "</table>\n",
       "</div>"
      ],
      "text/plain": [
       "               country  child_mort    health  income  inflation  life_expec  \\\n",
       "0          Afghanistan        90.2   41.9174    1610       9.44        56.2   \n",
       "1              Albania        16.6  267.8950    9930       4.49        76.3   \n",
       "2              Algeria        27.3  185.9820   12900      16.10        76.5   \n",
       "3               Angola       119.0  100.6050    5900      22.40        60.1   \n",
       "4  Antigua and Barbuda        10.3  735.6600   19100       1.44        76.8   \n",
       "\n",
       "   total_fer   gdpp  Trade Deficit  \n",
       "0       5.82    553        192.997  \n",
       "1       1.65   4090        842.540  \n",
       "2       2.89   4460       -312.200  \n",
       "3       6.16   3530       -684.820  \n",
       "4       2.13  12200       1634.800  "
      ]
     },
     "execution_count": 11,
     "metadata": {},
     "output_type": "execute_result"
    }
   ],
   "source": [
    "countries.head()"
   ]
  },
  {
   "cell_type": "markdown",
   "metadata": {},
   "source": [
    "#### Statistical summary of the data"
   ]
  },
  {
   "cell_type": "code",
   "execution_count": 12,
   "metadata": {},
   "outputs": [
    {
     "data": {
      "text/html": [
       "<div>\n",
       "<style scoped>\n",
       "    .dataframe tbody tr th:only-of-type {\n",
       "        vertical-align: middle;\n",
       "    }\n",
       "\n",
       "    .dataframe tbody tr th {\n",
       "        vertical-align: top;\n",
       "    }\n",
       "\n",
       "    .dataframe thead th {\n",
       "        text-align: right;\n",
       "    }\n",
       "</style>\n",
       "<table border=\"1\" class=\"dataframe\">\n",
       "  <thead>\n",
       "    <tr style=\"text-align: right;\">\n",
       "      <th></th>\n",
       "      <th>child_mort</th>\n",
       "      <th>health</th>\n",
       "      <th>income</th>\n",
       "      <th>inflation</th>\n",
       "      <th>life_expec</th>\n",
       "      <th>total_fer</th>\n",
       "      <th>gdpp</th>\n",
       "      <th>Trade Deficit</th>\n",
       "    </tr>\n",
       "  </thead>\n",
       "  <tbody>\n",
       "    <tr>\n",
       "      <th>count</th>\n",
       "      <td>167.000000</td>\n",
       "      <td>167.000000</td>\n",
       "      <td>167.000000</td>\n",
       "      <td>167.000000</td>\n",
       "      <td>167.000000</td>\n",
       "      <td>167.000000</td>\n",
       "      <td>167.000000</td>\n",
       "      <td>167.000000</td>\n",
       "    </tr>\n",
       "    <tr>\n",
       "      <th>mean</th>\n",
       "      <td>38.270060</td>\n",
       "      <td>1056.733204</td>\n",
       "      <td>17144.688623</td>\n",
       "      <td>7.781832</td>\n",
       "      <td>70.555689</td>\n",
       "      <td>2.947964</td>\n",
       "      <td>12964.155689</td>\n",
       "      <td>-832.266739</td>\n",
       "    </tr>\n",
       "    <tr>\n",
       "      <th>std</th>\n",
       "      <td>40.328931</td>\n",
       "      <td>1801.408906</td>\n",
       "      <td>19278.067698</td>\n",
       "      <td>10.570704</td>\n",
       "      <td>8.893172</td>\n",
       "      <td>1.513848</td>\n",
       "      <td>18328.704809</td>\n",
       "      <td>4142.403188</td>\n",
       "    </tr>\n",
       "    <tr>\n",
       "      <th>min</th>\n",
       "      <td>2.600000</td>\n",
       "      <td>12.821200</td>\n",
       "      <td>609.000000</td>\n",
       "      <td>-4.210000</td>\n",
       "      <td>32.100000</td>\n",
       "      <td>1.150000</td>\n",
       "      <td>231.000000</td>\n",
       "      <td>-34650.000000</td>\n",
       "    </tr>\n",
       "    <tr>\n",
       "      <th>25%</th>\n",
       "      <td>8.250000</td>\n",
       "      <td>78.535500</td>\n",
       "      <td>3355.000000</td>\n",
       "      <td>1.810000</td>\n",
       "      <td>65.300000</td>\n",
       "      <td>1.795000</td>\n",
       "      <td>1330.000000</td>\n",
       "      <td>-327.050000</td>\n",
       "    </tr>\n",
       "    <tr>\n",
       "      <th>50%</th>\n",
       "      <td>19.300000</td>\n",
       "      <td>321.886000</td>\n",
       "      <td>9960.000000</td>\n",
       "      <td>5.390000</td>\n",
       "      <td>73.100000</td>\n",
       "      <td>2.410000</td>\n",
       "      <td>4660.000000</td>\n",
       "      <td>89.218200</td>\n",
       "    </tr>\n",
       "    <tr>\n",
       "      <th>75%</th>\n",
       "      <td>62.100000</td>\n",
       "      <td>976.940000</td>\n",
       "      <td>22800.000000</td>\n",
       "      <td>10.750000</td>\n",
       "      <td>76.800000</td>\n",
       "      <td>3.880000</td>\n",
       "      <td>14050.000000</td>\n",
       "      <td>518.570000</td>\n",
       "    </tr>\n",
       "    <tr>\n",
       "      <th>max</th>\n",
       "      <td>208.000000</td>\n",
       "      <td>8663.600000</td>\n",
       "      <td>125000.000000</td>\n",
       "      <td>104.000000</td>\n",
       "      <td>82.800000</td>\n",
       "      <td>7.490000</td>\n",
       "      <td>105000.000000</td>\n",
       "      <td>2436.000000</td>\n",
       "    </tr>\n",
       "  </tbody>\n",
       "</table>\n",
       "</div>"
      ],
      "text/plain": [
       "       child_mort       health         income   inflation  life_expec  \\\n",
       "count  167.000000   167.000000     167.000000  167.000000  167.000000   \n",
       "mean    38.270060  1056.733204   17144.688623    7.781832   70.555689   \n",
       "std     40.328931  1801.408906   19278.067698   10.570704    8.893172   \n",
       "min      2.600000    12.821200     609.000000   -4.210000   32.100000   \n",
       "25%      8.250000    78.535500    3355.000000    1.810000   65.300000   \n",
       "50%     19.300000   321.886000    9960.000000    5.390000   73.100000   \n",
       "75%     62.100000   976.940000   22800.000000   10.750000   76.800000   \n",
       "max    208.000000  8663.600000  125000.000000  104.000000   82.800000   \n",
       "\n",
       "        total_fer           gdpp  Trade Deficit  \n",
       "count  167.000000     167.000000     167.000000  \n",
       "mean     2.947964   12964.155689    -832.266739  \n",
       "std      1.513848   18328.704809    4142.403188  \n",
       "min      1.150000     231.000000  -34650.000000  \n",
       "25%      1.795000    1330.000000    -327.050000  \n",
       "50%      2.410000    4660.000000      89.218200  \n",
       "75%      3.880000   14050.000000     518.570000  \n",
       "max      7.490000  105000.000000    2436.000000  "
      ]
     },
     "execution_count": 12,
     "metadata": {},
     "output_type": "execute_result"
    }
   ],
   "source": [
    "countries.describe()"
   ]
  },
  {
   "cell_type": "raw",
   "metadata": {},
   "source": [
    "Substancial differences are observed between the 75% values and the max values for all the columns"
   ]
  },
  {
   "cell_type": "markdown",
   "metadata": {},
   "source": [
    "### Univariate Analysis & Outlier Treatment"
   ]
  },
  {
   "cell_type": "code",
   "execution_count": 13,
   "metadata": {},
   "outputs": [],
   "source": [
    "# Function to print the dataframe in a tabular format\n",
    "def tab(ser) : \n",
    "    print(tabulate(pd.DataFrame(ser), headers='keys', tablefmt='psql'))"
   ]
  },
  {
   "cell_type": "code",
   "execution_count": 14,
   "metadata": {},
   "outputs": [],
   "source": [
    "# function to perform outlier analysis \n",
    "def outlier_analysis(column) : \n",
    "    '''\n",
    "    This function displays a box plot of the column provided.\n",
    "    It also prints the five major quantiles, lower oultier threshold value, upper outlier threshold value, \n",
    "    tables of countries which are outliers \n",
    "    Output : lower outlier threshold condition, upper outlier threshold condition\n",
    "    Input : column name \n",
    "    Side effects : Box plot, Outlier tables\n",
    "    '''\n",
    "    plt.figure(figsize=[12,6])\n",
    "    plt.title('Box Plot of '+column)\n",
    "    sns.boxplot(countries[column])\n",
    "\n",
    "    print('Quantiles\\n')\n",
    "    print(tab(countries[column].quantile([0.01,0.25,0.50,0.75,0.99])))\n",
    "\n",
    "    lower_outlier_threshold = countries[column].quantile(0.01)\n",
    "    upper_outlier_threshold = countries[column].quantile(0.99)\n",
    "\n",
    "    print('\\n\\nLOWER OUTLIER THRESHOLD [1st PERCENTILE] FOR' ,column,': ',lower_outlier_threshold)\n",
    "    l_condition = countries[column] < lower_outlier_threshold \n",
    "    l_outliers = countries[l_condition][['country',column]].sort_values(by=column)\n",
    "   \n",
    "    if l_outliers.shape[0] : \n",
    "        print('\\n\\nLower Outliers : ')\n",
    "        tab(l_outliers)\n",
    "    else : \n",
    "        print('No lower outliers found in ' + column)\n",
    "\n",
    "    print('\\n\\nUPPER OUTLIER THRESHOLD [99th PERCENTILE] FOR' ,column,': ',upper_outlier_threshold)\n",
    "    u_condition = countries[column] > upper_outlier_threshold \n",
    "    u_outliers = countries[u_condition][['country',column]].sort_values(by=column)\n",
    "\n",
    "    if u_outliers.shape[0] : \n",
    "        print('\\n\\nUpper Outliers : ')\n",
    "        tab(u_outliers)\n",
    "        print('\\n\\n')\n",
    "\n",
    "    return l_condition, u_condition\n"
   ]
  },
  {
   "cell_type": "markdown",
   "metadata": {},
   "source": [
    "#### Child Mortality"
   ]
  },
  {
   "cell_type": "raw",
   "metadata": {},
   "source": [
    "The lower the value of child mortality, the more developed a nation is."
   ]
  },
  {
   "cell_type": "code",
   "execution_count": 15,
   "metadata": {},
   "outputs": [
    {
     "name": "stdout",
     "output_type": "stream",
     "text": [
      "Quantiles\n",
      "\n",
      "+------+--------------+\n",
      "|      |   child_mort |\n",
      "|------+--------------|\n",
      "| 0.01 |         2.8  |\n",
      "| 0.25 |         8.25 |\n",
      "| 0.5  |        19.3  |\n",
      "| 0.75 |        62.1  |\n",
      "| 0.99 |       153.4  |\n",
      "+------+--------------+\n",
      "None\n",
      "\n",
      "\n",
      "LOWER OUTLIER THRESHOLD [1st PERCENTILE] FOR child_mort :  2.8\n",
      "\n",
      "\n",
      "Lower Outliers : \n",
      "+----+-----------+--------------+\n",
      "|    | country   |   child_mort |\n",
      "|----+-----------+--------------|\n",
      "| 68 | Iceland   |          2.6 |\n",
      "+----+-----------+--------------+\n",
      "\n",
      "\n",
      "UPPER OUTLIER THRESHOLD [99th PERCENTILE] FOR child_mort :  153.40000000000003\n",
      "\n",
      "\n",
      "Upper Outliers : \n",
      "+-----+--------------+--------------+\n",
      "|     | country      |   child_mort |\n",
      "|-----+--------------+--------------|\n",
      "| 132 | Sierra Leone |          160 |\n",
      "|  66 | Haiti        |          208 |\n",
      "+-----+--------------+--------------+\n",
      "\n",
      "\n",
      "\n"
     ]
    },
    {
     "data": {
      "image/png": "[encoded data removed]",
      "text/plain": [
       "<Figure size 864x432 with 1 Axes>"
      ]
     },
     "metadata": {
      "needs_background": "light"
     },
     "output_type": "display_data"
    }
   ],
   "source": [
    "# Countries with oultiers in child mortality \n",
    "column = 'child_mort'\n",
    "l_condition, u_condition = outlier_analysis(column)"
   ]
  },
  {
   "cell_type": "raw",
   "metadata": {},
   "source": [
    "Observations:-\n",
    "1) Half of the countries have child mortality less than 20.\n",
    "2) Countries like Iceland, having child mortality less than the 1st percentile, might not need the aid at all. Hence, such records can be kept out of the analysis.\n",
    "3) Countries, such as Sierra Leone and Haiti, having child mortality greater than the 99th percentile, are the perfect candidates for the aid. Hence, such nations should be considered in our analysis."
   ]
  },
  {
   "cell_type": "code",
   "execution_count": 16,
   "metadata": {},
   "outputs": [],
   "source": [
    "# Capping countries with lower outliers for 'child_mort'\n",
    "countries.loc[l_condition, column] = countries[column].quantile(0.01)"
   ]
  },
  {
   "cell_type": "markdown",
   "metadata": {},
   "source": [
    "### Health Spending"
   ]
  },
  {
   "cell_type": "raw",
   "metadata": {},
   "source": [
    "The more a nation is able to spend in the health sector, the more developed it is."
   ]
  },
  {
   "cell_type": "code",
   "execution_count": 17,
   "metadata": {},
   "outputs": [
    {
     "name": "stdout",
     "output_type": "stream",
     "text": [
      "Quantiles\n",
      "\n",
      "+------+-----------+\n",
      "|      |    health |\n",
      "|------+-----------|\n",
      "| 0.01 |   17.0094 |\n",
      "| 0.25 |   78.5355 |\n",
      "| 0.5  |  321.886  |\n",
      "| 0.75 |  976.94   |\n",
      "| 0.99 | 8410.33   |\n",
      "+------+-----------+\n",
      "None\n",
      "\n",
      "\n",
      "LOWER OUTLIER THRESHOLD [1st PERCENTILE] FOR health :  17.009362000000003\n",
      "\n",
      "\n",
      "Lower Outliers : \n",
      "+----+------------+----------+\n",
      "|    | country    |   health |\n",
      "|----+------------+----------|\n",
      "| 50 | Eritrea    |  12.8212 |\n",
      "| 93 | Madagascar |  15.5701 |\n",
      "+----+------------+----------+\n",
      "\n",
      "\n",
      "UPPER OUTLIER THRESHOLD [99th PERCENTILE] FOR health :  8410.3304\n",
      "\n",
      "\n",
      "Upper Outliers : \n",
      "+-----+---------------+----------+\n",
      "|     | country       |   health |\n",
      "|-----+---------------+----------|\n",
      "| 145 | Switzerland   |   8579   |\n",
      "| 159 | United States |   8663.6 |\n",
      "+-----+---------------+----------+\n",
      "\n",
      "\n",
      "\n"
     ]
    },
    {
     "data": {
      "image/png": "[encoded data removed]",
      "text/plain": [
       "<Figure size 864x432 with 1 Axes>"
      ]
     },
     "metadata": {
      "needs_background": "light"
     },
     "output_type": "display_data"
    }
   ],
   "source": [
    "# Countries with outliers in health spending\n",
    "column = 'health'\n",
    "l_condition, u_condition = outlier_analysis(column)"
   ]
  },
  {
   "cell_type": "raw",
   "metadata": {},
   "source": [
    "Observations:-\n",
    "1) Countries like Eritrea and Madagascar, having the value for the health spending less than the 1st percentile, are the perfect candidates for the aid. Hence, such nations should be considered in our analysis.\n",
    "2) Countries, such as Switzerland and United States, having the value for the health spending greater than the 99th percentile, might not need the aid at all. Hence, such records can be kept out of the analysis."
   ]
  },
  {
   "cell_type": "code",
   "execution_count": 18,
   "metadata": {},
   "outputs": [],
   "source": [
    "# Capping countries with upper outliers in health spending \n",
    "countries.loc[u_condition,column] = countries[column].quantile(0.99)"
   ]
  },
  {
   "cell_type": "markdown",
   "metadata": {},
   "source": [
    "#### Net Income per person"
   ]
  },
  {
   "cell_type": "raw",
   "metadata": {},
   "source": [
    "High net income per person in a country indicates good economy for the nation."
   ]
  },
  {
   "cell_type": "code",
   "execution_count": 19,
   "metadata": {},
   "outputs": [
    {
     "name": "stdout",
     "output_type": "stream",
     "text": [
      "Quantiles\n",
      "\n",
      "+------+----------+\n",
      "|      |   income |\n",
      "|------+----------|\n",
      "| 0.01 |   742.24 |\n",
      "| 0.25 |  3355    |\n",
      "| 0.5  |  9960    |\n",
      "| 0.75 | 22800    |\n",
      "| 0.99 | 84374    |\n",
      "+------+----------+\n",
      "None\n",
      "\n",
      "\n",
      "LOWER OUTLIER THRESHOLD [1st PERCENTILE] FOR income :  742.24\n",
      "\n",
      "\n",
      "Lower Outliers : \n",
      "+----+------------------+----------+\n",
      "|    | country          |   income |\n",
      "|----+------------------+----------|\n",
      "| 37 | Congo, Dem. Rep. |      609 |\n",
      "| 88 | Liberia          |      700 |\n",
      "+----+------------------+----------+\n",
      "\n",
      "\n",
      "UPPER OUTLIER THRESHOLD [99th PERCENTILE] FOR income :  84374.00000000003\n",
      "\n",
      "\n",
      "Upper Outliers : \n",
      "+-----+------------+----------+\n",
      "|     | country    |   income |\n",
      "|-----+------------+----------|\n",
      "|  91 | Luxembourg |    91700 |\n",
      "| 123 | Qatar      |   125000 |\n",
      "+-----+------------+----------+\n",
      "\n",
      "\n",
      "\n"
     ]
    },
    {
     "data": {
      "image/png": "[encoded data removed]",
      "text/plain": [
       "<Figure size 864x432 with 1 Axes>"
      ]
     },
     "metadata": {
      "needs_background": "light"
     },
     "output_type": "display_data"
    }
   ],
   "source": [
    "column = 'income'\n",
    "l_condition, u_condition = outlier_analysis(column)"
   ]
  },
  {
   "cell_type": "raw",
   "metadata": {},
   "source": [
    "Observations:-\n",
    "1) Countries like Congo Democratic Republic and Liberia, having the value for the net income per person less than the 1st percentile, are the perfect candidates for the aid. Hence, such nations should be considered in our analysis.\n",
    "2) Countries, such as Luxembourg and Qatar, having the value for the net income per person greater than the 99th percentile, might not need the aid at all. Hence, such records can be kept out of the analysis."
   ]
  },
  {
   "cell_type": "code",
   "execution_count": 20,
   "metadata": {},
   "outputs": [],
   "source": [
    "# Capping countries with upper outliers for 'income'\n",
    "countries.loc[u_condition,column] = countries[column].quantile(0.99)"
   ]
  },
  {
   "cell_type": "markdown",
   "metadata": {},
   "source": [
    "#### Inflation"
   ]
  },
  {
   "cell_type": "raw",
   "metadata": {},
   "source": [
    "Higher inflation rate reflects the bad economic condition of a country."
   ]
  },
  {
   "cell_type": "code",
   "execution_count": 21,
   "metadata": {},
   "outputs": [
    {
     "name": "stdout",
     "output_type": "stream",
     "text": [
      "Quantiles\n",
      "\n",
      "+------+-------------+\n",
      "|      |   inflation |\n",
      "|------+-------------|\n",
      "| 0.01 |     -2.3488 |\n",
      "| 0.25 |      1.81   |\n",
      "| 0.5  |      5.39   |\n",
      "| 0.75 |     10.75   |\n",
      "| 0.99 |     41.478  |\n",
      "+------+-------------+\n",
      "None\n",
      "\n",
      "\n",
      "LOWER OUTLIER THRESHOLD [1st PERCENTILE] FOR inflation :  -2.3487999999999998\n",
      "\n",
      "\n",
      "Lower Outliers : \n",
      "+-----+------------+-------------+\n",
      "|     | country    |   inflation |\n",
      "|-----+------------+-------------|\n",
      "| 131 | Seychelles |       -4.21 |\n",
      "|  73 | Ireland    |       -3.22 |\n",
      "+-----+------------+-------------+\n",
      "\n",
      "\n",
      "UPPER OUTLIER THRESHOLD [99th PERCENTILE] FOR inflation :  41.47800000000002\n",
      "\n",
      "\n",
      "Upper Outliers : \n",
      "+-----+-----------+-------------+\n",
      "|     | country   |   inflation |\n",
      "|-----+-----------+-------------|\n",
      "| 163 | Venezuela |        45.9 |\n",
      "| 113 | Nigeria   |       104   |\n",
      "+-----+-----------+-------------+\n",
      "\n",
      "\n",
      "\n"
     ]
    },
    {
     "data": {
      "image/png": "[encoded data removed]",
      "text/plain": [
       "<Figure size 864x432 with 1 Axes>"
      ]
     },
     "metadata": {
      "needs_background": "light"
     },
     "output_type": "display_data"
    }
   ],
   "source": [
    "column = 'inflation'\n",
    "l_condition, u_condition = outlier_analysis(column)"
   ]
  },
  {
   "cell_type": "raw",
   "metadata": {},
   "source": [
    "Observations:-\n",
    "1) Countries like Seychelles and Ireland, having inflation less than the 1st percentile, might not need the aid at all. Hence, such records can be kept out of the analysis.\n",
    "2) Countries, such as Venezuela and Nigeria, having inflation greater than the 99th percentile, are the perfect candidates for the aid. Hence, such nations should be considered in our analysis."
   ]
  },
  {
   "cell_type": "code",
   "execution_count": 22,
   "metadata": {},
   "outputs": [],
   "source": [
    "# Capping countries with lower outliers for 'inflation'\n",
    "countries.loc[l_condition, column] = countries[column].quantile(0.01)"
   ]
  },
  {
   "cell_type": "markdown",
   "metadata": {},
   "source": [
    "#### Life Expectancy"
   ]
  },
  {
   "cell_type": "raw",
   "metadata": {},
   "source": [
    "Countries with higher life expectancy, have better economy,"
   ]
  },
  {
   "cell_type": "code",
   "execution_count": 23,
   "metadata": {},
   "outputs": [
    {
     "name": "stdout",
     "output_type": "stream",
     "text": [
      "Quantiles\n",
      "\n",
      "+------+--------------+\n",
      "|      |   life_expec |\n",
      "|------+--------------|\n",
      "| 0.01 |        47.16 |\n",
      "| 0.25 |        65.3  |\n",
      "| 0.5  |        73.1  |\n",
      "| 0.75 |        76.8  |\n",
      "| 0.99 |        82.37 |\n",
      "+------+--------------+\n",
      "None\n",
      "\n",
      "\n",
      "LOWER OUTLIER THRESHOLD [1st PERCENTILE] FOR life_expec :  47.160000000000004\n",
      "\n",
      "\n",
      "Lower Outliers : \n",
      "+----+-----------+--------------+\n",
      "|    | country   |   life_expec |\n",
      "|----+-----------+--------------|\n",
      "| 66 | Haiti     |         32.1 |\n",
      "| 87 | Lesotho   |         46.5 |\n",
      "+----+-----------+--------------+\n",
      "\n",
      "\n",
      "UPPER OUTLIER THRESHOLD [99th PERCENTILE] FOR life_expec :  82.37\n",
      "\n",
      "\n",
      "Upper Outliers : \n",
      "+-----+-----------+--------------+\n",
      "|     | country   |   life_expec |\n",
      "|-----+-----------+--------------|\n",
      "| 133 | Singapore |         82.7 |\n",
      "|  77 | Japan     |         82.8 |\n",
      "+-----+-----------+--------------+\n",
      "\n",
      "\n",
      "\n"
     ]
    },
    {
     "data": {
      "image/png": "[encoded data removed]",
      "text/plain": [
       "<Figure size 864x432 with 1 Axes>"
      ]
     },
     "metadata": {
      "needs_background": "light"
     },
     "output_type": "display_data"
    }
   ],
   "source": [
    "column = 'life_expec'\n",
    "l_condition, u_condition = outlier_analysis(column)"
   ]
  },
  {
   "cell_type": "raw",
   "metadata": {},
   "source": [
    "Observations:-\n",
    "1) Half of the countries have life expectancy below 73.\n",
    "2) Countries like Haiti and Lesotho, having the value for the life expectancy less than the 1st percentile, are the perfect candidates for the aid. Hence, such nations should be considered in our analysis.\n",
    "3) Countries, such as Singapore and Japan, having the value for life expectancy greater than the 99th percentile, might not need the aid at all. Hence, such records can be kept out of the analysis."
   ]
  },
  {
   "cell_type": "code",
   "execution_count": 24,
   "metadata": {},
   "outputs": [],
   "source": [
    "# Capping countries with upper outliers for 'life_expec'\n",
    "countries.loc[u_condition,column] = countries[column].quantile(0.99)"
   ]
  },
  {
   "cell_type": "markdown",
   "metadata": {},
   "source": [
    "#### Fertility"
   ]
  },
  {
   "cell_type": "raw",
   "metadata": {},
   "source": [
    "Developed countries tend to have lower fertility rates."
   ]
  },
  {
   "cell_type": "code",
   "execution_count": 25,
   "metadata": {},
   "outputs": [
    {
     "name": "stdout",
     "output_type": "stream",
     "text": [
      "Quantiles\n",
      "\n",
      "+------+-------------+\n",
      "|      |   total_fer |\n",
      "|------+-------------|\n",
      "| 0.01 |      1.2432 |\n",
      "| 0.25 |      1.795  |\n",
      "| 0.5  |      2.41   |\n",
      "| 0.75 |      3.88   |\n",
      "| 0.99 |      6.5636 |\n",
      "+------+-------------+\n",
      "None\n",
      "\n",
      "\n",
      "LOWER OUTLIER THRESHOLD [1st PERCENTILE] FOR total_fer :  1.2431999999999999\n",
      "\n",
      "\n",
      "Lower Outliers : \n",
      "+-----+-------------+-------------+\n",
      "|     | country     |   total_fer |\n",
      "|-----+-------------+-------------|\n",
      "| 133 | Singapore   |        1.15 |\n",
      "| 138 | South Korea |        1.23 |\n",
      "+-----+-------------+-------------+\n",
      "\n",
      "\n",
      "UPPER OUTLIER THRESHOLD [99th PERCENTILE] FOR total_fer :  6.563599999999999\n",
      "\n",
      "\n",
      "Upper Outliers : \n",
      "+-----+-----------+-------------+\n",
      "|     | country   |   total_fer |\n",
      "|-----+-----------+-------------|\n",
      "|  32 | Chad      |        6.59 |\n",
      "| 112 | Niger     |        7.49 |\n",
      "+-----+-----------+-------------+\n",
      "\n",
      "\n",
      "\n"
     ]
    },
    {
     "data": {
      "image/png": "[encoded data removed]",
      "text/plain": [
       "<Figure size 864x432 with 1 Axes>"
      ]
     },
     "metadata": {
      "needs_background": "light"
     },
     "output_type": "display_data"
    }
   ],
   "source": [
    "column = 'total_fer'\n",
    "l_condition, u_condition = outlier_analysis(column)"
   ]
  },
  {
   "cell_type": "raw",
   "metadata": {},
   "source": [
    "Observations:-\n",
    "1) Half of the countries have fertility rate less than 2.41.\n",
    "2) Countries like Singapore and South Korea, having fertility rates less than the 1st percentile, might not need the aid at all. Hence, such records can be kept out of the analysis.\n",
    "3) Countries, such as Chad and Niger, having fertility rate greater than the 99th percentile, are the perfect candidates for the aid. Hence, such nations should be considered in our analysis."
   ]
  },
  {
   "cell_type": "code",
   "execution_count": 26,
   "metadata": {},
   "outputs": [],
   "source": [
    "# Capping countries with lower outliers for 'total_fer'\n",
    "countries.loc[l_condition, column] = countries[column].quantile(0.01)"
   ]
  },
  {
   "cell_type": "markdown",
   "metadata": {},
   "source": [
    "#### GDP"
   ]
  },
  {
   "cell_type": "raw",
   "metadata": {},
   "source": [
    "Developed countries have higher GDP."
   ]
  },
  {
   "cell_type": "code",
   "execution_count": 27,
   "metadata": {},
   "outputs": [
    {
     "name": "stdout",
     "output_type": "stream",
     "text": [
      "Quantiles\n",
      "\n",
      "+------+----------+\n",
      "|      |     gdpp |\n",
      "|------+----------|\n",
      "| 0.01 |   331.62 |\n",
      "| 0.25 |  1330    |\n",
      "| 0.5  |  4660    |\n",
      "| 0.75 | 14050    |\n",
      "| 0.99 | 79088    |\n",
      "+------+----------+\n",
      "None\n",
      "\n",
      "\n",
      "LOWER OUTLIER THRESHOLD [1st PERCENTILE] FOR gdpp :  331.62\n",
      "\n",
      "\n",
      "Lower Outliers : \n",
      "+----+-----------+--------+\n",
      "|    | country   |   gdpp |\n",
      "|----+-----------+--------|\n",
      "| 26 | Burundi   |    231 |\n",
      "| 88 | Liberia   |    327 |\n",
      "+----+-----------+--------+\n",
      "\n",
      "\n",
      "UPPER OUTLIER THRESHOLD [99th PERCENTILE] FOR gdpp :  79088.00000000004\n",
      "\n",
      "\n",
      "Upper Outliers : \n",
      "+-----+------------+--------+\n",
      "|     | country    |   gdpp |\n",
      "|-----+------------+--------|\n",
      "| 114 | Norway     |  87800 |\n",
      "|  91 | Luxembourg | 105000 |\n",
      "+-----+------------+--------+\n",
      "\n",
      "\n",
      "\n"
     ]
    },
    {
     "data": {
      "image/png": "[encoded data removed]",
      "text/plain": [
       "<Figure size 864x432 with 1 Axes>"
      ]
     },
     "metadata": {
      "needs_background": "light"
     },
     "output_type": "display_data"
    }
   ],
   "source": [
    "column = 'gdpp'\n",
    "l_condition, u_condition = outlier_analysis(column)"
   ]
  },
  {
   "cell_type": "raw",
   "metadata": {},
   "source": [
    "Observations:-\n",
    "1) Countries like Burundi and Liberia, having the gdp value less than the 1st percentile, are the perfect candidates for the aid. Hence, such nations should be considered in our analysis.\n",
    "2) Countries, such as Norway and Luxembourg, having the gdp value greater than the 99th percentile, might not need the aid at all. Hence, such records can be kept out of the analysis."
   ]
  },
  {
   "cell_type": "code",
   "execution_count": 28,
   "metadata": {},
   "outputs": [],
   "source": [
    "# Capping countries with upper outliers for 'gdpp'\n",
    "countries.loc[u_condition,column] = countries[column].quantile(0.99)"
   ]
  },
  {
   "cell_type": "markdown",
   "metadata": {},
   "source": [
    "#### Trade Deficit"
   ]
  },
  {
   "cell_type": "raw",
   "metadata": {},
   "source": [
    "The lower or negative trade deficit value is better for economy."
   ]
  },
  {
   "cell_type": "code",
   "execution_count": 29,
   "metadata": {},
   "outputs": [
    {
     "name": "stdout",
     "output_type": "stream",
     "text": [
      "Quantiles\n",
      "\n",
      "+------+-----------------+\n",
      "|      |   Trade Deficit |\n",
      "|------+-----------------|\n",
      "| 0.01 |     -18426.1    |\n",
      "| 0.25 |       -327.05   |\n",
      "| 0.5  |         89.2182 |\n",
      "| 0.75 |        518.57   |\n",
      "| 0.99 |       2270.5    |\n",
      "+------+-----------------+\n",
      "None\n",
      "\n",
      "\n",
      "LOWER OUTLIER THRESHOLD [1st PERCENTILE] FOR Trade Deficit :  -18426.1\n",
      "\n",
      "\n",
      "Lower Outliers : \n",
      "+-----+------------+-----------------+\n",
      "|     | country    |   Trade Deficit |\n",
      "|-----+------------+-----------------|\n",
      "|  91 | Luxembourg |        -34650   |\n",
      "| 123 | Qatar      |        -27065.5 |\n",
      "+-----+------------+-----------------+\n",
      "\n",
      "\n",
      "UPPER OUTLIER THRESHOLD [99th PERCENTILE] FOR Trade Deficit :  2270.500000000002\n",
      "\n",
      "\n",
      "Upper Outliers : \n",
      "+----+-----------+-----------------+\n",
      "|    | country   |   Trade Deficit |\n",
      "|----+-----------+-----------------|\n",
      "| 60 | Greece    |          2313.4 |\n",
      "| 10 | Bahamas   |          2436   |\n",
      "+----+-----------+-----------------+\n",
      "\n",
      "\n",
      "\n"
     ]
    },
    {
     "data": {
      "image/png": "[encoded data removed]",
      "text/plain": [
       "<Figure size 864x432 with 1 Axes>"
      ]
     },
     "metadata": {
      "needs_background": "light"
     },
     "output_type": "display_data"
    }
   ],
   "source": [
    "column = 'Trade Deficit'\n",
    "l_condition, u_condition = outlier_analysis(column)"
   ]
  },
  {
   "cell_type": "raw",
   "metadata": {},
   "source": [
    "Observations:-\n",
    "1) Countries like Luxembourg and Qatar, having trade deficit less than the 1st percentile, might not need the aid at all. Hence, such records can be kept out of the analysis.\n",
    "2) Countries, such as Greece and Bahamas, having trade deficit greater than the 99th percentile, are the perfect candidates for the aid. Hence, such nations should be considered in our analysis."
   ]
  },
  {
   "cell_type": "code",
   "execution_count": 30,
   "metadata": {},
   "outputs": [],
   "source": [
    "# Capping countries with lower outliers for 'Trade Deficit'\n",
    "countries.loc[l_condition, column] = countries[column].quantile(0.01)"
   ]
  },
  {
   "cell_type": "markdown",
   "metadata": {},
   "source": [
    "### Re-checking the statistical summary after the outlier treatment"
   ]
  },
  {
   "cell_type": "code",
   "execution_count": 31,
   "metadata": {},
   "outputs": [
    {
     "data": {
      "text/html": [
       "<div>\n",
       "<style scoped>\n",
       "    .dataframe tbody tr th:only-of-type {\n",
       "        vertical-align: middle;\n",
       "    }\n",
       "\n",
       "    .dataframe tbody tr th {\n",
       "        vertical-align: top;\n",
       "    }\n",
       "\n",
       "    .dataframe thead th {\n",
       "        text-align: right;\n",
       "    }\n",
       "</style>\n",
       "<table border=\"1\" class=\"dataframe\">\n",
       "  <thead>\n",
       "    <tr style=\"text-align: right;\">\n",
       "      <th></th>\n",
       "      <th>child_mort</th>\n",
       "      <th>health</th>\n",
       "      <th>income</th>\n",
       "      <th>inflation</th>\n",
       "      <th>life_expec</th>\n",
       "      <th>total_fer</th>\n",
       "      <th>gdpp</th>\n",
       "      <th>Trade Deficit</th>\n",
       "    </tr>\n",
       "  </thead>\n",
       "  <tbody>\n",
       "    <tr>\n",
       "      <th>count</th>\n",
       "      <td>167.000000</td>\n",
       "      <td>167.000000</td>\n",
       "      <td>167.000000</td>\n",
       "      <td>167.000000</td>\n",
       "      <td>167.000000</td>\n",
       "      <td>167.000000</td>\n",
       "      <td>167.000000</td>\n",
       "      <td>167.000000</td>\n",
       "    </tr>\n",
       "    <tr>\n",
       "      <th>mean</th>\n",
       "      <td>38.271257</td>\n",
       "      <td>1054.206622</td>\n",
       "      <td>16857.550898</td>\n",
       "      <td>7.798194</td>\n",
       "      <td>70.551138</td>\n",
       "      <td>2.948601</td>\n",
       "      <td>12756.826347</td>\n",
       "      <td>-683.384703</td>\n",
       "    </tr>\n",
       "    <tr>\n",
       "      <th>std</th>\n",
       "      <td>40.327869</td>\n",
       "      <td>1790.845342</td>\n",
       "      <td>17957.012855</td>\n",
       "      <td>10.553699</td>\n",
       "      <td>8.886987</td>\n",
       "      <td>1.513108</td>\n",
       "      <td>17430.208938</td>\n",
       "      <td>3135.533161</td>\n",
       "    </tr>\n",
       "    <tr>\n",
       "      <th>min</th>\n",
       "      <td>2.800000</td>\n",
       "      <td>12.821200</td>\n",
       "      <td>609.000000</td>\n",
       "      <td>-2.348800</td>\n",
       "      <td>32.100000</td>\n",
       "      <td>1.243200</td>\n",
       "      <td>231.000000</td>\n",
       "      <td>-18426.100000</td>\n",
       "    </tr>\n",
       "    <tr>\n",
       "      <th>25%</th>\n",
       "      <td>8.250000</td>\n",
       "      <td>78.535500</td>\n",
       "      <td>3355.000000</td>\n",
       "      <td>1.810000</td>\n",
       "      <td>65.300000</td>\n",
       "      <td>1.795000</td>\n",
       "      <td>1330.000000</td>\n",
       "      <td>-327.050000</td>\n",
       "    </tr>\n",
       "    <tr>\n",
       "      <th>50%</th>\n",
       "      <td>19.300000</td>\n",
       "      <td>321.886000</td>\n",
       "      <td>9960.000000</td>\n",
       "      <td>5.390000</td>\n",
       "      <td>73.100000</td>\n",
       "      <td>2.410000</td>\n",
       "      <td>4660.000000</td>\n",
       "      <td>89.218200</td>\n",
       "    </tr>\n",
       "    <tr>\n",
       "      <th>75%</th>\n",
       "      <td>62.100000</td>\n",
       "      <td>976.940000</td>\n",
       "      <td>22800.000000</td>\n",
       "      <td>10.750000</td>\n",
       "      <td>76.800000</td>\n",
       "      <td>3.880000</td>\n",
       "      <td>14050.000000</td>\n",
       "      <td>518.570000</td>\n",
       "    </tr>\n",
       "    <tr>\n",
       "      <th>max</th>\n",
       "      <td>208.000000</td>\n",
       "      <td>8410.330400</td>\n",
       "      <td>84374.000000</td>\n",
       "      <td>104.000000</td>\n",
       "      <td>82.370000</td>\n",
       "      <td>7.490000</td>\n",
       "      <td>79088.000000</td>\n",
       "      <td>2436.000000</td>\n",
       "    </tr>\n",
       "  </tbody>\n",
       "</table>\n",
       "</div>"
      ],
      "text/plain": [
       "       child_mort       health        income   inflation  life_expec  \\\n",
       "count  167.000000   167.000000    167.000000  167.000000  167.000000   \n",
       "mean    38.271257  1054.206622  16857.550898    7.798194   70.551138   \n",
       "std     40.327869  1790.845342  17957.012855   10.553699    8.886987   \n",
       "min      2.800000    12.821200    609.000000   -2.348800   32.100000   \n",
       "25%      8.250000    78.535500   3355.000000    1.810000   65.300000   \n",
       "50%     19.300000   321.886000   9960.000000    5.390000   73.100000   \n",
       "75%     62.100000   976.940000  22800.000000   10.750000   76.800000   \n",
       "max    208.000000  8410.330400  84374.000000  104.000000   82.370000   \n",
       "\n",
       "        total_fer          gdpp  Trade Deficit  \n",
       "count  167.000000    167.000000     167.000000  \n",
       "mean     2.948601  12756.826347    -683.384703  \n",
       "std      1.513108  17430.208938    3135.533161  \n",
       "min      1.243200    231.000000  -18426.100000  \n",
       "25%      1.795000   1330.000000    -327.050000  \n",
       "50%      2.410000   4660.000000      89.218200  \n",
       "75%      3.880000  14050.000000     518.570000  \n",
       "max      7.490000  79088.000000    2436.000000  "
      ]
     },
     "execution_count": 31,
     "metadata": {},
     "output_type": "execute_result"
    }
   ],
   "source": [
    "countries.describe()"
   ]
  },
  {
   "cell_type": "raw",
   "metadata": {},
   "source": [
    "Ranges of parameters after treatment of outliers\n",
    "\n",
    "1. Child Mortality ranges from 2.8 to 208.  \n",
    "2. Health expenditure ranges from 12.82 to 8410.33\n",
    "3. Income ranges from 609 to 84374\n",
    "4. Inflation ranges from -2.34 to 104\n",
    "5. Life Expectancy ranges from 32 years to 82.3 years \n",
    "6. Fertility ranges from 1.24 to 7.49\n",
    "7. GDPP ranges from 231 to 79088\n",
    "8. Trade Deficit ranges from -18426 to 2436."
   ]
  },
  {
   "cell_type": "markdown",
   "metadata": {},
   "source": [
    "### Bivariate Analysis"
   ]
  },
  {
   "cell_type": "code",
   "execution_count": 32,
   "metadata": {},
   "outputs": [
    {
     "data": {
      "image/png": "[encoded data removed]",
      "text/plain": [
       "<Figure size 1080x216 with 1 Axes>"
      ]
     },
     "metadata": {
      "needs_background": "light"
     },
     "output_type": "display_data"
    }
   ],
   "source": [
    "# Checking for the top 10 countries with the highest child mortality \n",
    "\n",
    "plt.figure(figsize = (15,3))\n",
    "child_mortality = countries.sort_values(by = 'child_mort', ascending = False ).head(10)\n",
    "plt.title('Countries with the highest child mortality')\n",
    "sns.barplot('country','child_mort',data = child_mortality)\n",
    "plt.show()"
   ]
  },
  {
   "cell_type": "raw",
   "metadata": {},
   "source": [
    "Observation:-\n",
    "Haiti has the highest child mortality."
   ]
  },
  {
   "cell_type": "code",
   "execution_count": 33,
   "metadata": {},
   "outputs": [
    {
     "data": {
      "image/png": "[encoded data removed]",
      "text/plain": [
       "<Figure size 1080x216 with 1 Axes>"
      ]
     },
     "metadata": {
      "needs_background": "light"
     },
     "output_type": "display_data"
    }
   ],
   "source": [
    "# Checking for the bottom 10 countries with the least health spendings\n",
    "\n",
    "plt.figure(figsize = (15,3))\n",
    "health = countries.sort_values(by = 'health', ascending = True ).head(10)\n",
    "plt.title('Countries with the least health spendings')\n",
    "sns.barplot('country','health',data = health)\n",
    "plt.show()"
   ]
  },
  {
   "cell_type": "raw",
   "metadata": {},
   "source": [
    "Observation:-\n",
    "Eritrea spends the least in the health sector."
   ]
  },
  {
   "cell_type": "code",
   "execution_count": 34,
   "metadata": {},
   "outputs": [
    {
     "data": {
      "image/png": "[encoded data removed]",
      "text/plain": [
       "<Figure size 1080x216 with 1 Axes>"
      ]
     },
     "metadata": {
      "needs_background": "light"
     },
     "output_type": "display_data"
    }
   ],
   "source": [
    "# Checking for the bottom 10 countries with the least net incomes\n",
    "\n",
    "plt.figure(figsize = (15,3))\n",
    "income = countries.sort_values(by = 'income', ascending = True ).head(10)\n",
    "plt.title('Countries with the least net incomes')\n",
    "sns.barplot('country','income',data = income)\n",
    "plt.show()"
   ]
  },
  {
   "cell_type": "raw",
   "metadata": {},
   "source": [
    "Observation:-\n",
    "Congo Democratic Republic has the lowest net income per person."
   ]
  },
  {
   "cell_type": "code",
   "execution_count": 35,
   "metadata": {},
   "outputs": [
    {
     "data": {
      "image/png": "[encoded data removed]",
      "text/plain": [
       "<Figure size 1080x216 with 1 Axes>"
      ]
     },
     "metadata": {
      "needs_background": "light"
     },
     "output_type": "display_data"
    }
   ],
   "source": [
    "# Checking for the top 10 countries with the highest inflation rates \n",
    "\n",
    "plt.figure(figsize = (15,3))\n",
    "inflation = countries.sort_values(by = 'inflation', ascending = False ).head(10)\n",
    "plt.title('Countries with the highest inflation rates')\n",
    "sns.barplot('country','inflation',data = inflation)\n",
    "plt.show()"
   ]
  },
  {
   "cell_type": "raw",
   "metadata": {},
   "source": [
    "Observation:-\n",
    "Nigeria has the highest inflation rate."
   ]
  },
  {
   "cell_type": "code",
   "execution_count": 36,
   "metadata": {},
   "outputs": [
    {
     "data": {
      "image/png": "[encoded data removed]",
      "text/plain": [
       "<Figure size 1080x216 with 1 Axes>"
      ]
     },
     "metadata": {
      "needs_background": "light"
     },
     "output_type": "display_data"
    }
   ],
   "source": [
    "# Checking for the bottom 10 countries with the lowest life expectancy \n",
    "\n",
    "plt.figure(figsize = (15,3))\n",
    "life = countries.sort_values(by = 'life_expec', ascending = True ).head(10)\n",
    "plt.title('Countries with the lowest life expectancy')\n",
    "sns.barplot('country','life_expec',data = life)\n",
    "plt.show()"
   ]
  },
  {
   "cell_type": "raw",
   "metadata": {},
   "source": [
    "Observation:-\n",
    "Haiti has the lowest life expectancy."
   ]
  },
  {
   "cell_type": "code",
   "execution_count": 37,
   "metadata": {},
   "outputs": [
    {
     "data": {
      "image/png": "[encoded data removed]",
      "text/plain": [
       "<Figure size 1080x216 with 1 Axes>"
      ]
     },
     "metadata": {
      "needs_background": "light"
     },
     "output_type": "display_data"
    }
   ],
   "source": [
    "# Checking for the top 10 countries with the highest fertility values \n",
    "\n",
    "plt.figure(figsize = (15,3))\n",
    "fert = countries.sort_values(by = 'total_fer', ascending = False ).head(10)\n",
    "plt.title('Countries with the highest fertility values')\n",
    "sns.barplot('country','total_fer',data = fert)\n",
    "plt.show()"
   ]
  },
  {
   "cell_type": "raw",
   "metadata": {},
   "source": [
    "Observation:-\n",
    "Niger has the highest fertility value."
   ]
  },
  {
   "cell_type": "code",
   "execution_count": 38,
   "metadata": {},
   "outputs": [
    {
     "data": {
      "image/png": "[encoded data removed]",
      "text/plain": [
       "<Figure size 1080x216 with 1 Axes>"
      ]
     },
     "metadata": {
      "needs_background": "light"
     },
     "output_type": "display_data"
    }
   ],
   "source": [
    "# Checking for the bottom 10 countries with the lowest GDP \n",
    "\n",
    "plt.figure(figsize = (15,3))\n",
    "gdp = countries.sort_values(by = 'gdpp', ascending = True ).head(10)\n",
    "plt.title('Countries with the lowest GDP')\n",
    "sns.barplot('country','gdpp',data = gdp)\n",
    "plt.show()"
   ]
  },
  {
   "cell_type": "raw",
   "metadata": {},
   "source": [
    "Observation:-\n",
    "Burundi has the lowest GDP."
   ]
  },
  {
   "cell_type": "code",
   "execution_count": 39,
   "metadata": {},
   "outputs": [
    {
     "data": {
      "image/png": "[encoded data removed]",
      "text/plain": [
       "<Figure size 1080x216 with 1 Axes>"
      ]
     },
     "metadata": {
      "needs_background": "light"
     },
     "output_type": "display_data"
    }
   ],
   "source": [
    "# Checking for the top 10 countries with the highest trade deficit \n",
    "\n",
    "plt.figure(figsize = (15,3))\n",
    "trade_deficit = countries.sort_values(by = 'Trade Deficit', ascending = False ).head(10)\n",
    "plt.title('Countries with the highest trade deficit')\n",
    "sns.barplot('country','Trade Deficit',data = trade_deficit)\n",
    "plt.show()"
   ]
  },
  {
   "cell_type": "raw",
   "metadata": {},
   "source": [
    "Observation:-\n",
    "Bahamas has the highest trade deficit."
   ]
  },
  {
   "cell_type": "markdown",
   "metadata": {},
   "source": [
    "### Multivariate Analysis"
   ]
  },
  {
   "cell_type": "code",
   "execution_count": 40,
   "metadata": {},
   "outputs": [
    {
     "data": {
      "text/html": [
       "<div>\n",
       "<style scoped>\n",
       "    .dataframe tbody tr th:only-of-type {\n",
       "        vertical-align: middle;\n",
       "    }\n",
       "\n",
       "    .dataframe tbody tr th {\n",
       "        vertical-align: top;\n",
       "    }\n",
       "\n",
       "    .dataframe thead th {\n",
       "        text-align: right;\n",
       "    }\n",
       "</style>\n",
       "<table border=\"1\" class=\"dataframe\">\n",
       "  <thead>\n",
       "    <tr style=\"text-align: right;\">\n",
       "      <th></th>\n",
       "      <th>country</th>\n",
       "      <th>child_mort</th>\n",
       "      <th>health</th>\n",
       "    </tr>\n",
       "  </thead>\n",
       "  <tbody>\n",
       "    <tr>\n",
       "      <th>66</th>\n",
       "      <td>Haiti</td>\n",
       "      <td>208.0</td>\n",
       "      <td>45.7442</td>\n",
       "    </tr>\n",
       "    <tr>\n",
       "      <th>132</th>\n",
       "      <td>Sierra Leone</td>\n",
       "      <td>160.0</td>\n",
       "      <td>52.2690</td>\n",
       "    </tr>\n",
       "    <tr>\n",
       "      <th>32</th>\n",
       "      <td>Chad</td>\n",
       "      <td>150.0</td>\n",
       "      <td>40.6341</td>\n",
       "    </tr>\n",
       "    <tr>\n",
       "      <th>31</th>\n",
       "      <td>Central African Republic</td>\n",
       "      <td>149.0</td>\n",
       "      <td>17.7508</td>\n",
       "    </tr>\n",
       "    <tr>\n",
       "      <th>97</th>\n",
       "      <td>Mali</td>\n",
       "      <td>137.0</td>\n",
       "      <td>35.2584</td>\n",
       "    </tr>\n",
       "    <tr>\n",
       "      <th>113</th>\n",
       "      <td>Nigeria</td>\n",
       "      <td>130.0</td>\n",
       "      <td>118.1310</td>\n",
       "    </tr>\n",
       "    <tr>\n",
       "      <th>112</th>\n",
       "      <td>Niger</td>\n",
       "      <td>123.0</td>\n",
       "      <td>17.9568</td>\n",
       "    </tr>\n",
       "    <tr>\n",
       "      <th>3</th>\n",
       "      <td>Angola</td>\n",
       "      <td>119.0</td>\n",
       "      <td>100.6050</td>\n",
       "    </tr>\n",
       "    <tr>\n",
       "      <th>37</th>\n",
       "      <td>Congo, Dem. Rep.</td>\n",
       "      <td>116.0</td>\n",
       "      <td>26.4194</td>\n",
       "    </tr>\n",
       "    <tr>\n",
       "      <th>25</th>\n",
       "      <td>Burkina Faso</td>\n",
       "      <td>116.0</td>\n",
       "      <td>38.7550</td>\n",
       "    </tr>\n",
       "  </tbody>\n",
       "</table>\n",
       "</div>"
      ],
      "text/plain": [
       "                      country  child_mort    health\n",
       "66                      Haiti       208.0   45.7442\n",
       "132              Sierra Leone       160.0   52.2690\n",
       "32                       Chad       150.0   40.6341\n",
       "31   Central African Republic       149.0   17.7508\n",
       "97                       Mali       137.0   35.2584\n",
       "113                   Nigeria       130.0  118.1310\n",
       "112                     Niger       123.0   17.9568\n",
       "3                      Angola       119.0  100.6050\n",
       "37           Congo, Dem. Rep.       116.0   26.4194\n",
       "25               Burkina Faso       116.0   38.7550"
      ]
     },
     "execution_count": 40,
     "metadata": {},
     "output_type": "execute_result"
    }
   ],
   "source": [
    "# Countries with high child mortality and low health spendings\n",
    "\n",
    "countries[['country','child_mort','health']].sort_values(by=['child_mort','health'], ascending=[False,True])[:10]"
   ]
  },
  {
   "cell_type": "raw",
   "metadata": {},
   "source": [
    "Observations:-\n",
    "1) Haiti has high child mortality with low health spendings.\n",
    "2) Although Central African Republic and Niger spends much much less in health sector, but these countries have comparatively lower child mortality rates than Haiti."
   ]
  },
  {
   "cell_type": "code",
   "execution_count": 41,
   "metadata": {},
   "outputs": [
    {
     "data": {
      "text/html": [
       "<div>\n",
       "<style scoped>\n",
       "    .dataframe tbody tr th:only-of-type {\n",
       "        vertical-align: middle;\n",
       "    }\n",
       "\n",
       "    .dataframe tbody tr th {\n",
       "        vertical-align: top;\n",
       "    }\n",
       "\n",
       "    .dataframe thead th {\n",
       "        text-align: right;\n",
       "    }\n",
       "</style>\n",
       "<table border=\"1\" class=\"dataframe\">\n",
       "  <thead>\n",
       "    <tr style=\"text-align: right;\">\n",
       "      <th></th>\n",
       "      <th>country</th>\n",
       "      <th>child_mort</th>\n",
       "      <th>income</th>\n",
       "    </tr>\n",
       "  </thead>\n",
       "  <tbody>\n",
       "    <tr>\n",
       "      <th>66</th>\n",
       "      <td>Haiti</td>\n",
       "      <td>208.0</td>\n",
       "      <td>1500.0</td>\n",
       "    </tr>\n",
       "    <tr>\n",
       "      <th>132</th>\n",
       "      <td>Sierra Leone</td>\n",
       "      <td>160.0</td>\n",
       "      <td>1220.0</td>\n",
       "    </tr>\n",
       "    <tr>\n",
       "      <th>32</th>\n",
       "      <td>Chad</td>\n",
       "      <td>150.0</td>\n",
       "      <td>1930.0</td>\n",
       "    </tr>\n",
       "    <tr>\n",
       "      <th>31</th>\n",
       "      <td>Central African Republic</td>\n",
       "      <td>149.0</td>\n",
       "      <td>888.0</td>\n",
       "    </tr>\n",
       "    <tr>\n",
       "      <th>97</th>\n",
       "      <td>Mali</td>\n",
       "      <td>137.0</td>\n",
       "      <td>1870.0</td>\n",
       "    </tr>\n",
       "    <tr>\n",
       "      <th>113</th>\n",
       "      <td>Nigeria</td>\n",
       "      <td>130.0</td>\n",
       "      <td>5150.0</td>\n",
       "    </tr>\n",
       "    <tr>\n",
       "      <th>112</th>\n",
       "      <td>Niger</td>\n",
       "      <td>123.0</td>\n",
       "      <td>814.0</td>\n",
       "    </tr>\n",
       "    <tr>\n",
       "      <th>3</th>\n",
       "      <td>Angola</td>\n",
       "      <td>119.0</td>\n",
       "      <td>5900.0</td>\n",
       "    </tr>\n",
       "    <tr>\n",
       "      <th>37</th>\n",
       "      <td>Congo, Dem. Rep.</td>\n",
       "      <td>116.0</td>\n",
       "      <td>609.0</td>\n",
       "    </tr>\n",
       "    <tr>\n",
       "      <th>25</th>\n",
       "      <td>Burkina Faso</td>\n",
       "      <td>116.0</td>\n",
       "      <td>1430.0</td>\n",
       "    </tr>\n",
       "  </tbody>\n",
       "</table>\n",
       "</div>"
      ],
      "text/plain": [
       "                      country  child_mort  income\n",
       "66                      Haiti       208.0  1500.0\n",
       "132              Sierra Leone       160.0  1220.0\n",
       "32                       Chad       150.0  1930.0\n",
       "31   Central African Republic       149.0   888.0\n",
       "97                       Mali       137.0  1870.0\n",
       "113                   Nigeria       130.0  5150.0\n",
       "112                     Niger       123.0   814.0\n",
       "3                      Angola       119.0  5900.0\n",
       "37           Congo, Dem. Rep.       116.0   609.0\n",
       "25               Burkina Faso       116.0  1430.0"
      ]
     },
     "execution_count": 41,
     "metadata": {},
     "output_type": "execute_result"
    }
   ],
   "source": [
    "# Countries with high child mortality and low net income per person\n",
    "\n",
    "countries[['country','child_mort','income']].sort_values(by=['child_mort','income'], ascending=[False,True])[:10]"
   ]
  },
  {
   "cell_type": "raw",
   "metadata": {},
   "source": [
    "Observations:-\n",
    "1) Haiti has high child mortality and low net income per person.\n",
    "2) Although Congo Democratic Republic, Niger and Central African Republic have much lower net income per person, but the child mortality rates for these countries are comparatively lower than Haiti."
   ]
  },
  {
   "cell_type": "code",
   "execution_count": 42,
   "metadata": {},
   "outputs": [
    {
     "data": {
      "text/html": [
       "<div>\n",
       "<style scoped>\n",
       "    .dataframe tbody tr th:only-of-type {\n",
       "        vertical-align: middle;\n",
       "    }\n",
       "\n",
       "    .dataframe tbody tr th {\n",
       "        vertical-align: top;\n",
       "    }\n",
       "\n",
       "    .dataframe thead th {\n",
       "        text-align: right;\n",
       "    }\n",
       "</style>\n",
       "<table border=\"1\" class=\"dataframe\">\n",
       "  <thead>\n",
       "    <tr style=\"text-align: right;\">\n",
       "      <th></th>\n",
       "      <th>country</th>\n",
       "      <th>child_mort</th>\n",
       "      <th>inflation</th>\n",
       "    </tr>\n",
       "  </thead>\n",
       "  <tbody>\n",
       "    <tr>\n",
       "      <th>66</th>\n",
       "      <td>Haiti</td>\n",
       "      <td>208.0</td>\n",
       "      <td>5.45</td>\n",
       "    </tr>\n",
       "    <tr>\n",
       "      <th>132</th>\n",
       "      <td>Sierra Leone</td>\n",
       "      <td>160.0</td>\n",
       "      <td>17.20</td>\n",
       "    </tr>\n",
       "    <tr>\n",
       "      <th>32</th>\n",
       "      <td>Chad</td>\n",
       "      <td>150.0</td>\n",
       "      <td>6.39</td>\n",
       "    </tr>\n",
       "    <tr>\n",
       "      <th>31</th>\n",
       "      <td>Central African Republic</td>\n",
       "      <td>149.0</td>\n",
       "      <td>2.01</td>\n",
       "    </tr>\n",
       "    <tr>\n",
       "      <th>97</th>\n",
       "      <td>Mali</td>\n",
       "      <td>137.0</td>\n",
       "      <td>4.37</td>\n",
       "    </tr>\n",
       "    <tr>\n",
       "      <th>113</th>\n",
       "      <td>Nigeria</td>\n",
       "      <td>130.0</td>\n",
       "      <td>104.00</td>\n",
       "    </tr>\n",
       "    <tr>\n",
       "      <th>112</th>\n",
       "      <td>Niger</td>\n",
       "      <td>123.0</td>\n",
       "      <td>2.55</td>\n",
       "    </tr>\n",
       "    <tr>\n",
       "      <th>3</th>\n",
       "      <td>Angola</td>\n",
       "      <td>119.0</td>\n",
       "      <td>22.40</td>\n",
       "    </tr>\n",
       "    <tr>\n",
       "      <th>37</th>\n",
       "      <td>Congo, Dem. Rep.</td>\n",
       "      <td>116.0</td>\n",
       "      <td>20.80</td>\n",
       "    </tr>\n",
       "    <tr>\n",
       "      <th>25</th>\n",
       "      <td>Burkina Faso</td>\n",
       "      <td>116.0</td>\n",
       "      <td>6.81</td>\n",
       "    </tr>\n",
       "  </tbody>\n",
       "</table>\n",
       "</div>"
      ],
      "text/plain": [
       "                      country  child_mort  inflation\n",
       "66                      Haiti       208.0       5.45\n",
       "132              Sierra Leone       160.0      17.20\n",
       "32                       Chad       150.0       6.39\n",
       "31   Central African Republic       149.0       2.01\n",
       "97                       Mali       137.0       4.37\n",
       "113                   Nigeria       130.0     104.00\n",
       "112                     Niger       123.0       2.55\n",
       "3                      Angola       119.0      22.40\n",
       "37           Congo, Dem. Rep.       116.0      20.80\n",
       "25               Burkina Faso       116.0       6.81"
      ]
     },
     "execution_count": 42,
     "metadata": {},
     "output_type": "execute_result"
    }
   ],
   "source": [
    "# Countries with high child mortality and high inflation rates\n",
    "\n",
    "countries[['country','child_mort','inflation']].sort_values(by=['child_mort','inflation'], ascending=[False,False])[:10]"
   ]
  },
  {
   "cell_type": "raw",
   "metadata": {},
   "source": [
    "Observations:-\n",
    "1) Haiti has high child mortality and high inflation rate.\n",
    "2) Nigeria has a very high inflation rate (over 100), but its child mortality rate is lower than Haiti."
   ]
  },
  {
   "cell_type": "code",
   "execution_count": 43,
   "metadata": {},
   "outputs": [
    {
     "data": {
      "text/html": [
       "<div>\n",
       "<style scoped>\n",
       "    .dataframe tbody tr th:only-of-type {\n",
       "        vertical-align: middle;\n",
       "    }\n",
       "\n",
       "    .dataframe tbody tr th {\n",
       "        vertical-align: top;\n",
       "    }\n",
       "\n",
       "    .dataframe thead th {\n",
       "        text-align: right;\n",
       "    }\n",
       "</style>\n",
       "<table border=\"1\" class=\"dataframe\">\n",
       "  <thead>\n",
       "    <tr style=\"text-align: right;\">\n",
       "      <th></th>\n",
       "      <th>country</th>\n",
       "      <th>child_mort</th>\n",
       "      <th>life_expec</th>\n",
       "    </tr>\n",
       "  </thead>\n",
       "  <tbody>\n",
       "    <tr>\n",
       "      <th>66</th>\n",
       "      <td>Haiti</td>\n",
       "      <td>208.0</td>\n",
       "      <td>32.1</td>\n",
       "    </tr>\n",
       "    <tr>\n",
       "      <th>132</th>\n",
       "      <td>Sierra Leone</td>\n",
       "      <td>160.0</td>\n",
       "      <td>55.0</td>\n",
       "    </tr>\n",
       "    <tr>\n",
       "      <th>32</th>\n",
       "      <td>Chad</td>\n",
       "      <td>150.0</td>\n",
       "      <td>56.5</td>\n",
       "    </tr>\n",
       "    <tr>\n",
       "      <th>31</th>\n",
       "      <td>Central African Republic</td>\n",
       "      <td>149.0</td>\n",
       "      <td>47.5</td>\n",
       "    </tr>\n",
       "    <tr>\n",
       "      <th>97</th>\n",
       "      <td>Mali</td>\n",
       "      <td>137.0</td>\n",
       "      <td>59.5</td>\n",
       "    </tr>\n",
       "    <tr>\n",
       "      <th>113</th>\n",
       "      <td>Nigeria</td>\n",
       "      <td>130.0</td>\n",
       "      <td>60.5</td>\n",
       "    </tr>\n",
       "    <tr>\n",
       "      <th>112</th>\n",
       "      <td>Niger</td>\n",
       "      <td>123.0</td>\n",
       "      <td>58.8</td>\n",
       "    </tr>\n",
       "    <tr>\n",
       "      <th>3</th>\n",
       "      <td>Angola</td>\n",
       "      <td>119.0</td>\n",
       "      <td>60.1</td>\n",
       "    </tr>\n",
       "    <tr>\n",
       "      <th>37</th>\n",
       "      <td>Congo, Dem. Rep.</td>\n",
       "      <td>116.0</td>\n",
       "      <td>57.5</td>\n",
       "    </tr>\n",
       "    <tr>\n",
       "      <th>25</th>\n",
       "      <td>Burkina Faso</td>\n",
       "      <td>116.0</td>\n",
       "      <td>57.9</td>\n",
       "    </tr>\n",
       "  </tbody>\n",
       "</table>\n",
       "</div>"
      ],
      "text/plain": [
       "                      country  child_mort  life_expec\n",
       "66                      Haiti       208.0        32.1\n",
       "132              Sierra Leone       160.0        55.0\n",
       "32                       Chad       150.0        56.5\n",
       "31   Central African Republic       149.0        47.5\n",
       "97                       Mali       137.0        59.5\n",
       "113                   Nigeria       130.0        60.5\n",
       "112                     Niger       123.0        58.8\n",
       "3                      Angola       119.0        60.1\n",
       "37           Congo, Dem. Rep.       116.0        57.5\n",
       "25               Burkina Faso       116.0        57.9"
      ]
     },
     "execution_count": 43,
     "metadata": {},
     "output_type": "execute_result"
    }
   ],
   "source": [
    "# Countries with high child mortality and low life expectancy\n",
    "\n",
    "countries[['country','child_mort','life_expec']].sort_values(by=['child_mort','life_expec'], ascending=[False,True])[:10]"
   ]
  },
  {
   "cell_type": "raw",
   "metadata": {},
   "source": [
    "Observation:-\n",
    "1) Haiti has high child mortality and low life expectancy."
   ]
  },
  {
   "cell_type": "code",
   "execution_count": 44,
   "metadata": {},
   "outputs": [
    {
     "data": {
      "text/html": [
       "<div>\n",
       "<style scoped>\n",
       "    .dataframe tbody tr th:only-of-type {\n",
       "        vertical-align: middle;\n",
       "    }\n",
       "\n",
       "    .dataframe tbody tr th {\n",
       "        vertical-align: top;\n",
       "    }\n",
       "\n",
       "    .dataframe thead th {\n",
       "        text-align: right;\n",
       "    }\n",
       "</style>\n",
       "<table border=\"1\" class=\"dataframe\">\n",
       "  <thead>\n",
       "    <tr style=\"text-align: right;\">\n",
       "      <th></th>\n",
       "      <th>country</th>\n",
       "      <th>child_mort</th>\n",
       "      <th>total_fer</th>\n",
       "    </tr>\n",
       "  </thead>\n",
       "  <tbody>\n",
       "    <tr>\n",
       "      <th>66</th>\n",
       "      <td>Haiti</td>\n",
       "      <td>208.0</td>\n",
       "      <td>3.33</td>\n",
       "    </tr>\n",
       "    <tr>\n",
       "      <th>132</th>\n",
       "      <td>Sierra Leone</td>\n",
       "      <td>160.0</td>\n",
       "      <td>5.20</td>\n",
       "    </tr>\n",
       "    <tr>\n",
       "      <th>32</th>\n",
       "      <td>Chad</td>\n",
       "      <td>150.0</td>\n",
       "      <td>6.59</td>\n",
       "    </tr>\n",
       "    <tr>\n",
       "      <th>31</th>\n",
       "      <td>Central African Republic</td>\n",
       "      <td>149.0</td>\n",
       "      <td>5.21</td>\n",
       "    </tr>\n",
       "    <tr>\n",
       "      <th>97</th>\n",
       "      <td>Mali</td>\n",
       "      <td>137.0</td>\n",
       "      <td>6.55</td>\n",
       "    </tr>\n",
       "    <tr>\n",
       "      <th>113</th>\n",
       "      <td>Nigeria</td>\n",
       "      <td>130.0</td>\n",
       "      <td>5.84</td>\n",
       "    </tr>\n",
       "    <tr>\n",
       "      <th>112</th>\n",
       "      <td>Niger</td>\n",
       "      <td>123.0</td>\n",
       "      <td>7.49</td>\n",
       "    </tr>\n",
       "    <tr>\n",
       "      <th>3</th>\n",
       "      <td>Angola</td>\n",
       "      <td>119.0</td>\n",
       "      <td>6.16</td>\n",
       "    </tr>\n",
       "    <tr>\n",
       "      <th>37</th>\n",
       "      <td>Congo, Dem. Rep.</td>\n",
       "      <td>116.0</td>\n",
       "      <td>6.54</td>\n",
       "    </tr>\n",
       "    <tr>\n",
       "      <th>25</th>\n",
       "      <td>Burkina Faso</td>\n",
       "      <td>116.0</td>\n",
       "      <td>5.87</td>\n",
       "    </tr>\n",
       "  </tbody>\n",
       "</table>\n",
       "</div>"
      ],
      "text/plain": [
       "                      country  child_mort  total_fer\n",
       "66                      Haiti       208.0       3.33\n",
       "132              Sierra Leone       160.0       5.20\n",
       "32                       Chad       150.0       6.59\n",
       "31   Central African Republic       149.0       5.21\n",
       "97                       Mali       137.0       6.55\n",
       "113                   Nigeria       130.0       5.84\n",
       "112                     Niger       123.0       7.49\n",
       "3                      Angola       119.0       6.16\n",
       "37           Congo, Dem. Rep.       116.0       6.54\n",
       "25               Burkina Faso       116.0       5.87"
      ]
     },
     "execution_count": 44,
     "metadata": {},
     "output_type": "execute_result"
    }
   ],
   "source": [
    "# Countries with high child mortality and high fertility\n",
    "\n",
    "countries[['country','child_mort','total_fer']].sort_values(by=['child_mort','total_fer'], ascending=[False,False])[:10]"
   ]
  },
  {
   "cell_type": "raw",
   "metadata": {},
   "source": [
    "Observations:-\n",
    "1) Haiti has high child mortality and high fertility.\n",
    "2) Although Niger has much higher fertility rate (around 7.5), yet the child mortality rate is much lower than Haiti."
   ]
  },
  {
   "cell_type": "code",
   "execution_count": 45,
   "metadata": {},
   "outputs": [
    {
     "data": {
      "text/html": [
       "<div>\n",
       "<style scoped>\n",
       "    .dataframe tbody tr th:only-of-type {\n",
       "        vertical-align: middle;\n",
       "    }\n",
       "\n",
       "    .dataframe tbody tr th {\n",
       "        vertical-align: top;\n",
       "    }\n",
       "\n",
       "    .dataframe thead th {\n",
       "        text-align: right;\n",
       "    }\n",
       "</style>\n",
       "<table border=\"1\" class=\"dataframe\">\n",
       "  <thead>\n",
       "    <tr style=\"text-align: right;\">\n",
       "      <th></th>\n",
       "      <th>country</th>\n",
       "      <th>child_mort</th>\n",
       "      <th>gdpp</th>\n",
       "    </tr>\n",
       "  </thead>\n",
       "  <tbody>\n",
       "    <tr>\n",
       "      <th>66</th>\n",
       "      <td>Haiti</td>\n",
       "      <td>208.0</td>\n",
       "      <td>662.0</td>\n",
       "    </tr>\n",
       "    <tr>\n",
       "      <th>132</th>\n",
       "      <td>Sierra Leone</td>\n",
       "      <td>160.0</td>\n",
       "      <td>399.0</td>\n",
       "    </tr>\n",
       "    <tr>\n",
       "      <th>32</th>\n",
       "      <td>Chad</td>\n",
       "      <td>150.0</td>\n",
       "      <td>897.0</td>\n",
       "    </tr>\n",
       "    <tr>\n",
       "      <th>31</th>\n",
       "      <td>Central African Republic</td>\n",
       "      <td>149.0</td>\n",
       "      <td>446.0</td>\n",
       "    </tr>\n",
       "    <tr>\n",
       "      <th>97</th>\n",
       "      <td>Mali</td>\n",
       "      <td>137.0</td>\n",
       "      <td>708.0</td>\n",
       "    </tr>\n",
       "    <tr>\n",
       "      <th>113</th>\n",
       "      <td>Nigeria</td>\n",
       "      <td>130.0</td>\n",
       "      <td>2330.0</td>\n",
       "    </tr>\n",
       "    <tr>\n",
       "      <th>112</th>\n",
       "      <td>Niger</td>\n",
       "      <td>123.0</td>\n",
       "      <td>348.0</td>\n",
       "    </tr>\n",
       "    <tr>\n",
       "      <th>3</th>\n",
       "      <td>Angola</td>\n",
       "      <td>119.0</td>\n",
       "      <td>3530.0</td>\n",
       "    </tr>\n",
       "    <tr>\n",
       "      <th>37</th>\n",
       "      <td>Congo, Dem. Rep.</td>\n",
       "      <td>116.0</td>\n",
       "      <td>334.0</td>\n",
       "    </tr>\n",
       "    <tr>\n",
       "      <th>25</th>\n",
       "      <td>Burkina Faso</td>\n",
       "      <td>116.0</td>\n",
       "      <td>575.0</td>\n",
       "    </tr>\n",
       "  </tbody>\n",
       "</table>\n",
       "</div>"
      ],
      "text/plain": [
       "                      country  child_mort    gdpp\n",
       "66                      Haiti       208.0   662.0\n",
       "132              Sierra Leone       160.0   399.0\n",
       "32                       Chad       150.0   897.0\n",
       "31   Central African Republic       149.0   446.0\n",
       "97                       Mali       137.0   708.0\n",
       "113                   Nigeria       130.0  2330.0\n",
       "112                     Niger       123.0   348.0\n",
       "3                      Angola       119.0  3530.0\n",
       "37           Congo, Dem. Rep.       116.0   334.0\n",
       "25               Burkina Faso       116.0   575.0"
      ]
     },
     "execution_count": 45,
     "metadata": {},
     "output_type": "execute_result"
    }
   ],
   "source": [
    "# Countries with high child mortality and low GDP\n",
    "\n",
    "countries[['country','child_mort','gdpp']].sort_values(by=['child_mort','gdpp'], ascending=[False,True])[:10]"
   ]
  },
  {
   "cell_type": "raw",
   "metadata": {},
   "source": [
    "Observations:-\n",
    "1) Haiti has high child mortality and low GDP.\n",
    "2) Though Congo Democratic Republic and Niger have much lower GDP numbers, their child mortality rates are better than Haiti's."
   ]
  },
  {
   "cell_type": "code",
   "execution_count": 46,
   "metadata": {},
   "outputs": [
    {
     "data": {
      "text/html": [
       "<div>\n",
       "<style scoped>\n",
       "    .dataframe tbody tr th:only-of-type {\n",
       "        vertical-align: middle;\n",
       "    }\n",
       "\n",
       "    .dataframe tbody tr th {\n",
       "        vertical-align: top;\n",
       "    }\n",
       "\n",
       "    .dataframe thead th {\n",
       "        text-align: right;\n",
       "    }\n",
       "</style>\n",
       "<table border=\"1\" class=\"dataframe\">\n",
       "  <thead>\n",
       "    <tr style=\"text-align: right;\">\n",
       "      <th></th>\n",
       "      <th>country</th>\n",
       "      <th>child_mort</th>\n",
       "      <th>Trade Deficit</th>\n",
       "    </tr>\n",
       "  </thead>\n",
       "  <tbody>\n",
       "    <tr>\n",
       "      <th>66</th>\n",
       "      <td>Haiti</td>\n",
       "      <td>208.0</td>\n",
       "      <td>327.028</td>\n",
       "    </tr>\n",
       "    <tr>\n",
       "      <th>132</th>\n",
       "      <td>Sierra Leone</td>\n",
       "      <td>160.0</td>\n",
       "      <td>70.623</td>\n",
       "    </tr>\n",
       "    <tr>\n",
       "      <th>32</th>\n",
       "      <td>Chad</td>\n",
       "      <td>150.0</td>\n",
       "      <td>60.099</td>\n",
       "    </tr>\n",
       "    <tr>\n",
       "      <th>31</th>\n",
       "      <td>Central African Republic</td>\n",
       "      <td>149.0</td>\n",
       "      <td>65.562</td>\n",
       "    </tr>\n",
       "    <tr>\n",
       "      <th>97</th>\n",
       "      <td>Mali</td>\n",
       "      <td>137.0</td>\n",
       "      <td>87.084</td>\n",
       "    </tr>\n",
       "    <tr>\n",
       "      <th>113</th>\n",
       "      <td>Nigeria</td>\n",
       "      <td>130.0</td>\n",
       "      <td>-184.070</td>\n",
       "    </tr>\n",
       "    <tr>\n",
       "      <th>112</th>\n",
       "      <td>Niger</td>\n",
       "      <td>123.0</td>\n",
       "      <td>93.612</td>\n",
       "    </tr>\n",
       "    <tr>\n",
       "      <th>3</th>\n",
       "      <td>Angola</td>\n",
       "      <td>119.0</td>\n",
       "      <td>-684.820</td>\n",
       "    </tr>\n",
       "    <tr>\n",
       "      <th>25</th>\n",
       "      <td>Burkina Faso</td>\n",
       "      <td>116.0</td>\n",
       "      <td>59.800</td>\n",
       "    </tr>\n",
       "    <tr>\n",
       "      <th>37</th>\n",
       "      <td>Congo, Dem. Rep.</td>\n",
       "      <td>116.0</td>\n",
       "      <td>28.390</td>\n",
       "    </tr>\n",
       "  </tbody>\n",
       "</table>\n",
       "</div>"
      ],
      "text/plain": [
       "                      country  child_mort  Trade Deficit\n",
       "66                      Haiti       208.0        327.028\n",
       "132              Sierra Leone       160.0         70.623\n",
       "32                       Chad       150.0         60.099\n",
       "31   Central African Republic       149.0         65.562\n",
       "97                       Mali       137.0         87.084\n",
       "113                   Nigeria       130.0       -184.070\n",
       "112                     Niger       123.0         93.612\n",
       "3                      Angola       119.0       -684.820\n",
       "25               Burkina Faso       116.0         59.800\n",
       "37           Congo, Dem. Rep.       116.0         28.390"
      ]
     },
     "execution_count": 46,
     "metadata": {},
     "output_type": "execute_result"
    }
   ],
   "source": [
    "# Countries with high child mortality and high trade deficit\n",
    "\n",
    "countries[['country','child_mort','Trade Deficit']].sort_values(by=['child_mort','Trade Deficit'], ascending=[False,False])[:10]"
   ]
  },
  {
   "cell_type": "raw",
   "metadata": {},
   "source": [
    "Observation:-\n",
    "1) Haiti has high child mortality and high trade deficit."
   ]
  },
  {
   "cell_type": "code",
   "execution_count": 47,
   "metadata": {},
   "outputs": [
    {
     "data": {
      "text/html": [
       "<div>\n",
       "<style scoped>\n",
       "    .dataframe tbody tr th:only-of-type {\n",
       "        vertical-align: middle;\n",
       "    }\n",
       "\n",
       "    .dataframe tbody tr th {\n",
       "        vertical-align: top;\n",
       "    }\n",
       "\n",
       "    .dataframe thead th {\n",
       "        text-align: right;\n",
       "    }\n",
       "</style>\n",
       "<table border=\"1\" class=\"dataframe\">\n",
       "  <thead>\n",
       "    <tr style=\"text-align: right;\">\n",
       "      <th></th>\n",
       "      <th>country</th>\n",
       "      <th>income</th>\n",
       "      <th>health</th>\n",
       "    </tr>\n",
       "  </thead>\n",
       "  <tbody>\n",
       "    <tr>\n",
       "      <th>37</th>\n",
       "      <td>Congo, Dem. Rep.</td>\n",
       "      <td>609.0</td>\n",
       "      <td>26.4194</td>\n",
       "    </tr>\n",
       "    <tr>\n",
       "      <th>88</th>\n",
       "      <td>Liberia</td>\n",
       "      <td>700.0</td>\n",
       "      <td>38.5860</td>\n",
       "    </tr>\n",
       "    <tr>\n",
       "      <th>26</th>\n",
       "      <td>Burundi</td>\n",
       "      <td>764.0</td>\n",
       "      <td>26.7960</td>\n",
       "    </tr>\n",
       "    <tr>\n",
       "      <th>112</th>\n",
       "      <td>Niger</td>\n",
       "      <td>814.0</td>\n",
       "      <td>17.9568</td>\n",
       "    </tr>\n",
       "    <tr>\n",
       "      <th>31</th>\n",
       "      <td>Central African Republic</td>\n",
       "      <td>888.0</td>\n",
       "      <td>17.7508</td>\n",
       "    </tr>\n",
       "    <tr>\n",
       "      <th>106</th>\n",
       "      <td>Mozambique</td>\n",
       "      <td>918.0</td>\n",
       "      <td>21.8299</td>\n",
       "    </tr>\n",
       "    <tr>\n",
       "      <th>94</th>\n",
       "      <td>Malawi</td>\n",
       "      <td>1030.0</td>\n",
       "      <td>30.2481</td>\n",
       "    </tr>\n",
       "    <tr>\n",
       "      <th>63</th>\n",
       "      <td>Guinea</td>\n",
       "      <td>1190.0</td>\n",
       "      <td>31.9464</td>\n",
       "    </tr>\n",
       "    <tr>\n",
       "      <th>150</th>\n",
       "      <td>Togo</td>\n",
       "      <td>1210.0</td>\n",
       "      <td>37.3320</td>\n",
       "    </tr>\n",
       "    <tr>\n",
       "      <th>132</th>\n",
       "      <td>Sierra Leone</td>\n",
       "      <td>1220.0</td>\n",
       "      <td>52.2690</td>\n",
       "    </tr>\n",
       "  </tbody>\n",
       "</table>\n",
       "</div>"
      ],
      "text/plain": [
       "                      country  income   health\n",
       "37           Congo, Dem. Rep.   609.0  26.4194\n",
       "88                    Liberia   700.0  38.5860\n",
       "26                    Burundi   764.0  26.7960\n",
       "112                     Niger   814.0  17.9568\n",
       "31   Central African Republic   888.0  17.7508\n",
       "106                Mozambique   918.0  21.8299\n",
       "94                     Malawi  1030.0  30.2481\n",
       "63                     Guinea  1190.0  31.9464\n",
       "150                      Togo  1210.0  37.3320\n",
       "132              Sierra Leone  1220.0  52.2690"
      ]
     },
     "execution_count": 47,
     "metadata": {},
     "output_type": "execute_result"
    }
   ],
   "source": [
    "# Countries with low income and low health spendings\n",
    "\n",
    "countries[['country','income','health']].sort_values(by=['income','health'], ascending=[True,True])[:10]"
   ]
  },
  {
   "cell_type": "raw",
   "metadata": {},
   "source": [
    "Observations:-\n",
    "1) Congo Democratic Republic has low income and low health spendings.\n",
    "2) Although countries such as Central African Republic and Niger have worser health spendings, but their net incomes per person are better than Congo Democratic Republic."
   ]
  },
  {
   "cell_type": "code",
   "execution_count": 48,
   "metadata": {},
   "outputs": [
    {
     "data": {
      "text/html": [
       "<div>\n",
       "<style scoped>\n",
       "    .dataframe tbody tr th:only-of-type {\n",
       "        vertical-align: middle;\n",
       "    }\n",
       "\n",
       "    .dataframe tbody tr th {\n",
       "        vertical-align: top;\n",
       "    }\n",
       "\n",
       "    .dataframe thead th {\n",
       "        text-align: right;\n",
       "    }\n",
       "</style>\n",
       "<table border=\"1\" class=\"dataframe\">\n",
       "  <thead>\n",
       "    <tr style=\"text-align: right;\">\n",
       "      <th></th>\n",
       "      <th>country</th>\n",
       "      <th>income</th>\n",
       "      <th>inflation</th>\n",
       "    </tr>\n",
       "  </thead>\n",
       "  <tbody>\n",
       "    <tr>\n",
       "      <th>37</th>\n",
       "      <td>Congo, Dem. Rep.</td>\n",
       "      <td>609.0</td>\n",
       "      <td>20.80</td>\n",
       "    </tr>\n",
       "    <tr>\n",
       "      <th>88</th>\n",
       "      <td>Liberia</td>\n",
       "      <td>700.0</td>\n",
       "      <td>5.47</td>\n",
       "    </tr>\n",
       "    <tr>\n",
       "      <th>26</th>\n",
       "      <td>Burundi</td>\n",
       "      <td>764.0</td>\n",
       "      <td>12.30</td>\n",
       "    </tr>\n",
       "    <tr>\n",
       "      <th>112</th>\n",
       "      <td>Niger</td>\n",
       "      <td>814.0</td>\n",
       "      <td>2.55</td>\n",
       "    </tr>\n",
       "    <tr>\n",
       "      <th>31</th>\n",
       "      <td>Central African Republic</td>\n",
       "      <td>888.0</td>\n",
       "      <td>2.01</td>\n",
       "    </tr>\n",
       "    <tr>\n",
       "      <th>106</th>\n",
       "      <td>Mozambique</td>\n",
       "      <td>918.0</td>\n",
       "      <td>7.64</td>\n",
       "    </tr>\n",
       "    <tr>\n",
       "      <th>94</th>\n",
       "      <td>Malawi</td>\n",
       "      <td>1030.0</td>\n",
       "      <td>12.10</td>\n",
       "    </tr>\n",
       "    <tr>\n",
       "      <th>63</th>\n",
       "      <td>Guinea</td>\n",
       "      <td>1190.0</td>\n",
       "      <td>16.10</td>\n",
       "    </tr>\n",
       "    <tr>\n",
       "      <th>150</th>\n",
       "      <td>Togo</td>\n",
       "      <td>1210.0</td>\n",
       "      <td>1.18</td>\n",
       "    </tr>\n",
       "    <tr>\n",
       "      <th>132</th>\n",
       "      <td>Sierra Leone</td>\n",
       "      <td>1220.0</td>\n",
       "      <td>17.20</td>\n",
       "    </tr>\n",
       "  </tbody>\n",
       "</table>\n",
       "</div>"
      ],
      "text/plain": [
       "                      country  income  inflation\n",
       "37           Congo, Dem. Rep.   609.0      20.80\n",
       "88                    Liberia   700.0       5.47\n",
       "26                    Burundi   764.0      12.30\n",
       "112                     Niger   814.0       2.55\n",
       "31   Central African Republic   888.0       2.01\n",
       "106                Mozambique   918.0       7.64\n",
       "94                     Malawi  1030.0      12.10\n",
       "63                     Guinea  1190.0      16.10\n",
       "150                      Togo  1210.0       1.18\n",
       "132              Sierra Leone  1220.0      17.20"
      ]
     },
     "execution_count": 48,
     "metadata": {},
     "output_type": "execute_result"
    }
   ],
   "source": [
    "# Countries with low income and high inflation rates\n",
    "\n",
    "countries[['country','income','inflation']].sort_values(by=['income','inflation'], ascending=[True,False])[:10]"
   ]
  },
  {
   "cell_type": "raw",
   "metadata": {},
   "source": [
    "Observation:-\n",
    "1) Congo Democratic Republic has very low net income per person, as well as a very high inflation rate."
   ]
  },
  {
   "cell_type": "code",
   "execution_count": 49,
   "metadata": {},
   "outputs": [
    {
     "data": {
      "text/html": [
       "<div>\n",
       "<style scoped>\n",
       "    .dataframe tbody tr th:only-of-type {\n",
       "        vertical-align: middle;\n",
       "    }\n",
       "\n",
       "    .dataframe tbody tr th {\n",
       "        vertical-align: top;\n",
       "    }\n",
       "\n",
       "    .dataframe thead th {\n",
       "        text-align: right;\n",
       "    }\n",
       "</style>\n",
       "<table border=\"1\" class=\"dataframe\">\n",
       "  <thead>\n",
       "    <tr style=\"text-align: right;\">\n",
       "      <th></th>\n",
       "      <th>country</th>\n",
       "      <th>income</th>\n",
       "      <th>life_expec</th>\n",
       "    </tr>\n",
       "  </thead>\n",
       "  <tbody>\n",
       "    <tr>\n",
       "      <th>37</th>\n",
       "      <td>Congo, Dem. Rep.</td>\n",
       "      <td>609.0</td>\n",
       "      <td>57.5</td>\n",
       "    </tr>\n",
       "    <tr>\n",
       "      <th>88</th>\n",
       "      <td>Liberia</td>\n",
       "      <td>700.0</td>\n",
       "      <td>60.8</td>\n",
       "    </tr>\n",
       "    <tr>\n",
       "      <th>26</th>\n",
       "      <td>Burundi</td>\n",
       "      <td>764.0</td>\n",
       "      <td>57.7</td>\n",
       "    </tr>\n",
       "    <tr>\n",
       "      <th>112</th>\n",
       "      <td>Niger</td>\n",
       "      <td>814.0</td>\n",
       "      <td>58.8</td>\n",
       "    </tr>\n",
       "    <tr>\n",
       "      <th>31</th>\n",
       "      <td>Central African Republic</td>\n",
       "      <td>888.0</td>\n",
       "      <td>47.5</td>\n",
       "    </tr>\n",
       "    <tr>\n",
       "      <th>106</th>\n",
       "      <td>Mozambique</td>\n",
       "      <td>918.0</td>\n",
       "      <td>54.5</td>\n",
       "    </tr>\n",
       "    <tr>\n",
       "      <th>94</th>\n",
       "      <td>Malawi</td>\n",
       "      <td>1030.0</td>\n",
       "      <td>53.1</td>\n",
       "    </tr>\n",
       "    <tr>\n",
       "      <th>63</th>\n",
       "      <td>Guinea</td>\n",
       "      <td>1190.0</td>\n",
       "      <td>58.0</td>\n",
       "    </tr>\n",
       "    <tr>\n",
       "      <th>150</th>\n",
       "      <td>Togo</td>\n",
       "      <td>1210.0</td>\n",
       "      <td>58.7</td>\n",
       "    </tr>\n",
       "    <tr>\n",
       "      <th>132</th>\n",
       "      <td>Sierra Leone</td>\n",
       "      <td>1220.0</td>\n",
       "      <td>55.0</td>\n",
       "    </tr>\n",
       "  </tbody>\n",
       "</table>\n",
       "</div>"
      ],
      "text/plain": [
       "                      country  income  life_expec\n",
       "37           Congo, Dem. Rep.   609.0        57.5\n",
       "88                    Liberia   700.0        60.8\n",
       "26                    Burundi   764.0        57.7\n",
       "112                     Niger   814.0        58.8\n",
       "31   Central African Republic   888.0        47.5\n",
       "106                Mozambique   918.0        54.5\n",
       "94                     Malawi  1030.0        53.1\n",
       "63                     Guinea  1190.0        58.0\n",
       "150                      Togo  1210.0        58.7\n",
       "132              Sierra Leone  1220.0        55.0"
      ]
     },
     "execution_count": 49,
     "metadata": {},
     "output_type": "execute_result"
    }
   ],
   "source": [
    "# Countries with low income and low life expectancy\n",
    "\n",
    "countries[['country','income','life_expec']].sort_values(by=['income','life_expec'], ascending=[True,True])[:10]"
   ]
  },
  {
   "cell_type": "raw",
   "metadata": {},
   "source": [
    "Observation:-\n",
    "1) Congo Democratic Republic has low income and low life expectancy.\n",
    "2) Central African Republic has a bit lower life expectancy, but its net income per person is tad higher than Congo Democratic Republic."
   ]
  },
  {
   "cell_type": "code",
   "execution_count": 50,
   "metadata": {},
   "outputs": [
    {
     "data": {
      "text/html": [
       "<div>\n",
       "<style scoped>\n",
       "    .dataframe tbody tr th:only-of-type {\n",
       "        vertical-align: middle;\n",
       "    }\n",
       "\n",
       "    .dataframe tbody tr th {\n",
       "        vertical-align: top;\n",
       "    }\n",
       "\n",
       "    .dataframe thead th {\n",
       "        text-align: right;\n",
       "    }\n",
       "</style>\n",
       "<table border=\"1\" class=\"dataframe\">\n",
       "  <thead>\n",
       "    <tr style=\"text-align: right;\">\n",
       "      <th></th>\n",
       "      <th>country</th>\n",
       "      <th>income</th>\n",
       "      <th>total_fer</th>\n",
       "    </tr>\n",
       "  </thead>\n",
       "  <tbody>\n",
       "    <tr>\n",
       "      <th>37</th>\n",
       "      <td>Congo, Dem. Rep.</td>\n",
       "      <td>609.0</td>\n",
       "      <td>6.54</td>\n",
       "    </tr>\n",
       "    <tr>\n",
       "      <th>88</th>\n",
       "      <td>Liberia</td>\n",
       "      <td>700.0</td>\n",
       "      <td>5.02</td>\n",
       "    </tr>\n",
       "    <tr>\n",
       "      <th>26</th>\n",
       "      <td>Burundi</td>\n",
       "      <td>764.0</td>\n",
       "      <td>6.26</td>\n",
       "    </tr>\n",
       "    <tr>\n",
       "      <th>112</th>\n",
       "      <td>Niger</td>\n",
       "      <td>814.0</td>\n",
       "      <td>7.49</td>\n",
       "    </tr>\n",
       "    <tr>\n",
       "      <th>31</th>\n",
       "      <td>Central African Republic</td>\n",
       "      <td>888.0</td>\n",
       "      <td>5.21</td>\n",
       "    </tr>\n",
       "    <tr>\n",
       "      <th>106</th>\n",
       "      <td>Mozambique</td>\n",
       "      <td>918.0</td>\n",
       "      <td>5.56</td>\n",
       "    </tr>\n",
       "    <tr>\n",
       "      <th>94</th>\n",
       "      <td>Malawi</td>\n",
       "      <td>1030.0</td>\n",
       "      <td>5.31</td>\n",
       "    </tr>\n",
       "    <tr>\n",
       "      <th>63</th>\n",
       "      <td>Guinea</td>\n",
       "      <td>1190.0</td>\n",
       "      <td>5.34</td>\n",
       "    </tr>\n",
       "    <tr>\n",
       "      <th>150</th>\n",
       "      <td>Togo</td>\n",
       "      <td>1210.0</td>\n",
       "      <td>4.87</td>\n",
       "    </tr>\n",
       "    <tr>\n",
       "      <th>132</th>\n",
       "      <td>Sierra Leone</td>\n",
       "      <td>1220.0</td>\n",
       "      <td>5.20</td>\n",
       "    </tr>\n",
       "  </tbody>\n",
       "</table>\n",
       "</div>"
      ],
      "text/plain": [
       "                      country  income  total_fer\n",
       "37           Congo, Dem. Rep.   609.0       6.54\n",
       "88                    Liberia   700.0       5.02\n",
       "26                    Burundi   764.0       6.26\n",
       "112                     Niger   814.0       7.49\n",
       "31   Central African Republic   888.0       5.21\n",
       "106                Mozambique   918.0       5.56\n",
       "94                     Malawi  1030.0       5.31\n",
       "63                     Guinea  1190.0       5.34\n",
       "150                      Togo  1210.0       4.87\n",
       "132              Sierra Leone  1220.0       5.20"
      ]
     },
     "execution_count": 50,
     "metadata": {},
     "output_type": "execute_result"
    }
   ],
   "source": [
    "# Countries with low income and high ferility rates\n",
    "\n",
    "countries[['country','income','total_fer']].sort_values(by=['income','total_fer'], ascending=[True,False])[:10]"
   ]
  },
  {
   "cell_type": "raw",
   "metadata": {},
   "source": [
    "Observation:-\n",
    "1) Although Niger has worser fertility rate (around 7.5), still its net income per person is better than Congo Democratic Republic."
   ]
  },
  {
   "cell_type": "code",
   "execution_count": 51,
   "metadata": {},
   "outputs": [
    {
     "data": {
      "text/html": [
       "<div>\n",
       "<style scoped>\n",
       "    .dataframe tbody tr th:only-of-type {\n",
       "        vertical-align: middle;\n",
       "    }\n",
       "\n",
       "    .dataframe tbody tr th {\n",
       "        vertical-align: top;\n",
       "    }\n",
       "\n",
       "    .dataframe thead th {\n",
       "        text-align: right;\n",
       "    }\n",
       "</style>\n",
       "<table border=\"1\" class=\"dataframe\">\n",
       "  <thead>\n",
       "    <tr style=\"text-align: right;\">\n",
       "      <th></th>\n",
       "      <th>country</th>\n",
       "      <th>income</th>\n",
       "      <th>gdpp</th>\n",
       "    </tr>\n",
       "  </thead>\n",
       "  <tbody>\n",
       "    <tr>\n",
       "      <th>37</th>\n",
       "      <td>Congo, Dem. Rep.</td>\n",
       "      <td>609.0</td>\n",
       "      <td>334.0</td>\n",
       "    </tr>\n",
       "    <tr>\n",
       "      <th>88</th>\n",
       "      <td>Liberia</td>\n",
       "      <td>700.0</td>\n",
       "      <td>327.0</td>\n",
       "    </tr>\n",
       "    <tr>\n",
       "      <th>26</th>\n",
       "      <td>Burundi</td>\n",
       "      <td>764.0</td>\n",
       "      <td>231.0</td>\n",
       "    </tr>\n",
       "    <tr>\n",
       "      <th>112</th>\n",
       "      <td>Niger</td>\n",
       "      <td>814.0</td>\n",
       "      <td>348.0</td>\n",
       "    </tr>\n",
       "    <tr>\n",
       "      <th>31</th>\n",
       "      <td>Central African Republic</td>\n",
       "      <td>888.0</td>\n",
       "      <td>446.0</td>\n",
       "    </tr>\n",
       "    <tr>\n",
       "      <th>106</th>\n",
       "      <td>Mozambique</td>\n",
       "      <td>918.0</td>\n",
       "      <td>419.0</td>\n",
       "    </tr>\n",
       "    <tr>\n",
       "      <th>94</th>\n",
       "      <td>Malawi</td>\n",
       "      <td>1030.0</td>\n",
       "      <td>459.0</td>\n",
       "    </tr>\n",
       "    <tr>\n",
       "      <th>63</th>\n",
       "      <td>Guinea</td>\n",
       "      <td>1190.0</td>\n",
       "      <td>648.0</td>\n",
       "    </tr>\n",
       "    <tr>\n",
       "      <th>150</th>\n",
       "      <td>Togo</td>\n",
       "      <td>1210.0</td>\n",
       "      <td>488.0</td>\n",
       "    </tr>\n",
       "    <tr>\n",
       "      <th>132</th>\n",
       "      <td>Sierra Leone</td>\n",
       "      <td>1220.0</td>\n",
       "      <td>399.0</td>\n",
       "    </tr>\n",
       "  </tbody>\n",
       "</table>\n",
       "</div>"
      ],
      "text/plain": [
       "                      country  income   gdpp\n",
       "37           Congo, Dem. Rep.   609.0  334.0\n",
       "88                    Liberia   700.0  327.0\n",
       "26                    Burundi   764.0  231.0\n",
       "112                     Niger   814.0  348.0\n",
       "31   Central African Republic   888.0  446.0\n",
       "106                Mozambique   918.0  419.0\n",
       "94                     Malawi  1030.0  459.0\n",
       "63                     Guinea  1190.0  648.0\n",
       "150                      Togo  1210.0  488.0\n",
       "132              Sierra Leone  1220.0  399.0"
      ]
     },
     "execution_count": 51,
     "metadata": {},
     "output_type": "execute_result"
    }
   ],
   "source": [
    "# Countries with low income and low gdp\n",
    "\n",
    "countries[['country','income','gdpp']].sort_values(by=['income','gdpp'], ascending=[True,True])[:10]"
   ]
  },
  {
   "cell_type": "raw",
   "metadata": {},
   "source": [
    "Observation:-\n",
    "1) Burundi has lower GDP, but it has got higher net income per person than Congo Democratic Republic."
   ]
  },
  {
   "cell_type": "code",
   "execution_count": 52,
   "metadata": {},
   "outputs": [
    {
     "data": {
      "text/html": [
       "<div>\n",
       "<style scoped>\n",
       "    .dataframe tbody tr th:only-of-type {\n",
       "        vertical-align: middle;\n",
       "    }\n",
       "\n",
       "    .dataframe tbody tr th {\n",
       "        vertical-align: top;\n",
       "    }\n",
       "\n",
       "    .dataframe thead th {\n",
       "        text-align: right;\n",
       "    }\n",
       "</style>\n",
       "<table border=\"1\" class=\"dataframe\">\n",
       "  <thead>\n",
       "    <tr style=\"text-align: right;\">\n",
       "      <th></th>\n",
       "      <th>country</th>\n",
       "      <th>income</th>\n",
       "      <th>Trade Deficit</th>\n",
       "    </tr>\n",
       "  </thead>\n",
       "  <tbody>\n",
       "    <tr>\n",
       "      <th>37</th>\n",
       "      <td>Congo, Dem. Rep.</td>\n",
       "      <td>609.0</td>\n",
       "      <td>28.3900</td>\n",
       "    </tr>\n",
       "    <tr>\n",
       "      <th>88</th>\n",
       "      <td>Liberia</td>\n",
       "      <td>700.0</td>\n",
       "      <td>240.3450</td>\n",
       "    </tr>\n",
       "    <tr>\n",
       "      <th>26</th>\n",
       "      <td>Burundi</td>\n",
       "      <td>764.0</td>\n",
       "      <td>69.9468</td>\n",
       "    </tr>\n",
       "    <tr>\n",
       "      <th>112</th>\n",
       "      <td>Niger</td>\n",
       "      <td>814.0</td>\n",
       "      <td>93.6120</td>\n",
       "    </tr>\n",
       "    <tr>\n",
       "      <th>31</th>\n",
       "      <td>Central African Republic</td>\n",
       "      <td>888.0</td>\n",
       "      <td>65.5620</td>\n",
       "    </tr>\n",
       "    <tr>\n",
       "      <th>106</th>\n",
       "      <td>Mozambique</td>\n",
       "      <td>918.0</td>\n",
       "      <td>61.5930</td>\n",
       "    </tr>\n",
       "    <tr>\n",
       "      <th>94</th>\n",
       "      <td>Malawi</td>\n",
       "      <td>1030.0</td>\n",
       "      <td>55.5390</td>\n",
       "    </tr>\n",
       "    <tr>\n",
       "      <th>63</th>\n",
       "      <td>Guinea</td>\n",
       "      <td>1190.0</td>\n",
       "      <td>83.5920</td>\n",
       "    </tr>\n",
       "    <tr>\n",
       "      <th>150</th>\n",
       "      <td>Togo</td>\n",
       "      <td>1210.0</td>\n",
       "      <td>83.4480</td>\n",
       "    </tr>\n",
       "    <tr>\n",
       "      <th>132</th>\n",
       "      <td>Sierra Leone</td>\n",
       "      <td>1220.0</td>\n",
       "      <td>70.6230</td>\n",
       "    </tr>\n",
       "  </tbody>\n",
       "</table>\n",
       "</div>"
      ],
      "text/plain": [
       "                      country  income  Trade Deficit\n",
       "37           Congo, Dem. Rep.   609.0        28.3900\n",
       "88                    Liberia   700.0       240.3450\n",
       "26                    Burundi   764.0        69.9468\n",
       "112                     Niger   814.0        93.6120\n",
       "31   Central African Republic   888.0        65.5620\n",
       "106                Mozambique   918.0        61.5930\n",
       "94                     Malawi  1030.0        55.5390\n",
       "63                     Guinea  1190.0        83.5920\n",
       "150                      Togo  1210.0        83.4480\n",
       "132              Sierra Leone  1220.0        70.6230"
      ]
     },
     "execution_count": 52,
     "metadata": {},
     "output_type": "execute_result"
    }
   ],
   "source": [
    "# Countries with low income and high trade deficit\n",
    "\n",
    "countries[['country','income','Trade Deficit']].sort_values(by=['income','Trade Deficit'], ascending=[True,False])[:10]"
   ]
  },
  {
   "cell_type": "raw",
   "metadata": {},
   "source": [
    "Observation:-\n",
    "1) Congo Democratic Republic has better trade deficit numbers than those countries, having net income per person is more than that of Congo's."
   ]
  },
  {
   "cell_type": "code",
   "execution_count": 53,
   "metadata": {},
   "outputs": [
    {
     "data": {
      "text/html": [
       "<div>\n",
       "<style scoped>\n",
       "    .dataframe tbody tr th:only-of-type {\n",
       "        vertical-align: middle;\n",
       "    }\n",
       "\n",
       "    .dataframe tbody tr th {\n",
       "        vertical-align: top;\n",
       "    }\n",
       "\n",
       "    .dataframe thead th {\n",
       "        text-align: right;\n",
       "    }\n",
       "</style>\n",
       "<table border=\"1\" class=\"dataframe\">\n",
       "  <thead>\n",
       "    <tr style=\"text-align: right;\">\n",
       "      <th></th>\n",
       "      <th>country</th>\n",
       "      <th>gdpp</th>\n",
       "      <th>health</th>\n",
       "    </tr>\n",
       "  </thead>\n",
       "  <tbody>\n",
       "    <tr>\n",
       "      <th>26</th>\n",
       "      <td>Burundi</td>\n",
       "      <td>231.0</td>\n",
       "      <td>26.7960</td>\n",
       "    </tr>\n",
       "    <tr>\n",
       "      <th>88</th>\n",
       "      <td>Liberia</td>\n",
       "      <td>327.0</td>\n",
       "      <td>38.5860</td>\n",
       "    </tr>\n",
       "    <tr>\n",
       "      <th>37</th>\n",
       "      <td>Congo, Dem. Rep.</td>\n",
       "      <td>334.0</td>\n",
       "      <td>26.4194</td>\n",
       "    </tr>\n",
       "    <tr>\n",
       "      <th>112</th>\n",
       "      <td>Niger</td>\n",
       "      <td>348.0</td>\n",
       "      <td>17.9568</td>\n",
       "    </tr>\n",
       "    <tr>\n",
       "      <th>132</th>\n",
       "      <td>Sierra Leone</td>\n",
       "      <td>399.0</td>\n",
       "      <td>52.2690</td>\n",
       "    </tr>\n",
       "    <tr>\n",
       "      <th>93</th>\n",
       "      <td>Madagascar</td>\n",
       "      <td>413.0</td>\n",
       "      <td>15.5701</td>\n",
       "    </tr>\n",
       "    <tr>\n",
       "      <th>106</th>\n",
       "      <td>Mozambique</td>\n",
       "      <td>419.0</td>\n",
       "      <td>21.8299</td>\n",
       "    </tr>\n",
       "    <tr>\n",
       "      <th>31</th>\n",
       "      <td>Central African Republic</td>\n",
       "      <td>446.0</td>\n",
       "      <td>17.7508</td>\n",
       "    </tr>\n",
       "    <tr>\n",
       "      <th>94</th>\n",
       "      <td>Malawi</td>\n",
       "      <td>459.0</td>\n",
       "      <td>30.2481</td>\n",
       "    </tr>\n",
       "    <tr>\n",
       "      <th>50</th>\n",
       "      <td>Eritrea</td>\n",
       "      <td>482.0</td>\n",
       "      <td>12.8212</td>\n",
       "    </tr>\n",
       "  </tbody>\n",
       "</table>\n",
       "</div>"
      ],
      "text/plain": [
       "                      country   gdpp   health\n",
       "26                    Burundi  231.0  26.7960\n",
       "88                    Liberia  327.0  38.5860\n",
       "37           Congo, Dem. Rep.  334.0  26.4194\n",
       "112                     Niger  348.0  17.9568\n",
       "132              Sierra Leone  399.0  52.2690\n",
       "93                 Madagascar  413.0  15.5701\n",
       "106                Mozambique  419.0  21.8299\n",
       "31   Central African Republic  446.0  17.7508\n",
       "94                     Malawi  459.0  30.2481\n",
       "50                    Eritrea  482.0  12.8212"
      ]
     },
     "execution_count": 53,
     "metadata": {},
     "output_type": "execute_result"
    }
   ],
   "source": [
    "# Countries with low gdp and low health spendings\n",
    "\n",
    "countries[['country','gdpp','health']].sort_values(by=['gdpp','health'], ascending=[True,True])[:10]"
   ]
  },
  {
   "cell_type": "raw",
   "metadata": {},
   "source": [
    "Observation:-\n",
    "1) Burundi has the lowest GDP numbers, but there are countries such as Eritrea and Madagascar, who have higher GDP than Burundi, but spend much less in the health sector."
   ]
  },
  {
   "cell_type": "code",
   "execution_count": 54,
   "metadata": {},
   "outputs": [
    {
     "data": {
      "text/html": [
       "<div>\n",
       "<style scoped>\n",
       "    .dataframe tbody tr th:only-of-type {\n",
       "        vertical-align: middle;\n",
       "    }\n",
       "\n",
       "    .dataframe tbody tr th {\n",
       "        vertical-align: top;\n",
       "    }\n",
       "\n",
       "    .dataframe thead th {\n",
       "        text-align: right;\n",
       "    }\n",
       "</style>\n",
       "<table border=\"1\" class=\"dataframe\">\n",
       "  <thead>\n",
       "    <tr style=\"text-align: right;\">\n",
       "      <th></th>\n",
       "      <th>country</th>\n",
       "      <th>gdpp</th>\n",
       "      <th>inflation</th>\n",
       "    </tr>\n",
       "  </thead>\n",
       "  <tbody>\n",
       "    <tr>\n",
       "      <th>26</th>\n",
       "      <td>Burundi</td>\n",
       "      <td>231.0</td>\n",
       "      <td>12.30</td>\n",
       "    </tr>\n",
       "    <tr>\n",
       "      <th>88</th>\n",
       "      <td>Liberia</td>\n",
       "      <td>327.0</td>\n",
       "      <td>5.47</td>\n",
       "    </tr>\n",
       "    <tr>\n",
       "      <th>37</th>\n",
       "      <td>Congo, Dem. Rep.</td>\n",
       "      <td>334.0</td>\n",
       "      <td>20.80</td>\n",
       "    </tr>\n",
       "    <tr>\n",
       "      <th>112</th>\n",
       "      <td>Niger</td>\n",
       "      <td>348.0</td>\n",
       "      <td>2.55</td>\n",
       "    </tr>\n",
       "    <tr>\n",
       "      <th>132</th>\n",
       "      <td>Sierra Leone</td>\n",
       "      <td>399.0</td>\n",
       "      <td>17.20</td>\n",
       "    </tr>\n",
       "    <tr>\n",
       "      <th>93</th>\n",
       "      <td>Madagascar</td>\n",
       "      <td>413.0</td>\n",
       "      <td>8.79</td>\n",
       "    </tr>\n",
       "    <tr>\n",
       "      <th>106</th>\n",
       "      <td>Mozambique</td>\n",
       "      <td>419.0</td>\n",
       "      <td>7.64</td>\n",
       "    </tr>\n",
       "    <tr>\n",
       "      <th>31</th>\n",
       "      <td>Central African Republic</td>\n",
       "      <td>446.0</td>\n",
       "      <td>2.01</td>\n",
       "    </tr>\n",
       "    <tr>\n",
       "      <th>94</th>\n",
       "      <td>Malawi</td>\n",
       "      <td>459.0</td>\n",
       "      <td>12.10</td>\n",
       "    </tr>\n",
       "    <tr>\n",
       "      <th>50</th>\n",
       "      <td>Eritrea</td>\n",
       "      <td>482.0</td>\n",
       "      <td>11.60</td>\n",
       "    </tr>\n",
       "  </tbody>\n",
       "</table>\n",
       "</div>"
      ],
      "text/plain": [
       "                      country   gdpp  inflation\n",
       "26                    Burundi  231.0      12.30\n",
       "88                    Liberia  327.0       5.47\n",
       "37           Congo, Dem. Rep.  334.0      20.80\n",
       "112                     Niger  348.0       2.55\n",
       "132              Sierra Leone  399.0      17.20\n",
       "93                 Madagascar  413.0       8.79\n",
       "106                Mozambique  419.0       7.64\n",
       "31   Central African Republic  446.0       2.01\n",
       "94                     Malawi  459.0      12.10\n",
       "50                    Eritrea  482.0      11.60"
      ]
     },
     "execution_count": 54,
     "metadata": {},
     "output_type": "execute_result"
    }
   ],
   "source": [
    "# Countries with low gdp and high inflation rate\n",
    "\n",
    "countries[['country','gdpp','inflation']].sort_values(by=['gdpp','inflation'], ascending=[True,False])[:10]"
   ]
  },
  {
   "cell_type": "raw",
   "metadata": {},
   "source": [
    "Observation:-\n",
    "1) Sierrea Leone has a very higher inflation rate than Burundi, but the latter's gdp number is lower."
   ]
  },
  {
   "cell_type": "code",
   "execution_count": 55,
   "metadata": {},
   "outputs": [
    {
     "data": {
      "text/html": [
       "<div>\n",
       "<style scoped>\n",
       "    .dataframe tbody tr th:only-of-type {\n",
       "        vertical-align: middle;\n",
       "    }\n",
       "\n",
       "    .dataframe tbody tr th {\n",
       "        vertical-align: top;\n",
       "    }\n",
       "\n",
       "    .dataframe thead th {\n",
       "        text-align: right;\n",
       "    }\n",
       "</style>\n",
       "<table border=\"1\" class=\"dataframe\">\n",
       "  <thead>\n",
       "    <tr style=\"text-align: right;\">\n",
       "      <th></th>\n",
       "      <th>country</th>\n",
       "      <th>gdpp</th>\n",
       "      <th>life_expec</th>\n",
       "    </tr>\n",
       "  </thead>\n",
       "  <tbody>\n",
       "    <tr>\n",
       "      <th>26</th>\n",
       "      <td>Burundi</td>\n",
       "      <td>231.0</td>\n",
       "      <td>57.7</td>\n",
       "    </tr>\n",
       "    <tr>\n",
       "      <th>88</th>\n",
       "      <td>Liberia</td>\n",
       "      <td>327.0</td>\n",
       "      <td>60.8</td>\n",
       "    </tr>\n",
       "    <tr>\n",
       "      <th>37</th>\n",
       "      <td>Congo, Dem. Rep.</td>\n",
       "      <td>334.0</td>\n",
       "      <td>57.5</td>\n",
       "    </tr>\n",
       "    <tr>\n",
       "      <th>112</th>\n",
       "      <td>Niger</td>\n",
       "      <td>348.0</td>\n",
       "      <td>58.8</td>\n",
       "    </tr>\n",
       "    <tr>\n",
       "      <th>132</th>\n",
       "      <td>Sierra Leone</td>\n",
       "      <td>399.0</td>\n",
       "      <td>55.0</td>\n",
       "    </tr>\n",
       "    <tr>\n",
       "      <th>93</th>\n",
       "      <td>Madagascar</td>\n",
       "      <td>413.0</td>\n",
       "      <td>60.8</td>\n",
       "    </tr>\n",
       "    <tr>\n",
       "      <th>106</th>\n",
       "      <td>Mozambique</td>\n",
       "      <td>419.0</td>\n",
       "      <td>54.5</td>\n",
       "    </tr>\n",
       "    <tr>\n",
       "      <th>31</th>\n",
       "      <td>Central African Republic</td>\n",
       "      <td>446.0</td>\n",
       "      <td>47.5</td>\n",
       "    </tr>\n",
       "    <tr>\n",
       "      <th>94</th>\n",
       "      <td>Malawi</td>\n",
       "      <td>459.0</td>\n",
       "      <td>53.1</td>\n",
       "    </tr>\n",
       "    <tr>\n",
       "      <th>50</th>\n",
       "      <td>Eritrea</td>\n",
       "      <td>482.0</td>\n",
       "      <td>61.7</td>\n",
       "    </tr>\n",
       "  </tbody>\n",
       "</table>\n",
       "</div>"
      ],
      "text/plain": [
       "                      country   gdpp  life_expec\n",
       "26                    Burundi  231.0        57.7\n",
       "88                    Liberia  327.0        60.8\n",
       "37           Congo, Dem. Rep.  334.0        57.5\n",
       "112                     Niger  348.0        58.8\n",
       "132              Sierra Leone  399.0        55.0\n",
       "93                 Madagascar  413.0        60.8\n",
       "106                Mozambique  419.0        54.5\n",
       "31   Central African Republic  446.0        47.5\n",
       "94                     Malawi  459.0        53.1\n",
       "50                    Eritrea  482.0        61.7"
      ]
     },
     "execution_count": 55,
     "metadata": {},
     "output_type": "execute_result"
    }
   ],
   "source": [
    "# Countries with low gdp and low life expectancy\n",
    "\n",
    "countries[['country','gdpp','life_expec']].sort_values(by=['gdpp','life_expec'], ascending=[True,True])[:10]"
   ]
  },
  {
   "cell_type": "raw",
   "metadata": {},
   "source": [
    "Observation:-\n",
    "1) There are countries like Central African Republic, Malawi and Mozambique, with lower life expectancies, but all have higher gdp numbers than Burundi."
   ]
  },
  {
   "cell_type": "code",
   "execution_count": 56,
   "metadata": {},
   "outputs": [
    {
     "data": {
      "text/html": [
       "<div>\n",
       "<style scoped>\n",
       "    .dataframe tbody tr th:only-of-type {\n",
       "        vertical-align: middle;\n",
       "    }\n",
       "\n",
       "    .dataframe tbody tr th {\n",
       "        vertical-align: top;\n",
       "    }\n",
       "\n",
       "    .dataframe thead th {\n",
       "        text-align: right;\n",
       "    }\n",
       "</style>\n",
       "<table border=\"1\" class=\"dataframe\">\n",
       "  <thead>\n",
       "    <tr style=\"text-align: right;\">\n",
       "      <th></th>\n",
       "      <th>country</th>\n",
       "      <th>gdpp</th>\n",
       "      <th>total_fer</th>\n",
       "    </tr>\n",
       "  </thead>\n",
       "  <tbody>\n",
       "    <tr>\n",
       "      <th>26</th>\n",
       "      <td>Burundi</td>\n",
       "      <td>231.0</td>\n",
       "      <td>6.26</td>\n",
       "    </tr>\n",
       "    <tr>\n",
       "      <th>88</th>\n",
       "      <td>Liberia</td>\n",
       "      <td>327.0</td>\n",
       "      <td>5.02</td>\n",
       "    </tr>\n",
       "    <tr>\n",
       "      <th>37</th>\n",
       "      <td>Congo, Dem. Rep.</td>\n",
       "      <td>334.0</td>\n",
       "      <td>6.54</td>\n",
       "    </tr>\n",
       "    <tr>\n",
       "      <th>112</th>\n",
       "      <td>Niger</td>\n",
       "      <td>348.0</td>\n",
       "      <td>7.49</td>\n",
       "    </tr>\n",
       "    <tr>\n",
       "      <th>132</th>\n",
       "      <td>Sierra Leone</td>\n",
       "      <td>399.0</td>\n",
       "      <td>5.20</td>\n",
       "    </tr>\n",
       "    <tr>\n",
       "      <th>93</th>\n",
       "      <td>Madagascar</td>\n",
       "      <td>413.0</td>\n",
       "      <td>4.60</td>\n",
       "    </tr>\n",
       "    <tr>\n",
       "      <th>106</th>\n",
       "      <td>Mozambique</td>\n",
       "      <td>419.0</td>\n",
       "      <td>5.56</td>\n",
       "    </tr>\n",
       "    <tr>\n",
       "      <th>31</th>\n",
       "      <td>Central African Republic</td>\n",
       "      <td>446.0</td>\n",
       "      <td>5.21</td>\n",
       "    </tr>\n",
       "    <tr>\n",
       "      <th>94</th>\n",
       "      <td>Malawi</td>\n",
       "      <td>459.0</td>\n",
       "      <td>5.31</td>\n",
       "    </tr>\n",
       "    <tr>\n",
       "      <th>50</th>\n",
       "      <td>Eritrea</td>\n",
       "      <td>482.0</td>\n",
       "      <td>4.61</td>\n",
       "    </tr>\n",
       "  </tbody>\n",
       "</table>\n",
       "</div>"
      ],
      "text/plain": [
       "                      country   gdpp  total_fer\n",
       "26                    Burundi  231.0       6.26\n",
       "88                    Liberia  327.0       5.02\n",
       "37           Congo, Dem. Rep.  334.0       6.54\n",
       "112                     Niger  348.0       7.49\n",
       "132              Sierra Leone  399.0       5.20\n",
       "93                 Madagascar  413.0       4.60\n",
       "106                Mozambique  419.0       5.56\n",
       "31   Central African Republic  446.0       5.21\n",
       "94                     Malawi  459.0       5.31\n",
       "50                    Eritrea  482.0       4.61"
      ]
     },
     "execution_count": 56,
     "metadata": {},
     "output_type": "execute_result"
    }
   ],
   "source": [
    "# Countries with low gdp and high fertility rate\n",
    "\n",
    "countries[['country','gdpp','total_fer']].sort_values(by=['gdpp','total_fer'], ascending=[True,False])[:10]"
   ]
  },
  {
   "cell_type": "raw",
   "metadata": {},
   "source": [
    "Observation:-\n",
    "1) Although Niger probably has the worst fertility rate, yet its gdp numbers are tad better than that of Burundi."
   ]
  },
  {
   "cell_type": "code",
   "execution_count": 57,
   "metadata": {},
   "outputs": [
    {
     "data": {
      "text/html": [
       "<div>\n",
       "<style scoped>\n",
       "    .dataframe tbody tr th:only-of-type {\n",
       "        vertical-align: middle;\n",
       "    }\n",
       "\n",
       "    .dataframe tbody tr th {\n",
       "        vertical-align: top;\n",
       "    }\n",
       "\n",
       "    .dataframe thead th {\n",
       "        text-align: right;\n",
       "    }\n",
       "</style>\n",
       "<table border=\"1\" class=\"dataframe\">\n",
       "  <thead>\n",
       "    <tr style=\"text-align: right;\">\n",
       "      <th></th>\n",
       "      <th>country</th>\n",
       "      <th>gdpp</th>\n",
       "      <th>Trade Deficit</th>\n",
       "    </tr>\n",
       "  </thead>\n",
       "  <tbody>\n",
       "    <tr>\n",
       "      <th>26</th>\n",
       "      <td>Burundi</td>\n",
       "      <td>231.0</td>\n",
       "      <td>69.9468</td>\n",
       "    </tr>\n",
       "    <tr>\n",
       "      <th>88</th>\n",
       "      <td>Liberia</td>\n",
       "      <td>327.0</td>\n",
       "      <td>240.3450</td>\n",
       "    </tr>\n",
       "    <tr>\n",
       "      <th>37</th>\n",
       "      <td>Congo, Dem. Rep.</td>\n",
       "      <td>334.0</td>\n",
       "      <td>28.3900</td>\n",
       "    </tr>\n",
       "    <tr>\n",
       "      <th>112</th>\n",
       "      <td>Niger</td>\n",
       "      <td>348.0</td>\n",
       "      <td>93.6120</td>\n",
       "    </tr>\n",
       "    <tr>\n",
       "      <th>132</th>\n",
       "      <td>Sierra Leone</td>\n",
       "      <td>399.0</td>\n",
       "      <td>70.6230</td>\n",
       "    </tr>\n",
       "    <tr>\n",
       "      <th>93</th>\n",
       "      <td>Madagascar</td>\n",
       "      <td>413.0</td>\n",
       "      <td>74.3400</td>\n",
       "    </tr>\n",
       "    <tr>\n",
       "      <th>106</th>\n",
       "      <td>Mozambique</td>\n",
       "      <td>419.0</td>\n",
       "      <td>61.5930</td>\n",
       "    </tr>\n",
       "    <tr>\n",
       "      <th>31</th>\n",
       "      <td>Central African Republic</td>\n",
       "      <td>446.0</td>\n",
       "      <td>65.5620</td>\n",
       "    </tr>\n",
       "    <tr>\n",
       "      <th>94</th>\n",
       "      <td>Malawi</td>\n",
       "      <td>459.0</td>\n",
       "      <td>55.5390</td>\n",
       "    </tr>\n",
       "    <tr>\n",
       "      <th>50</th>\n",
       "      <td>Eritrea</td>\n",
       "      <td>482.0</td>\n",
       "      <td>89.2182</td>\n",
       "    </tr>\n",
       "  </tbody>\n",
       "</table>\n",
       "</div>"
      ],
      "text/plain": [
       "                      country   gdpp  Trade Deficit\n",
       "26                    Burundi  231.0        69.9468\n",
       "88                    Liberia  327.0       240.3450\n",
       "37           Congo, Dem. Rep.  334.0        28.3900\n",
       "112                     Niger  348.0        93.6120\n",
       "132              Sierra Leone  399.0        70.6230\n",
       "93                 Madagascar  413.0        74.3400\n",
       "106                Mozambique  419.0        61.5930\n",
       "31   Central African Republic  446.0        65.5620\n",
       "94                     Malawi  459.0        55.5390\n",
       "50                    Eritrea  482.0        89.2182"
      ]
     },
     "execution_count": 57,
     "metadata": {},
     "output_type": "execute_result"
    }
   ],
   "source": [
    "# Countries with low gdp and high trade deficit\n",
    "\n",
    "countries[['country','gdpp','Trade Deficit']].sort_values(by=['gdpp','Trade Deficit'], ascending=[True,False])[:10]"
   ]
  },
  {
   "cell_type": "raw",
   "metadata": {},
   "source": [
    "Observation:-\n",
    "Burundi has much lower trade deficit number than some contries, which is good, but its gdp numbers are way below them."
   ]
  },
  {
   "cell_type": "markdown",
   "metadata": {},
   "source": [
    "### Hopkins Statistics"
   ]
  },
  {
   "cell_type": "raw",
   "metadata": {},
   "source": [
    "The Hopkins statistic, is a statistic which gives a value which indicates the clustering tendency, i.e., how well the data can be clustered.\n",
    "\n",
    "If the value is between 0.01 and 0.03, the data is regularly spaced.\n",
    "\n",
    "If the value is around 0.5, it is random.\n",
    "\n",
    "If the value is between 0.7 and 0.99, it has a high tendency to cluster."
   ]
  },
  {
   "cell_type": "code",
   "execution_count": 58,
   "metadata": {},
   "outputs": [],
   "source": [
    "# Data used for Clustering\n",
    "countries_clustering = countries.drop('country', axis =1)"
   ]
  },
  {
   "cell_type": "code",
   "execution_count": 59,
   "metadata": {},
   "outputs": [],
   "source": [
    "# Code to generate the value for Hokins Statistic\n",
    "\n",
    "from sklearn.neighbors import NearestNeighbors\n",
    "from random import sample\n",
    "from numpy.random import uniform\n",
    "import numpy as np\n",
    "from math import isnan\n",
    " \n",
    "def hopkins(X):\n",
    "    d = X.shape[1]\n",
    "    #d = len(vars) # columns\n",
    "    n = len(X) # rows\n",
    "    m = int(0.1 * n) \n",
    "    nbrs = NearestNeighbors(n_neighbors=1).fit(X.values)\n",
    " \n",
    "    rand_X = sample(range(0, n, 1), m)\n",
    " \n",
    "    ujd = []\n",
    "    wjd = []\n",
    "    for j in range(0, m):\n",
    "        u_dist, _ = nbrs.kneighbors(uniform(np.amin(X,axis=0),np.amax(X,axis=0),d).reshape(1, -1), 2, return_distance=True)\n",
    "        ujd.append(u_dist[0][1])\n",
    "        w_dist, _ = nbrs.kneighbors(X.iloc[rand_X[j]].values.reshape(1, -1), 2, return_distance=True)\n",
    "        wjd.append(w_dist[0][1])\n",
    " \n",
    "    H = sum(ujd) / (sum(ujd) + sum(wjd))\n",
    "    if isnan(H):\n",
    "        print(ujd, wjd)\n",
    "        H = 0\n",
    " \n",
    "    return H"
   ]
  },
  {
   "cell_type": "code",
   "execution_count": 60,
   "metadata": {},
   "outputs": [
    {
     "name": "stdout",
     "output_type": "stream",
     "text": [
      "Mean of Hopkin's Statistic after  10 iterations : 0.9133111868414391\n"
     ]
    }
   ],
   "source": [
    "# Hopkin's test\n",
    "\n",
    "n = 10     # Running for 10 times\n",
    "hopkins_statistic = []\n",
    "for i in range(n) : \n",
    "    hopkins_statistic.append(hopkins(countries_clustering))\n",
    "\n",
    "print('Mean of Hopkin\\'s Statistic after ',n,'iterations :', np.mean(hopkins_statistic))"
   ]
  },
  {
   "cell_type": "raw",
   "metadata": {},
   "source": [
    "Hence, our data has a very good clustering tendency."
   ]
  },
  {
   "cell_type": "markdown",
   "metadata": {},
   "source": [
    "### Scaling the features"
   ]
  },
  {
   "cell_type": "code",
   "execution_count": 61,
   "metadata": {},
   "outputs": [
    {
     "data": {
      "text/html": [
       "<div>\n",
       "<style scoped>\n",
       "    .dataframe tbody tr th:only-of-type {\n",
       "        vertical-align: middle;\n",
       "    }\n",
       "\n",
       "    .dataframe tbody tr th {\n",
       "        vertical-align: top;\n",
       "    }\n",
       "\n",
       "    .dataframe thead th {\n",
       "        text-align: right;\n",
       "    }\n",
       "</style>\n",
       "<table border=\"1\" class=\"dataframe\">\n",
       "  <thead>\n",
       "    <tr style=\"text-align: right;\">\n",
       "      <th></th>\n",
       "      <th>child_mort</th>\n",
       "      <th>health</th>\n",
       "      <th>income</th>\n",
       "      <th>inflation</th>\n",
       "      <th>life_expec</th>\n",
       "      <th>total_fer</th>\n",
       "      <th>gdpp</th>\n",
       "      <th>Trade Deficit</th>\n",
       "    </tr>\n",
       "  </thead>\n",
       "  <tbody>\n",
       "    <tr>\n",
       "      <th>count</th>\n",
       "      <td>1.670000e+02</td>\n",
       "      <td>1.670000e+02</td>\n",
       "      <td>1.670000e+02</td>\n",
       "      <td>1.670000e+02</td>\n",
       "      <td>1.670000e+02</td>\n",
       "      <td>1.670000e+02</td>\n",
       "      <td>1.670000e+02</td>\n",
       "      <td>1.670000e+02</td>\n",
       "    </tr>\n",
       "    <tr>\n",
       "      <th>mean</th>\n",
       "      <td>-7.977650e-18</td>\n",
       "      <td>2.260334e-17</td>\n",
       "      <td>-2.592736e-17</td>\n",
       "      <td>8.310053e-17</td>\n",
       "      <td>3.722904e-17</td>\n",
       "      <td>5.451394e-17</td>\n",
       "      <td>8.044131e-17</td>\n",
       "      <td>6.182679e-17</td>\n",
       "    </tr>\n",
       "    <tr>\n",
       "      <th>std</th>\n",
       "      <td>1.003008e+00</td>\n",
       "      <td>1.003008e+00</td>\n",
       "      <td>1.003008e+00</td>\n",
       "      <td>1.003008e+00</td>\n",
       "      <td>1.003008e+00</td>\n",
       "      <td>1.003008e+00</td>\n",
       "      <td>1.003008e+00</td>\n",
       "      <td>1.003008e+00</td>\n",
       "    </tr>\n",
       "    <tr>\n",
       "      <th>min</th>\n",
       "      <td>-8.822172e-01</td>\n",
       "      <td>-5.832538e-01</td>\n",
       "      <td>-9.075796e-01</td>\n",
       "      <td>-9.643549e-01</td>\n",
       "      <td>-4.339691e+00</td>\n",
       "      <td>-1.130475e+00</td>\n",
       "      <td>-7.207887e-01</td>\n",
       "      <td>-5.675614e+00</td>\n",
       "    </tr>\n",
       "    <tr>\n",
       "      <th>25%</th>\n",
       "      <td>-7.466684e-01</td>\n",
       "      <td>-5.464489e-01</td>\n",
       "      <td>-7.541989e-01</td>\n",
       "      <td>-5.691089e-01</td>\n",
       "      <td>-5.926565e-01</td>\n",
       "      <td>-7.646981e-01</td>\n",
       "      <td>-6.575476e-01</td>\n",
       "      <td>1.139858e-01</td>\n",
       "    </tr>\n",
       "    <tr>\n",
       "      <th>50%</th>\n",
       "      <td>-4.718403e-01</td>\n",
       "      <td>-4.101544e-01</td>\n",
       "      <td>-3.852698e-01</td>\n",
       "      <td>-2.288711e-01</td>\n",
       "      <td>2.876710e-01</td>\n",
       "      <td>-3.570275e-01</td>\n",
       "      <td>-4.659254e-01</td>\n",
       "      <td>2.471435e-01</td>\n",
       "    </tr>\n",
       "    <tr>\n",
       "      <th>75%</th>\n",
       "      <td>5.926524e-01</td>\n",
       "      <td>-4.327510e-02</td>\n",
       "      <td>3.319216e-01</td>\n",
       "      <td>2.805352e-01</td>\n",
       "      <td>7.052622e-01</td>\n",
       "      <td>6.174048e-01</td>\n",
       "      <td>7.441465e-02</td>\n",
       "      <td>3.844863e-01</td>\n",
       "    </tr>\n",
       "    <tr>\n",
       "      <th>max</th>\n",
       "      <td>4.221379e+00</td>\n",
       "      <td>4.119980e+00</td>\n",
       "      <td>3.771201e+00</td>\n",
       "      <td>9.142873e+00</td>\n",
       "      <td>1.333906e+00</td>\n",
       "      <td>3.010398e+00</td>\n",
       "      <td>3.816975e+00</td>\n",
       "      <td>9.978419e-01</td>\n",
       "    </tr>\n",
       "  </tbody>\n",
       "</table>\n",
       "</div>"
      ],
      "text/plain": [
       "         child_mort        health        income     inflation    life_expec  \\\n",
       "count  1.670000e+02  1.670000e+02  1.670000e+02  1.670000e+02  1.670000e+02   \n",
       "mean  -7.977650e-18  2.260334e-17 -2.592736e-17  8.310053e-17  3.722904e-17   \n",
       "std    1.003008e+00  1.003008e+00  1.003008e+00  1.003008e+00  1.003008e+00   \n",
       "min   -8.822172e-01 -5.832538e-01 -9.075796e-01 -9.643549e-01 -4.339691e+00   \n",
       "25%   -7.466684e-01 -5.464489e-01 -7.541989e-01 -5.691089e-01 -5.926565e-01   \n",
       "50%   -4.718403e-01 -4.101544e-01 -3.852698e-01 -2.288711e-01  2.876710e-01   \n",
       "75%    5.926524e-01 -4.327510e-02  3.319216e-01  2.805352e-01  7.052622e-01   \n",
       "max    4.221379e+00  4.119980e+00  3.771201e+00  9.142873e+00  1.333906e+00   \n",
       "\n",
       "          total_fer          gdpp  Trade Deficit  \n",
       "count  1.670000e+02  1.670000e+02   1.670000e+02  \n",
       "mean   5.451394e-17  8.044131e-17   6.182679e-17  \n",
       "std    1.003008e+00  1.003008e+00   1.003008e+00  \n",
       "min   -1.130475e+00 -7.207887e-01  -5.675614e+00  \n",
       "25%   -7.646981e-01 -6.575476e-01   1.139858e-01  \n",
       "50%   -3.570275e-01 -4.659254e-01   2.471435e-01  \n",
       "75%    6.174048e-01  7.441465e-02   3.844863e-01  \n",
       "max    3.010398e+00  3.816975e+00   9.978419e-01  "
      ]
     },
     "execution_count": 61,
     "metadata": {},
     "output_type": "execute_result"
    }
   ],
   "source": [
    "scaler = StandardScaler() \n",
    "\n",
    "countries_scaled = scaler.fit_transform(countries_clustering)\n",
    "countries_scaled = pd.DataFrame(countries_scaled)\n",
    "countries_scaled.columns = countries_clustering.columns\n",
    "countries_scaled.describe()"
   ]
  },
  {
   "cell_type": "markdown",
   "metadata": {},
   "source": [
    "### K-Means Clustering"
   ]
  },
  {
   "cell_type": "markdown",
   "metadata": {},
   "source": [
    "#### Elbow Curve"
   ]
  },
  {
   "cell_type": "code",
   "execution_count": 62,
   "metadata": {},
   "outputs": [
    {
     "data": {
      "image/png": "[encoded data removed]",
      "text/plain": [
       "<Figure size 432x288 with 1 Axes>"
      ]
     },
     "metadata": {
      "needs_background": "light"
     },
     "output_type": "display_data"
    }
   ],
   "source": [
    "# Plotting Elbow curve or the Sum of Squared distances of points of each cluster from the centroid of the nearest cluster\n",
    "\n",
    "ssd = []\n",
    "range_n_clusters = np.arange(2,9)\n",
    "for num_clusters in range_n_clusters : \n",
    "    kmeans = KMeans(n_clusters=num_clusters)\n",
    "    kmeans.fit(countries_scaled)\n",
    "    ssd.append(kmeans.inertia_)\n",
    "plt.plot(range_n_clusters,ssd)\n",
    "plt.title('Elbow Curve');\n",
    "plt.xlabel('No of clusters');\n",
    "plt.ylabel('SSD');"
   ]
  },
  {
   "cell_type": "raw",
   "metadata": {},
   "source": [
    "From the above Elbow curve, it is observed that there is a high gradient descent from k=2 to k=3 and then the curve tapers after that i.e., the change in slope is not as significant as earlier, Hence, statistically k=3 is the optimum no of clusters."
   ]
  },
  {
   "cell_type": "markdown",
   "metadata": {},
   "source": [
    "#### Sihoutte Analysis"
   ]
  },
  {
   "cell_type": "code",
   "execution_count": 63,
   "metadata": {},
   "outputs": [
    {
     "data": {
      "image/png": "[encoded data removed]",
      "text/plain": [
       "<Figure size 432x288 with 1 Axes>"
      ]
     },
     "metadata": {
      "needs_background": "light"
     },
     "output_type": "display_data"
    }
   ],
   "source": [
    "no_of_clusters = np.arange(2,10)\n",
    "score = [] \n",
    "\n",
    "for n_cluster in no_of_clusters : \n",
    "    kmeans = KMeans(n_clusters=n_cluster, init='k-means++')\n",
    "    kmeans = kmeans.fit(countries_scaled)\n",
    "    labels = kmeans.labels_\n",
    "    score.append(silhouette_score(countries_scaled,labels))\n",
    "    \n",
    "\n",
    "plt.title('Silhouette Analysis Plot')\n",
    "plt.xlabel('No of Clusters')\n",
    "plt.ylabel('Silhouette Score') \n",
    "plt.plot(no_of_clusters, score)\n",
    "plt.show()"
   ]
  },
  {
   "cell_type": "raw",
   "metadata": {},
   "source": [
    "Since there is a clear dip at 5, let's take no.of clusters as 5. \n"
   ]
  },
  {
   "cell_type": "markdown",
   "metadata": {},
   "source": [
    "#### K=5"
   ]
  },
  {
   "cell_type": "code",
   "execution_count": 64,
   "metadata": {},
   "outputs": [
    {
     "data": {
      "text/plain": [
       "KMeans(algorithm='auto', copy_x=True, init='k-means++', max_iter=300,\n",
       "       n_clusters=5, n_init=10, n_jobs=None, precompute_distances='auto',\n",
       "       random_state=100, tol=0.0001, verbose=0)"
      ]
     },
     "execution_count": 64,
     "metadata": {},
     "output_type": "execute_result"
    }
   ],
   "source": [
    "kmeans = KMeans(n_clusters = 5, random_state = 100)  \n",
    "kmeans.fit(countries_scaled)"
   ]
  },
  {
   "cell_type": "code",
   "execution_count": 65,
   "metadata": {},
   "outputs": [
    {
     "data": {
      "text/plain": [
       "array([2, 0, 0, 2, 0, 0, 0, 3, 3, 0, 3, 3, 0, 0, 0, 3, 0, 2, 0, 0, 0, 2,\n",
       "       0, 1, 0, 2, 2, 0, 2, 3, 0, 2, 2, 0, 0, 0, 2, 2, 2, 0, 2, 0, 3, 3,\n",
       "       3, 0, 0, 0, 0, 2, 2, 0, 0, 3, 3, 2, 2, 0, 3, 2, 3, 0, 0, 2, 2, 0,\n",
       "       2, 0, 3, 0, 0, 0, 0, 1, 3, 3, 0, 3, 0, 0, 2, 2, 1, 0, 2, 0, 0, 2,\n",
       "       2, 0, 0, 1, 0, 2, 2, 0, 0, 2, 3, 2, 0, 0, 0, 0, 0, 0, 2, 0, 2, 0,\n",
       "       3, 3, 2, 4, 1, 0, 2, 0, 0, 0, 0, 0, 3, 1, 0, 0, 2, 0, 0, 2, 0, 0,\n",
       "       2, 1, 0, 3, 2, 2, 3, 3, 0, 0, 2, 0, 3, 1, 0, 2, 0, 2, 2, 0, 0, 0,\n",
       "       0, 2, 0, 3, 3, 3, 0, 0, 0, 0, 0, 2, 2])"
      ]
     },
     "execution_count": 65,
     "metadata": {},
     "output_type": "execute_result"
    }
   ],
   "source": [
    "# determing the labels\n",
    "\n",
    "kmeans.labels_"
   ]
  },
  {
   "cell_type": "code",
   "execution_count": 66,
   "metadata": {},
   "outputs": [],
   "source": [
    "# Copying the original dataframe to be exclusively used for k-means clustering purpose\n",
    "\n",
    "countries_kmean = countries.copy()"
   ]
  },
  {
   "cell_type": "code",
   "execution_count": 67,
   "metadata": {},
   "outputs": [
    {
     "data": {
      "text/html": [
       "<div>\n",
       "<style scoped>\n",
       "    .dataframe tbody tr th:only-of-type {\n",
       "        vertical-align: middle;\n",
       "    }\n",
       "\n",
       "    .dataframe tbody tr th {\n",
       "        vertical-align: top;\n",
       "    }\n",
       "\n",
       "    .dataframe thead th {\n",
       "        text-align: right;\n",
       "    }\n",
       "</style>\n",
       "<table border=\"1\" class=\"dataframe\">\n",
       "  <thead>\n",
       "    <tr style=\"text-align: right;\">\n",
       "      <th></th>\n",
       "      <th>country</th>\n",
       "      <th>child_mort</th>\n",
       "      <th>health</th>\n",
       "      <th>income</th>\n",
       "      <th>inflation</th>\n",
       "      <th>life_expec</th>\n",
       "      <th>total_fer</th>\n",
       "      <th>gdpp</th>\n",
       "      <th>Trade Deficit</th>\n",
       "      <th>cluster_id</th>\n",
       "    </tr>\n",
       "  </thead>\n",
       "  <tbody>\n",
       "    <tr>\n",
       "      <th>0</th>\n",
       "      <td>Afghanistan</td>\n",
       "      <td>90.2</td>\n",
       "      <td>41.9174</td>\n",
       "      <td>1610.0</td>\n",
       "      <td>9.44</td>\n",
       "      <td>56.2</td>\n",
       "      <td>5.82</td>\n",
       "      <td>553.0</td>\n",
       "      <td>192.997</td>\n",
       "      <td>2</td>\n",
       "    </tr>\n",
       "    <tr>\n",
       "      <th>1</th>\n",
       "      <td>Albania</td>\n",
       "      <td>16.6</td>\n",
       "      <td>267.8950</td>\n",
       "      <td>9930.0</td>\n",
       "      <td>4.49</td>\n",
       "      <td>76.3</td>\n",
       "      <td>1.65</td>\n",
       "      <td>4090.0</td>\n",
       "      <td>842.540</td>\n",
       "      <td>0</td>\n",
       "    </tr>\n",
       "    <tr>\n",
       "      <th>2</th>\n",
       "      <td>Algeria</td>\n",
       "      <td>27.3</td>\n",
       "      <td>185.9820</td>\n",
       "      <td>12900.0</td>\n",
       "      <td>16.10</td>\n",
       "      <td>76.5</td>\n",
       "      <td>2.89</td>\n",
       "      <td>4460.0</td>\n",
       "      <td>-312.200</td>\n",
       "      <td>0</td>\n",
       "    </tr>\n",
       "    <tr>\n",
       "      <th>3</th>\n",
       "      <td>Angola</td>\n",
       "      <td>119.0</td>\n",
       "      <td>100.6050</td>\n",
       "      <td>5900.0</td>\n",
       "      <td>22.40</td>\n",
       "      <td>60.1</td>\n",
       "      <td>6.16</td>\n",
       "      <td>3530.0</td>\n",
       "      <td>-684.820</td>\n",
       "      <td>2</td>\n",
       "    </tr>\n",
       "    <tr>\n",
       "      <th>4</th>\n",
       "      <td>Antigua and Barbuda</td>\n",
       "      <td>10.3</td>\n",
       "      <td>735.6600</td>\n",
       "      <td>19100.0</td>\n",
       "      <td>1.44</td>\n",
       "      <td>76.8</td>\n",
       "      <td>2.13</td>\n",
       "      <td>12200.0</td>\n",
       "      <td>1634.800</td>\n",
       "      <td>0</td>\n",
       "    </tr>\n",
       "  </tbody>\n",
       "</table>\n",
       "</div>"
      ],
      "text/plain": [
       "               country  child_mort    health   income  inflation  life_expec  \\\n",
       "0          Afghanistan        90.2   41.9174   1610.0       9.44        56.2   \n",
       "1              Albania        16.6  267.8950   9930.0       4.49        76.3   \n",
       "2              Algeria        27.3  185.9820  12900.0      16.10        76.5   \n",
       "3               Angola       119.0  100.6050   5900.0      22.40        60.1   \n",
       "4  Antigua and Barbuda        10.3  735.6600  19100.0       1.44        76.8   \n",
       "\n",
       "   total_fer     gdpp  Trade Deficit  cluster_id  \n",
       "0       5.82    553.0        192.997           2  \n",
       "1       1.65   4090.0        842.540           0  \n",
       "2       2.89   4460.0       -312.200           0  \n",
       "3       6.16   3530.0       -684.820           2  \n",
       "4       2.13  12200.0       1634.800           0  "
      ]
     },
     "execution_count": 67,
     "metadata": {},
     "output_type": "execute_result"
    }
   ],
   "source": [
    "# Assigning labels as cluster ids to the k-means clustering dataframe\n",
    "countries_kmean['cluster_id'] = kmeans.labels_ \n",
    "countries_kmean.head()"
   ]
  },
  {
   "cell_type": "code",
   "execution_count": 68,
   "metadata": {},
   "outputs": [
    {
     "data": {
      "text/plain": [
       "0    84\n",
       "2    46\n",
       "3    28\n",
       "1     8\n",
       "4     1\n",
       "Name: cluster_id, dtype: int64"
      ]
     },
     "execution_count": 68,
     "metadata": {},
     "output_type": "execute_result"
    }
   ],
   "source": [
    "# Checking the number of countries for each cluster\n",
    "\n",
    "countries_kmean['cluster_id'].value_counts()"
   ]
  },
  {
   "cell_type": "raw",
   "metadata": {},
   "source": [
    "So there are 84 countries in cluster 0, 8 countries in cluster 1, 46 countries in cluster 2, 28 countries in cluster 3 and 1 country in cluster 4."
   ]
  },
  {
   "cell_type": "markdown",
   "metadata": {},
   "source": [
    "#### For k = 6"
   ]
  },
  {
   "cell_type": "code",
   "execution_count": 69,
   "metadata": {},
   "outputs": [
    {
     "data": {
      "text/plain": [
       "KMeans(algorithm='auto', copy_x=True, init='k-means++', max_iter=300,\n",
       "       n_clusters=6, n_init=10, n_jobs=None, precompute_distances='auto',\n",
       "       random_state=100, tol=0.0001, verbose=0)"
      ]
     },
     "execution_count": 69,
     "metadata": {},
     "output_type": "execute_result"
    }
   ],
   "source": [
    "kmeans_6 = KMeans(n_clusters = 6, random_state = 100)  \n",
    "kmeans_6.fit(countries_scaled)"
   ]
  },
  {
   "cell_type": "code",
   "execution_count": 70,
   "metadata": {},
   "outputs": [
    {
     "data": {
      "text/plain": [
       "array([2, 0, 0, 2, 0, 0, 0, 3, 3, 0, 0, 0, 5, 0, 0, 3, 0, 2, 0, 5, 0, 5,\n",
       "       0, 1, 0, 2, 2, 5, 2, 3, 0, 2, 2, 0, 0, 0, 5, 2, 5, 0, 2, 0, 3, 0,\n",
       "       3, 0, 0, 5, 0, 2, 5, 0, 5, 3, 3, 5, 2, 0, 3, 5, 3, 0, 5, 2, 2, 5,\n",
       "       2, 0, 3, 5, 5, 0, 5, 1, 3, 3, 0, 3, 0, 0, 5, 5, 1, 5, 5, 0, 0, 2,\n",
       "       2, 0, 0, 1, 0, 5, 2, 0, 0, 2, 0, 5, 0, 5, 0, 5, 0, 0, 2, 5, 5, 5,\n",
       "       3, 3, 2, 4, 1, 0, 5, 0, 0, 0, 5, 0, 3, 1, 0, 0, 5, 5, 0, 5, 0, 0,\n",
       "       2, 1, 0, 3, 5, 5, 0, 3, 0, 0, 5, 0, 3, 1, 5, 2, 0, 5, 2, 5, 0, 0,\n",
       "       5, 2, 0, 3, 3, 3, 0, 5, 5, 0, 0, 5, 2])"
      ]
     },
     "execution_count": 70,
     "metadata": {},
     "output_type": "execute_result"
    }
   ],
   "source": [
    "# determing the labels\n",
    "\n",
    "kmeans_6.labels_"
   ]
  },
  {
   "cell_type": "code",
   "execution_count": 71,
   "metadata": {},
   "outputs": [],
   "source": [
    "# Copying the original dataframe to be exclusively used for k-means clustering purpose\n",
    "\n",
    "countries_kmean_6 = countries.copy()"
   ]
  },
  {
   "cell_type": "code",
   "execution_count": 72,
   "metadata": {},
   "outputs": [
    {
     "data": {
      "text/html": [
       "<div>\n",
       "<style scoped>\n",
       "    .dataframe tbody tr th:only-of-type {\n",
       "        vertical-align: middle;\n",
       "    }\n",
       "\n",
       "    .dataframe tbody tr th {\n",
       "        vertical-align: top;\n",
       "    }\n",
       "\n",
       "    .dataframe thead th {\n",
       "        text-align: right;\n",
       "    }\n",
       "</style>\n",
       "<table border=\"1\" class=\"dataframe\">\n",
       "  <thead>\n",
       "    <tr style=\"text-align: right;\">\n",
       "      <th></th>\n",
       "      <th>country</th>\n",
       "      <th>child_mort</th>\n",
       "      <th>health</th>\n",
       "      <th>income</th>\n",
       "      <th>inflation</th>\n",
       "      <th>life_expec</th>\n",
       "      <th>total_fer</th>\n",
       "      <th>gdpp</th>\n",
       "      <th>Trade Deficit</th>\n",
       "      <th>cluster_id</th>\n",
       "    </tr>\n",
       "  </thead>\n",
       "  <tbody>\n",
       "    <tr>\n",
       "      <th>0</th>\n",
       "      <td>Afghanistan</td>\n",
       "      <td>90.2</td>\n",
       "      <td>41.9174</td>\n",
       "      <td>1610.0</td>\n",
       "      <td>9.44</td>\n",
       "      <td>56.2</td>\n",
       "      <td>5.82</td>\n",
       "      <td>553.0</td>\n",
       "      <td>192.997</td>\n",
       "      <td>2</td>\n",
       "    </tr>\n",
       "    <tr>\n",
       "      <th>1</th>\n",
       "      <td>Albania</td>\n",
       "      <td>16.6</td>\n",
       "      <td>267.8950</td>\n",
       "      <td>9930.0</td>\n",
       "      <td>4.49</td>\n",
       "      <td>76.3</td>\n",
       "      <td>1.65</td>\n",
       "      <td>4090.0</td>\n",
       "      <td>842.540</td>\n",
       "      <td>0</td>\n",
       "    </tr>\n",
       "    <tr>\n",
       "      <th>2</th>\n",
       "      <td>Algeria</td>\n",
       "      <td>27.3</td>\n",
       "      <td>185.9820</td>\n",
       "      <td>12900.0</td>\n",
       "      <td>16.10</td>\n",
       "      <td>76.5</td>\n",
       "      <td>2.89</td>\n",
       "      <td>4460.0</td>\n",
       "      <td>-312.200</td>\n",
       "      <td>0</td>\n",
       "    </tr>\n",
       "    <tr>\n",
       "      <th>3</th>\n",
       "      <td>Angola</td>\n",
       "      <td>119.0</td>\n",
       "      <td>100.6050</td>\n",
       "      <td>5900.0</td>\n",
       "      <td>22.40</td>\n",
       "      <td>60.1</td>\n",
       "      <td>6.16</td>\n",
       "      <td>3530.0</td>\n",
       "      <td>-684.820</td>\n",
       "      <td>2</td>\n",
       "    </tr>\n",
       "    <tr>\n",
       "      <th>4</th>\n",
       "      <td>Antigua and Barbuda</td>\n",
       "      <td>10.3</td>\n",
       "      <td>735.6600</td>\n",
       "      <td>19100.0</td>\n",
       "      <td>1.44</td>\n",
       "      <td>76.8</td>\n",
       "      <td>2.13</td>\n",
       "      <td>12200.0</td>\n",
       "      <td>1634.800</td>\n",
       "      <td>0</td>\n",
       "    </tr>\n",
       "  </tbody>\n",
       "</table>\n",
       "</div>"
      ],
      "text/plain": [
       "               country  child_mort    health   income  inflation  life_expec  \\\n",
       "0          Afghanistan        90.2   41.9174   1610.0       9.44        56.2   \n",
       "1              Albania        16.6  267.8950   9930.0       4.49        76.3   \n",
       "2              Algeria        27.3  185.9820  12900.0      16.10        76.5   \n",
       "3               Angola       119.0  100.6050   5900.0      22.40        60.1   \n",
       "4  Antigua and Barbuda        10.3  735.6600  19100.0       1.44        76.8   \n",
       "\n",
       "   total_fer     gdpp  Trade Deficit  cluster_id  \n",
       "0       5.82    553.0        192.997           2  \n",
       "1       1.65   4090.0        842.540           0  \n",
       "2       2.89   4460.0       -312.200           0  \n",
       "3       6.16   3530.0       -684.820           2  \n",
       "4       2.13  12200.0       1634.800           0  "
      ]
     },
     "execution_count": 72,
     "metadata": {},
     "output_type": "execute_result"
    }
   ],
   "source": [
    "# Assigning labels as cluster ids to the k-means clustering dataframe\n",
    "countries_kmean_6['cluster_id'] = kmeans_6.labels_ \n",
    "countries_kmean_6.head()"
   ]
  },
  {
   "cell_type": "code",
   "execution_count": 73,
   "metadata": {},
   "outputs": [
    {
     "data": {
      "text/plain": [
       "0    67\n",
       "5    42\n",
       "2    26\n",
       "3    23\n",
       "1     8\n",
       "4     1\n",
       "Name: cluster_id, dtype: int64"
      ]
     },
     "execution_count": 73,
     "metadata": {},
     "output_type": "execute_result"
    }
   ],
   "source": [
    "# Checking the number of countries for each cluster\n",
    "\n",
    "countries_kmean_6['cluster_id'].value_counts()"
   ]
  },
  {
   "cell_type": "raw",
   "metadata": {},
   "source": [
    "If 6 clusters are chosen, then:-\n",
    "Cluster 0 has 67 countries\n",
    "Cluster 1 has 8 countries\n",
    "Cluster 2 has 26 countries\n",
    "Cluster 3 has 23 countries\n",
    "Cluster 4 has 1 country\n",
    "Cluster 5 has 42 countries"
   ]
  },
  {
   "cell_type": "code",
   "execution_count": 74,
   "metadata": {},
   "outputs": [
    {
     "data": {
      "image/png": "[encoded data removed]",
      "text/plain": [
       "<Figure size 720x360 with 1 Axes>"
      ]
     },
     "metadata": {
      "needs_background": "light"
     },
     "output_type": "display_data"
    }
   ],
   "source": [
    "# Plot for income vs GDP for the 5 clusters\n",
    "\n",
    "plt.figure(figsize = (10,5))\n",
    "plt.title('GDP Vs Income Plot')\n",
    "sns.scatterplot(x = 'gdpp', y = 'income', hue = 'cluster_id', data = countries_kmean, palette = 'Set2')\n",
    "plt.show()"
   ]
  },
  {
   "cell_type": "raw",
   "metadata": {},
   "source": [
    "Cluster 1 has the highest GDP and income - these countries have good economy and do not need any financial aids.\n",
    "Cluster 2 has the lowest GDP and income - these countries have not so good economy and may need financial aids."
   ]
  },
  {
   "cell_type": "code",
   "execution_count": 75,
   "metadata": {},
   "outputs": [
    {
     "data": {
      "image/png": "[encoded data removed]",
      "text/plain": [
       "<Figure size 720x360 with 1 Axes>"
      ]
     },
     "metadata": {
      "needs_background": "light"
     },
     "output_type": "display_data"
    }
   ],
   "source": [
    "# Plot for GDP vs Child Mortality for the 5 clusters\n",
    "\n",
    "plt.figure(figsize = (10,5))\n",
    "plt.title('GDP Vs Child Mortality Plot')\n",
    "sns.scatterplot(x = 'gdpp', y = 'child_mort', hue = 'cluster_id', data = countries_kmean, palette = 'Set2')\n",
    "plt.show()"
   ]
  },
  {
   "cell_type": "raw",
   "metadata": {},
   "source": [
    "Cluster 2 has those countries with lower GDP and higher child mortality rates, which means that these countries may need financial aids.\n",
    "Cluster 1 has those countries with high GDP numbers and very low child mortality rates, which means these countries have good economic conditions and do not need any financial aids."
   ]
  },
  {
   "cell_type": "code",
   "execution_count": 76,
   "metadata": {},
   "outputs": [
    {
     "data": {
      "image/png": "[encoded data removed]",
      "text/plain": [
       "<Figure size 720x360 with 1 Axes>"
      ]
     },
     "metadata": {
      "needs_background": "light"
     },
     "output_type": "display_data"
    }
   ],
   "source": [
    "# Plot for Income vs Child Mortality for the 5 clusters\n",
    "\n",
    "plt.figure(figsize = (10,5))\n",
    "plt.title('Income Vs Child Mortality Plot')\n",
    "sns.scatterplot(x = 'income', y = 'child_mort', hue = 'cluster_id', data = countries_kmean, palette = 'Set2')\n",
    "plt.show()"
   ]
  },
  {
   "cell_type": "raw",
   "metadata": {},
   "source": [
    "Cluster 2 has those countries with lower income and higher child mortality rates, which means that these countries may need financial aids.\n",
    "Cluster 1 has those countries with high income and very low child mortality rates, which means these countries have good economic conditions and do not need any financial aids."
   ]
  },
  {
   "cell_type": "markdown",
   "metadata": {},
   "source": [
    "### Cluster Profiling for K-Means Clustering"
   ]
  },
  {
   "cell_type": "code",
   "execution_count": 77,
   "metadata": {},
   "outputs": [
    {
     "data": {
      "text/html": [
       "<div>\n",
       "<style scoped>\n",
       "    .dataframe tbody tr th:only-of-type {\n",
       "        vertical-align: middle;\n",
       "    }\n",
       "\n",
       "    .dataframe tbody tr th {\n",
       "        vertical-align: top;\n",
       "    }\n",
       "\n",
       "    .dataframe thead th {\n",
       "        text-align: right;\n",
       "    }\n",
       "</style>\n",
       "<table border=\"1\" class=\"dataframe\">\n",
       "  <thead>\n",
       "    <tr style=\"text-align: right;\">\n",
       "      <th></th>\n",
       "      <th>child_mort</th>\n",
       "      <th>health</th>\n",
       "      <th>income</th>\n",
       "      <th>inflation</th>\n",
       "      <th>life_expec</th>\n",
       "      <th>total_fer</th>\n",
       "      <th>gdpp</th>\n",
       "      <th>Trade Deficit</th>\n",
       "      <th>cluster_id</th>\n",
       "      <th>country</th>\n",
       "    </tr>\n",
       "  </thead>\n",
       "  <tbody>\n",
       "    <tr>\n",
       "      <th>0</th>\n",
       "      <td>1.291537</td>\n",
       "      <td>-0.566958</td>\n",
       "      <td>-0.851668</td>\n",
       "      <td>0.156035</td>\n",
       "      <td>-1.619705</td>\n",
       "      <td>1.903390</td>\n",
       "      <td>-0.702259</td>\n",
       "      <td>0.280341</td>\n",
       "      <td>2</td>\n",
       "      <td>Afghanistan</td>\n",
       "    </tr>\n",
       "    <tr>\n",
       "      <th>1</th>\n",
       "      <td>-0.538993</td>\n",
       "      <td>-0.440393</td>\n",
       "      <td>-0.386946</td>\n",
       "      <td>-0.314406</td>\n",
       "      <td>0.648831</td>\n",
       "      <td>-0.860816</td>\n",
       "      <td>-0.498726</td>\n",
       "      <td>0.488119</td>\n",
       "      <td>0</td>\n",
       "      <td>Albania</td>\n",
       "    </tr>\n",
       "    <tr>\n",
       "      <th>2</th>\n",
       "      <td>-0.272870</td>\n",
       "      <td>-0.486271</td>\n",
       "      <td>-0.221053</td>\n",
       "      <td>0.788991</td>\n",
       "      <td>0.671403</td>\n",
       "      <td>-0.038846</td>\n",
       "      <td>-0.477434</td>\n",
       "      <td>0.118736</td>\n",
       "      <td>0</td>\n",
       "      <td>Algeria</td>\n",
       "    </tr>\n",
       "    <tr>\n",
       "      <th>3</th>\n",
       "      <td>2.007831</td>\n",
       "      <td>-0.534088</td>\n",
       "      <td>-0.612045</td>\n",
       "      <td>1.387733</td>\n",
       "      <td>-1.179541</td>\n",
       "      <td>2.128769</td>\n",
       "      <td>-0.530950</td>\n",
       "      <td>-0.000459</td>\n",
       "      <td>2</td>\n",
       "      <td>Angola</td>\n",
       "    </tr>\n",
       "    <tr>\n",
       "      <th>4</th>\n",
       "      <td>-0.695682</td>\n",
       "      <td>-0.178410</td>\n",
       "      <td>0.125254</td>\n",
       "      <td>-0.604273</td>\n",
       "      <td>0.705262</td>\n",
       "      <td>-0.542634</td>\n",
       "      <td>-0.032042</td>\n",
       "      <td>0.741551</td>\n",
       "      <td>0</td>\n",
       "      <td>Antigua and Barbuda</td>\n",
       "    </tr>\n",
       "  </tbody>\n",
       "</table>\n",
       "</div>"
      ],
      "text/plain": [
       "   child_mort    health    income  inflation  life_expec  total_fer      gdpp  \\\n",
       "0    1.291537 -0.566958 -0.851668   0.156035   -1.619705   1.903390 -0.702259   \n",
       "1   -0.538993 -0.440393 -0.386946  -0.314406    0.648831  -0.860816 -0.498726   \n",
       "2   -0.272870 -0.486271 -0.221053   0.788991    0.671403  -0.038846 -0.477434   \n",
       "3    2.007831 -0.534088 -0.612045   1.387733   -1.179541   2.128769 -0.530950   \n",
       "4   -0.695682 -0.178410  0.125254  -0.604273    0.705262  -0.542634 -0.032042   \n",
       "\n",
       "   Trade Deficit  cluster_id              country  \n",
       "0       0.280341           2          Afghanistan  \n",
       "1       0.488119           0              Albania  \n",
       "2       0.118736           0              Algeria  \n",
       "3      -0.000459           2               Angola  \n",
       "4       0.741551           0  Antigua and Barbuda  "
      ]
     },
     "execution_count": 77,
     "metadata": {},
     "output_type": "execute_result"
    }
   ],
   "source": [
    "# Copying the scaled dataframe to be used futher for cluster profiling purpose now\n",
    "\n",
    "countries_kmeans_profl = countries_scaled.copy()\n",
    "\n",
    "countries_kmeans_profl['cluster_id'] = kmeans.labels_\n",
    "countries_kmeans_profl['country'] = countries['country']\n",
    "countries_kmeans_profl.head()"
   ]
  },
  {
   "cell_type": "code",
   "execution_count": 78,
   "metadata": {},
   "outputs": [
    {
     "data": {
      "image/png": "[encoded data removed]",
      "text/plain": [
       "<Figure size 432x288 with 1 Axes>"
      ]
     },
     "metadata": {
      "needs_background": "light"
     },
     "output_type": "display_data"
    }
   ],
   "source": [
    "countries_kmeans_profl.drop(['country','health','inflation','life_expec','total_fer','Trade Deficit'],axis = 1).groupby('cluster_id').mean().plot(kind = 'bar')\n",
    "plt.show()"
   ]
  },
  {
   "cell_type": "raw",
   "metadata": {},
   "source": [
    "Observations:-\n",
    "1) Cluster 1 has the devloped nations, with very high net income per person as well as GDP, but very low child mortality rate. Hence these countries do not require any financial aids.\n",
    "2) Cluster 3 has those countries with moderately high GDP and net income per person, but low child mortality.\n",
    "3) Cluster 0 has low GDP, net income per person as well as child mortality.\n",
    "4) Cluster 2 has high child mortality, but low GDP and net income per person. These countries may require the financial aids.\n",
    "5) Cluster 4 has very high child mortality, along with lower GDP and net income per person. Hence, financial aids are must for these countries."
   ]
  },
  {
   "cell_type": "code",
   "execution_count": 79,
   "metadata": {},
   "outputs": [
    {
     "name": "stdout",
     "output_type": "stream",
     "text": [
      "['Albania', 'Algeria', 'Antigua and Barbuda', 'Argentina', 'Armenia', 'Azerbaijan', 'Bangladesh', 'Barbados', 'Belarus', 'Belize', 'Bhutan', 'Bolivia', 'Bosnia and Herzegovina', 'Brazil', 'Bulgaria', 'Cambodia', 'Cape Verde', 'Chile', 'China', 'Colombia', 'Costa Rica', 'Croatia', 'Dominican Republic', 'Ecuador', 'Egypt', 'El Salvador', 'Estonia', 'Fiji', 'Georgia', 'Grenada', 'Guatemala', 'Guyana', 'Hungary', 'India', 'Indonesia', 'Iran', 'Iraq', 'Jamaica', 'Jordan', 'Kazakhstan', 'Kyrgyz Republic', 'Latvia', 'Lebanon', 'Libya', 'Lithuania', 'Macedonia, FYR', 'Malaysia', 'Maldives', 'Mauritius', 'Micronesia, Fed. Sts.', 'Moldova', 'Mongolia', 'Montenegro', 'Morocco', 'Myanmar', 'Nepal', 'Oman', 'Panama', 'Paraguay', 'Peru', 'Philippines', 'Poland', 'Romania', 'Russia', 'Samoa', 'Saudi Arabia', 'Serbia', 'Seychelles', 'Slovak Republic', 'Sri Lanka', 'St. Vincent and the Grenadines', 'Suriname', 'Tajikistan', 'Thailand', 'Tonga', 'Tunisia', 'Turkey', 'Turkmenistan', 'Ukraine', 'Uruguay', 'Uzbekistan', 'Vanuatu', 'Venezuela', 'Vietnam']\n"
     ]
    }
   ],
   "source": [
    "# Let us view the countries for each clusters\n",
    "\n",
    "#Cluster 0\n",
    "\n",
    "cluster_kmean_0 = countries_kmean[countries_kmean['cluster_id']== 0]\n",
    "print(cluster_kmean_0['country'].tolist())"
   ]
  },
  {
   "cell_type": "raw",
   "metadata": {},
   "source": [
    "These countries have low GDP, net income per person as well as child mortality, and may not require immediate financial aids."
   ]
  },
  {
   "cell_type": "code",
   "execution_count": 80,
   "metadata": {},
   "outputs": [
    {
     "name": "stdout",
     "output_type": "stream",
     "text": [
      "['Brunei', 'Ireland', 'Kuwait', 'Luxembourg', 'Norway', 'Qatar', 'Singapore', 'Switzerland']\n"
     ]
    }
   ],
   "source": [
    "#Cluster 1\n",
    "\n",
    "cluster_kmean_1 = countries_kmean[countries_kmean['cluster_id']== 1]\n",
    "print(cluster_kmean_1['country'].tolist())"
   ]
  },
  {
   "cell_type": "raw",
   "metadata": {},
   "source": [
    "These countries have very high net income per person as well as GDP, but very low child mortality rate. Hence they do not require any financial aids."
   ]
  },
  {
   "cell_type": "code",
   "execution_count": 81,
   "metadata": {},
   "outputs": [
    {
     "name": "stdout",
     "output_type": "stream",
     "text": [
      "['Afghanistan', 'Angola', 'Benin', 'Botswana', 'Burkina Faso', 'Burundi', 'Cameroon', 'Central African Republic', 'Chad', 'Comoros', 'Congo, Dem. Rep.', 'Congo, Rep.', \"Cote d'Ivoire\", 'Equatorial Guinea', 'Eritrea', 'Gabon', 'Gambia', 'Ghana', 'Guinea', 'Guinea-Bissau', 'Haiti', 'Kenya', 'Kiribati', 'Lao', 'Lesotho', 'Liberia', 'Madagascar', 'Malawi', 'Mali', 'Mauritania', 'Mozambique', 'Namibia', 'Niger', 'Pakistan', 'Rwanda', 'Senegal', 'Sierra Leone', 'Solomon Islands', 'South Africa', 'Sudan', 'Tanzania', 'Timor-Leste', 'Togo', 'Uganda', 'Yemen', 'Zambia']\n"
     ]
    }
   ],
   "source": [
    "#Cluster 2\n",
    "\n",
    "cluster_kmean_2 = countries_kmean[countries_kmean['cluster_id']== 2]\n",
    "print(cluster_kmean_2['country'].tolist())"
   ]
  },
  {
   "cell_type": "raw",
   "metadata": {},
   "source": [
    "These countries have high child mortality, but low GDP and net income per person, and may require the financial aids."
   ]
  },
  {
   "cell_type": "code",
   "execution_count": 82,
   "metadata": {},
   "outputs": [
    {
     "data": {
      "text/html": [
       "<div>\n",
       "<style scoped>\n",
       "    .dataframe tbody tr th:only-of-type {\n",
       "        vertical-align: middle;\n",
       "    }\n",
       "\n",
       "    .dataframe tbody tr th {\n",
       "        vertical-align: top;\n",
       "    }\n",
       "\n",
       "    .dataframe thead th {\n",
       "        text-align: right;\n",
       "    }\n",
       "</style>\n",
       "<table border=\"1\" class=\"dataframe\">\n",
       "  <thead>\n",
       "    <tr style=\"text-align: right;\">\n",
       "      <th></th>\n",
       "      <th>country</th>\n",
       "      <th>child_mort</th>\n",
       "      <th>health</th>\n",
       "      <th>income</th>\n",
       "      <th>inflation</th>\n",
       "      <th>life_expec</th>\n",
       "      <th>total_fer</th>\n",
       "      <th>gdpp</th>\n",
       "      <th>Trade Deficit</th>\n",
       "      <th>cluster_id</th>\n",
       "    </tr>\n",
       "  </thead>\n",
       "  <tbody>\n",
       "    <tr>\n",
       "      <th>26</th>\n",
       "      <td>Burundi</td>\n",
       "      <td>93.6</td>\n",
       "      <td>26.7960</td>\n",
       "      <td>764.0</td>\n",
       "      <td>12.30</td>\n",
       "      <td>57.7</td>\n",
       "      <td>6.26</td>\n",
       "      <td>231.0</td>\n",
       "      <td>69.9468</td>\n",
       "      <td>2</td>\n",
       "    </tr>\n",
       "    <tr>\n",
       "      <th>88</th>\n",
       "      <td>Liberia</td>\n",
       "      <td>89.3</td>\n",
       "      <td>38.5860</td>\n",
       "      <td>700.0</td>\n",
       "      <td>5.47</td>\n",
       "      <td>60.8</td>\n",
       "      <td>5.02</td>\n",
       "      <td>327.0</td>\n",
       "      <td>240.3450</td>\n",
       "      <td>2</td>\n",
       "    </tr>\n",
       "    <tr>\n",
       "      <th>37</th>\n",
       "      <td>Congo, Dem. Rep.</td>\n",
       "      <td>116.0</td>\n",
       "      <td>26.4194</td>\n",
       "      <td>609.0</td>\n",
       "      <td>20.80</td>\n",
       "      <td>57.5</td>\n",
       "      <td>6.54</td>\n",
       "      <td>334.0</td>\n",
       "      <td>28.3900</td>\n",
       "      <td>2</td>\n",
       "    </tr>\n",
       "    <tr>\n",
       "      <th>112</th>\n",
       "      <td>Niger</td>\n",
       "      <td>123.0</td>\n",
       "      <td>17.9568</td>\n",
       "      <td>814.0</td>\n",
       "      <td>2.55</td>\n",
       "      <td>58.8</td>\n",
       "      <td>7.49</td>\n",
       "      <td>348.0</td>\n",
       "      <td>93.6120</td>\n",
       "      <td>2</td>\n",
       "    </tr>\n",
       "    <tr>\n",
       "      <th>132</th>\n",
       "      <td>Sierra Leone</td>\n",
       "      <td>160.0</td>\n",
       "      <td>52.2690</td>\n",
       "      <td>1220.0</td>\n",
       "      <td>17.20</td>\n",
       "      <td>55.0</td>\n",
       "      <td>5.20</td>\n",
       "      <td>399.0</td>\n",
       "      <td>70.6230</td>\n",
       "      <td>2</td>\n",
       "    </tr>\n",
       "  </tbody>\n",
       "</table>\n",
       "</div>"
      ],
      "text/plain": [
       "              country  child_mort   health  income  inflation  life_expec  \\\n",
       "26            Burundi        93.6  26.7960   764.0      12.30        57.7   \n",
       "88            Liberia        89.3  38.5860   700.0       5.47        60.8   \n",
       "37   Congo, Dem. Rep.       116.0  26.4194   609.0      20.80        57.5   \n",
       "112             Niger       123.0  17.9568   814.0       2.55        58.8   \n",
       "132      Sierra Leone       160.0  52.2690  1220.0      17.20        55.0   \n",
       "\n",
       "     total_fer   gdpp  Trade Deficit  cluster_id  \n",
       "26        6.26  231.0        69.9468           2  \n",
       "88        5.02  327.0       240.3450           2  \n",
       "37        6.54  334.0        28.3900           2  \n",
       "112       7.49  348.0        93.6120           2  \n",
       "132       5.20  399.0        70.6230           2  "
      ]
     },
     "execution_count": 82,
     "metadata": {},
     "output_type": "execute_result"
    }
   ],
   "source": [
    "cluster_kmean_2.sort_values(by = ['gdpp','child_mort','income'], ascending = [True,False,True]).head()"
   ]
  },
  {
   "cell_type": "code",
   "execution_count": 83,
   "metadata": {},
   "outputs": [
    {
     "name": "stdout",
     "output_type": "stream",
     "text": [
      "['Australia', 'Austria', 'Bahamas', 'Bahrain', 'Belgium', 'Canada', 'Cyprus', 'Czech Republic', 'Denmark', 'Finland', 'France', 'Germany', 'Greece', 'Iceland', 'Israel', 'Italy', 'Japan', 'Malta', 'Netherlands', 'New Zealand', 'Portugal', 'Slovenia', 'South Korea', 'Spain', 'Sweden', 'United Arab Emirates', 'United Kingdom', 'United States']\n"
     ]
    }
   ],
   "source": [
    "#Cluster 3\n",
    "\n",
    "cluster_kmean_3 = countries_kmean[countries_kmean['cluster_id']== 3]\n",
    "print(cluster_kmean_3['country'].tolist())"
   ]
  },
  {
   "cell_type": "raw",
   "metadata": {},
   "source": [
    "These countries have moderately high GDP and net income per person, but low child mortality. Hence they too, do not require any financial aids."
   ]
  },
  {
   "cell_type": "code",
   "execution_count": 84,
   "metadata": {},
   "outputs": [
    {
     "name": "stdout",
     "output_type": "stream",
     "text": [
      "['Nigeria']\n"
     ]
    }
   ],
   "source": [
    "#Cluster 4\n",
    "\n",
    "cluster_kmean_4 = countries_kmean[countries_kmean['cluster_id']== 4]\n",
    "print(cluster_kmean_4['country'].tolist())"
   ]
  },
  {
   "cell_type": "raw",
   "metadata": {},
   "source": [
    "Nigeria has a very high child mortality rate, along with lower GDP and net income per person, Hence, the nation requires immediate financial aids."
   ]
  },
  {
   "cell_type": "markdown",
   "metadata": {},
   "source": [
    "The countries that need immediate financial aids, as per K-means clustering, based on the parameters in order of importance - GDP, child mortality rate and net income per person:-\n",
    "\n",
    "- Nigeria\n",
    "- Burundi\n",
    "- Liberia\n",
    "- Congo Democratic Republic\n",
    "- Niger\n",
    "- Sierra Leone"
   ]
  },
  {
   "cell_type": "markdown",
   "metadata": {},
   "source": [
    "### Hierarchical Clustering"
   ]
  },
  {
   "cell_type": "code",
   "execution_count": 85,
   "metadata": {},
   "outputs": [
    {
     "data": {
      "text/html": [
       "<div>\n",
       "<style scoped>\n",
       "    .dataframe tbody tr th:only-of-type {\n",
       "        vertical-align: middle;\n",
       "    }\n",
       "\n",
       "    .dataframe tbody tr th {\n",
       "        vertical-align: top;\n",
       "    }\n",
       "\n",
       "    .dataframe thead th {\n",
       "        text-align: right;\n",
       "    }\n",
       "</style>\n",
       "<table border=\"1\" class=\"dataframe\">\n",
       "  <thead>\n",
       "    <tr style=\"text-align: right;\">\n",
       "      <th></th>\n",
       "      <th>child_mort</th>\n",
       "      <th>health</th>\n",
       "      <th>income</th>\n",
       "      <th>inflation</th>\n",
       "      <th>life_expec</th>\n",
       "      <th>total_fer</th>\n",
       "      <th>gdpp</th>\n",
       "      <th>Trade Deficit</th>\n",
       "    </tr>\n",
       "  </thead>\n",
       "  <tbody>\n",
       "    <tr>\n",
       "      <th>count</th>\n",
       "      <td>1.670000e+02</td>\n",
       "      <td>1.670000e+02</td>\n",
       "      <td>1.670000e+02</td>\n",
       "      <td>1.670000e+02</td>\n",
       "      <td>1.670000e+02</td>\n",
       "      <td>1.670000e+02</td>\n",
       "      <td>1.670000e+02</td>\n",
       "      <td>1.670000e+02</td>\n",
       "    </tr>\n",
       "    <tr>\n",
       "      <th>mean</th>\n",
       "      <td>-7.977650e-18</td>\n",
       "      <td>2.260334e-17</td>\n",
       "      <td>-2.592736e-17</td>\n",
       "      <td>8.310053e-17</td>\n",
       "      <td>3.722904e-17</td>\n",
       "      <td>5.451394e-17</td>\n",
       "      <td>8.044131e-17</td>\n",
       "      <td>6.182679e-17</td>\n",
       "    </tr>\n",
       "    <tr>\n",
       "      <th>std</th>\n",
       "      <td>1.003008e+00</td>\n",
       "      <td>1.003008e+00</td>\n",
       "      <td>1.003008e+00</td>\n",
       "      <td>1.003008e+00</td>\n",
       "      <td>1.003008e+00</td>\n",
       "      <td>1.003008e+00</td>\n",
       "      <td>1.003008e+00</td>\n",
       "      <td>1.003008e+00</td>\n",
       "    </tr>\n",
       "    <tr>\n",
       "      <th>min</th>\n",
       "      <td>-8.822172e-01</td>\n",
       "      <td>-5.832538e-01</td>\n",
       "      <td>-9.075796e-01</td>\n",
       "      <td>-9.643549e-01</td>\n",
       "      <td>-4.339691e+00</td>\n",
       "      <td>-1.130475e+00</td>\n",
       "      <td>-7.207887e-01</td>\n",
       "      <td>-5.675614e+00</td>\n",
       "    </tr>\n",
       "    <tr>\n",
       "      <th>25%</th>\n",
       "      <td>-7.466684e-01</td>\n",
       "      <td>-5.464489e-01</td>\n",
       "      <td>-7.541989e-01</td>\n",
       "      <td>-5.691089e-01</td>\n",
       "      <td>-5.926565e-01</td>\n",
       "      <td>-7.646981e-01</td>\n",
       "      <td>-6.575476e-01</td>\n",
       "      <td>1.139858e-01</td>\n",
       "    </tr>\n",
       "    <tr>\n",
       "      <th>50%</th>\n",
       "      <td>-4.718403e-01</td>\n",
       "      <td>-4.101544e-01</td>\n",
       "      <td>-3.852698e-01</td>\n",
       "      <td>-2.288711e-01</td>\n",
       "      <td>2.876710e-01</td>\n",
       "      <td>-3.570275e-01</td>\n",
       "      <td>-4.659254e-01</td>\n",
       "      <td>2.471435e-01</td>\n",
       "    </tr>\n",
       "    <tr>\n",
       "      <th>75%</th>\n",
       "      <td>5.926524e-01</td>\n",
       "      <td>-4.327510e-02</td>\n",
       "      <td>3.319216e-01</td>\n",
       "      <td>2.805352e-01</td>\n",
       "      <td>7.052622e-01</td>\n",
       "      <td>6.174048e-01</td>\n",
       "      <td>7.441465e-02</td>\n",
       "      <td>3.844863e-01</td>\n",
       "    </tr>\n",
       "    <tr>\n",
       "      <th>max</th>\n",
       "      <td>4.221379e+00</td>\n",
       "      <td>4.119980e+00</td>\n",
       "      <td>3.771201e+00</td>\n",
       "      <td>9.142873e+00</td>\n",
       "      <td>1.333906e+00</td>\n",
       "      <td>3.010398e+00</td>\n",
       "      <td>3.816975e+00</td>\n",
       "      <td>9.978419e-01</td>\n",
       "    </tr>\n",
       "  </tbody>\n",
       "</table>\n",
       "</div>"
      ],
      "text/plain": [
       "         child_mort        health        income     inflation    life_expec  \\\n",
       "count  1.670000e+02  1.670000e+02  1.670000e+02  1.670000e+02  1.670000e+02   \n",
       "mean  -7.977650e-18  2.260334e-17 -2.592736e-17  8.310053e-17  3.722904e-17   \n",
       "std    1.003008e+00  1.003008e+00  1.003008e+00  1.003008e+00  1.003008e+00   \n",
       "min   -8.822172e-01 -5.832538e-01 -9.075796e-01 -9.643549e-01 -4.339691e+00   \n",
       "25%   -7.466684e-01 -5.464489e-01 -7.541989e-01 -5.691089e-01 -5.926565e-01   \n",
       "50%   -4.718403e-01 -4.101544e-01 -3.852698e-01 -2.288711e-01  2.876710e-01   \n",
       "75%    5.926524e-01 -4.327510e-02  3.319216e-01  2.805352e-01  7.052622e-01   \n",
       "max    4.221379e+00  4.119980e+00  3.771201e+00  9.142873e+00  1.333906e+00   \n",
       "\n",
       "          total_fer          gdpp  Trade Deficit  \n",
       "count  1.670000e+02  1.670000e+02   1.670000e+02  \n",
       "mean   5.451394e-17  8.044131e-17   6.182679e-17  \n",
       "std    1.003008e+00  1.003008e+00   1.003008e+00  \n",
       "min   -1.130475e+00 -7.207887e-01  -5.675614e+00  \n",
       "25%   -7.646981e-01 -6.575476e-01   1.139858e-01  \n",
       "50%   -3.570275e-01 -4.659254e-01   2.471435e-01  \n",
       "75%    6.174048e-01  7.441465e-02   3.844863e-01  \n",
       "max    3.010398e+00  3.816975e+00   9.978419e-01  "
      ]
     },
     "execution_count": 85,
     "metadata": {},
     "output_type": "execute_result"
    }
   ],
   "source": [
    "# The scaled dataframe will be used, hence rechecking the same\n",
    "\n",
    "countries_scaled.describe()"
   ]
  },
  {
   "cell_type": "code",
   "execution_count": 86,
   "metadata": {},
   "outputs": [
    {
     "data": {
      "image/png": "[encoded data removed]",
      "text/plain": [
       "<Figure size 1800x360 with 1 Axes>"
      ]
     },
     "metadata": {
      "needs_background": "light"
     },
     "output_type": "display_data"
    }
   ],
   "source": [
    "# Checking the dendrogram for single linkage\n",
    "\n",
    "plt.figure(figsize = (25,5))\n",
    "single_mergings = linkage(countries_scaled, method = 'single', metric = 'euclidean')\n",
    "dendrogram(single_mergings)\n",
    "plt.show()"
   ]
  },
  {
   "cell_type": "raw",
   "metadata": {},
   "source": [
    "At 8 if we cut the tree, we get 4 clusters."
   ]
  },
  {
   "cell_type": "code",
   "execution_count": 87,
   "metadata": {},
   "outputs": [
    {
     "data": {
      "image/png": "[encoded data removed]",
      "text/plain": [
       "<Figure size 1800x360 with 1 Axes>"
      ]
     },
     "metadata": {
      "needs_background": "light"
     },
     "output_type": "display_data"
    }
   ],
   "source": [
    "# Checking the dendrogram for complete linkage\n",
    "\n",
    "plt.figure(figsize = (25,5))\n",
    "complete_mergings = linkage(countries_scaled, method = 'complete', metric = 'euclidean')\n",
    "dendrogram(complete_mergings)\n",
    "plt.show()"
   ]
  },
  {
   "cell_type": "raw",
   "metadata": {},
   "source": [
    "At 6 if we cut the tree, we get 6 clusters."
   ]
  },
  {
   "cell_type": "code",
   "execution_count": 88,
   "metadata": {},
   "outputs": [
    {
     "data": {
      "text/plain": [
       "array([0, 1, 1, 0, 1, 1, 1, 2, 2, 1, 1, 1, 1, 1, 1, 2, 1, 0, 1, 1, 1, 0,\n",
       "       1, 3, 1, 0, 0, 1, 0, 2, 1, 4, 0, 1, 1, 1, 0, 0, 0, 1, 0, 1, 1, 1,\n",
       "       2, 1, 1, 1, 1, 0, 0, 1, 1, 2, 2, 0, 0, 1, 2, 0, 1, 1, 1, 0, 0, 1,\n",
       "       4, 1, 2, 1, 1, 1, 0, 2, 1, 1, 1, 2, 1, 1, 0, 0, 3, 1, 0, 1, 1, 4,\n",
       "       0, 1, 1, 3, 1, 0, 0, 1, 1, 0, 1, 0, 1, 1, 1, 1, 1, 1, 0, 1, 0, 1,\n",
       "       2, 1, 0, 5, 3, 1, 0, 1, 1, 1, 1, 1, 1, 3, 1, 1, 0, 1, 1, 0, 1, 1,\n",
       "       0, 3, 1, 1, 0, 0, 1, 1, 1, 1, 0, 1, 2, 3, 1, 0, 1, 0, 0, 1, 1, 1,\n",
       "       1, 0, 1, 1, 1, 2, 1, 1, 1, 1, 1, 0, 0])"
      ]
     },
     "execution_count": 88,
     "metadata": {},
     "output_type": "execute_result"
    }
   ],
   "source": [
    "# Going ahead with hiererachical clustering with 6 clusters\n",
    "\n",
    "h_cluster_labels = cut_tree(complete_mergings, n_clusters=6).reshape(-1, )\n",
    "h_cluster_labels"
   ]
  },
  {
   "cell_type": "code",
   "execution_count": 89,
   "metadata": {},
   "outputs": [],
   "source": [
    "# Copying the original dataframe to be exclusively used for hierarchical clustering purpose\n",
    "\n",
    "countries_hcluster = countries.copy()"
   ]
  },
  {
   "cell_type": "code",
   "execution_count": 90,
   "metadata": {},
   "outputs": [
    {
     "data": {
      "text/html": [
       "<div>\n",
       "<style scoped>\n",
       "    .dataframe tbody tr th:only-of-type {\n",
       "        vertical-align: middle;\n",
       "    }\n",
       "\n",
       "    .dataframe tbody tr th {\n",
       "        vertical-align: top;\n",
       "    }\n",
       "\n",
       "    .dataframe thead th {\n",
       "        text-align: right;\n",
       "    }\n",
       "</style>\n",
       "<table border=\"1\" class=\"dataframe\">\n",
       "  <thead>\n",
       "    <tr style=\"text-align: right;\">\n",
       "      <th></th>\n",
       "      <th>country</th>\n",
       "      <th>child_mort</th>\n",
       "      <th>health</th>\n",
       "      <th>income</th>\n",
       "      <th>inflation</th>\n",
       "      <th>life_expec</th>\n",
       "      <th>total_fer</th>\n",
       "      <th>gdpp</th>\n",
       "      <th>Trade Deficit</th>\n",
       "      <th>h_cluster_id</th>\n",
       "    </tr>\n",
       "  </thead>\n",
       "  <tbody>\n",
       "    <tr>\n",
       "      <th>0</th>\n",
       "      <td>Afghanistan</td>\n",
       "      <td>90.2</td>\n",
       "      <td>41.9174</td>\n",
       "      <td>1610.0</td>\n",
       "      <td>9.44</td>\n",
       "      <td>56.2</td>\n",
       "      <td>5.82</td>\n",
       "      <td>553.0</td>\n",
       "      <td>192.997</td>\n",
       "      <td>0</td>\n",
       "    </tr>\n",
       "    <tr>\n",
       "      <th>1</th>\n",
       "      <td>Albania</td>\n",
       "      <td>16.6</td>\n",
       "      <td>267.8950</td>\n",
       "      <td>9930.0</td>\n",
       "      <td>4.49</td>\n",
       "      <td>76.3</td>\n",
       "      <td>1.65</td>\n",
       "      <td>4090.0</td>\n",
       "      <td>842.540</td>\n",
       "      <td>1</td>\n",
       "    </tr>\n",
       "    <tr>\n",
       "      <th>2</th>\n",
       "      <td>Algeria</td>\n",
       "      <td>27.3</td>\n",
       "      <td>185.9820</td>\n",
       "      <td>12900.0</td>\n",
       "      <td>16.10</td>\n",
       "      <td>76.5</td>\n",
       "      <td>2.89</td>\n",
       "      <td>4460.0</td>\n",
       "      <td>-312.200</td>\n",
       "      <td>1</td>\n",
       "    </tr>\n",
       "    <tr>\n",
       "      <th>3</th>\n",
       "      <td>Angola</td>\n",
       "      <td>119.0</td>\n",
       "      <td>100.6050</td>\n",
       "      <td>5900.0</td>\n",
       "      <td>22.40</td>\n",
       "      <td>60.1</td>\n",
       "      <td>6.16</td>\n",
       "      <td>3530.0</td>\n",
       "      <td>-684.820</td>\n",
       "      <td>0</td>\n",
       "    </tr>\n",
       "    <tr>\n",
       "      <th>4</th>\n",
       "      <td>Antigua and Barbuda</td>\n",
       "      <td>10.3</td>\n",
       "      <td>735.6600</td>\n",
       "      <td>19100.0</td>\n",
       "      <td>1.44</td>\n",
       "      <td>76.8</td>\n",
       "      <td>2.13</td>\n",
       "      <td>12200.0</td>\n",
       "      <td>1634.800</td>\n",
       "      <td>1</td>\n",
       "    </tr>\n",
       "  </tbody>\n",
       "</table>\n",
       "</div>"
      ],
      "text/plain": [
       "               country  child_mort    health   income  inflation  life_expec  \\\n",
       "0          Afghanistan        90.2   41.9174   1610.0       9.44        56.2   \n",
       "1              Albania        16.6  267.8950   9930.0       4.49        76.3   \n",
       "2              Algeria        27.3  185.9820  12900.0      16.10        76.5   \n",
       "3               Angola       119.0  100.6050   5900.0      22.40        60.1   \n",
       "4  Antigua and Barbuda        10.3  735.6600  19100.0       1.44        76.8   \n",
       "\n",
       "   total_fer     gdpp  Trade Deficit  h_cluster_id  \n",
       "0       5.82    553.0        192.997             0  \n",
       "1       1.65   4090.0        842.540             1  \n",
       "2       2.89   4460.0       -312.200             1  \n",
       "3       6.16   3530.0       -684.820             0  \n",
       "4       2.13  12200.0       1634.800             1  "
      ]
     },
     "execution_count": 90,
     "metadata": {},
     "output_type": "execute_result"
    }
   ],
   "source": [
    "## Generating labels through hierarchical clustering using complete linkage and agglomerative approach \n",
    "countries_hcluster['h_cluster_id'] = h_cluster_labels\n",
    "countries_hcluster.head()"
   ]
  },
  {
   "cell_type": "code",
   "execution_count": 91,
   "metadata": {},
   "outputs": [
    {
     "data": {
      "text/plain": [
       "1    98\n",
       "0    44\n",
       "2    14\n",
       "3     7\n",
       "4     3\n",
       "5     1\n",
       "Name: h_cluster_id, dtype: int64"
      ]
     },
     "execution_count": 91,
     "metadata": {},
     "output_type": "execute_result"
    }
   ],
   "source": [
    "# Checking the number of countries for each cluster\n",
    "\n",
    "countries_hcluster['h_cluster_id'].value_counts()"
   ]
  },
  {
   "cell_type": "raw",
   "metadata": {},
   "source": [
    "There are 44 countries in cluster 0, 98 countries in cluster 1, 14 countries in cluster 2, 7 countries in cluster 3, 3 countries in cluster 4 and 1 country in cluster 5."
   ]
  },
  {
   "cell_type": "code",
   "execution_count": 92,
   "metadata": {},
   "outputs": [
    {
     "data": {
      "image/png": "[encoded data removed]",
      "text/plain": [
       "<Figure size 720x360 with 1 Axes>"
      ]
     },
     "metadata": {
      "needs_background": "light"
     },
     "output_type": "display_data"
    }
   ],
   "source": [
    "# Plot for income vs GDP for the 6 clusters\n",
    "\n",
    "plt.figure(figsize = (10,5))\n",
    "plt.title('GDP Vs Income Plot')\n",
    "sns.scatterplot(x = 'gdpp', y = 'income', hue = 'h_cluster_id', data = countries_hcluster, palette = 'Set2')\n",
    "plt.show()"
   ]
  },
  {
   "cell_type": "raw",
   "metadata": {},
   "source": [
    "Cluster 3 has the countries with high GDP and high net income per person. Hence, such countries may not need financial aids.\n",
    "Cluster 0 has the countries with low GDP and low net income per person. Hence, such countries may need financial aids."
   ]
  },
  {
   "cell_type": "code",
   "execution_count": 93,
   "metadata": {},
   "outputs": [
    {
     "data": {
      "image/png": "[encoded data removed]",
      "text/plain": [
       "<Figure size 720x360 with 1 Axes>"
      ]
     },
     "metadata": {
      "needs_background": "light"
     },
     "output_type": "display_data"
    }
   ],
   "source": [
    "# Plot for GDP vs Child Mortality for the 6 clusters\n",
    "\n",
    "plt.figure(figsize = (10,5))\n",
    "plt.title('GDP Vs Child Mortality Plot')\n",
    "sns.scatterplot(x = 'gdpp', y = 'child_mort', hue = 'h_cluster_id', data = countries_hcluster, palette = 'Set2')\n",
    "plt.show()"
   ]
  },
  {
   "cell_type": "raw",
   "metadata": {},
   "source": [
    "Cluster 4 has countries with low GDP and high child mortality rates. Hence, such countries may need financial aids.\n",
    "Cluster 3 has countries with high GDP and low child mortality rates. Hence, such countries may not need financial aids."
   ]
  },
  {
   "cell_type": "code",
   "execution_count": 94,
   "metadata": {},
   "outputs": [
    {
     "data": {
      "image/png": "[encoded data removed]",
      "text/plain": [
       "<Figure size 720x360 with 1 Axes>"
      ]
     },
     "metadata": {
      "needs_background": "light"
     },
     "output_type": "display_data"
    }
   ],
   "source": [
    "# Plot for Income vs Child Mortality for the 6 clusters\n",
    "\n",
    "plt.figure(figsize = (10,5))\n",
    "plt.title('Income Vs Child Mortality Plot')\n",
    "sns.scatterplot(x = 'income', y = 'child_mort', hue = 'h_cluster_id', data = countries_hcluster, palette = 'Set2')\n",
    "plt.show()"
   ]
  },
  {
   "cell_type": "raw",
   "metadata": {},
   "source": [
    "Cluster 4 has countries with low net income per person and high child mortality rates. Hence, such countries may need financial aids.\n",
    "Cluster 3 has countries with high net income per person and low child mortality rates. Hence, such countries may not need financial aids."
   ]
  },
  {
   "cell_type": "markdown",
   "metadata": {},
   "source": [
    "### Cluster Profiling for Hierarchical Clustering"
   ]
  },
  {
   "cell_type": "code",
   "execution_count": 95,
   "metadata": {},
   "outputs": [
    {
     "data": {
      "text/html": [
       "<div>\n",
       "<style scoped>\n",
       "    .dataframe tbody tr th:only-of-type {\n",
       "        vertical-align: middle;\n",
       "    }\n",
       "\n",
       "    .dataframe tbody tr th {\n",
       "        vertical-align: top;\n",
       "    }\n",
       "\n",
       "    .dataframe thead th {\n",
       "        text-align: right;\n",
       "    }\n",
       "</style>\n",
       "<table border=\"1\" class=\"dataframe\">\n",
       "  <thead>\n",
       "    <tr style=\"text-align: right;\">\n",
       "      <th></th>\n",
       "      <th>child_mort</th>\n",
       "      <th>health</th>\n",
       "      <th>income</th>\n",
       "      <th>inflation</th>\n",
       "      <th>life_expec</th>\n",
       "      <th>total_fer</th>\n",
       "      <th>gdpp</th>\n",
       "      <th>Trade Deficit</th>\n",
       "      <th>h_cluster_id</th>\n",
       "      <th>country</th>\n",
       "    </tr>\n",
       "  </thead>\n",
       "  <tbody>\n",
       "    <tr>\n",
       "      <th>0</th>\n",
       "      <td>1.291537</td>\n",
       "      <td>-0.566958</td>\n",
       "      <td>-0.851668</td>\n",
       "      <td>0.156035</td>\n",
       "      <td>-1.619705</td>\n",
       "      <td>1.903390</td>\n",
       "      <td>-0.702259</td>\n",
       "      <td>0.280341</td>\n",
       "      <td>0</td>\n",
       "      <td>Afghanistan</td>\n",
       "    </tr>\n",
       "    <tr>\n",
       "      <th>1</th>\n",
       "      <td>-0.538993</td>\n",
       "      <td>-0.440393</td>\n",
       "      <td>-0.386946</td>\n",
       "      <td>-0.314406</td>\n",
       "      <td>0.648831</td>\n",
       "      <td>-0.860816</td>\n",
       "      <td>-0.498726</td>\n",
       "      <td>0.488119</td>\n",
       "      <td>1</td>\n",
       "      <td>Albania</td>\n",
       "    </tr>\n",
       "    <tr>\n",
       "      <th>2</th>\n",
       "      <td>-0.272870</td>\n",
       "      <td>-0.486271</td>\n",
       "      <td>-0.221053</td>\n",
       "      <td>0.788991</td>\n",
       "      <td>0.671403</td>\n",
       "      <td>-0.038846</td>\n",
       "      <td>-0.477434</td>\n",
       "      <td>0.118736</td>\n",
       "      <td>1</td>\n",
       "      <td>Algeria</td>\n",
       "    </tr>\n",
       "    <tr>\n",
       "      <th>3</th>\n",
       "      <td>2.007831</td>\n",
       "      <td>-0.534088</td>\n",
       "      <td>-0.612045</td>\n",
       "      <td>1.387733</td>\n",
       "      <td>-1.179541</td>\n",
       "      <td>2.128769</td>\n",
       "      <td>-0.530950</td>\n",
       "      <td>-0.000459</td>\n",
       "      <td>0</td>\n",
       "      <td>Angola</td>\n",
       "    </tr>\n",
       "    <tr>\n",
       "      <th>4</th>\n",
       "      <td>-0.695682</td>\n",
       "      <td>-0.178410</td>\n",
       "      <td>0.125254</td>\n",
       "      <td>-0.604273</td>\n",
       "      <td>0.705262</td>\n",
       "      <td>-0.542634</td>\n",
       "      <td>-0.032042</td>\n",
       "      <td>0.741551</td>\n",
       "      <td>1</td>\n",
       "      <td>Antigua and Barbuda</td>\n",
       "    </tr>\n",
       "  </tbody>\n",
       "</table>\n",
       "</div>"
      ],
      "text/plain": [
       "   child_mort    health    income  inflation  life_expec  total_fer      gdpp  \\\n",
       "0    1.291537 -0.566958 -0.851668   0.156035   -1.619705   1.903390 -0.702259   \n",
       "1   -0.538993 -0.440393 -0.386946  -0.314406    0.648831  -0.860816 -0.498726   \n",
       "2   -0.272870 -0.486271 -0.221053   0.788991    0.671403  -0.038846 -0.477434   \n",
       "3    2.007831 -0.534088 -0.612045   1.387733   -1.179541   2.128769 -0.530950   \n",
       "4   -0.695682 -0.178410  0.125254  -0.604273    0.705262  -0.542634 -0.032042   \n",
       "\n",
       "   Trade Deficit  h_cluster_id              country  \n",
       "0       0.280341             0          Afghanistan  \n",
       "1       0.488119             1              Albania  \n",
       "2       0.118736             1              Algeria  \n",
       "3      -0.000459             0               Angola  \n",
       "4       0.741551             1  Antigua and Barbuda  "
      ]
     },
     "execution_count": 95,
     "metadata": {},
     "output_type": "execute_result"
    }
   ],
   "source": [
    "# Copying the scaled dataframe to be used futher for cluster profiling purpose now\n",
    "\n",
    "countries_hcluster_profl = countries_scaled.copy()\n",
    "\n",
    "countries_hcluster_profl['h_cluster_id'] = h_cluster_labels\n",
    "countries_hcluster_profl['country'] = countries['country']\n",
    "countries_hcluster_profl.head()"
   ]
  },
  {
   "cell_type": "code",
   "execution_count": 96,
   "metadata": {},
   "outputs": [
    {
     "data": {
      "image/png": "[encoded data removed]",
      "text/plain": [
       "<Figure size 432x288 with 1 Axes>"
      ]
     },
     "metadata": {
      "needs_background": "light"
     },
     "output_type": "display_data"
    }
   ],
   "source": [
    "countries_hcluster_profl.drop(['country','health','inflation','life_expec','total_fer','Trade Deficit'],axis = 1).groupby('h_cluster_id').mean().plot(kind = 'bar')\n",
    "plt.show()"
   ]
  },
  {
   "cell_type": "raw",
   "metadata": {},
   "source": [
    "Observations:-\n",
    "1) Cluster 0 has countries with high child mortality rates, low net income per person and low GDP. Hence, these countries may require financial aids.\n",
    "2) Cluster 1 has countries with low child mortality rates, low net income per person and low GDP as well.\n",
    "3) Cluster 2 has countries with low child mortality rates and medium high net income per person as well as GDP.\n",
    "4) Cluster 3 has countries with low child mortality rates, along with very high net income per person as well as GDP numbers.\n",
    "5) Cluster 4 has countries with very high child mortality rates, as well as very low net income per person and GDP. Hence, these countries must require financial aids.\n",
    "6) Cluster 5 has countries with high child mortality rates, and low net income per person and low GDP. Hence, these countries must require financial aids."
   ]
  },
  {
   "cell_type": "code",
   "execution_count": 97,
   "metadata": {},
   "outputs": [
    {
     "name": "stdout",
     "output_type": "stream",
     "text": [
      "['Afghanistan', 'Angola', 'Benin', 'Botswana', 'Burkina Faso', 'Burundi', 'Cameroon', 'Chad', 'Comoros', 'Congo, Dem. Rep.', 'Congo, Rep.', \"Cote d'Ivoire\", 'Equatorial Guinea', 'Eritrea', 'Gabon', 'Gambia', 'Ghana', 'Guinea', 'Guinea-Bissau', 'Iraq', 'Kenya', 'Kiribati', 'Lao', 'Liberia', 'Madagascar', 'Malawi', 'Mali', 'Mauritania', 'Mozambique', 'Namibia', 'Niger', 'Pakistan', 'Rwanda', 'Senegal', 'Sierra Leone', 'Solomon Islands', 'South Africa', 'Sudan', 'Tanzania', 'Timor-Leste', 'Togo', 'Uganda', 'Yemen', 'Zambia']\n"
     ]
    }
   ],
   "source": [
    "# Let us view the countries for each hierarchical clusters\n",
    "\n",
    "#Cluster 0\n",
    "\n",
    "cluster_hc_0 = countries_hcluster[countries_hcluster['h_cluster_id']== 0]\n",
    "print(cluster_hc_0['country'].tolist())"
   ]
  },
  {
   "cell_type": "raw",
   "metadata": {},
   "source": [
    "These countries have high child mortality rates, low net income per person and low GDP. Hence, these countries may require financial aids."
   ]
  },
  {
   "cell_type": "code",
   "execution_count": 98,
   "metadata": {},
   "outputs": [
    {
     "data": {
      "text/html": [
       "<div>\n",
       "<style scoped>\n",
       "    .dataframe tbody tr th:only-of-type {\n",
       "        vertical-align: middle;\n",
       "    }\n",
       "\n",
       "    .dataframe tbody tr th {\n",
       "        vertical-align: top;\n",
       "    }\n",
       "\n",
       "    .dataframe thead th {\n",
       "        text-align: right;\n",
       "    }\n",
       "</style>\n",
       "<table border=\"1\" class=\"dataframe\">\n",
       "  <thead>\n",
       "    <tr style=\"text-align: right;\">\n",
       "      <th></th>\n",
       "      <th>country</th>\n",
       "      <th>child_mort</th>\n",
       "      <th>health</th>\n",
       "      <th>income</th>\n",
       "      <th>inflation</th>\n",
       "      <th>life_expec</th>\n",
       "      <th>total_fer</th>\n",
       "      <th>gdpp</th>\n",
       "      <th>Trade Deficit</th>\n",
       "      <th>h_cluster_id</th>\n",
       "    </tr>\n",
       "  </thead>\n",
       "  <tbody>\n",
       "    <tr>\n",
       "      <th>26</th>\n",
       "      <td>Burundi</td>\n",
       "      <td>93.6</td>\n",
       "      <td>26.7960</td>\n",
       "      <td>764.0</td>\n",
       "      <td>12.30</td>\n",
       "      <td>57.7</td>\n",
       "      <td>6.26</td>\n",
       "      <td>231.0</td>\n",
       "      <td>69.9468</td>\n",
       "      <td>0</td>\n",
       "    </tr>\n",
       "    <tr>\n",
       "      <th>88</th>\n",
       "      <td>Liberia</td>\n",
       "      <td>89.3</td>\n",
       "      <td>38.5860</td>\n",
       "      <td>700.0</td>\n",
       "      <td>5.47</td>\n",
       "      <td>60.8</td>\n",
       "      <td>5.02</td>\n",
       "      <td>327.0</td>\n",
       "      <td>240.3450</td>\n",
       "      <td>0</td>\n",
       "    </tr>\n",
       "    <tr>\n",
       "      <th>37</th>\n",
       "      <td>Congo, Dem. Rep.</td>\n",
       "      <td>116.0</td>\n",
       "      <td>26.4194</td>\n",
       "      <td>609.0</td>\n",
       "      <td>20.80</td>\n",
       "      <td>57.5</td>\n",
       "      <td>6.54</td>\n",
       "      <td>334.0</td>\n",
       "      <td>28.3900</td>\n",
       "      <td>0</td>\n",
       "    </tr>\n",
       "    <tr>\n",
       "      <th>112</th>\n",
       "      <td>Niger</td>\n",
       "      <td>123.0</td>\n",
       "      <td>17.9568</td>\n",
       "      <td>814.0</td>\n",
       "      <td>2.55</td>\n",
       "      <td>58.8</td>\n",
       "      <td>7.49</td>\n",
       "      <td>348.0</td>\n",
       "      <td>93.6120</td>\n",
       "      <td>0</td>\n",
       "    </tr>\n",
       "    <tr>\n",
       "      <th>132</th>\n",
       "      <td>Sierra Leone</td>\n",
       "      <td>160.0</td>\n",
       "      <td>52.2690</td>\n",
       "      <td>1220.0</td>\n",
       "      <td>17.20</td>\n",
       "      <td>55.0</td>\n",
       "      <td>5.20</td>\n",
       "      <td>399.0</td>\n",
       "      <td>70.6230</td>\n",
       "      <td>0</td>\n",
       "    </tr>\n",
       "  </tbody>\n",
       "</table>\n",
       "</div>"
      ],
      "text/plain": [
       "              country  child_mort   health  income  inflation  life_expec  \\\n",
       "26            Burundi        93.6  26.7960   764.0      12.30        57.7   \n",
       "88            Liberia        89.3  38.5860   700.0       5.47        60.8   \n",
       "37   Congo, Dem. Rep.       116.0  26.4194   609.0      20.80        57.5   \n",
       "112             Niger       123.0  17.9568   814.0       2.55        58.8   \n",
       "132      Sierra Leone       160.0  52.2690  1220.0      17.20        55.0   \n",
       "\n",
       "     total_fer   gdpp  Trade Deficit  h_cluster_id  \n",
       "26        6.26  231.0        69.9468             0  \n",
       "88        5.02  327.0       240.3450             0  \n",
       "37        6.54  334.0        28.3900             0  \n",
       "112       7.49  348.0        93.6120             0  \n",
       "132       5.20  399.0        70.6230             0  "
      ]
     },
     "execution_count": 98,
     "metadata": {},
     "output_type": "execute_result"
    }
   ],
   "source": [
    "cluster_hc_0.sort_values(by = ['gdpp','child_mort','income'], ascending = [True,False,True]).head()"
   ]
  },
  {
   "cell_type": "code",
   "execution_count": 99,
   "metadata": {},
   "outputs": [
    {
     "name": "stdout",
     "output_type": "stream",
     "text": [
      "['Albania', 'Algeria', 'Antigua and Barbuda', 'Argentina', 'Armenia', 'Azerbaijan', 'Bahamas', 'Bahrain', 'Bangladesh', 'Barbados', 'Belarus', 'Belize', 'Bhutan', 'Bolivia', 'Bosnia and Herzegovina', 'Brazil', 'Bulgaria', 'Cambodia', 'Cape Verde', 'Chile', 'China', 'Colombia', 'Costa Rica', 'Croatia', 'Cyprus', 'Czech Republic', 'Dominican Republic', 'Ecuador', 'Egypt', 'El Salvador', 'Estonia', 'Fiji', 'Georgia', 'Greece', 'Grenada', 'Guatemala', 'Guyana', 'Hungary', 'India', 'Indonesia', 'Iran', 'Israel', 'Italy', 'Jamaica', 'Jordan', 'Kazakhstan', 'Kyrgyz Republic', 'Latvia', 'Lebanon', 'Libya', 'Lithuania', 'Macedonia, FYR', 'Malaysia', 'Maldives', 'Malta', 'Mauritius', 'Micronesia, Fed. Sts.', 'Moldova', 'Mongolia', 'Montenegro', 'Morocco', 'Myanmar', 'Nepal', 'New Zealand', 'Oman', 'Panama', 'Paraguay', 'Peru', 'Philippines', 'Poland', 'Portugal', 'Romania', 'Russia', 'Samoa', 'Saudi Arabia', 'Serbia', 'Seychelles', 'Slovak Republic', 'Slovenia', 'South Korea', 'Spain', 'Sri Lanka', 'St. Vincent and the Grenadines', 'Suriname', 'Tajikistan', 'Thailand', 'Tonga', 'Tunisia', 'Turkey', 'Turkmenistan', 'Ukraine', 'United Arab Emirates', 'United Kingdom', 'Uruguay', 'Uzbekistan', 'Vanuatu', 'Venezuela', 'Vietnam']\n"
     ]
    }
   ],
   "source": [
    "#Cluster 1\n",
    "\n",
    "cluster_hc_1 = countries_hcluster[countries_hcluster['h_cluster_id']== 1]\n",
    "print(cluster_hc_1['country'].tolist())"
   ]
  },
  {
   "cell_type": "raw",
   "metadata": {},
   "source": [
    "These countries have low child mortality rates, low net income per person and low GDP as well."
   ]
  },
  {
   "cell_type": "code",
   "execution_count": 100,
   "metadata": {},
   "outputs": [
    {
     "name": "stdout",
     "output_type": "stream",
     "text": [
      "['Australia', 'Austria', 'Belgium', 'Canada', 'Denmark', 'Finland', 'France', 'Germany', 'Iceland', 'Ireland', 'Japan', 'Netherlands', 'Sweden', 'United States']\n"
     ]
    }
   ],
   "source": [
    "#Cluster 2\n",
    "\n",
    "cluster_hc_2 = countries_hcluster[countries_hcluster['h_cluster_id']== 2]\n",
    "print(cluster_hc_2['country'].tolist())"
   ]
  },
  {
   "cell_type": "raw",
   "metadata": {},
   "source": [
    "These countries have low child mortality rates and medium high net income per person as well as GDP, and will not require financial aids."
   ]
  },
  {
   "cell_type": "code",
   "execution_count": 101,
   "metadata": {},
   "outputs": [
    {
     "name": "stdout",
     "output_type": "stream",
     "text": [
      "['Brunei', 'Kuwait', 'Luxembourg', 'Norway', 'Qatar', 'Singapore', 'Switzerland']\n"
     ]
    }
   ],
   "source": [
    "#Cluster 3\n",
    "\n",
    "cluster_hc_3 = countries_hcluster[countries_hcluster['h_cluster_id']== 3]\n",
    "print(cluster_hc_3['country'].tolist())"
   ]
  },
  {
   "cell_type": "raw",
   "metadata": {},
   "source": [
    "These countries have low child mortality rates, along with very high net income per person as well as GDP numbers; and hence they do not require any financial aids."
   ]
  },
  {
   "cell_type": "code",
   "execution_count": 102,
   "metadata": {},
   "outputs": [
    {
     "name": "stdout",
     "output_type": "stream",
     "text": [
      "['Central African Republic', 'Haiti', 'Lesotho']\n"
     ]
    }
   ],
   "source": [
    "#Cluster 4\n",
    "\n",
    "cluster_hc_4 = countries_hcluster[countries_hcluster['h_cluster_id']== 4]\n",
    "print(cluster_hc_4['country'].tolist())"
   ]
  },
  {
   "cell_type": "raw",
   "metadata": {},
   "source": [
    "These countries have very high child mortality rates, as well as very low net income per person and GDP. Hence, these countries must require financial aids."
   ]
  },
  {
   "cell_type": "code",
   "execution_count": 103,
   "metadata": {},
   "outputs": [
    {
     "name": "stdout",
     "output_type": "stream",
     "text": [
      "['Nigeria']\n"
     ]
    }
   ],
   "source": [
    "#Cluster 5\n",
    "\n",
    "cluster_hc_5 = countries_hcluster[countries_hcluster['h_cluster_id']== 5]\n",
    "print(cluster_hc_5['country'].tolist())"
   ]
  },
  {
   "cell_type": "raw",
   "metadata": {},
   "source": [
    "Nigeria has high child mortality rates, and low net income per person and low GDP. Hence, financial aids are msut for this nation."
   ]
  },
  {
   "cell_type": "markdown",
   "metadata": {},
   "source": [
    "The countries that need immediate financial aids, as per Hierarchical Clustering, using complete linkage and agglomerative approach, on the parameters in order of importance - GDP, child mortality rate and net income per person:-\n",
    "\n",
    "- Nigeria\n",
    "- Central African Republic\n",
    "- Haiti\n",
    "- Lesotho\n",
    "- Burundi\n",
    "- Liberia\n",
    "- Congo Democratic Republic\n",
    "- Niger\n",
    "- Sierra Leone"
   ]
  },
  {
   "cell_type": "markdown",
   "metadata": {},
   "source": [
    "** Conclusion **\n",
    "\n",
    "After performing k-means clustering as well hierarchical clustering, and ranking based on low GDP, followed by high child mortality rate and low net income per person, the top 6 countries that require immediate financial assistance are:-\n",
    "\n",
    "- Nigeria\n",
    "- Burundi\n",
    "- Liberia\n",
    "- Congo Democratic Republic\n",
    "- Niger\n",
    "- Sierra Leone\n",
    "\n",
    "In addition to these, immediate financial aids might also be considered for the following 3 countries as well:-\n",
    "\n",
    "- Central African Republic\n",
    "- Haiti\n",
    "- Lesotho"
   ]
  }
 ],
 "metadata": {
  "kernelspec": {
   "display_name": "Python 3",
   "language": "python",
   "name": "python3"
  },
  "language_info": {
   "codemirror_mode": {
    "name": "ipython",
    "version": 3
   },
   "file_extension": ".py",
   "mimetype": "text/x-python",
   "name": "python",
   "nbconvert_exporter": "python",
   "pygments_lexer": "ipython3",
   "version": "3.7.6"
  }
 },
 "nbformat": 4,
 "nbformat_minor": 4
}

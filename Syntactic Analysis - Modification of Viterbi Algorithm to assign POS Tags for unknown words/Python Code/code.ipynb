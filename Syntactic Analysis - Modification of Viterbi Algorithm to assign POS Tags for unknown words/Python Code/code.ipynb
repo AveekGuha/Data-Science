{
 "cells": [
  {
   "cell_type": "markdown",
   "metadata": {},
   "source": [
    "## POS tagging using modified Viterbi"
   ]
  },
  {
   "cell_type": "markdown",
   "metadata": {},
   "source": [
    "### Data Preparation"
   ]
  },
  {
   "cell_type": "code",
   "execution_count": 1,
   "metadata": {},
   "outputs": [],
   "source": [
    "# Importing libraries\n",
    "\n",
    "import nltk\n",
    "import random\n",
    "from sklearn.model_selection import train_test_split\n",
    "import numpy as np\n",
    "import pandas as pd\n",
    "import matplotlib.pyplot as plt\n",
    "import seaborn as sns\n",
    "import pprint,time\n",
    "from nltk.tokenize import word_tokenize"
   ]
  },
  {
   "cell_type": "code",
   "execution_count": 2,
   "metadata": {},
   "outputs": [],
   "source": [
    "# Reading the Treebank tagged sentences\n",
    "\n",
    "nltk_data = list(nltk.corpus.treebank.tagged_sents(tagset='universal'))"
   ]
  },
  {
   "cell_type": "code",
   "execution_count": 3,
   "metadata": {},
   "outputs": [
    {
     "name": "stdout",
     "output_type": "stream",
     "text": [
      "[[('Pierre', 'NOUN'), ('Vinken', 'NOUN'), (',', '.'), ('61', 'NUM'), ('years', 'NOUN'), ('old', 'ADJ'), (',', '.'), ('will', 'VERB'), ('join', 'VERB'), ('the', 'DET'), ('board', 'NOUN'), ('as', 'ADP'), ('a', 'DET'), ('nonexecutive', 'ADJ'), ('director', 'NOUN'), ('Nov.', 'NOUN'), ('29', 'NUM'), ('.', '.')], [('Mr.', 'NOUN'), ('Vinken', 'NOUN'), ('is', 'VERB'), ('chairman', 'NOUN'), ('of', 'ADP'), ('Elsevier', 'NOUN'), ('N.V.', 'NOUN'), (',', '.'), ('the', 'DET'), ('Dutch', 'NOUN'), ('publishing', 'VERB'), ('group', 'NOUN'), ('.', '.')], [('Rudolph', 'NOUN'), ('Agnew', 'NOUN'), (',', '.'), ('55', 'NUM'), ('years', 'NOUN'), ('old', 'ADJ'), ('and', 'CONJ'), ('former', 'ADJ'), ('chairman', 'NOUN'), ('of', 'ADP'), ('Consolidated', 'NOUN'), ('Gold', 'NOUN'), ('Fields', 'NOUN'), ('PLC', 'NOUN'), (',', '.'), ('was', 'VERB'), ('named', 'VERB'), ('*-1', 'X'), ('a', 'DET'), ('nonexecutive', 'ADJ'), ('director', 'NOUN'), ('of', 'ADP'), ('this', 'DET'), ('British', 'ADJ'), ('industrial', 'ADJ'), ('conglomerate', 'NOUN'), ('.', '.')], [('A', 'DET'), ('form', 'NOUN'), ('of', 'ADP'), ('asbestos', 'NOUN'), ('once', 'ADV'), ('used', 'VERB'), ('*', 'X'), ('*', 'X'), ('to', 'PRT'), ('make', 'VERB'), ('Kent', 'NOUN'), ('cigarette', 'NOUN'), ('filters', 'NOUN'), ('has', 'VERB'), ('caused', 'VERB'), ('a', 'DET'), ('high', 'ADJ'), ('percentage', 'NOUN'), ('of', 'ADP'), ('cancer', 'NOUN'), ('deaths', 'NOUN'), ('among', 'ADP'), ('a', 'DET'), ('group', 'NOUN'), ('of', 'ADP'), ('workers', 'NOUN'), ('exposed', 'VERB'), ('*', 'X'), ('to', 'PRT'), ('it', 'PRON'), ('more', 'ADV'), ('than', 'ADP'), ('30', 'NUM'), ('years', 'NOUN'), ('ago', 'ADP'), (',', '.'), ('researchers', 'NOUN'), ('reported', 'VERB'), ('0', 'X'), ('*T*-1', 'X'), ('.', '.')], [('The', 'DET'), ('asbestos', 'NOUN'), ('fiber', 'NOUN'), (',', '.'), ('crocidolite', 'NOUN'), (',', '.'), ('is', 'VERB'), ('unusually', 'ADV'), ('resilient', 'ADJ'), ('once', 'ADP'), ('it', 'PRON'), ('enters', 'VERB'), ('the', 'DET'), ('lungs', 'NOUN'), (',', '.'), ('with', 'ADP'), ('even', 'ADV'), ('brief', 'ADJ'), ('exposures', 'NOUN'), ('to', 'PRT'), ('it', 'PRON'), ('causing', 'VERB'), ('symptoms', 'NOUN'), ('that', 'DET'), ('*T*-1', 'X'), ('show', 'VERB'), ('up', 'PRT'), ('decades', 'NOUN'), ('later', 'ADJ'), (',', '.'), ('researchers', 'NOUN'), ('said', 'VERB'), ('0', 'X'), ('*T*-2', 'X'), ('.', '.')], [('Lorillard', 'NOUN'), ('Inc.', 'NOUN'), (',', '.'), ('the', 'DET'), ('unit', 'NOUN'), ('of', 'ADP'), ('New', 'ADJ'), ('York-based', 'ADJ'), ('Loews', 'NOUN'), ('Corp.', 'NOUN'), ('that', 'DET'), ('*T*-2', 'X'), ('makes', 'VERB'), ('Kent', 'NOUN'), ('cigarettes', 'NOUN'), (',', '.'), ('stopped', 'VERB'), ('using', 'VERB'), ('crocidolite', 'NOUN'), ('in', 'ADP'), ('its', 'PRON'), ('Micronite', 'NOUN'), ('cigarette', 'NOUN'), ('filters', 'NOUN'), ('in', 'ADP'), ('1956', 'NUM'), ('.', '.')], [('Although', 'ADP'), ('preliminary', 'ADJ'), ('findings', 'NOUN'), ('were', 'VERB'), ('reported', 'VERB'), ('*-2', 'X'), ('more', 'ADV'), ('than', 'ADP'), ('a', 'DET'), ('year', 'NOUN'), ('ago', 'ADP'), (',', '.'), ('the', 'DET'), ('latest', 'ADJ'), ('results', 'NOUN'), ('appear', 'VERB'), ('in', 'ADP'), ('today', 'NOUN'), (\"'s\", 'PRT'), ('New', 'NOUN'), ('England', 'NOUN'), ('Journal', 'NOUN'), ('of', 'ADP'), ('Medicine', 'NOUN'), (',', '.'), ('a', 'DET'), ('forum', 'NOUN'), ('likely', 'ADJ'), ('*', 'X'), ('to', 'PRT'), ('bring', 'VERB'), ('new', 'ADJ'), ('attention', 'NOUN'), ('to', 'PRT'), ('the', 'DET'), ('problem', 'NOUN'), ('.', '.')], [('A', 'DET'), ('Lorillard', 'NOUN'), ('spokewoman', 'NOUN'), ('said', 'VERB'), (',', '.'), ('``', '.'), ('This', 'DET'), ('is', 'VERB'), ('an', 'DET'), ('old', 'ADJ'), ('story', 'NOUN'), ('.', '.')], [('We', 'PRON'), (\"'re\", 'VERB'), ('talking', 'VERB'), ('about', 'ADP'), ('years', 'NOUN'), ('ago', 'ADP'), ('before', 'ADP'), ('anyone', 'NOUN'), ('heard', 'VERB'), ('of', 'ADP'), ('asbestos', 'NOUN'), ('having', 'VERB'), ('any', 'DET'), ('questionable', 'ADJ'), ('properties', 'NOUN'), ('.', '.')], [('There', 'DET'), ('is', 'VERB'), ('no', 'DET'), ('asbestos', 'NOUN'), ('in', 'ADP'), ('our', 'PRON'), ('products', 'NOUN'), ('now', 'ADV'), ('.', '.'), (\"''\", '.')], [('Neither', 'DET'), ('Lorillard', 'NOUN'), ('nor', 'CONJ'), ('the', 'DET'), ('researchers', 'NOUN'), ('who', 'PRON'), ('*T*-3', 'X'), ('studied', 'VERB'), ('the', 'DET'), ('workers', 'NOUN'), ('were', 'VERB'), ('aware', 'ADJ'), ('of', 'ADP'), ('any', 'DET'), ('research', 'NOUN'), ('on', 'ADP'), ('smokers', 'NOUN'), ('of', 'ADP'), ('the', 'DET'), ('Kent', 'NOUN'), ('cigarettes', 'NOUN'), ('.', '.')], [('``', '.'), ('We', 'PRON'), ('have', 'VERB'), ('no', 'DET'), ('useful', 'ADJ'), ('information', 'NOUN'), ('on', 'ADP'), ('whether', 'ADP'), ('users', 'NOUN'), ('are', 'VERB'), ('at', 'ADP'), ('risk', 'NOUN'), (',', '.'), (\"''\", '.'), ('said', 'VERB'), ('*T*-1', 'X'), ('James', 'NOUN'), ('A.', 'NOUN'), ('Talcott', 'NOUN'), ('of', 'ADP'), ('Boston', 'NOUN'), (\"'s\", 'PRT'), ('Dana-Farber', 'NOUN'), ('Cancer', 'NOUN'), ('Institute', 'NOUN'), ('.', '.')], [('Dr.', 'NOUN'), ('Talcott', 'NOUN'), ('led', 'VERB'), ('a', 'DET'), ('team', 'NOUN'), ('of', 'ADP'), ('researchers', 'NOUN'), ('from', 'ADP'), ('the', 'DET'), ('National', 'NOUN'), ('Cancer', 'NOUN'), ('Institute', 'NOUN'), ('and', 'CONJ'), ('the', 'DET'), ('medical', 'ADJ'), ('schools', 'NOUN'), ('of', 'ADP'), ('Harvard', 'NOUN'), ('University', 'NOUN'), ('and', 'CONJ'), ('Boston', 'NOUN'), ('University', 'NOUN'), ('.', '.')], [('The', 'DET'), ('Lorillard', 'NOUN'), ('spokeswoman', 'NOUN'), ('said', 'VERB'), ('0', 'X'), ('asbestos', 'NOUN'), ('was', 'VERB'), ('used', 'VERB'), ('*-1', 'X'), ('in', 'ADP'), ('``', '.'), ('very', 'ADV'), ('modest', 'ADJ'), ('amounts', 'NOUN'), (\"''\", '.'), ('in', 'ADP'), ('*', 'X'), ('making', 'VERB'), ('paper', 'NOUN'), ('for', 'ADP'), ('the', 'DET'), ('filters', 'NOUN'), ('in', 'ADP'), ('the', 'DET'), ('early', 'ADJ'), ('1950s', 'NUM'), ('and', 'CONJ'), ('replaced', 'VERB'), ('*-1', 'X'), ('with', 'ADP'), ('a', 'DET'), ('different', 'ADJ'), ('type', 'NOUN'), ('of', 'ADP'), ('filter', 'NOUN'), ('in', 'ADP'), ('1956', 'NUM'), ('.', '.')], [('From', 'ADP'), ('1953', 'NUM'), ('to', 'PRT'), ('1955', 'NUM'), (',', '.'), ('9.8', 'NUM'), ('billion', 'NUM'), ('Kent', 'NOUN'), ('cigarettes', 'NOUN'), ('with', 'ADP'), ('the', 'DET'), ('filters', 'NOUN'), ('were', 'VERB'), ('sold', 'VERB'), ('*-3', 'X'), (',', '.'), ('the', 'DET'), ('company', 'NOUN'), ('said', 'VERB'), ('0', 'X'), ('*T*-1', 'X'), ('.', '.')], [('Among', 'ADP'), ('33', 'NUM'), ('men', 'NOUN'), ('who', 'PRON'), ('*T*-4', 'X'), ('worked', 'VERB'), ('closely', 'ADV'), ('with', 'ADP'), ('the', 'DET'), ('substance', 'NOUN'), (',', '.'), ('28', 'NUM'), ('*ICH*-1', 'X'), ('have', 'VERB'), ('died', 'VERB'), ('--', '.'), ('more', 'ADJ'), ('than', 'ADP'), ('three', 'NUM'), ('times', 'NOUN'), ('the', 'DET'), ('expected', 'VERB'), ('number', 'NOUN'), ('.', '.')], [('Four', 'NUM'), ('of', 'ADP'), ('the', 'DET'), ('five', 'NUM'), ('surviving', 'VERB'), ('workers', 'NOUN'), ('have', 'VERB'), ('asbestos-related', 'ADJ'), ('diseases', 'NOUN'), (',', '.'), ('including', 'VERB'), ('three', 'NUM'), ('with', 'ADP'), ('recently', 'ADV'), ('diagnosed', 'VERB'), ('cancer', 'NOUN'), ('.', '.')], [('The', 'DET'), ('total', 'NOUN'), ('of', 'ADP'), ('18', 'NUM'), ('deaths', 'NOUN'), ('from', 'ADP'), ('malignant', 'ADJ'), ('mesothelioma', 'NOUN'), (',', '.'), ('lung', 'NOUN'), ('cancer', 'NOUN'), ('and', 'CONJ'), ('asbestosis', 'NOUN'), ('was', 'VERB'), ('far', 'ADV'), ('higher', 'ADJ'), ('than', 'ADP'), ('*', 'X'), ('expected', 'VERB'), ('*?*', 'X'), (',', '.'), ('the', 'DET'), ('researchers', 'NOUN'), ('said', 'VERB'), ('0', 'X'), ('*T*-1', 'X'), ('.', '.')], [('``', '.'), ('The', 'DET'), ('morbidity', 'NOUN'), ('rate', 'NOUN'), ('is', 'VERB'), ('a', 'DET'), ('striking', 'ADJ'), ('finding', 'NOUN'), ('among', 'ADP'), ('those', 'DET'), ('of', 'ADP'), ('us', 'PRON'), ('who', 'PRON'), ('*T*-5', 'X'), ('study', 'VERB'), ('asbestos-related', 'ADJ'), ('diseases', 'NOUN'), (',', '.'), (\"''\", '.'), ('said', 'VERB'), ('*T*-1', 'X'), ('Dr.', 'NOUN'), ('Talcott', 'NOUN'), ('.', '.')], [('The', 'DET'), ('percentage', 'NOUN'), ('of', 'ADP'), ('lung', 'NOUN'), ('cancer', 'NOUN'), ('deaths', 'NOUN'), ('among', 'ADP'), ('the', 'DET'), ('workers', 'NOUN'), ('at', 'ADP'), ('the', 'DET'), ('West', 'NOUN'), ('Groton', 'NOUN'), (',', '.'), ('Mass.', 'NOUN'), (',', '.'), ('paper', 'NOUN'), ('factory', 'NOUN'), ('appears', 'VERB'), ('*-1', 'X'), ('to', 'PRT'), ('be', 'VERB'), ('the', 'DET'), ('highest', 'ADJ'), ('for', 'ADP'), ('any', 'DET'), ('asbestos', 'NOUN'), ('workers', 'NOUN'), ('studied', 'VERB'), ('*', 'X'), ('in', 'ADP'), ('Western', 'ADJ'), ('industrialized', 'VERB'), ('countries', 'NOUN'), (',', '.'), ('he', 'PRON'), ('said', 'VERB'), ('0', 'X'), ('*T*-2', 'X'), ('.', '.')], [('The', 'DET'), ('plant', 'NOUN'), (',', '.'), ('which', 'DET'), ('*T*-1', 'X'), ('is', 'VERB'), ('owned', 'VERB'), ('*-4', 'X'), ('by', 'ADP'), ('Hollingsworth', 'NOUN'), ('&', 'CONJ'), ('Vose', 'NOUN'), ('Co.', 'NOUN'), (',', '.'), ('was', 'VERB'), ('under', 'ADP'), ('contract', 'NOUN'), ('*ICH*-2', 'X'), ('with', 'ADP'), ('Lorillard', 'NOUN'), ('*', 'X'), ('to', 'PRT'), ('make', 'VERB'), ('the', 'DET'), ('cigarette', 'NOUN'), ('filters', 'NOUN'), ('.', '.')], [('The', 'DET'), ('finding', 'NOUN'), ('probably', 'ADV'), ('will', 'VERB'), ('support', 'VERB'), ('those', 'DET'), ('who', 'PRON'), ('*T*-6', 'X'), ('argue', 'VERB'), ('that', 'ADP'), ('the', 'DET'), ('U.S.', 'NOUN'), ('should', 'VERB'), ('regulate', 'VERB'), ('the', 'DET'), ('class', 'NOUN'), ('of', 'ADP'), ('asbestos', 'NOUN'), ('including', 'VERB'), ('crocidolite', 'NOUN'), ('more', 'ADV'), ('stringently', 'ADV'), ('than', 'ADP'), ('the', 'DET'), ('common', 'ADJ'), ('kind', 'NOUN'), ('of', 'ADP'), ('asbestos', 'NOUN'), (',', '.'), ('chrysotile', 'NOUN'), (',', '.'), ('found', 'VERB'), ('*', 'X'), ('in', 'ADP'), ('most', 'ADJ'), ('schools', 'NOUN'), ('and', 'CONJ'), ('other', 'ADJ'), ('buildings', 'NOUN'), (',', '.'), ('Dr.', 'NOUN'), ('Talcott', 'NOUN'), ('said', 'VERB'), ('0', 'X'), ('*T*-1', 'X'), ('.', '.')], [('The', 'DET'), ('U.S.', 'NOUN'), ('is', 'VERB'), ('one', 'NUM'), ('of', 'ADP'), ('the', 'DET'), ('few', 'ADJ'), ('industrialized', 'VERB'), ('nations', 'NOUN'), ('that', 'DET'), ('*T*-7', 'X'), ('does', 'VERB'), (\"n't\", 'ADV'), ('have', 'VERB'), ('a', 'DET'), ('higher', 'ADJ'), ('standard', 'NOUN'), ('of', 'ADP'), ('regulation', 'NOUN'), ('for', 'ADP'), ('the', 'DET'), ('smooth', 'ADJ'), (',', '.'), ('needle-like', 'ADJ'), ('fibers', 'NOUN'), ('such', 'ADJ'), ('as', 'ADP'), ('crocidolite', 'NOUN'), ('that', 'DET'), ('*T*-1', 'X'), ('are', 'VERB'), ('classified', 'VERB'), ('*-5', 'X'), ('as', 'ADP'), ('amphobiles', 'NOUN'), (',', '.'), ('according', 'VERB'), ('to', 'PRT'), ('Brooke', 'NOUN'), ('T.', 'NOUN'), ('Mossman', 'NOUN'), (',', '.'), ('a', 'DET'), ('professor', 'NOUN'), ('of', 'ADP'), ('pathlogy', 'NOUN'), ('at', 'ADP'), ('the', 'DET'), ('University', 'NOUN'), ('of', 'ADP'), ('Vermont', 'NOUN'), ('College', 'NOUN'), ('of', 'ADP'), ('Medicine', 'NOUN'), ('.', '.')], [('More', 'ADV'), ('common', 'ADJ'), ('chrysotile', 'NOUN'), ('fibers', 'NOUN'), ('are', 'VERB'), ('curly', 'ADJ'), ('and', 'CONJ'), ('are', 'VERB'), ('more', 'ADV'), ('easily', 'ADV'), ('rejected', 'VERB'), ('*-1', 'X'), ('by', 'ADP'), ('the', 'DET'), ('body', 'NOUN'), (',', '.'), ('Dr.', 'NOUN'), ('Mossman', 'NOUN'), ('explained', 'VERB'), ('0', 'X'), ('*T*-2', 'X'), ('.', '.')], [('In', 'ADP'), ('July', 'NOUN'), (',', '.'), ('the', 'DET'), ('Environmental', 'NOUN'), ('Protection', 'NOUN'), ('Agency', 'NOUN'), ('imposed', 'VERB'), ('a', 'DET'), ('gradual', 'ADJ'), ('ban', 'NOUN'), ('on', 'ADP'), ('virtually', 'ADV'), ('all', 'DET'), ('uses', 'NOUN'), ('of', 'ADP'), ('asbestos', 'NOUN'), ('.', '.')], [('By', 'ADP'), ('1997', 'NUM'), (',', '.'), ('almost', 'ADV'), ('all', 'DET'), ('remaining', 'VERB'), ('uses', 'NOUN'), ('of', 'ADP'), ('cancer-causing', 'ADJ'), ('asbestos', 'NOUN'), ('will', 'VERB'), ('be', 'VERB'), ('outlawed', 'VERB'), ('*-6', 'X'), ('.', '.')], [('About', 'ADP'), ('160', 'NUM'), ('workers', 'NOUN'), ('at', 'ADP'), ('a', 'DET'), ('factory', 'NOUN'), ('that', 'DET'), ('*T*-8', 'X'), ('made', 'VERB'), ('paper', 'NOUN'), ('for', 'ADP'), ('the', 'DET'), ('Kent', 'NOUN'), ('filters', 'NOUN'), ('were', 'VERB'), ('exposed', 'VERB'), ('*-7', 'X'), ('to', 'PRT'), ('asbestos', 'NOUN'), ('in', 'ADP'), ('the', 'DET'), ('1950s', 'NUM'), ('.', '.')], [('Areas', 'NOUN'), ('of', 'ADP'), ('the', 'DET'), ('factory', 'NOUN'), ('*ICH*-2', 'X'), ('were', 'VERB'), ('particularly', 'ADV'), ('dusty', 'ADJ'), ('where', 'ADV'), ('the', 'DET'), ('crocidolite', 'NOUN'), ('was', 'VERB'), ('used', 'VERB'), ('*-8', 'X'), ('*T*-1', 'X'), ('.', '.')], [('Workers', 'NOUN'), ('dumped', 'VERB'), ('large', 'ADJ'), ('burlap', 'NOUN'), ('sacks', 'NOUN'), ('of', 'ADP'), ('the', 'DET'), ('imported', 'VERB'), ('material', 'NOUN'), ('into', 'ADP'), ('a', 'DET'), ('huge', 'ADJ'), ('bin', 'NOUN'), (',', '.'), ('poured', 'VERB'), ('in', 'PRT'), ('cotton', 'NOUN'), ('and', 'CONJ'), ('acetate', 'NOUN'), ('fibers', 'NOUN'), ('and', 'CONJ'), ('mechanically', 'ADV'), ('mixed', 'VERB'), ('the', 'DET'), ('dry', 'ADJ'), ('fibers', 'NOUN'), ('in', 'ADP'), ('a', 'DET'), ('process', 'NOUN'), ('used', 'VERB'), ('*', 'X'), ('*', 'X'), ('to', 'PRT'), ('make', 'VERB'), ('filters', 'NOUN'), ('.', '.')], [('Workers', 'NOUN'), ('described', 'VERB'), ('``', '.'), ('clouds', 'NOUN'), ('of', 'ADP'), ('blue', 'ADJ'), ('dust', 'NOUN'), (\"''\", '.'), ('that', 'DET'), ('*T*-1', 'X'), ('hung', 'VERB'), ('over', 'ADP'), ('parts', 'NOUN'), ('of', 'ADP'), ('the', 'DET'), ('factory', 'NOUN'), (',', '.'), ('even', 'ADV'), ('though', 'ADP'), ('exhaust', 'NOUN'), ('fans', 'NOUN'), ('ventilated', 'VERB'), ('the', 'DET'), ('area', 'NOUN'), ('.', '.')]]\n"
     ]
    }
   ],
   "source": [
    "# Let us check the first few tagged sentences\n",
    "\n",
    "print(nltk_data[:30])"
   ]
  },
  {
   "cell_type": "code",
   "execution_count": 4,
   "metadata": {},
   "outputs": [
    {
     "name": "stdout",
     "output_type": "stream",
     "text": [
      "Train Data Set Length :  3718\n",
      "Test Data Set Length :  196\n",
      "Train Data Set -\n",
      "\n",
      "[[('The', 'DET'), ('vacation', 'NOUN'), ('packages', 'NOUN'), ('include', 'VERB'), ('hotel', 'NOUN'), ('accommodations', 'NOUN'), ('and', 'CONJ'), (',', '.'), ('in', 'ADP'), ('some', 'DET'), ('cases', 'NOUN'), (',', '.'), ('tours', 'NOUN'), ('or', 'CONJ'), ('tickets', 'NOUN'), ('to', 'PRT'), ('local', 'ADJ'), ('attractions', 'NOUN'), (',', '.'), ('but', 'CONJ'), ('not', 'ADV'), ('meals', 'NOUN'), ('.', '.')], [('For', 'ADP'), ('the', 'DET'), ('first', 'ADJ'), ('time', 'NOUN'), (',', '.'), ('the', 'DET'), ('October', 'NOUN'), ('survey', 'NOUN'), ('polled', 'VERB'), ('members', 'NOUN'), ('on', 'ADP'), ('imports', 'NOUN'), ('.', '.')], [('She', 'PRON'), ('says', 'VERB'), ('that', 'ADP'), ('because', 'ADP'), ('of', 'ADP'), ('Mrs.', 'NOUN'), ('Yeargin', 'NOUN'), ('she', 'PRON'), ('gave', 'VERB'), ('up', 'PRT'), ('ambitions', 'NOUN'), ('in', 'ADP'), ('architecture', 'NOUN'), ('and', 'CONJ'), ('is', 'VERB'), ('studying', 'VERB'), ('*-1', 'X'), ('to', 'PRT'), ('become', 'VERB'), ('a', 'DET'), ('teacher', 'NOUN'), ('.', '.')], [('Backe', 'NOUN'), ('is', 'VERB'), ('a', 'DET'), ('closely', 'ADV'), ('held', 'VERB'), ('media', 'NOUN'), ('firm', 'NOUN'), ('run', 'VERB'), ('*', 'X'), ('by', 'ADP'), ('former', 'ADJ'), ('CBS', 'NOUN'), ('Inc.', 'NOUN'), ('President', 'NOUN'), ('John', 'NOUN'), ('Backe', 'NOUN'), ('.', '.')], [('``', '.'), ('Insurance', 'NOUN'), ('agents', 'NOUN'), ('have', 'VERB'), ('been', 'VERB'), ('forced', 'VERB'), ('*-158', 'X'), ('by', 'ADP'), ('their', 'PRON'), ('companies', 'NOUN'), ('into', 'ADP'), ('*-2', 'X'), ('becoming', 'VERB'), ('registered', 'VERB'), ('reps', 'NOUN'), (',', '.'), (\"''\", '.'), ('he', 'PRON'), ('said', 'VERB'), ('*T*-1', 'X'), (',', '.'), ('``', '.'), ('but', 'CONJ'), ('they', 'PRON'), ('are', 'VERB'), ('not', 'ADV'), ('providing', 'VERB'), ('compliance', 'NOUN'), ('and', 'CONJ'), ('security-type', 'ADJ'), ('training', 'NOUN'), ('so', 'ADP'), ('that', 'ADP'), ('we', 'PRON'), ('can', 'VERB'), ('avoid', 'VERB'), ('stupid', 'ADJ'), ('mistakes', 'NOUN'), ('.', '.'), (\"''\", '.')], [('London', 'NOUN'), ('share', 'NOUN'), ('prices', 'NOUN'), ('were', 'VERB'), ('bolstered', 'VERB'), ('*-1', 'X'), ('largely', 'ADV'), ('by', 'ADP'), ('continued', 'VERB'), ('gains', 'NOUN'), ('on', 'ADP'), ('Wall', 'NOUN'), ('Street', 'NOUN'), ('and', 'CONJ'), ('technical', 'ADJ'), ('factors', 'NOUN'), ('affecting', 'VERB'), ('demand', 'NOUN'), ('for', 'ADP'), ('London', 'NOUN'), (\"'s\", 'PRT'), ('blue-chip', 'ADJ'), ('stocks', 'NOUN'), ('.', '.')], [('The', 'DET'), ('dollar', 'NOUN'), ('rose', 'VERB'), ('.', '.')], [('The', 'DET'), ('American', 'NOUN'), ('Stock', 'NOUN'), ('Exchange', 'NOUN'), ('Market', 'NOUN'), ('Value', 'NOUN'), ('Index', 'NOUN'), ('gained', 'VERB'), ('1.56', 'NUM'), ('to', 'PRT'), ('372.14', 'NUM'), ('.', '.')], [('In', 'ADP'), ('San', 'NOUN'), ('Francisco', 'NOUN'), (',', '.'), ('its', 'PRON'), ('backers', 'NOUN'), ('concede', 'VERB'), ('0', 'X'), ('the', 'DET'), ('ballpark', 'NOUN'), ('is', 'VERB'), ('at', 'ADP'), ('best', 'ADJ'), ('running', 'VERB'), ('even', 'ADV'), ('in', 'ADP'), ('the', 'DET'), ('polls', 'NOUN'), ('.', '.')], [('Trinity', 'NOUN'), ('Industries', 'NOUN'), ('Inc.', 'NOUN'), ('said', 'VERB'), ('0', 'X'), ('it', 'PRON'), ('reached', 'VERB'), ('a', 'DET'), ('preliminary', 'ADJ'), ('agreement', 'NOUN'), ('*', 'X'), ('to', 'PRT'), ('sell', 'VERB'), ('500', 'NUM'), ('railcar', 'NOUN'), ('platforms', 'NOUN'), ('to', 'PRT'), ('Trailer', 'NOUN'), ('Train', 'NOUN'), ('Co.', 'NOUN'), ('of', 'ADP'), ('Chicago', 'NOUN'), ('.', '.')], [('That', 'DET'), ('ought', 'VERB'), ('*-1', 'X'), ('to', 'PRT'), ('make', 'VERB'), ('sure', 'ADJ'), ('0', 'X'), ('we', 'PRON'), (\"'re\", 'VERB'), ('all', 'DET'), ('thinking', 'VERB'), ('for', 'ADP'), ('the', 'DET'), ('long', 'ADJ'), ('term', 'NOUN'), ('.', '.')], [('``', '.'), ('The', 'DET'), ('public', 'NOUN'), ('is', 'VERB'), ('buying', 'VERB'), ('the', 'DET'), ('market', 'NOUN'), ('when', 'ADV'), ('in', 'ADP'), ('reality', 'NOUN'), ('there', 'DET'), ('is', 'VERB'), ('plenty', 'NOUN'), ('of', 'ADP'), ('grain', 'NOUN'), ('0', 'X'), ('*T*-3', 'X'), ('to', 'PRT'), ('be', 'VERB'), ('shipped', 'VERB'), ('*-1', 'X'), ('*T*-2', 'X'), (',', '.'), (\"''\", '.'), ('said', 'VERB'), ('*T*-4', 'X'), ('Bill', 'NOUN'), ('Biedermann', 'NOUN'), (',', '.'), ('Allendale', 'NOUN'), ('Inc.', 'NOUN'), ('research', 'NOUN'), ('director', 'NOUN'), ('.', '.')], [('But', 'CONJ'), ('the', 'DET'), ('Big', 'NOUN'), ('Board', 'NOUN'), (\"'s\", 'PRT'), ('leadership', 'NOUN'), ('--', '.'), ('over', 'ADP'), ('the', 'DET'), ('specialists', 'NOUN'), (\"'\", 'PRT'), ('protests', 'NOUN'), ('--', '.'), ('two', 'NUM'), ('weeks', 'NOUN'), ('ago', 'ADP'), ('began', 'VERB'), ('*-1', 'X'), ('trading', 'NOUN'), ('a', 'DET'), ('new', 'ADJ'), ('stock', 'NOUN'), ('``', '.'), ('basket', 'NOUN'), (\"''\", '.'), ('product', 'NOUN'), ('designed', 'VERB'), ('*', 'X'), ('to', 'PRT'), ('facilitate', 'VERB'), ('program', 'NOUN'), ('trading', 'NOUN'), ('.', '.')], [('Professors', 'NOUN'), ('Philip', 'NOUN'), ('Kurland', 'NOUN'), ('of', 'ADP'), ('the', 'DET'), ('University', 'NOUN'), ('of', 'ADP'), ('Chicago', 'NOUN'), ('and', 'CONJ'), ('Laurence', 'NOUN'), ('Tribe', 'NOUN'), ('of', 'ADP'), ('Harvard', 'NOUN'), ('Law', 'NOUN'), ('School', 'NOUN'), ('said', 'VERB'), ('0', 'X'), ('any', 'DET'), ('effort', 'NOUN'), ('by', 'ADP'), ('President', 'NOUN'), ('Bush', 'NOUN'), ('0', 'X'), ('*', 'X'), ('to', 'PRT'), ('claim', 'VERB'), ('authority', 'NOUN'), ('for', 'ADP'), ('a', 'DET'), ('line-item', 'ADJ'), ('veto', 'NOUN'), ('*T*-1', 'X'), ('would', 'VERB'), ('contradict', 'VERB'), ('the', 'DET'), ('text', 'NOUN'), ('of', 'ADP'), ('the', 'DET'), ('Constitution', 'NOUN'), ('and', 'CONJ'), ('the', 'DET'), ('intent', 'NOUN'), ('of', 'ADP'), ('its', 'PRON'), ('authors', 'NOUN'), (',', '.'), ('as', 'ADV'), ('well', 'ADV'), ('as', 'ADP'), ('the', 'DET'), ('views', 'NOUN'), ('of', 'ADP'), ('previous', 'ADJ'), ('presidents', 'NOUN'), ('.', '.')], [('Peter', 'NOUN'), ('Anthony', 'NOUN'), (',', '.'), ('who', 'PRON'), ('*T*-1', 'X'), ('runs', 'VERB'), ('an', 'DET'), ('employment', 'NOUN'), ('agency', 'NOUN'), ('in', 'ADP'), ('New', 'NOUN'), ('York', 'NOUN'), (',', '.'), ('decries', 'VERB'), ('program', 'NOUN'), ('trading', 'NOUN'), ('as', 'ADP'), ('``', '.'), ('*', 'X'), ('limiting', 'VERB'), ('the', 'DET'), ('game', 'NOUN'), ('to', 'PRT'), ('a', 'DET'), ('few', 'ADJ'), (',', '.'), (\"''\", '.'), ('but', 'CONJ'), ('he', 'PRON'), ('also', 'ADV'), ('is', 'VERB'), (\"n't\", 'ADV'), ('sure', 'ADJ'), ('0', 'X'), ('it', 'PRON'), ('should', 'VERB'), ('be', 'VERB'), ('more', 'ADV'), ('strictly', 'ADV'), ('regulated', 'VERB'), ('*-2', 'X'), ('.', '.')], [('New', 'NOUN'), ('England', 'NOUN'), ('Electric', 'NOUN'), (',', '.'), ('based', 'VERB'), ('*', 'X'), ('in', 'ADP'), ('Westborough', 'NOUN'), (',', '.'), ('Mass.', 'NOUN'), (',', '.'), ('had', 'VERB'), ('offered', 'VERB'), ('$', '.'), ('2', 'NUM'), ('billion', 'NUM'), ('*U*', 'X'), ('*ICH*-1', 'X'), ('*-4', 'X'), ('to', 'PRT'), ('acquire', 'VERB'), ('PS', 'NOUN'), ('of', 'ADP'), ('New', 'NOUN'), ('Hampshire', 'NOUN'), (',', '.'), ('well', 'ADV'), ('below', 'ADP'), ('the', 'DET'), ('$', '.'), ('2.29', 'NUM'), ('billion', 'NUM'), ('*U*', 'X'), ('value', 'NOUN'), ('0', 'X'), ('United', 'NOUN'), ('Illuminating', 'NOUN'), ('places', 'NOUN'), ('*T*-2', 'X'), ('on', 'ADP'), ('its', 'PRON'), ('bid', 'NOUN'), ('and', 'CONJ'), ('the', 'DET'), ('$', '.'), ('2.25', 'NUM'), ('billion', 'NUM'), ('*U*', 'X'), ('0', 'X'), ('Northeast', 'NOUN'), ('says', 'VERB'), ('0', 'X'), ('its', 'PRON'), ('bid', 'NOUN'), ('is', 'VERB'), ('worth', 'ADP'), ('*T*-3', 'X'), ('.', '.')], [('Japanese', 'ADJ'), ('companies', 'NOUN'), ('have', 'VERB'), ('long', 'ADV'), ('had', 'VERB'), ('a', 'DET'), ('reputation', 'NOUN'), ('for', 'ADP'), ('*-2', 'X'), ('sacrificing', 'VERB'), ('short-term', 'ADJ'), ('profits', 'NOUN'), ('*-1', 'X'), ('to', 'PRT'), ('make', 'VERB'), ('a', 'DET'), ('sale', 'NOUN'), ('that', 'DET'), ('*T*-140', 'X'), ('may', 'VERB'), ('have', 'VERB'), ('long-term', 'ADJ'), ('benefits', 'NOUN'), ('.', '.')], [('The', 'DET'), ('NIH', 'NOUN'), ('currently', 'ADV'), ('spends', 'VERB'), ('about', 'ADP'), ('$', '.'), ('8', 'NUM'), ('million', 'NUM'), ('*U*', 'X'), ('*ICH*-2', 'X'), ('annually', 'ADV'), ('on', 'ADP'), ('fetal-tissue', 'ADJ'), ('research', 'NOUN'), ('out', 'ADP'), ('of', 'ADP'), ('a', 'DET'), ('total', 'ADJ'), ('research', 'NOUN'), ('budget', 'NOUN'), ('of', 'ADP'), ('$', '.'), ('8', 'NUM'), ('billion', 'NUM'), ('*U*', 'X'), ('.', '.')], [('5', 'X'), ('.', '.'), ('*', 'X'), ('Make', 'VERB'), ('a', 'DET'), ('lasting', 'ADJ'), ('difference', 'NOUN'), ('in', 'ADP'), ('the', 'DET'), ('regulatory', 'ADJ'), ('life', 'NOUN'), ('of', 'ADP'), ('an', 'DET'), ('American', 'ADJ'), ('savings-and-loan', 'ADJ'), ('association', 'NOUN'), ('through', 'ADP'), ('the', 'DET'), ('Foster', 'NOUN'), ('Corporate', 'NOUN'), ('Parents', 'NOUN'), ('Plan', 'NOUN'), ('.', '.')], [('The', 'DET'), ('Chicago', 'NOUN'), ('company', 'NOUN'), (\"'s\", 'PRT'), ('beverage', 'NOUN'), ('carrier', 'NOUN'), (',', '.'), ('*-1', 'X'), ('meant', 'VERB'), ('*-2', 'X'), ('to', 'PRT'), ('replace', 'VERB'), ('cardboard', 'NOUN'), ('trays', 'NOUN'), ('at', 'ADP'), ('concession', 'NOUN'), ('stands', 'NOUN'), ('and', 'CONJ'), ('fast-food', 'NOUN'), ('outlets', 'NOUN'), (',', '.'), ('resembles', 'VERB'), ('the', 'DET'), ('plastic', 'ADJ'), ('loops', 'NOUN'), ('used', 'VERB'), ('*', 'X'), ('on', 'ADP'), ('six-packs', 'NOUN'), ('of', 'ADP'), ('beer', 'NOUN'), (',', '.'), ('only', 'ADV'), ('the', 'DET'), ('loops', 'NOUN'), ('hang', 'VERB'), ('from', 'ADP'), ('a', 'DET'), ('web', 'NOUN'), ('of', 'ADP'), ('strings', 'NOUN'), ('.', '.')], [('Mrs.', 'NOUN'), ('Hills', 'NOUN'), ('said', 'VERB'), ('0', 'X'), ('many', 'ADJ'), ('of', 'ADP'), ('the', 'DET'), ('25', 'NUM'), ('countries', 'NOUN'), ('that', 'ADP'), ('she', 'PRON'), ('placed', 'VERB'), ('*T*-1', 'X'), ('under', 'ADP'), ('varying', 'VERB'), ('degrees', 'NOUN'), ('of', 'ADP'), ('scrutiny', 'NOUN'), ('have', 'VERB'), ('made', 'VERB'), ('``', '.'), ('genuine', 'ADJ'), ('progress', 'NOUN'), (\"''\", '.'), ('on', 'ADP'), ('this', 'DET'), ('touchy', 'ADJ'), ('issue', 'NOUN'), ('.', '.')], [('The', 'DET'), ('competition', 'NOUN'), ('has', 'VERB'), ('grown', 'VERB'), ('more', 'ADV'), ('intense', 'ADJ'), ('as', 'ADP'), ('bigger', 'ADJ'), ('banks', 'NOUN'), ('such', 'ADJ'), ('as', 'ADP'), ('Norwest', 'NOUN'), ('Corp.', 'NOUN'), ('of', 'ADP'), ('Minneapolis', 'NOUN'), ('and', 'CONJ'), ('Chemical', 'NOUN'), ('Banking', 'NOUN'), ('Corp.', 'NOUN'), ('of', 'ADP'), ('New', 'NOUN'), ('York', 'NOUN'), ('extend', 'VERB'), ('their', 'PRON'), ('market-share', 'ADJ'), ('battles', 'NOUN'), ('into', 'ADP'), ('small', 'ADJ'), ('towns', 'NOUN'), ('across', 'ADP'), ('the', 'DET'), ('nation', 'NOUN'), ('.', '.')], [('Japanese', 'ADJ'), ('companies', 'NOUN'), ('have', 'VERB'), ('financed', 'VERB'), ('small', 'ADJ'), ('and', 'CONJ'), ('medium-sized', 'ADJ'), ('U.S.', 'NOUN'), ('firms', 'NOUN'), ('for', 'ADP'), ('years', 'NOUN'), (',', '.'), ('but', 'CONJ'), ('in', 'ADP'), ('recent', 'ADJ'), ('months', 'NOUN'), (',', '.'), ('the', 'DET'), ('pace', 'NOUN'), ('has', 'VERB'), ('taken', 'VERB'), ('off', 'PRT'), ('.', '.')], [('Silver', 'NOUN'), ('is', 'VERB'), ('also', 'ADV'), ('under', 'ADP'), ('pressure', 'NOUN'), ('of', 'ADP'), ('``', '.'), ('extremely', 'ADV'), ('high', 'ADJ'), (\"''\", '.'), ('inventories', 'NOUN'), ('in', 'ADP'), ('warehouses', 'NOUN'), ('of', 'ADP'), ('the', 'DET'), ('Commodity', 'NOUN'), ('Exchange', 'NOUN'), (',', '.'), ('he', 'PRON'), ('said', 'VERB'), ('0', 'X'), ('*T*-1', 'X'), ('.', '.')], [('Sales', 'NOUN'), ('by', 'ADP'), ('these', 'DET'), ('subsidiaries', 'NOUN'), ('in', 'ADP'), ('the', 'DET'), ('fiscal', 'ADJ'), ('year', 'NOUN'), ('ending', 'VERB'), ('last', 'ADJ'), ('March', 'NOUN'), ('were', 'VERB'), ('more', 'ADJ'), ('than', 'ADP'), ('$', '.'), ('17', 'NUM'), ('billion', 'NUM'), ('*U*', 'X'), ('.', '.')], [('A', 'DET'), ('White', 'NOUN'), ('House', 'NOUN'), ('spokesman', 'NOUN'), ('condemned', 'VERB'), ('the', 'DET'), ('truce', 'NOUN'), ('suspension', 'NOUN'), ('as', 'ADP'), ('``', '.'), ('deplorable', 'ADJ'), (\"''\", '.'), ('but', 'CONJ'), ('brushed', 'VERB'), ('off', 'PRT'), ('talk', 'NOUN'), ('of', 'ADP'), ('*', 'X'), ('renewing', 'VERB'), ('military', 'ADJ'), ('funding', 'NOUN'), ('for', 'ADP'), ('the', 'DET'), ('insurgents', 'NOUN'), ('.', '.')], [('$', '.'), ('100', 'NUM'), ('million', 'NUM'), ('*U*', 'X'), ('of', 'ADP'), ('Eurobonds', 'NOUN'), ('due', 'ADJ'), ('Nov.', 'NOUN'), ('16', 'NUM'), (',', '.'), ('1993', 'NUM'), (',', '.'), ('with', 'ADP'), ('equity-purchase', 'ADJ'), ('warrants', 'NOUN'), (',', '.'), ('indicating', 'VERB'), ('a', 'DET'), ('3', 'NUM'), ('7\\\\/8', 'NUM'), ('%', 'NOUN'), ('coupon', 'NOUN'), ('at', 'ADP'), ('par', 'NOUN'), (',', '.'), ('via', 'ADP'), ('Daiwa', 'NOUN'), ('Europe', 'NOUN'), ('Ltd', 'NOUN'), ('.', '.')], [('The', 'DET'), ('record', 'NOUN'), ('corn-buying', 'ADJ'), ('binge', 'NOUN'), ('by', 'ADP'), ('the', 'DET'), ('Soviet', 'NOUN'), ('Union', 'NOUN'), ('is', 'VERB'), ('causing', 'VERB'), ('serious', 'ADJ'), ('bottlenecks', 'NOUN'), ('in', 'ADP'), ('the', 'DET'), ('U.S.', 'NOUN'), ('grain', 'NOUN'), ('pipeline', 'NOUN'), ('.', '.')], [('The', 'DET'), ('finding', 'NOUN'), ('probably', 'ADV'), ('will', 'VERB'), ('support', 'VERB'), ('those', 'DET'), ('who', 'PRON'), ('*T*-6', 'X'), ('argue', 'VERB'), ('that', 'ADP'), ('the', 'DET'), ('U.S.', 'NOUN'), ('should', 'VERB'), ('regulate', 'VERB'), ('the', 'DET'), ('class', 'NOUN'), ('of', 'ADP'), ('asbestos', 'NOUN'), ('including', 'VERB'), ('crocidolite', 'NOUN'), ('more', 'ADV'), ('stringently', 'ADV'), ('than', 'ADP'), ('the', 'DET'), ('common', 'ADJ'), ('kind', 'NOUN'), ('of', 'ADP'), ('asbestos', 'NOUN'), (',', '.'), ('chrysotile', 'NOUN'), (',', '.'), ('found', 'VERB'), ('*', 'X'), ('in', 'ADP'), ('most', 'ADJ'), ('schools', 'NOUN'), ('and', 'CONJ'), ('other', 'ADJ'), ('buildings', 'NOUN'), (',', '.'), ('Dr.', 'NOUN'), ('Talcott', 'NOUN'), ('said', 'VERB'), ('0', 'X'), ('*T*-1', 'X'), ('.', '.')], [('Separately', 'ADV'), (',', '.'), ('Reuter', 'NOUN'), ('reported', 'VERB'), ('that', 'ADP'), ('the', 'DET'), ('Papua-New', 'NOUN'), ('Guinea', 'NOUN'), ('government', 'NOUN'), ('urged', 'VERB'), ('its', 'PRON'), ('Parliament', 'NOUN'), ('*-1', 'X'), ('to', 'PRT'), ('extend', 'VERB'), ('a', 'DET'), ('state', 'NOUN'), ('of', 'ADP'), ('emergency', 'NOUN'), ('in', 'ADP'), ('copper-rich', 'ADJ'), ('Bougainville', 'NOUN'), ('Island', 'NOUN'), ('for', 'ADP'), ('two', 'NUM'), ('months', 'NOUN'), ('.', '.')]]\n"
     ]
    }
   ],
   "source": [
    "# Splitting into data into train and test sets in the ratio 95:5\n",
    "\n",
    "random.seed(1234)\n",
    "train_set, test_set = train_test_split(nltk_data,train_size=0.95, test_size=0.05, random_state = 3)\n",
    "\n",
    "print(\"Train Data Set Length : \", len(train_set))\n",
    "print(\"Test Data Set Length : \", len(test_set))\n",
    "\n",
    "print(\"Train Data Set -\\n\")\n",
    "print(train_set[:30])"
   ]
  },
  {
   "cell_type": "code",
   "execution_count": 5,
   "metadata": {},
   "outputs": [
    {
     "name": "stdout",
     "output_type": "stream",
     "text": [
      "Train Tagged Words :  95680\n",
      "Test Tagged Words :  4996\n"
     ]
    }
   ],
   "source": [
    "# Getting the list of tagged words from both train and test data sets\n",
    "\n",
    "train_tagged_words = [tup for sent in train_set for tup in sent]\n",
    "print(\"Train Tagged Words : \", len(train_tagged_words))\n",
    "\n",
    "test_tagged_words = [tup[0] for sent in test_set for tup in sent]\n",
    "print(\"Test Tagged Words : \", len(test_tagged_words))"
   ]
  },
  {
   "cell_type": "code",
   "execution_count": 6,
   "metadata": {},
   "outputs": [
    {
     "data": {
      "text/plain": [
       "[('The', 'DET'),\n",
       " ('vacation', 'NOUN'),\n",
       " ('packages', 'NOUN'),\n",
       " ('include', 'VERB'),\n",
       " ('hotel', 'NOUN'),\n",
       " ('accommodations', 'NOUN'),\n",
       " ('and', 'CONJ'),\n",
       " (',', '.'),\n",
       " ('in', 'ADP'),\n",
       " ('some', 'DET'),\n",
       " ('cases', 'NOUN'),\n",
       " (',', '.'),\n",
       " ('tours', 'NOUN'),\n",
       " ('or', 'CONJ'),\n",
       " ('tickets', 'NOUN'),\n",
       " ('to', 'PRT'),\n",
       " ('local', 'ADJ'),\n",
       " ('attractions', 'NOUN'),\n",
       " (',', '.'),\n",
       " ('but', 'CONJ'),\n",
       " ('not', 'ADV'),\n",
       " ('meals', 'NOUN'),\n",
       " ('.', '.'),\n",
       " ('For', 'ADP'),\n",
       " ('the', 'DET'),\n",
       " ('first', 'ADJ'),\n",
       " ('time', 'NOUN'),\n",
       " (',', '.'),\n",
       " ('the', 'DET'),\n",
       " ('October', 'NOUN')]"
      ]
     },
     "execution_count": 6,
     "metadata": {},
     "output_type": "execute_result"
    }
   ],
   "source": [
    "# Let us look at few of the the tagged words in the training data set\n",
    "\n",
    "train_tagged_words[:30]"
   ]
  },
  {
   "cell_type": "code",
   "execution_count": 7,
   "metadata": {},
   "outputs": [
    {
     "data": {
      "text/plain": [
       "['The',\n",
       " 'vacation',\n",
       " 'packages',\n",
       " 'include',\n",
       " 'hotel',\n",
       " 'accommodations',\n",
       " 'and',\n",
       " ',',\n",
       " 'in',\n",
       " 'some',\n",
       " 'cases',\n",
       " ',',\n",
       " 'tours',\n",
       " 'or',\n",
       " 'tickets',\n",
       " 'to',\n",
       " 'local',\n",
       " 'attractions',\n",
       " ',',\n",
       " 'but',\n",
       " 'not',\n",
       " 'meals',\n",
       " '.',\n",
       " 'For',\n",
       " 'the',\n",
       " 'first',\n",
       " 'time',\n",
       " ',',\n",
       " 'the',\n",
       " 'October']"
      ]
     },
     "execution_count": 7,
     "metadata": {},
     "output_type": "execute_result"
    }
   ],
   "source": [
    "# Let us view the tokens of the training data set\n",
    "\n",
    "train_tagged_tokens = [tag[0] for tag in train_tagged_words]\n",
    "train_tagged_tokens[:30]"
   ]
  },
  {
   "cell_type": "code",
   "execution_count": 8,
   "metadata": {},
   "outputs": [
    {
     "data": {
      "text/plain": [
       "['DET',\n",
       " 'NOUN',\n",
       " 'NOUN',\n",
       " 'VERB',\n",
       " 'NOUN',\n",
       " 'NOUN',\n",
       " 'CONJ',\n",
       " '.',\n",
       " 'ADP',\n",
       " 'DET',\n",
       " 'NOUN',\n",
       " '.',\n",
       " 'NOUN',\n",
       " 'CONJ',\n",
       " 'NOUN',\n",
       " 'PRT',\n",
       " 'ADJ',\n",
       " 'NOUN',\n",
       " '.',\n",
       " 'CONJ',\n",
       " 'ADV',\n",
       " 'NOUN',\n",
       " '.',\n",
       " 'ADP',\n",
       " 'DET',\n",
       " 'ADJ',\n",
       " 'NOUN',\n",
       " '.',\n",
       " 'DET',\n",
       " 'NOUN']"
      ]
     },
     "execution_count": 8,
     "metadata": {},
     "output_type": "execute_result"
    }
   ],
   "source": [
    "# Let us see the POS tags for the tokens of the training data set\n",
    "\n",
    "train_tagged_pos_tokens = [tag[1] for tag in train_tagged_words]\n",
    "train_tagged_pos_tokens[:30]"
   ]
  },
  {
   "cell_type": "code",
   "execution_count": 9,
   "metadata": {},
   "outputs": [],
   "source": [
    "# Let us build the train vocabulary set\n",
    "\n",
    "V = set(train_tagged_tokens)"
   ]
  },
  {
   "cell_type": "code",
   "execution_count": 10,
   "metadata": {},
   "outputs": [],
   "source": [
    "# Let us now build the train POS tag set\n",
    "\n",
    "train_pos_tag_set = set(train_tagged_pos_tokens)"
   ]
  },
  {
   "cell_type": "code",
   "execution_count": 11,
   "metadata": {},
   "outputs": [
    {
     "name": "stdout",
     "output_type": "stream",
     "text": [
      "12\n"
     ]
    }
   ],
   "source": [
    "# let us check the unique number of tags in the train data set\n",
    "\n",
    "print(len(train_pos_tag_set))"
   ]
  },
  {
   "cell_type": "code",
   "execution_count": 12,
   "metadata": {},
   "outputs": [
    {
     "name": "stdout",
     "output_type": "stream",
     "text": [
      "12095\n"
     ]
    }
   ],
   "source": [
    "# let us now check the number of words in the train vocabulary set\n",
    "\n",
    "print(len(V))"
   ]
  },
  {
   "cell_type": "markdown",
   "metadata": {},
   "source": [
    "### Build the Vanilla Viterbi based POS tagger"
   ]
  },
  {
   "cell_type": "code",
   "execution_count": 13,
   "metadata": {},
   "outputs": [],
   "source": [
    "# Computing P(w/t) and storing in t x v matrix\n",
    "\n",
    "t = len(train_pos_tag_set)\n",
    "v = len(V)\n",
    "w_given_t = np.zeros((t, v))"
   ]
  },
  {
   "cell_type": "code",
   "execution_count": 14,
   "metadata": {},
   "outputs": [],
   "source": [
    "# Function to compute the Emission Probability (word given tag)\n",
    "\n",
    "def word_given_tag(word, tag, train_bag = train_tagged_words):\n",
    "    tag_list = [pair for pair in train_bag if pair[1]==tag]\n",
    "    count_tag = len(tag_list)\n",
    "    w_given_tag_list = [pair[0] for pair in tag_list if pair[0]==word]\n",
    "    count_w_given_tag = len(w_given_tag_list)\n",
    "    \n",
    "    return (count_w_given_tag, count_tag)"
   ]
  },
  {
   "cell_type": "code",
   "execution_count": 15,
   "metadata": {},
   "outputs": [],
   "source": [
    "# Function to compute the Transition Probability [tag given tag : tag2(t2) given tag1 (t1)]\n",
    "\n",
    "def t2_given_t1(t2, t1, train_bag = train_tagged_words):\n",
    "    tags = [pair[1] for pair in train_bag]\n",
    "    count_t1 = len([t for t in tags if t==t1])\n",
    "    count_t2_t1 = 0\n",
    "    for index in range(len(tags)-1):\n",
    "        if tags[index]==t1 and tags[index+1] == t2:\n",
    "            count_t2_t1 += 1\n",
    "    return (count_t2_t1, count_t1)"
   ]
  },
  {
   "cell_type": "code",
   "execution_count": 16,
   "metadata": {},
   "outputs": [],
   "source": [
    "# Creating t x t transition matrix of tags\n",
    "# Each column is t2, each row is t1\n",
    "# Thus M(i, j) represents P(tj given ti)\n",
    "\n",
    "tags_matrix = np.zeros((len(train_pos_tag_set), len(train_pos_tag_set)), dtype='float32')\n",
    "for i, t1 in enumerate(list(train_pos_tag_set)):\n",
    "    for j, t2 in enumerate(list(train_pos_tag_set)): \n",
    "        tags_matrix[i, j] = t2_given_t1(t2, t1)[0]/t2_given_t1(t2, t1)[1]"
   ]
  },
  {
   "cell_type": "code",
   "execution_count": 17,
   "metadata": {},
   "outputs": [
    {
     "data": {
      "text/plain": [
       "array([[7.68049154e-03, 5.37634408e-03, 7.68049154e-03, 9.98463947e-03,\n",
       "        2.06221193e-01, 9.29339454e-02, 1.22887865e-02, 4.85791087e-01,\n",
       "        4.22427021e-02, 3.45622115e-02, 2.26574503e-02, 7.25806430e-02],\n",
       "       [5.86319230e-02, 4.65332705e-04, 4.00186144e-02, 1.19125172e-01,\n",
       "        3.53187531e-01, 8.37598927e-03, 5.11865970e-03, 1.56351790e-01,\n",
       "        3.58306207e-02, 5.67705892e-02, 5.07212654e-02, 1.15402512e-01],\n",
       "       [1.48367952e-03, 1.42433234e-02, 1.83679521e-01, 2.96735903e-03,\n",
       "        3.49258155e-01, 2.10089028e-01, 2.81899106e-02, 1.83976255e-02,\n",
       "        1.20178044e-01, 3.26409494e-03, 3.44213657e-02, 3.38278934e-02],\n",
       "       [3.62362596e-03, 4.83150128e-04, 2.25872695e-02, 5.43543929e-03,\n",
       "        6.36429548e-01, 4.52953242e-02, 2.41575064e-04, 3.99806723e-02,\n",
       "        1.75141934e-02, 1.30450539e-02, 8.93827714e-03, 2.06425890e-01],\n",
       "       [4.74210270e-03, 4.27518785e-02, 9.33829416e-03, 1.29131097e-02,\n",
       "        2.64244556e-01, 2.91821696e-02, 4.42474633e-02, 1.47114620e-01,\n",
       "        2.39695042e-01, 1.71445254e-02, 1.76223829e-01, 1.24024218e-02],\n",
       "       [5.53083271e-02, 1.06484424e-02, 2.54291156e-03, 5.45136668e-02,\n",
       "        6.21424019e-02, 7.50158951e-02, 1.84202164e-01, 2.05499053e-01,\n",
       "        1.63382068e-01, 2.52701845e-02, 1.43992364e-01, 1.74825173e-02],\n",
       "       [1.88925080e-02, 2.28013028e-03, 5.73289916e-02, 1.00977197e-01,\n",
       "        2.46579811e-01, 1.40065150e-02, 1.62866444e-03, 3.98697078e-01,\n",
       "        4.33224738e-02, 1.04234526e-02, 2.11726390e-02, 8.46905559e-02],\n",
       "       [3.56202573e-02, 5.34303859e-03, 2.33854726e-02, 1.35589287e-01,\n",
       "        1.09803312e-01, 2.17361003e-01, 3.15161832e-02, 1.69351086e-01,\n",
       "        3.51556465e-02, 8.08424950e-02, 9.15285721e-02, 6.45036399e-02],\n",
       "       [6.60089701e-02, 5.73991016e-02, 8.04484338e-02, 1.72466367e-01,\n",
       "        2.23318383e-01, 2.76233181e-02, 2.42152461e-03, 8.91479850e-02,\n",
       "        9.45291445e-02, 5.13004474e-02, 9.11210775e-02, 4.41255607e-02],\n",
       "       [1.49800265e-02, 6.99067907e-03, 3.26231681e-02, 6.82423413e-02,\n",
       "        3.22902799e-02, 2.33022645e-02, 1.39813581e-02, 3.45539272e-01,\n",
       "        1.34487346e-01, 8.02263618e-02, 1.17177099e-01, 1.30159780e-01],\n",
       "       [6.88142106e-02, 7.49143830e-04, 6.26070201e-02, 3.23951185e-01,\n",
       "        3.21168661e-01, 3.45676355e-02, 1.39126717e-03, 8.24058242e-03,\n",
       "        4.02397253e-02, 1.34845888e-02, 1.76583901e-02, 1.07127570e-01],\n",
       "       [4.92610852e-04, 1.62561573e-02, 2.10180618e-02, 4.59770113e-03,\n",
       "        7.01806247e-01, 2.06896551e-02, 1.05090309e-02, 1.21510671e-02,\n",
       "        6.45320192e-02, 4.76190494e-03, 7.70114958e-02, 6.61740527e-02]],\n",
       "      dtype=float32)"
      ]
     },
     "execution_count": 17,
     "metadata": {},
     "output_type": "execute_result"
    }
   ],
   "source": [
    "tags_matrix"
   ]
  },
  {
   "cell_type": "code",
   "execution_count": 18,
   "metadata": {},
   "outputs": [
    {
     "data": {
      "text/html": [
       "<div>\n",
       "<style scoped>\n",
       "    .dataframe tbody tr th:only-of-type {\n",
       "        vertical-align: middle;\n",
       "    }\n",
       "\n",
       "    .dataframe tbody tr th {\n",
       "        vertical-align: top;\n",
       "    }\n",
       "\n",
       "    .dataframe thead th {\n",
       "        text-align: right;\n",
       "    }\n",
       "</style>\n",
       "<table border=\"1\" class=\"dataframe\">\n",
       "  <thead>\n",
       "    <tr style=\"text-align: right;\">\n",
       "      <th></th>\n",
       "      <th>PRON</th>\n",
       "      <th>CONJ</th>\n",
       "      <th>NUM</th>\n",
       "      <th>DET</th>\n",
       "      <th>NOUN</th>\n",
       "      <th>X</th>\n",
       "      <th>PRT</th>\n",
       "      <th>VERB</th>\n",
       "      <th>.</th>\n",
       "      <th>ADV</th>\n",
       "      <th>ADP</th>\n",
       "      <th>ADJ</th>\n",
       "    </tr>\n",
       "  </thead>\n",
       "  <tbody>\n",
       "    <tr>\n",
       "      <th>PRON</th>\n",
       "      <td>0.007680</td>\n",
       "      <td>0.005376</td>\n",
       "      <td>0.007680</td>\n",
       "      <td>0.009985</td>\n",
       "      <td>0.206221</td>\n",
       "      <td>0.092934</td>\n",
       "      <td>0.012289</td>\n",
       "      <td>0.485791</td>\n",
       "      <td>0.042243</td>\n",
       "      <td>0.034562</td>\n",
       "      <td>0.022657</td>\n",
       "      <td>0.072581</td>\n",
       "    </tr>\n",
       "    <tr>\n",
       "      <th>CONJ</th>\n",
       "      <td>0.058632</td>\n",
       "      <td>0.000465</td>\n",
       "      <td>0.040019</td>\n",
       "      <td>0.119125</td>\n",
       "      <td>0.353188</td>\n",
       "      <td>0.008376</td>\n",
       "      <td>0.005119</td>\n",
       "      <td>0.156352</td>\n",
       "      <td>0.035831</td>\n",
       "      <td>0.056771</td>\n",
       "      <td>0.050721</td>\n",
       "      <td>0.115403</td>\n",
       "    </tr>\n",
       "    <tr>\n",
       "      <th>NUM</th>\n",
       "      <td>0.001484</td>\n",
       "      <td>0.014243</td>\n",
       "      <td>0.183680</td>\n",
       "      <td>0.002967</td>\n",
       "      <td>0.349258</td>\n",
       "      <td>0.210089</td>\n",
       "      <td>0.028190</td>\n",
       "      <td>0.018398</td>\n",
       "      <td>0.120178</td>\n",
       "      <td>0.003264</td>\n",
       "      <td>0.034421</td>\n",
       "      <td>0.033828</td>\n",
       "    </tr>\n",
       "    <tr>\n",
       "      <th>DET</th>\n",
       "      <td>0.003624</td>\n",
       "      <td>0.000483</td>\n",
       "      <td>0.022587</td>\n",
       "      <td>0.005435</td>\n",
       "      <td>0.636430</td>\n",
       "      <td>0.045295</td>\n",
       "      <td>0.000242</td>\n",
       "      <td>0.039981</td>\n",
       "      <td>0.017514</td>\n",
       "      <td>0.013045</td>\n",
       "      <td>0.008938</td>\n",
       "      <td>0.206426</td>\n",
       "    </tr>\n",
       "    <tr>\n",
       "      <th>NOUN</th>\n",
       "      <td>0.004742</td>\n",
       "      <td>0.042752</td>\n",
       "      <td>0.009338</td>\n",
       "      <td>0.012913</td>\n",
       "      <td>0.264245</td>\n",
       "      <td>0.029182</td>\n",
       "      <td>0.044247</td>\n",
       "      <td>0.147115</td>\n",
       "      <td>0.239695</td>\n",
       "      <td>0.017145</td>\n",
       "      <td>0.176224</td>\n",
       "      <td>0.012402</td>\n",
       "    </tr>\n",
       "    <tr>\n",
       "      <th>X</th>\n",
       "      <td>0.055308</td>\n",
       "      <td>0.010648</td>\n",
       "      <td>0.002543</td>\n",
       "      <td>0.054514</td>\n",
       "      <td>0.062142</td>\n",
       "      <td>0.075016</td>\n",
       "      <td>0.184202</td>\n",
       "      <td>0.205499</td>\n",
       "      <td>0.163382</td>\n",
       "      <td>0.025270</td>\n",
       "      <td>0.143992</td>\n",
       "      <td>0.017483</td>\n",
       "    </tr>\n",
       "    <tr>\n",
       "      <th>PRT</th>\n",
       "      <td>0.018893</td>\n",
       "      <td>0.002280</td>\n",
       "      <td>0.057329</td>\n",
       "      <td>0.100977</td>\n",
       "      <td>0.246580</td>\n",
       "      <td>0.014007</td>\n",
       "      <td>0.001629</td>\n",
       "      <td>0.398697</td>\n",
       "      <td>0.043322</td>\n",
       "      <td>0.010423</td>\n",
       "      <td>0.021173</td>\n",
       "      <td>0.084691</td>\n",
       "    </tr>\n",
       "    <tr>\n",
       "      <th>VERB</th>\n",
       "      <td>0.035620</td>\n",
       "      <td>0.005343</td>\n",
       "      <td>0.023385</td>\n",
       "      <td>0.135589</td>\n",
       "      <td>0.109803</td>\n",
       "      <td>0.217361</td>\n",
       "      <td>0.031516</td>\n",
       "      <td>0.169351</td>\n",
       "      <td>0.035156</td>\n",
       "      <td>0.080842</td>\n",
       "      <td>0.091529</td>\n",
       "      <td>0.064504</td>\n",
       "    </tr>\n",
       "    <tr>\n",
       "      <th>.</th>\n",
       "      <td>0.066009</td>\n",
       "      <td>0.057399</td>\n",
       "      <td>0.080448</td>\n",
       "      <td>0.172466</td>\n",
       "      <td>0.223318</td>\n",
       "      <td>0.027623</td>\n",
       "      <td>0.002422</td>\n",
       "      <td>0.089148</td>\n",
       "      <td>0.094529</td>\n",
       "      <td>0.051300</td>\n",
       "      <td>0.091121</td>\n",
       "      <td>0.044126</td>\n",
       "    </tr>\n",
       "    <tr>\n",
       "      <th>ADV</th>\n",
       "      <td>0.014980</td>\n",
       "      <td>0.006991</td>\n",
       "      <td>0.032623</td>\n",
       "      <td>0.068242</td>\n",
       "      <td>0.032290</td>\n",
       "      <td>0.023302</td>\n",
       "      <td>0.013981</td>\n",
       "      <td>0.345539</td>\n",
       "      <td>0.134487</td>\n",
       "      <td>0.080226</td>\n",
       "      <td>0.117177</td>\n",
       "      <td>0.130160</td>\n",
       "    </tr>\n",
       "    <tr>\n",
       "      <th>ADP</th>\n",
       "      <td>0.068814</td>\n",
       "      <td>0.000749</td>\n",
       "      <td>0.062607</td>\n",
       "      <td>0.323951</td>\n",
       "      <td>0.321169</td>\n",
       "      <td>0.034568</td>\n",
       "      <td>0.001391</td>\n",
       "      <td>0.008241</td>\n",
       "      <td>0.040240</td>\n",
       "      <td>0.013485</td>\n",
       "      <td>0.017658</td>\n",
       "      <td>0.107128</td>\n",
       "    </tr>\n",
       "    <tr>\n",
       "      <th>ADJ</th>\n",
       "      <td>0.000493</td>\n",
       "      <td>0.016256</td>\n",
       "      <td>0.021018</td>\n",
       "      <td>0.004598</td>\n",
       "      <td>0.701806</td>\n",
       "      <td>0.020690</td>\n",
       "      <td>0.010509</td>\n",
       "      <td>0.012151</td>\n",
       "      <td>0.064532</td>\n",
       "      <td>0.004762</td>\n",
       "      <td>0.077011</td>\n",
       "      <td>0.066174</td>\n",
       "    </tr>\n",
       "  </tbody>\n",
       "</table>\n",
       "</div>"
      ],
      "text/plain": [
       "          PRON      CONJ       NUM       DET      NOUN         X       PRT  \\\n",
       "PRON  0.007680  0.005376  0.007680  0.009985  0.206221  0.092934  0.012289   \n",
       "CONJ  0.058632  0.000465  0.040019  0.119125  0.353188  0.008376  0.005119   \n",
       "NUM   0.001484  0.014243  0.183680  0.002967  0.349258  0.210089  0.028190   \n",
       "DET   0.003624  0.000483  0.022587  0.005435  0.636430  0.045295  0.000242   \n",
       "NOUN  0.004742  0.042752  0.009338  0.012913  0.264245  0.029182  0.044247   \n",
       "X     0.055308  0.010648  0.002543  0.054514  0.062142  0.075016  0.184202   \n",
       "PRT   0.018893  0.002280  0.057329  0.100977  0.246580  0.014007  0.001629   \n",
       "VERB  0.035620  0.005343  0.023385  0.135589  0.109803  0.217361  0.031516   \n",
       ".     0.066009  0.057399  0.080448  0.172466  0.223318  0.027623  0.002422   \n",
       "ADV   0.014980  0.006991  0.032623  0.068242  0.032290  0.023302  0.013981   \n",
       "ADP   0.068814  0.000749  0.062607  0.323951  0.321169  0.034568  0.001391   \n",
       "ADJ   0.000493  0.016256  0.021018  0.004598  0.701806  0.020690  0.010509   \n",
       "\n",
       "          VERB         .       ADV       ADP       ADJ  \n",
       "PRON  0.485791  0.042243  0.034562  0.022657  0.072581  \n",
       "CONJ  0.156352  0.035831  0.056771  0.050721  0.115403  \n",
       "NUM   0.018398  0.120178  0.003264  0.034421  0.033828  \n",
       "DET   0.039981  0.017514  0.013045  0.008938  0.206426  \n",
       "NOUN  0.147115  0.239695  0.017145  0.176224  0.012402  \n",
       "X     0.205499  0.163382  0.025270  0.143992  0.017483  \n",
       "PRT   0.398697  0.043322  0.010423  0.021173  0.084691  \n",
       "VERB  0.169351  0.035156  0.080842  0.091529  0.064504  \n",
       ".     0.089148  0.094529  0.051300  0.091121  0.044126  \n",
       "ADV   0.345539  0.134487  0.080226  0.117177  0.130160  \n",
       "ADP   0.008241  0.040240  0.013485  0.017658  0.107128  \n",
       "ADJ   0.012151  0.064532  0.004762  0.077011  0.066174  "
      ]
     },
     "execution_count": 18,
     "metadata": {},
     "output_type": "execute_result"
    }
   ],
   "source": [
    "# Convert the matrix to a dataframe for better readability purpose\n",
    "\n",
    "tags_df = pd.DataFrame(tags_matrix, columns = list(train_pos_tag_set), index=list(train_pos_tag_set))\n",
    "tags_df"
   ]
  },
  {
   "cell_type": "code",
   "execution_count": 19,
   "metadata": {},
   "outputs": [
    {
     "data": {
      "image/png": "[encoded data removed]",
      "text/plain": [
       "<Figure size 1296x864 with 2 Axes>"
      ]
     },
     "metadata": {
      "needs_background": "light"
     },
     "output_type": "display_data"
    }
   ],
   "source": [
    "# Heatmap of tags matrix\n",
    "# T(i, j) means P(tag j given tag i)\n",
    "\n",
    "plt.figure(figsize=(18, 12))\n",
    "sns.heatmap(tags_df)\n",
    "plt.show()"
   ]
  },
  {
   "cell_type": "code",
   "execution_count": 20,
   "metadata": {},
   "outputs": [
    {
     "data": {
      "image/png": "[encoded data removed]",
      "text/plain": [
       "<Figure size 1296x864 with 2 Axes>"
      ]
     },
     "metadata": {
      "needs_background": "light"
     },
     "output_type": "display_data"
    }
   ],
   "source": [
    "# Frequent tags\n",
    "# Filter the df to get P(t2, t1) > 0.5\n",
    "\n",
    "tags_frequent = tags_df[tags_df>0.5]\n",
    "plt.figure(figsize=(18, 12))\n",
    "sns.heatmap(tags_frequent)\n",
    "plt.show()"
   ]
  },
  {
   "cell_type": "code",
   "execution_count": 21,
   "metadata": {},
   "outputs": [],
   "source": [
    "# Viterbi Heuristic\n",
    " \n",
    "def Viterbi(words, train_bag = train_tagged_words):\n",
    "    state = []\n",
    "    T = list(set([pair[1] for pair in train_bag]))\n",
    "    \n",
    "    for key, word in enumerate(words):\n",
    "        # Initialise list of probability column for a given observation\n",
    "        p = [] \n",
    "        for tag in T:\n",
    "            if key == 0:\n",
    "                transition_p = tags_df.loc['.', tag]\n",
    "            else:\n",
    "                transition_p = tags_df.loc[state[-1], tag]\n",
    "                \n",
    "            # Compute emission and state probabilities\n",
    "            emission_p = word_given_tag(words[key], tag)[0]/word_given_tag(words[key], tag)[1]\n",
    "            state_probability = emission_p * transition_p    \n",
    "            p.append(state_probability)\n",
    "            \n",
    "        pmax = max(p)\n",
    "        # Getting state for which probability is maximum\n",
    "        state_max = T[p.index(pmax)] \n",
    "        state.append(state_max)\n",
    "    return list(zip(words, state))"
   ]
  },
  {
   "cell_type": "code",
   "execution_count": 22,
   "metadata": {},
   "outputs": [],
   "source": [
    "# Let us test Viterbi algorithm on a few sample sentences of test dataset\n",
    "\n",
    "random.seed(1234)\n",
    "\n",
    "# choose random 5 sents\n",
    "rndom = [random.randint(1,len(test_set)) for x in range(5)]\n",
    "\n",
    "# list of sents\n",
    "test_run = [test_set[i] for i in rndom]\n",
    "\n",
    "# list of tagged words\n",
    "test_run_base = [tup for sent in test_run for tup in sent]\n",
    "\n",
    "# list of untagged words\n",
    "test_tagged_words = [tup[0] for sent in test_run for tup in sent]"
   ]
  },
  {
   "cell_type": "code",
   "execution_count": 23,
   "metadata": {},
   "outputs": [
    {
     "name": "stdout",
     "output_type": "stream",
     "text": [
      "Time taken in seconds:  41.00134515762329\n"
     ]
    }
   ],
   "source": [
    "# Tagging the test sentences\n",
    "\n",
    "start = time.time()\n",
    "tagged_seq = Viterbi(test_tagged_words)\n",
    "end = time.time()\n",
    "difference = end-start\n",
    "print(\"Time taken in seconds: \", difference)"
   ]
  },
  {
   "cell_type": "code",
   "execution_count": 24,
   "metadata": {},
   "outputs": [
    {
     "name": "stdout",
     "output_type": "stream",
     "text": [
      "[('Chrysler', 'NOUN'), ('said', 'VERB'), ('0', 'X'), ('its', 'PRON'), ('trucks', 'NOUN'), ('and', 'CONJ'), ('vans', 'NOUN'), ('already', 'ADV'), ('meet', 'VERB'), ('the', 'DET'), ('roof-crush', 'ADJ'), ('resistance', 'NOUN'), ('standard', 'ADJ'), ('for', 'ADP'), ('cars', 'NOUN'), ('.', '.'), ('*-2', 'X'), ('Developed', 'PRON'), ('*-1', 'X'), ('by', 'ADP'), ('Avrett', 'PRON'), (',', '.'), ('Free', 'NOUN'), ('&', 'CONJ'), ('Ginsberg', 'PRON'), (',', '.'), ('New', 'NOUN'), ('York', 'NOUN'), (',', '.'), ('the', 'DET'), ('$', '.'), ('6', 'NUM'), ('million', 'NUM'), ('*U*', 'X'), ('campaign', 'NOUN'), ('pitches', 'PRON'), ('Enterprise', 'NOUN'), (\"'s\", 'PRT'), ('consumer-driven', 'PRON'), ('service', 'NOUN'), ('and', 'CONJ'), ('its', 'PRON'), ('free', 'ADJ'), ('pick-up', 'PRON'), ('and', 'CONJ'), ('drop-off', 'PRON'), ('service', 'NOUN'), ('.', '.'), ('January', 'NOUN'), ('platinum', 'PRON'), ('was', 'VERB'), ('down', 'ADV'), ('$', '.'), ('5.70', 'PRON'), ('*U*', 'X'), ('an', 'DET'), ('ounce', 'NOUN'), ('at', 'ADP'), ('$', '.'), ('494.50', 'PRON'), ('*U*', 'X'), ('.', '.'), ('Structural', 'NOUN'), ('Dynamics', 'PRON'), ('Research', 'NOUN'), ('Corp.', 'NOUN'), (',', '.'), ('which', 'DET'), ('*T*-143', 'PRON'), ('makes', 'VERB'), ('computer-aided', 'PRON'), ('engineering', 'NOUN'), ('software', 'NOUN'), (',', '.'), ('said', 'VERB'), ('0', 'X'), ('it', 'PRON'), ('introduced', 'VERB'), ('new', 'ADJ'), ('technology', 'NOUN'), ('in', 'ADP'), ('mechanical', 'ADJ'), ('design', 'NOUN'), ('automation', 'PRON'), ('that', 'ADP'), ('*T*-144', 'PRON'), ('will', 'VERB'), ('improve', 'VERB'), ('mechanical', 'ADJ'), ('engineering', 'NOUN'), ('productivity', 'PRON'), ('.', '.'), ('``', '.'), ('You', 'PRON'), ('Gotta', 'NOUN'), ('Have', 'NOUN'), ('Wa', '.'), (\"''\", '.'), ('is', 'VERB'), ('the', 'DET'), ('often', 'ADV'), ('amusing', 'ADJ'), ('chronicle', 'PRON'), ('of', 'ADP'), ('how', 'ADV'), ('American', 'ADJ'), ('ballplayers', 'NOUN'), (',', '.'), ('rationed', 'PRON'), ('*', 'X'), ('to', 'PRT'), ('two', 'NUM'), ('per', 'ADP'), ('team', 'NOUN'), (',', '.'), ('fare', 'VERB'), ('*T*-1', 'X'), ('in', 'ADP'), ('Japan', 'NOUN'), ('.', '.')]\n"
     ]
    }
   ],
   "source": [
    "# Printing the tagged words from the test data set\n",
    "\n",
    "print(tagged_seq)"
   ]
  },
  {
   "cell_type": "code",
   "execution_count": 25,
   "metadata": {},
   "outputs": [
    {
     "name": "stdout",
     "output_type": "stream",
     "text": [
      "Vanilla Viterbi Algorithm Accuracy :  81.66666666666667\n"
     ]
    }
   ],
   "source": [
    "# Accuracy\n",
    "\n",
    "vanilla_viterbi_check = [i for i, j in zip(tagged_seq, test_run_base) if i == j] \n",
    "vanilla_viterbi_accuracy = len(vanilla_viterbi_check)/len(tagged_seq) * 100\n",
    "print('Vanilla Viterbi Algorithm Accuracy : ', vanilla_viterbi_accuracy)"
   ]
  },
  {
   "cell_type": "code",
   "execution_count": 26,
   "metadata": {},
   "outputs": [
    {
     "name": "stdout",
     "output_type": "stream",
     "text": [
      "Total Incorrect Tagged Words :  22\n",
      "\n",
      "\n",
      "Incorrect Tagged Words :  [[('resistance', 'NOUN'), (('standard', 'ADJ'), ('standard', 'NOUN'))], [('*-2', 'X'), (('Developed', 'PRON'), ('Developed', 'VERB'))], [('by', 'ADP'), (('Avrett', 'PRON'), ('Avrett', 'NOUN'))], [('&', 'CONJ'), (('Ginsberg', 'PRON'), ('Ginsberg', 'NOUN'))], [('campaign', 'NOUN'), (('pitches', 'PRON'), ('pitches', 'VERB'))], [(\"'s\", 'PRT'), (('consumer-driven', 'PRON'), ('consumer-driven', 'ADJ'))], [('free', 'ADJ'), (('pick-up', 'PRON'), ('pick-up', 'ADJ'))], [('and', 'CONJ'), (('drop-off', 'PRON'), ('drop-off', 'ADJ'))], [('January', 'NOUN'), (('platinum', 'PRON'), ('platinum', 'NOUN'))], [('was', 'VERB'), (('down', 'ADV'), ('down', 'ADP'))], [('$', '.'), (('5.70', 'PRON'), ('5.70', 'NUM'))], [('$', '.'), (('494.50', 'PRON'), ('494.50', 'NUM'))], [('Structural', 'NOUN'), (('Dynamics', 'PRON'), ('Dynamics', 'NOUN'))], [('which', 'DET'), (('*T*-143', 'PRON'), ('*T*-143', 'X'))], [('makes', 'VERB'), (('computer-aided', 'PRON'), ('computer-aided', 'ADJ'))], [('design', 'NOUN'), (('automation', 'PRON'), ('automation', 'NOUN'))], [('automation', 'NOUN'), (('that', 'ADP'), ('that', 'DET'))], [('that', 'DET'), (('*T*-144', 'PRON'), ('*T*-144', 'X'))], [('engineering', 'NOUN'), (('productivity', 'PRON'), ('productivity', 'NOUN'))], [('Have', 'NOUN'), (('Wa', '.'), ('Wa', 'NOUN'))], [('amusing', 'ADJ'), (('chronicle', 'PRON'), ('chronicle', 'NOUN'))], [(',', '.'), (('rationed', 'PRON'), ('rationed', 'VERB'))]]\n"
     ]
    }
   ],
   "source": [
    "# let us now check the incorrectly tagged words\n",
    "\n",
    "incorrect_tagged_cases = [[test_run_base[i-1],j] for i, j in enumerate(zip(tagged_seq, test_run_base)) if j[0]!=j[1]]\n",
    "\n",
    "print(\"Total Incorrect Tagged Words : \", len(incorrect_tagged_cases))\n",
    "print(\"\\n\")\n",
    "print(\"Incorrect Tagged Words : \", incorrect_tagged_cases)"
   ]
  },
  {
   "cell_type": "markdown",
   "metadata": {},
   "source": [
    "Unknows words are those words that are present in the test set but not in the train set, i.e., the words the algorithm has not seen before. Let us now look into such unknown words"
   ]
  },
  {
   "cell_type": "code",
   "execution_count": 27,
   "metadata": {},
   "outputs": [
    {
     "name": "stdout",
     "output_type": "stream",
     "text": [
      "Total Unknown words :  18\n",
      "\n",
      "\n",
      "Unknown Words :  ['Dynamics', 'chronicle', '*T*-143', 'computer-aided', 'drop-off', 'platinum', 'consumer-driven', 'pitches', 'automation', 'productivity', 'Avrett', '494.50', '5.70', 'rationed', 'pick-up', '*T*-144', 'Ginsberg', 'Developed']\n"
     ]
    }
   ],
   "source": [
    "# Unknown words \n",
    "\n",
    "test_vocabulary_set = set([t for t in test_tagged_words])\n",
    "\n",
    "unknown_words = list(test_vocabulary_set - V)       # V is the train vocabulary set as obtained before in cell# 9\n",
    "\n",
    "print(\"Total Unknown words : \", len(unknown_words))\n",
    "print(\"\\n\")\n",
    "print(\"Unknown Words : \", unknown_words)"
   ]
  },
  {
   "cell_type": "markdown",
   "metadata": {},
   "source": [
    "### Solve the problem of unknown words"
   ]
  },
  {
   "cell_type": "markdown",
   "metadata": {},
   "source": [
    "#### Lexicon/Unigram Tagger"
   ]
  },
  {
   "cell_type": "markdown",
   "metadata": {},
   "source": [
    "Let us first try training a lexicon/unigram tagger which assigns the most commonly assigned tag to a word"
   ]
  },
  {
   "cell_type": "code",
   "execution_count": 28,
   "metadata": {},
   "outputs": [
    {
     "data": {
      "text/plain": [
       "0.9083266613290633"
      ]
     },
     "execution_count": 28,
     "metadata": {},
     "output_type": "execute_result"
    }
   ],
   "source": [
    "unigram_tagger = nltk.UnigramTagger(train_set)\n",
    "unigram_tagger.evaluate(test_set)"
   ]
  },
  {
   "cell_type": "raw",
   "metadata": {},
   "source": [
    "Accuracy of lexicon/Unigram Tagger is around 91%"
   ]
  },
  {
   "cell_type": "markdown",
   "metadata": {},
   "source": [
    "#### Rule-Based (Regular Expression) Tagger"
   ]
  },
  {
   "cell_type": "markdown",
   "metadata": {},
   "source": [
    "Let us now try the rule based regex approach"
   ]
  },
  {
   "cell_type": "code",
   "execution_count": 29,
   "metadata": {},
   "outputs": [],
   "source": [
    "patterns = [\n",
    "    (r'^[aA-zZ].*[0-9]+','NOUN'),  # Alpha Numeric\n",
    "    (r'.*ness$', 'NOUN'),\n",
    "    (r'.*\\'s$', 'NOUN'),              # possessive nouns\n",
    "    (r'.*s$', 'NOUN'),                # plural nouns\n",
    "    (r'.*', 'NOUN'),    \n",
    "    (r'.*ly$', 'ADV'),\n",
    "    (r'^(0|([*|-|$].*))','X'), # Any special character combination\n",
    "    (r'.*ould$', 'X'), # modals\n",
    "    (r'(The|the|A|a|An|an)$', 'DET'),\n",
    "    (r'^([0-9]|[aA-zZ])+\\-[aA-zZ]*$','ADJ'),\n",
    "    (r'.*able$', 'ADJ'), # adjective like 100-megabytes 237-Seats\n",
    "    (r'[aA-zZ]+(ed|ing|es)$', 'VERB'), # Any word ending with 'ing' or 'ed' is a verb\n",
    "    (r'[0-9].?[,\\/]?[0-9]*','NUM')# Numbers \n",
    "    ]"
   ]
  },
  {
   "cell_type": "code",
   "execution_count": 30,
   "metadata": {},
   "outputs": [
    {
     "name": "stdout",
     "output_type": "stream",
     "text": [
      "The accuracy of the Regex Rule-Based Tagger is :  0.2908326661329063\n"
     ]
    }
   ],
   "source": [
    "regexp_tagger = nltk.RegexpTagger(patterns)\n",
    "accuracy_regexp_tagger = regexp_tagger.evaluate(test_set)\n",
    "print(\"The accuracy of the Regex Rule-Based Tagger is : \", accuracy_regexp_tagger)"
   ]
  },
  {
   "cell_type": "markdown",
   "metadata": {},
   "source": [
    "#### Unigram Tagger backed by Regex Rule-Based Unigram Tagger"
   ]
  },
  {
   "cell_type": "markdown",
   "metadata": {},
   "source": [
    "Let us now try combining the unigram tagger with the rule based regex tagger, as defined above"
   ]
  },
  {
   "cell_type": "code",
   "execution_count": 31,
   "metadata": {},
   "outputs": [
    {
     "name": "stdout",
     "output_type": "stream",
     "text": [
      "The accuracy of the Unigram Tagger backed by the Regex Rule-Based Tagger is :  0.9419535628502802\n"
     ]
    }
   ],
   "source": [
    "# Unigram tagger backed by the rule-based tagger\n",
    "\n",
    "rule_based_unigram_tagger = nltk.UnigramTagger(train_set, backoff = regexp_tagger)\n",
    "\n",
    "accuracy_rule_based_unigram_tagger = rule_based_unigram_tagger.evaluate(test_set)\n",
    "\n",
    "print(\"The accuracy of the Unigram Tagger backed by the Regex Rule-Based Tagger is : \", accuracy_rule_based_unigram_tagger)"
   ]
  },
  {
   "cell_type": "markdown",
   "metadata": {},
   "source": [
    "#### Bigram Tagger backed by Regex Rule-Based Unigram Tagger"
   ]
  },
  {
   "cell_type": "markdown",
   "metadata": {},
   "source": [
    "Let us now try combining the bigram tagger with the regex rule based unigram tagger, as defined above"
   ]
  },
  {
   "cell_type": "code",
   "execution_count": 32,
   "metadata": {},
   "outputs": [
    {
     "name": "stdout",
     "output_type": "stream",
     "text": [
      "The accuracy of the Bigram Tagger backed by the Regex Rule-Based Unigram Tagger is :  0.9473578863090473\n"
     ]
    }
   ],
   "source": [
    "# Bigram tagger backed by the regex rule-based unigram tagger\n",
    "\n",
    "bigram_tagger = nltk.BigramTagger(train_set, backoff=rule_based_unigram_tagger)\n",
    "accuracy_bigram_tagger = bigram_tagger.evaluate(test_set)\n",
    "print(\"The accuracy of the Bigram Tagger backed by the Regex Rule-Based Unigram Tagger is : \", accuracy_bigram_tagger)"
   ]
  },
  {
   "cell_type": "markdown",
   "metadata": {},
   "source": [
    "#### Trigram Tagger backed by Bigram Tagger"
   ]
  },
  {
   "cell_type": "markdown",
   "metadata": {},
   "source": [
    "Let us now try combining the trigram tagger with the bigram tagger, as defined above"
   ]
  },
  {
   "cell_type": "code",
   "execution_count": 33,
   "metadata": {},
   "outputs": [
    {
     "name": "stdout",
     "output_type": "stream",
     "text": [
      "The accuracy of the Trigram Tagger backed by the bigram_tagger is - 0.9473578863090473\n"
     ]
    }
   ],
   "source": [
    "# Trigram tagger backed by the bigram tagger\n",
    "\n",
    "trigram_tagger = nltk.TrigramTagger(train_set, backoff = bigram_tagger)\n",
    "accuracy_trigram_tagger = trigram_tagger.evaluate(test_set)\n",
    "print(\"The accuracy of the Trigram Tagger backed by the bigram_tagger is -\", accuracy_trigram_tagger)"
   ]
  },
  {
   "cell_type": "raw",
   "metadata": {},
   "source": [
    "In order to tag the unknown words, Vanilla Viterbi Algorithm can be modified in-line with a Regex Rule-Based Trigram Tagger."
   ]
  },
  {
   "cell_type": "markdown",
   "metadata": {},
   "source": [
    "#### Viterbi Modification - Technique I"
   ]
  },
  {
   "cell_type": "markdown",
   "metadata": {},
   "source": [
    "For unknown words, the emission probability i.e., pmax value, as declared and defined in the original Viterbi Heuristic, is 0. In such cases, let us use the transition probability and check the accuracy of the same."
   ]
  },
  {
   "cell_type": "code",
   "execution_count": 34,
   "metadata": {},
   "outputs": [],
   "source": [
    "# Use transition probability of tags when emission probability is zero (for unknown words)\n",
    "\n",
    "def Vanilla_Viterbi_Technique_1(words, train_bag = train_tagged_words):\n",
    "    state = []\n",
    "    T = list(set([pair[1] for pair in train_bag]))\n",
    "    \n",
    "    for key, word in enumerate(words):\n",
    "        #Initialise list of probability column for a given observation\n",
    "        p = [] \n",
    "        p_transition =[] # list for storing transition probabilities\n",
    "        for tag in T:\n",
    "            if key == 0:\n",
    "                transition_p = tags_df.loc['.', tag]\n",
    "            else:\n",
    "                transition_p = tags_df.loc[state[-1], tag]\n",
    "                \n",
    "            # Compute emission and state probabilities\n",
    "            emission_p = word_given_tag(words[key], tag)[0]/word_given_tag(words[key], tag)[1]\n",
    "            state_probability = emission_p * transition_p    \n",
    "            p.append(state_probability)\n",
    "            p_transition.append(transition_p)\n",
    "            \n",
    "        pmax = max(p)\n",
    "        state_max = T[p.index(pmax)] \n",
    "        \n",
    "      \n",
    "        # If emission probability is zero (unknown word) then use transition probability\n",
    "        \n",
    "        if(pmax==0):\n",
    "            pmax = max(p_transition)\n",
    "            state_max = T[p_transition.index(pmax)]\n",
    "                           \n",
    "        else:\n",
    "            state_max = T[p.index(pmax)] \n",
    "        \n",
    "        state.append(state_max)\n",
    "    return list(zip(words, state))"
   ]
  },
  {
   "cell_type": "code",
   "execution_count": 35,
   "metadata": {},
   "outputs": [
    {
     "name": "stdout",
     "output_type": "stream",
     "text": [
      "Time taken in seconds:  41.1293523311615\n",
      "Viterbi Technique 1 Accuracy :  86.66666666666667\n"
     ]
    }
   ],
   "source": [
    "# Tagging the test sentences and checking the accuracy\n",
    "\n",
    "start = time.time()\n",
    "tagged_seq = Vanilla_Viterbi_Technique_1(test_tagged_words)\n",
    "end = time.time()\n",
    "difference = end-start\n",
    "print(\"Time taken in seconds: \", difference)\n",
    "\n",
    "viterbi_1_check = [i for i, j in zip(tagged_seq, test_run_base) if i == j] \n",
    "viterbi_1_accuracy = len(viterbi_1_check)/len(tagged_seq) * 100\n",
    "print('Viterbi Technique 1 Accuracy : ', viterbi_1_accuracy)"
   ]
  },
  {
   "cell_type": "markdown",
   "metadata": {},
   "source": [
    "**Accuracy of the modified Viterbi Algorithm (transition probability is used for unknown words) = 86.66%**\n",
    "\n",
    "So, to some extent, the modified version is better.\n",
    "\n",
    "Let us further try to improve this modified version, by assigning Tag Occurence Probability Weights."
   ]
  },
  {
   "cell_type": "code",
   "execution_count": 36,
   "metadata": {},
   "outputs": [
    {
     "data": {
      "text/plain": [
       "[('PRON', 0.02721571906354515),\n",
       " ('CONJ', 0.022460284280936455),\n",
       " ('NUM', 0.03522157190635451),\n",
       " ('DET', 0.08652801003344482),\n",
       " ('NOUN', 0.2865175585284281),\n",
       " ('X', 0.06576086956521739),\n",
       " ('PRT', 0.03208612040133779),\n",
       " ('VERB', 0.13497073578595317),\n",
       " ('.', 0.11653428093645485),\n",
       " ('ADV', 0.031396321070234115),\n",
       " ('ADP', 0.09765886287625418),\n",
       " ('ADJ', 0.06364966555183947)]"
      ]
     },
     "execution_count": 36,
     "metadata": {},
     "output_type": "execute_result"
    }
   ],
   "source": [
    "# let us create a list of tuples for POS tags and POS tag occurance probability, upon the train data set\n",
    "\n",
    "tag_prob = []\n",
    "total_tag = len([tag for word,tag in train_tagged_words])\n",
    "for t in train_pos_tag_set:  # T is the train POS tag set, as defined in cel#10\n",
    "    each_tag = [tag for word,tag in train_tagged_words if tag==t]\n",
    "    tag_prob.append((t,len(each_tag)/total_tag))\n",
    "\n",
    "tag_prob"
   ]
  },
  {
   "cell_type": "code",
   "execution_count": 37,
   "metadata": {},
   "outputs": [],
   "source": [
    "# Let us now modify the Vanilla_Viterbi_Technique_1 algorith (as defined in cell# 34)\n",
    "\n",
    "def Vanilla_Viterbi_Technique_1_Modified(words, train_bag = train_tagged_words):\n",
    "    state = []\n",
    "    T = list(set([pair[1] for pair in train_bag]))\n",
    "    \n",
    "    for key, word in enumerate(words):\n",
    "        # Initialise list of probability column for a given observation\n",
    "        p = [] \n",
    "        p_transition =[] # list for storing transition probabilities\n",
    "       \n",
    "        for tag in T:\n",
    "            if key == 0:\n",
    "                transition_p = tags_df.loc['.', tag]\n",
    "            else:\n",
    "                transition_p = tags_df.loc[state[-1], tag]\n",
    "                \n",
    "            # Compute emission and state probabilities\n",
    "            emission_p = word_given_tag(words[key], tag)[0]/word_given_tag(words[key], tag)[1]\n",
    "            state_probability = emission_p * transition_p    \n",
    "            p.append(state_probability)\n",
    "            \n",
    "            # Find POS tag occurance probability\n",
    "            tag_p = [pair[1] for pair in tag_prob if pair[0]==tag ]\n",
    "            \n",
    "            # Calculate the transition prob weighted by tag occurance probability\n",
    "            transition_p = tag_p[0]*transition_p             \n",
    "            p_transition.append(transition_p)\n",
    "            \n",
    "        pmax = max(p)\n",
    "        state_max = T[p.index(pmax)] \n",
    "        \n",
    "      \n",
    "        # If emission probability is zero (for unknown word) then use weighted transition probability\n",
    "        \n",
    "        if(pmax==0):\n",
    "            pmax = max(p_transition)\n",
    "            state_max = T[p_transition.index(pmax)]                 \n",
    "                           \n",
    "        else:\n",
    "            state_max = T[p.index(pmax)] \n",
    "        \n",
    "        state.append(state_max)\n",
    "    return list(zip(words, state))"
   ]
  },
  {
   "cell_type": "code",
   "execution_count": 38,
   "metadata": {},
   "outputs": [
    {
     "name": "stdout",
     "output_type": "stream",
     "text": [
      "Time taken in seconds:  41.14435338973999\n",
      "Viterbi Technique 1 (Modified) Accuracy :  88.33333333333333\n"
     ]
    }
   ],
   "source": [
    "# Tagging the test sentences and checking the accuracy\n",
    "\n",
    "start = time.time()\n",
    "tagged_seq = Vanilla_Viterbi_Technique_1_Modified(test_tagged_words)\n",
    "end = time.time()\n",
    "difference = end-start\n",
    "print(\"Time taken in seconds: \", difference)\n",
    "\n",
    "viterbi_1_mod_check = [i for i, j in zip(tagged_seq, test_run_base) if i == j] \n",
    "viterbi_1_mod_accuracy = len(viterbi_1_mod_check)/len(tagged_seq) * 100\n",
    "print('Viterbi Technique 1 (Modified) Accuracy : ', viterbi_1_mod_accuracy)"
   ]
  },
  {
   "cell_type": "markdown",
   "metadata": {},
   "source": [
    "**Accuracy of the modified Viterbi Algorithm (transition probability is used for unknown words) = 86.66%**\n",
    "\n",
    "**Accuracy of the modified Viterbi Algorithm (weighted transition probability is used for unknown words) = 88.33%**\n",
    "\n",
    "Well, the updated version of Viterbi Technique 1, thereby using the weighted tranistion probability for unknown words, seems to working well, with over 88% accuracy."
   ]
  },
  {
   "cell_type": "markdown",
   "metadata": {},
   "source": [
    "#### Viterbi Modification - Technique II"
   ]
  },
  {
   "cell_type": "markdown",
   "metadata": {},
   "source": [
    "Let us now, try to modify the original Viterbi Algorithm, by using the regex rule-based trigram tagger"
   ]
  },
  {
   "cell_type": "code",
   "execution_count": 39,
   "metadata": {},
   "outputs": [],
   "source": [
    "def trigram_tagger(word, train_set = train_set):\n",
    "    \n",
    "    patterns = [\n",
    "    (r'[aA-zZ]+(ed|ing|es)$', 'VERB'), # Any word ending with 'ing' or 'ed' is a verb\n",
    "\n",
    "    (r'.*ly$', 'ADV'),\n",
    "        \n",
    "    (r'^([0-9]|[aA-zZ])+\\-[aA-zZ]*$','ADJ'),\n",
    "    (r'.*able$', 'ADJ'), \n",
    "    (r'.*ful$', 'ADJ'),\n",
    "    (r'.*ous$', 'ADJ'),\n",
    "        \n",
    "    (r'^[aA-zZ].*[0-9]+','NOUN'),     # Alpha Numeric\n",
    "    (r'.*ness$', 'NOUN'),\n",
    "    (r'.*\\'s$', 'NOUN'),              # possessive nouns - words ending with 's\n",
    "    (r'.*s$', 'NOUN'),                # plural nouns\n",
    "    (r'.*ers$', 'NOUN'),              # eg.- kinderganteners, autobioghapgers\n",
    "    (r'.*ment$', 'NOUN'),\n",
    "    (r'.*town$', 'NOUN'),\n",
    "        \n",
    "    (r'^(0|([*|-|$].*))','X'), # Any special character combination\n",
    "    (r'.*ould$', 'X'),\n",
    "        \n",
    "    (r'(The|the|A|a|An|an|That|that|This|this|Those|those|These|these)$', 'DET'), # That/this/these/those belong to the category of Demonstrative determiners\n",
    "    (r'[0-9].?[,\\/]?[0-9]*','NUM'), # Numbers \n",
    "        \n",
    "    (r'.*', 'NOUN')\n",
    "    ]\n",
    "    \n",
    "    regex_based_tagger = nltk.RegexpTagger(patterns)\n",
    "\n",
    "    # trigram tagger backed by the regex tagger\n",
    "    \n",
    "    trigram_regex_tagger = nltk.TrigramTagger(train_set, backoff = regex_based_tagger)\n",
    "    return trigram_regex_tagger.tag_sents([[(word)]])"
   ]
  },
  {
   "cell_type": "code",
   "execution_count": 40,
   "metadata": {},
   "outputs": [],
   "source": [
    "# Use regex rule-based trigram tagger for unknown words\n",
    "\n",
    "def Vanilla_Viterbi_Technique_2(words, train_bag = train_tagged_words):\n",
    "    state = []\n",
    "    T = list(set([pair[1] for pair in train_bag]))\n",
    "    \n",
    "    for key, word in enumerate(words):\n",
    "        \n",
    "        # Modification for unknown words where regex rule based trigram tagger is to be used\n",
    "        \n",
    "        if word not in V:    # V is the train vocabulary set, as defined in cell#9\n",
    "            unk_word_tag=trigram_tagger(word)\n",
    "            for sent in unk_word_tag:\n",
    "                for tup in sent:\n",
    "                    state.append(tup[1])\n",
    "        # rest remains same            \n",
    "        else:            \n",
    "            p = [] \n",
    "            for tag in T:\n",
    "                if key == 0:\n",
    "                    transition_p = tags_df.loc['.', tag]\n",
    "                else:\n",
    "                    transition_p = tags_df.loc[state[-1], tag]\n",
    "                \n",
    "            # Compute emission and state probabilities\n",
    "            \n",
    "                emission_p = word_given_tag(words[key], tag)[0]/word_given_tag(words[key], tag)[1]\n",
    "                state_probability = emission_p * transition_p    \n",
    "                p.append(state_probability)\n",
    "            \n",
    "            pmax = max(p)\n",
    "            # Getting state for which probability is maximum\n",
    "            \n",
    "            state_max = T[p.index(pmax)] \n",
    "            state.append(state_max)\n",
    "            \n",
    "    return list(zip(words, state))"
   ]
  },
  {
   "cell_type": "code",
   "execution_count": 41,
   "metadata": {},
   "outputs": [
    {
     "name": "stdout",
     "output_type": "stream",
     "text": [
      "Time taken in seconds:  143.5792121887207\n",
      "Viterbi Technique 2 Accuracy :  96.66666666666667\n"
     ]
    }
   ],
   "source": [
    "# Tagging the test sentences and checking the accuracy\n",
    "\n",
    "start = time.time()\n",
    "tagged_seq = Vanilla_Viterbi_Technique_2(test_tagged_words)\n",
    "end = time.time()\n",
    "difference = end-start\n",
    "print(\"Time taken in seconds: \", difference)\n",
    "\n",
    "viterbi_2_check = [i for i, j in zip(tagged_seq, test_run_base) if i == j] \n",
    "viterbi_2_accuracy = len(viterbi_2_check)/len(tagged_seq) * 100\n",
    "print('Viterbi Technique 2 Accuracy : ', viterbi_2_accuracy)"
   ]
  },
  {
   "cell_type": "markdown",
   "metadata": {},
   "source": [
    "**Accuracy of the modified Viterbi Algorithm (transition probability is used for unknown words) = 86.66%**\n",
    "\n",
    "**Accuracy of the modified Viterbi Algorithm (weighted transition probability is used for unknown words) = 88.33%**\n",
    "\n",
    "**Accuracy of the modified Viterbi Algorithm (Regex Rule-Based Trigram Tagger is used for unknown words) = 96.66%**\n",
    "\n",
    "With Regex Rule-Based Trigram Tagger, the modified Viterbi Algorithm has accuracy of almost 97%."
   ]
  },
  {
   "cell_type": "markdown",
   "metadata": {},
   "source": [
    "### Compare the tagging accuracies of the modifications with the Vanilla Viterbi algorithm"
   ]
  },
  {
   "cell_type": "code",
   "execution_count": 42,
   "metadata": {},
   "outputs": [
    {
     "data": {
      "text/html": [
       "<div>\n",
       "<style scoped>\n",
       "    .dataframe tbody tr th:only-of-type {\n",
       "        vertical-align: middle;\n",
       "    }\n",
       "\n",
       "    .dataframe tbody tr th {\n",
       "        vertical-align: top;\n",
       "    }\n",
       "\n",
       "    .dataframe thead th {\n",
       "        text-align: right;\n",
       "    }\n",
       "</style>\n",
       "<table border=\"1\" class=\"dataframe\">\n",
       "  <thead>\n",
       "    <tr style=\"text-align: right;\">\n",
       "      <th></th>\n",
       "      <th>Algorithm Accuracy</th>\n",
       "    </tr>\n",
       "    <tr>\n",
       "      <th>Tagging Algorithm</th>\n",
       "      <th></th>\n",
       "    </tr>\n",
       "  </thead>\n",
       "  <tbody>\n",
       "    <tr>\n",
       "      <th>Vanilla Viterbi Algorithm</th>\n",
       "      <td>81.666667</td>\n",
       "    </tr>\n",
       "    <tr>\n",
       "      <th>Vanilla Viterbi Algorithm Modified - I (Weighted Transition Probability used for unknown words)</th>\n",
       "      <td>88.333333</td>\n",
       "    </tr>\n",
       "    <tr>\n",
       "      <th>Vanilla Viterbi Algorithm Modified - II (Regex Rule-Based Trigram Tagger used for unknown words)</th>\n",
       "      <td>96.666667</td>\n",
       "    </tr>\n",
       "  </tbody>\n",
       "</table>\n",
       "</div>"
      ],
      "text/plain": [
       "                                                    Algorithm Accuracy\n",
       "Tagging Algorithm                                                     \n",
       "Vanilla Viterbi Algorithm                                    81.666667\n",
       "Vanilla Viterbi Algorithm Modified - I (Weighte...           88.333333\n",
       "Vanilla Viterbi Algorithm Modified - II (Regex ...           96.666667"
      ]
     },
     "execution_count": 42,
     "metadata": {},
     "output_type": "execute_result"
    }
   ],
   "source": [
    "acccuracy_data = [['Vanilla Viterbi Algorithm', vanilla_viterbi_accuracy], \n",
    "                  ['Vanilla Viterbi Algorithm Modified - I (Weighted Transition Probability used for unknown words)', viterbi_1_mod_accuracy],\n",
    "                  ['Vanilla Viterbi Algorithm Modified - II (Regex Rule-Based Trigram Tagger used for unknown words)', viterbi_2_accuracy]]\n",
    "\n",
    "acccuracy_data_df = pd.DataFrame(acccuracy_data, columns = ['Tagging Algorithm', 'Algorithm Accuracy'])\n",
    "\n",
    "acccuracy_data_df.set_index('Tagging Algorithm', drop = True, inplace = True)\n",
    "\n",
    "acccuracy_data_df"
   ]
  },
  {
   "cell_type": "markdown",
   "metadata": {},
   "source": [
    "### List down cases which were incorrectly tagged by original POS tagger and got corrected by your modifications"
   ]
  },
  {
   "cell_type": "markdown",
   "metadata": {},
   "source": [
    "Now we will test 5 sentences from the sample test file, as provided."
   ]
  },
  {
   "cell_type": "code",
   "execution_count": 43,
   "metadata": {},
   "outputs": [],
   "source": [
    "sentence_test_1 = 'Android is a mobile operating system developed by Google.'\n",
    "\n",
    "words_1 = word_tokenize(sentence_test_1)"
   ]
  },
  {
   "cell_type": "code",
   "execution_count": 44,
   "metadata": {},
   "outputs": [
    {
     "name": "stdout",
     "output_type": "stream",
     "text": [
      "[('Android', 'PRON'), ('is', 'VERB'), ('a', 'DET'), ('mobile', 'ADJ'), ('operating', 'NOUN'), ('system', 'NOUN'), ('developed', 'VERB'), ('by', 'ADP'), ('Google', 'PRON'), ('.', '.')]\n"
     ]
    }
   ],
   "source": [
    "# Let us first try with Vanilla Viterbi Algorithm\n",
    "\n",
    "tagged_seq_1_a = Viterbi(words_1)\n",
    "print(tagged_seq_1_a)"
   ]
  },
  {
   "cell_type": "code",
   "execution_count": 45,
   "metadata": {},
   "outputs": [
    {
     "name": "stdout",
     "output_type": "stream",
     "text": [
      "[('Android', 'NOUN'), ('is', 'VERB'), ('a', 'DET'), ('mobile', 'ADJ'), ('operating', 'NOUN'), ('system', 'NOUN'), ('developed', 'VERB'), ('by', 'ADP'), ('Google', 'NOUN'), ('.', '.')]\n"
     ]
    }
   ],
   "source": [
    "# Now let us check with Vanilla Viterbi Algorithm Modified - I (Weighted Transition Probability used for unknown words)\n",
    "\n",
    "tagged_seq_1_b = Vanilla_Viterbi_Technique_1_Modified(words_1)\n",
    "print(tagged_seq_1_b)"
   ]
  },
  {
   "cell_type": "code",
   "execution_count": 46,
   "metadata": {},
   "outputs": [
    {
     "name": "stdout",
     "output_type": "stream",
     "text": [
      "[('Android', 'NOUN'), ('is', 'VERB'), ('a', 'DET'), ('mobile', 'ADJ'), ('operating', 'NOUN'), ('system', 'NOUN'), ('developed', 'VERB'), ('by', 'ADP'), ('Google', 'NOUN'), ('.', '.')]\n"
     ]
    }
   ],
   "source": [
    "# Now let us check with Vanilla Viterbi Algorithm Modified - II (Regex Rule-Based Trigram Tagger used for unknown words)\n",
    "\n",
    "tagged_seq_1_c = Vanilla_Viterbi_Technique_2(words_1)\n",
    "print(tagged_seq_1_c)"
   ]
  },
  {
   "cell_type": "raw",
   "metadata": {},
   "source": [
    "While normal Vanilla Viterbi Algorithm has incorrectly tagged the words 'Android' and 'Google', both the modified versions of the algoritm are able to tag those terms properly as 'Noun'."
   ]
  },
  {
   "cell_type": "code",
   "execution_count": 47,
   "metadata": {},
   "outputs": [],
   "source": [
    "sentence_test_2 = \"Google and Twitter made a deal in 2015 that gave Google access to Twitter's firehose.\"\n",
    "\n",
    "words_2 = word_tokenize(sentence_test_2)"
   ]
  },
  {
   "cell_type": "code",
   "execution_count": 48,
   "metadata": {},
   "outputs": [
    {
     "name": "stdout",
     "output_type": "stream",
     "text": [
      "[('Google', 'PRON'), ('and', 'CONJ'), ('Twitter', 'PRON'), ('made', 'VERB'), ('a', 'DET'), ('deal', 'NOUN'), ('in', 'ADP'), ('2015', 'PRON'), ('that', 'ADP'), ('gave', 'VERB'), ('Google', 'PRON'), ('access', 'NOUN'), ('to', 'PRT'), ('Twitter', 'PRON'), (\"'s\", 'VERB'), ('firehose', 'PRON'), ('.', '.')]\n"
     ]
    }
   ],
   "source": [
    "# Let us first try with Vanilla Viterbi Algorithm\n",
    "\n",
    "tagged_seq_2_a = Viterbi(words_2)\n",
    "print(tagged_seq_2_a)"
   ]
  },
  {
   "cell_type": "code",
   "execution_count": 49,
   "metadata": {},
   "outputs": [
    {
     "name": "stdout",
     "output_type": "stream",
     "text": [
      "[('Google', 'NOUN'), ('and', 'CONJ'), ('Twitter', 'NOUN'), ('made', 'VERB'), ('a', 'DET'), ('deal', 'NOUN'), ('in', 'ADP'), ('2015', 'NOUN'), ('that', 'ADP'), ('gave', 'VERB'), ('Google', 'NOUN'), ('access', 'NOUN'), ('to', 'PRT'), ('Twitter', 'NOUN'), (\"'s\", 'PRT'), ('firehose', 'NOUN'), ('.', '.')]\n"
     ]
    }
   ],
   "source": [
    "# Now let us check with Vanilla Viterbi Algorithm Modified - I (Weighted Transition Probability used for unknown words)\n",
    "\n",
    "tagged_seq_2_b = Vanilla_Viterbi_Technique_1_Modified(words_2)\n",
    "print(tagged_seq_2_b)"
   ]
  },
  {
   "cell_type": "code",
   "execution_count": 50,
   "metadata": {},
   "outputs": [
    {
     "name": "stdout",
     "output_type": "stream",
     "text": [
      "[('Google', 'NOUN'), ('and', 'CONJ'), ('Twitter', 'NOUN'), ('made', 'VERB'), ('a', 'DET'), ('deal', 'NOUN'), ('in', 'ADP'), ('2015', 'NUM'), ('that', 'ADP'), ('gave', 'VERB'), ('Google', 'NOUN'), ('access', 'NOUN'), ('to', 'PRT'), ('Twitter', 'NOUN'), (\"'s\", 'PRT'), ('firehose', 'NOUN'), ('.', '.')]\n"
     ]
    }
   ],
   "source": [
    "# Now let us check with Vanilla Viterbi Algorithm Modified - II (Regex Rule-Based Trigram Tagger used for unknown words)\n",
    "\n",
    "tagged_seq_2_c = Vanilla_Viterbi_Technique_2(words_2)\n",
    "print(tagged_seq_2_c)"
   ]
  },
  {
   "cell_type": "raw",
   "metadata": {},
   "source": [
    "While normal Vanilla Viterbi Algorithm has incorrectly tagged the words 'Google','Twitter' and 'firehose', both the modified versions of the algoritm are able to tag those terms properly as 'Noun'.\n",
    "\n",
    "However, the interpretation of the term '2015' (as per the sentence this refers to the year 2015) seems to be interesting by both the modified versions of the algorithm. While the 1st technique has tagged that as a 'noun', the second technique has tagged that as a 'number'."
   ]
  },
  {
   "cell_type": "code",
   "execution_count": 51,
   "metadata": {},
   "outputs": [],
   "source": [
    "sentence_test_3 = 'NASA invited social media users to experience the launch of ICESAT-2 Satellite'\n",
    "\n",
    "words_3 = word_tokenize(sentence_test_3)"
   ]
  },
  {
   "cell_type": "code",
   "execution_count": 52,
   "metadata": {},
   "outputs": [
    {
     "name": "stdout",
     "output_type": "stream",
     "text": [
      "[('NASA', 'PRON'), ('invited', 'PRON'), ('social', 'ADJ'), ('media', 'NOUN'), ('users', 'NOUN'), ('to', 'PRT'), ('experience', 'NOUN'), ('the', 'DET'), ('launch', 'NOUN'), ('of', 'ADP'), ('ICESAT-2', 'PRON'), ('Satellite', 'PRON')]\n"
     ]
    }
   ],
   "source": [
    "# Let us first try with Vanilla Viterbi Algorithm\n",
    "\n",
    "tagged_seq_3_a = Viterbi(words_3)\n",
    "print(tagged_seq_3_a)"
   ]
  },
  {
   "cell_type": "code",
   "execution_count": 53,
   "metadata": {},
   "outputs": [
    {
     "name": "stdout",
     "output_type": "stream",
     "text": [
      "[('NASA', 'NOUN'), ('invited', 'NOUN'), ('social', 'ADJ'), ('media', 'NOUN'), ('users', 'NOUN'), ('to', 'PRT'), ('experience', 'NOUN'), ('the', 'DET'), ('launch', 'NOUN'), ('of', 'ADP'), ('ICESAT-2', 'NOUN'), ('Satellite', 'NOUN')]\n"
     ]
    }
   ],
   "source": [
    "# Now let us check with Vanilla Viterbi Algorithm Modified - I (Weighted Transition Probability used for unknown words)\n",
    "\n",
    "tagged_seq_3_b = Vanilla_Viterbi_Technique_1_Modified(words_3)\n",
    "print(tagged_seq_3_b)"
   ]
  },
  {
   "cell_type": "code",
   "execution_count": 54,
   "metadata": {},
   "outputs": [
    {
     "name": "stdout",
     "output_type": "stream",
     "text": [
      "[('NASA', 'NOUN'), ('invited', 'VERB'), ('social', 'ADJ'), ('media', 'NOUN'), ('users', 'NOUN'), ('to', 'PRT'), ('experience', 'NOUN'), ('the', 'DET'), ('launch', 'NOUN'), ('of', 'ADP'), ('ICESAT-2', 'NOUN'), ('Satellite', 'NOUN')]\n"
     ]
    }
   ],
   "source": [
    "# Now let us check with Vanilla Viterbi Algorithm Modified - II (Regex Rule-Based Trigram Tagger used for unknown words)\n",
    "\n",
    "tagged_seq_3_c = Vanilla_Viterbi_Technique_2(words_3)\n",
    "print(tagged_seq_3_c)"
   ]
  },
  {
   "cell_type": "raw",
   "metadata": {},
   "source": [
    "While normal Vanilla Viterbi Algorithm has incorrectly tagged the words 'NASA','ICESAT-2' and 'Satellite', both the modified versions of the algoritm are able to tag those terms properly as 'Noun'."
   ]
  },
  {
   "cell_type": "code",
   "execution_count": 55,
   "metadata": {},
   "outputs": [],
   "source": [
    "sentence_test_4 = 'The 2018 FIFA World Cup is the 21st FIFA World Cup, an international football tournament contested once every four years.'\n",
    "\n",
    "words_4 = word_tokenize(sentence_test_4)"
   ]
  },
  {
   "cell_type": "code",
   "execution_count": 56,
   "metadata": {},
   "outputs": [
    {
     "name": "stdout",
     "output_type": "stream",
     "text": [
      "[('The', 'DET'), ('2018', 'PRON'), ('FIFA', 'PRON'), ('World', 'NOUN'), ('Cup', 'PRON'), ('is', 'VERB'), ('the', 'DET'), ('21st', 'PRON'), ('FIFA', 'PRON'), ('World', 'NOUN'), ('Cup', 'PRON'), (',', '.'), ('an', 'DET'), ('international', 'ADJ'), ('football', 'NOUN'), ('tournament', 'PRON'), ('contested', 'PRON'), ('once', 'ADV'), ('every', 'DET'), ('four', 'NUM'), ('years', 'NOUN'), ('.', '.')]\n"
     ]
    }
   ],
   "source": [
    "# Let us first try with Vanilla Viterbi Algorithm\n",
    "\n",
    "tagged_seq_4_a = Viterbi(words_4)\n",
    "print(tagged_seq_4_a)"
   ]
  },
  {
   "cell_type": "code",
   "execution_count": 57,
   "metadata": {},
   "outputs": [
    {
     "name": "stdout",
     "output_type": "stream",
     "text": [
      "[('The', 'DET'), ('2018', 'NOUN'), ('FIFA', 'NOUN'), ('World', 'NOUN'), ('Cup', 'NOUN'), ('is', 'VERB'), ('the', 'DET'), ('21st', 'NOUN'), ('FIFA', 'NOUN'), ('World', 'NOUN'), ('Cup', 'NOUN'), (',', '.'), ('an', 'DET'), ('international', 'ADJ'), ('football', 'NOUN'), ('tournament', 'NOUN'), ('contested', 'NOUN'), ('once', 'ADV'), ('every', 'DET'), ('four', 'NUM'), ('years', 'NOUN'), ('.', '.')]\n"
     ]
    }
   ],
   "source": [
    "# Now let us check with Vanilla Viterbi Algorithm Modified - I (Weighted Transition Probability used for unknown words)\n",
    "\n",
    "tagged_seq_4_b = Vanilla_Viterbi_Technique_1_Modified(words_4)\n",
    "print(tagged_seq_4_b)"
   ]
  },
  {
   "cell_type": "code",
   "execution_count": 58,
   "metadata": {},
   "outputs": [
    {
     "name": "stdout",
     "output_type": "stream",
     "text": [
      "[('The', 'DET'), ('2018', 'NUM'), ('FIFA', 'NOUN'), ('World', 'NOUN'), ('Cup', 'NOUN'), ('is', 'VERB'), ('the', 'DET'), ('21st', 'NUM'), ('FIFA', 'NOUN'), ('World', 'NOUN'), ('Cup', 'NOUN'), (',', '.'), ('an', 'DET'), ('international', 'ADJ'), ('football', 'NOUN'), ('tournament', 'NOUN'), ('contested', 'VERB'), ('once', 'ADV'), ('every', 'DET'), ('four', 'NUM'), ('years', 'NOUN'), ('.', '.')]\n"
     ]
    }
   ],
   "source": [
    "# Now let us check with Vanilla Viterbi Algorithm Modified - II (Regex Rule-Based Trigram Tagger used for unknown words)\n",
    "\n",
    "tagged_seq_4_c = Vanilla_Viterbi_Technique_2(words_4)\n",
    "print(tagged_seq_4_c)"
   ]
  },
  {
   "cell_type": "raw",
   "metadata": {},
   "source": [
    "The normal Vanilla Viterbi Algorithm has incorrectly tagged the terms - '2018', 'FIFA', 'Cup', '21st', 'tournament' and 'contested'.\n",
    "\n",
    "Both the modified versions of algorithm have able to properly tag the terms - 'FIFA', 'Cup' and 'tournament' as 'noun'.\n",
    "\n",
    "However, while the 1st modified technique has tagged the terms - '21st' and '2018' as 'noun', the 2nd modified technique has tagged those as 'number'.\n",
    "\n",
    "The term 'contested', too, has been interpreted differently by both the modified techniques. While the 1st modified version has tagged that as 'noun', the 2nd modified version has tagged that as 'verb'."
   ]
  },
  {
   "cell_type": "code",
   "execution_count": 59,
   "metadata": {},
   "outputs": [],
   "source": [
    "sentence_test_5 = 'Android has been the best-selling OS worldwide on smartphones since 2011 and on tablets since 2013.'\n",
    "\n",
    "words_5 = word_tokenize(sentence_test_5)"
   ]
  },
  {
   "cell_type": "code",
   "execution_count": 60,
   "metadata": {},
   "outputs": [
    {
     "name": "stdout",
     "output_type": "stream",
     "text": [
      "[('Android', 'PRON'), ('has', 'VERB'), ('been', 'VERB'), ('the', 'DET'), ('best-selling', 'ADJ'), ('OS', 'PRON'), ('worldwide', 'PRON'), ('on', 'ADP'), ('smartphones', 'PRON'), ('since', 'ADP'), ('2011', 'PRON'), ('and', 'CONJ'), ('on', 'ADP'), ('tablets', 'NOUN'), ('since', 'ADP'), ('2013', 'PRON'), ('.', '.')]\n"
     ]
    }
   ],
   "source": [
    "# Let us first try with Vanilla Viterbi Algorithm\n",
    "\n",
    "tagged_seq_5_a = Viterbi(words_5)\n",
    "print(tagged_seq_5_a)"
   ]
  },
  {
   "cell_type": "code",
   "execution_count": 61,
   "metadata": {},
   "outputs": [
    {
     "name": "stdout",
     "output_type": "stream",
     "text": [
      "[('Android', 'NOUN'), ('has', 'VERB'), ('been', 'VERB'), ('the', 'DET'), ('best-selling', 'ADJ'), ('OS', 'NOUN'), ('worldwide', 'NOUN'), ('on', 'ADP'), ('smartphones', 'NOUN'), ('since', 'ADP'), ('2011', 'NOUN'), ('and', 'CONJ'), ('on', 'ADP'), ('tablets', 'NOUN'), ('since', 'ADP'), ('2013', 'NOUN'), ('.', '.')]\n"
     ]
    }
   ],
   "source": [
    "# Now let us check with Vanilla Viterbi Algorithm Modified - I (Weighted Transition Probability used for unknown words)\n",
    "\n",
    "tagged_seq_5_b = Vanilla_Viterbi_Technique_1_Modified(words_5)\n",
    "print(tagged_seq_5_b)"
   ]
  },
  {
   "cell_type": "code",
   "execution_count": 62,
   "metadata": {},
   "outputs": [
    {
     "name": "stdout",
     "output_type": "stream",
     "text": [
      "[('Android', 'NOUN'), ('has', 'VERB'), ('been', 'VERB'), ('the', 'DET'), ('best-selling', 'ADJ'), ('OS', 'NOUN'), ('worldwide', 'NOUN'), ('on', 'ADP'), ('smartphones', 'VERB'), ('since', 'ADP'), ('2011', 'NUM'), ('and', 'CONJ'), ('on', 'ADP'), ('tablets', 'NOUN'), ('since', 'ADP'), ('2013', 'NUM'), ('.', '.')]\n"
     ]
    }
   ],
   "source": [
    "# Now let us check with Vanilla Viterbi Algorithm Modified - II (Regex Rule-Based Trigram Tagger used for unknown words)\n",
    "\n",
    "tagged_seq_5_c = Vanilla_Viterbi_Technique_2(words_5)\n",
    "print(tagged_seq_5_c)"
   ]
  },
  {
   "cell_type": "raw",
   "metadata": {},
   "source": [
    "The normal Vanilla Viterbi Algorithm has incorrectly tagged the terms - 'Android', 'OS', 'worldwide', 'smartphones', '2011' and '2013'.\n",
    "\n",
    "Both the modified versions of the algorithm have able to tag the terms - 'Android', 'OS' and 'worldwide' as 'noun'.\n",
    "\n",
    "As observed earlier, both the modified versions of the algorithm have different takes on the years, while the 1st technique has tagged the terms - '2011' and '2013' as 'noun', the 2nd technique has tagged them as 'number'.\n",
    "\n",
    "The term 'smartphones', too, has been interpreted differently by both the modified versions of the algorithm. While the 1st technique has tagged that as 'noun', the 2nd technique has tagged the same as 'verb'."
   ]
  }
 ],
 "metadata": {
  "kernelspec": {
   "display_name": "Python 3",
   "language": "python",
   "name": "python3"
  },
  "language_info": {
   "codemirror_mode": {
    "name": "ipython",
    "version": 3
   },
   "file_extension": ".py",
   "mimetype": "text/x-python",
   "name": "python",
   "nbconvert_exporter": "python",
   "pygments_lexer": "ipython3",
   "version": "3.7.6"
  }
 },
 "nbformat": 4,
 "nbformat_minor": 2
}

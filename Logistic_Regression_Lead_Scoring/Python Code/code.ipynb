{
 "cells": [
  {
   "cell_type": "markdown",
   "metadata": {},
   "source": [
    "### Importing the necessary packages"
   ]
  },
  {
   "cell_type": "code",
   "execution_count": 1,
   "metadata": {},
   "outputs": [],
   "source": [
    "import numpy as np\n",
    "import pandas as pd\n",
    "import matplotlib.pyplot as plt \n",
    "import seaborn as sns \n",
    "\n",
    "import warnings\n",
    "warnings.filterwarnings('ignore')\n",
    "\n",
    "from sklearn.model_selection import train_test_split\n",
    "from sklearn.preprocessing import StandardScaler\n",
    "from sklearn.linear_model import LogisticRegression\n",
    "from sklearn.feature_selection import RFE\n",
    "from sklearn import metrics\n",
    "from sklearn.metrics import precision_score, recall_score\n",
    "from sklearn.metrics import precision_recall_curve\n",
    "\n",
    "import statsmodels.api as sm\n",
    "from statsmodels.stats.outliers_influence import variance_inflation_factor\n",
    "\n",
    "pd.set_option('display.max_rows',150)\n",
    "pd.set_option('display.max_columns',150)"
   ]
  },
  {
   "cell_type": "markdown",
   "metadata": {},
   "source": [
    "### Reading the data"
   ]
  },
  {
   "cell_type": "code",
   "execution_count": 2,
   "metadata": {},
   "outputs": [
    {
     "data": {
      "text/html": [
       "<div>\n",
       "<style scoped>\n",
       "    .dataframe tbody tr th:only-of-type {\n",
       "        vertical-align: middle;\n",
       "    }\n",
       "\n",
       "    .dataframe tbody tr th {\n",
       "        vertical-align: top;\n",
       "    }\n",
       "\n",
       "    .dataframe thead th {\n",
       "        text-align: right;\n",
       "    }\n",
       "</style>\n",
       "<table border=\"1\" class=\"dataframe\">\n",
       "  <thead>\n",
       "    <tr style=\"text-align: right;\">\n",
       "      <th></th>\n",
       "      <th>Prospect ID</th>\n",
       "      <th>Lead Number</th>\n",
       "      <th>Lead Origin</th>\n",
       "      <th>Lead Source</th>\n",
       "      <th>Do Not Email</th>\n",
       "      <th>Do Not Call</th>\n",
       "      <th>Converted</th>\n",
       "      <th>TotalVisits</th>\n",
       "      <th>Total Time Spent on Website</th>\n",
       "      <th>Page Views Per Visit</th>\n",
       "      <th>Last Activity</th>\n",
       "      <th>Country</th>\n",
       "      <th>Specialization</th>\n",
       "      <th>How did you hear about X Education</th>\n",
       "      <th>What is your current occupation</th>\n",
       "      <th>What matters most to you in choosing a course</th>\n",
       "      <th>Search</th>\n",
       "      <th>Magazine</th>\n",
       "      <th>Newspaper Article</th>\n",
       "      <th>X Education Forums</th>\n",
       "      <th>Newspaper</th>\n",
       "      <th>Digital Advertisement</th>\n",
       "      <th>Through Recommendations</th>\n",
       "      <th>Receive More Updates About Our Courses</th>\n",
       "      <th>Tags</th>\n",
       "      <th>Lead Quality</th>\n",
       "      <th>Update me on Supply Chain Content</th>\n",
       "      <th>Get updates on DM Content</th>\n",
       "      <th>Lead Profile</th>\n",
       "      <th>City</th>\n",
       "      <th>Asymmetrique Activity Index</th>\n",
       "      <th>Asymmetrique Profile Index</th>\n",
       "      <th>Asymmetrique Activity Score</th>\n",
       "      <th>Asymmetrique Profile Score</th>\n",
       "      <th>I agree to pay the amount through cheque</th>\n",
       "      <th>A free copy of Mastering The Interview</th>\n",
       "      <th>Last Notable Activity</th>\n",
       "    </tr>\n",
       "  </thead>\n",
       "  <tbody>\n",
       "    <tr>\n",
       "      <th>0</th>\n",
       "      <td>7927b2df-8bba-4d29-b9a2-b6e0beafe620</td>\n",
       "      <td>660737</td>\n",
       "      <td>API</td>\n",
       "      <td>Olark Chat</td>\n",
       "      <td>No</td>\n",
       "      <td>No</td>\n",
       "      <td>0</td>\n",
       "      <td>0.0</td>\n",
       "      <td>0</td>\n",
       "      <td>0.0</td>\n",
       "      <td>Page Visited on Website</td>\n",
       "      <td>NaN</td>\n",
       "      <td>Select</td>\n",
       "      <td>Select</td>\n",
       "      <td>Unemployed</td>\n",
       "      <td>Better Career Prospects</td>\n",
       "      <td>No</td>\n",
       "      <td>No</td>\n",
       "      <td>No</td>\n",
       "      <td>No</td>\n",
       "      <td>No</td>\n",
       "      <td>No</td>\n",
       "      <td>No</td>\n",
       "      <td>No</td>\n",
       "      <td>Interested in other courses</td>\n",
       "      <td>Low in Relevance</td>\n",
       "      <td>No</td>\n",
       "      <td>No</td>\n",
       "      <td>Select</td>\n",
       "      <td>Select</td>\n",
       "      <td>02.Medium</td>\n",
       "      <td>02.Medium</td>\n",
       "      <td>15.0</td>\n",
       "      <td>15.0</td>\n",
       "      <td>No</td>\n",
       "      <td>No</td>\n",
       "      <td>Modified</td>\n",
       "    </tr>\n",
       "    <tr>\n",
       "      <th>1</th>\n",
       "      <td>2a272436-5132-4136-86fa-dcc88c88f482</td>\n",
       "      <td>660728</td>\n",
       "      <td>API</td>\n",
       "      <td>Organic Search</td>\n",
       "      <td>No</td>\n",
       "      <td>No</td>\n",
       "      <td>0</td>\n",
       "      <td>5.0</td>\n",
       "      <td>674</td>\n",
       "      <td>2.5</td>\n",
       "      <td>Email Opened</td>\n",
       "      <td>India</td>\n",
       "      <td>Select</td>\n",
       "      <td>Select</td>\n",
       "      <td>Unemployed</td>\n",
       "      <td>Better Career Prospects</td>\n",
       "      <td>No</td>\n",
       "      <td>No</td>\n",
       "      <td>No</td>\n",
       "      <td>No</td>\n",
       "      <td>No</td>\n",
       "      <td>No</td>\n",
       "      <td>No</td>\n",
       "      <td>No</td>\n",
       "      <td>Ringing</td>\n",
       "      <td>NaN</td>\n",
       "      <td>No</td>\n",
       "      <td>No</td>\n",
       "      <td>Select</td>\n",
       "      <td>Select</td>\n",
       "      <td>02.Medium</td>\n",
       "      <td>02.Medium</td>\n",
       "      <td>15.0</td>\n",
       "      <td>15.0</td>\n",
       "      <td>No</td>\n",
       "      <td>No</td>\n",
       "      <td>Email Opened</td>\n",
       "    </tr>\n",
       "    <tr>\n",
       "      <th>2</th>\n",
       "      <td>8cc8c611-a219-4f35-ad23-fdfd2656bd8a</td>\n",
       "      <td>660727</td>\n",
       "      <td>Landing Page Submission</td>\n",
       "      <td>Direct Traffic</td>\n",
       "      <td>No</td>\n",
       "      <td>No</td>\n",
       "      <td>1</td>\n",
       "      <td>2.0</td>\n",
       "      <td>1532</td>\n",
       "      <td>2.0</td>\n",
       "      <td>Email Opened</td>\n",
       "      <td>India</td>\n",
       "      <td>Business Administration</td>\n",
       "      <td>Select</td>\n",
       "      <td>Student</td>\n",
       "      <td>Better Career Prospects</td>\n",
       "      <td>No</td>\n",
       "      <td>No</td>\n",
       "      <td>No</td>\n",
       "      <td>No</td>\n",
       "      <td>No</td>\n",
       "      <td>No</td>\n",
       "      <td>No</td>\n",
       "      <td>No</td>\n",
       "      <td>Will revert after reading the email</td>\n",
       "      <td>Might be</td>\n",
       "      <td>No</td>\n",
       "      <td>No</td>\n",
       "      <td>Potential Lead</td>\n",
       "      <td>Mumbai</td>\n",
       "      <td>02.Medium</td>\n",
       "      <td>01.High</td>\n",
       "      <td>14.0</td>\n",
       "      <td>20.0</td>\n",
       "      <td>No</td>\n",
       "      <td>Yes</td>\n",
       "      <td>Email Opened</td>\n",
       "    </tr>\n",
       "    <tr>\n",
       "      <th>3</th>\n",
       "      <td>0cc2df48-7cf4-4e39-9de9-19797f9b38cc</td>\n",
       "      <td>660719</td>\n",
       "      <td>Landing Page Submission</td>\n",
       "      <td>Direct Traffic</td>\n",
       "      <td>No</td>\n",
       "      <td>No</td>\n",
       "      <td>0</td>\n",
       "      <td>1.0</td>\n",
       "      <td>305</td>\n",
       "      <td>1.0</td>\n",
       "      <td>Unreachable</td>\n",
       "      <td>India</td>\n",
       "      <td>Media and Advertising</td>\n",
       "      <td>Word Of Mouth</td>\n",
       "      <td>Unemployed</td>\n",
       "      <td>Better Career Prospects</td>\n",
       "      <td>No</td>\n",
       "      <td>No</td>\n",
       "      <td>No</td>\n",
       "      <td>No</td>\n",
       "      <td>No</td>\n",
       "      <td>No</td>\n",
       "      <td>No</td>\n",
       "      <td>No</td>\n",
       "      <td>Ringing</td>\n",
       "      <td>Not Sure</td>\n",
       "      <td>No</td>\n",
       "      <td>No</td>\n",
       "      <td>Select</td>\n",
       "      <td>Mumbai</td>\n",
       "      <td>02.Medium</td>\n",
       "      <td>01.High</td>\n",
       "      <td>13.0</td>\n",
       "      <td>17.0</td>\n",
       "      <td>No</td>\n",
       "      <td>No</td>\n",
       "      <td>Modified</td>\n",
       "    </tr>\n",
       "    <tr>\n",
       "      <th>4</th>\n",
       "      <td>3256f628-e534-4826-9d63-4a8b88782852</td>\n",
       "      <td>660681</td>\n",
       "      <td>Landing Page Submission</td>\n",
       "      <td>Google</td>\n",
       "      <td>No</td>\n",
       "      <td>No</td>\n",
       "      <td>1</td>\n",
       "      <td>2.0</td>\n",
       "      <td>1428</td>\n",
       "      <td>1.0</td>\n",
       "      <td>Converted to Lead</td>\n",
       "      <td>India</td>\n",
       "      <td>Select</td>\n",
       "      <td>Other</td>\n",
       "      <td>Unemployed</td>\n",
       "      <td>Better Career Prospects</td>\n",
       "      <td>No</td>\n",
       "      <td>No</td>\n",
       "      <td>No</td>\n",
       "      <td>No</td>\n",
       "      <td>No</td>\n",
       "      <td>No</td>\n",
       "      <td>No</td>\n",
       "      <td>No</td>\n",
       "      <td>Will revert after reading the email</td>\n",
       "      <td>Might be</td>\n",
       "      <td>No</td>\n",
       "      <td>No</td>\n",
       "      <td>Select</td>\n",
       "      <td>Mumbai</td>\n",
       "      <td>02.Medium</td>\n",
       "      <td>01.High</td>\n",
       "      <td>15.0</td>\n",
       "      <td>18.0</td>\n",
       "      <td>No</td>\n",
       "      <td>No</td>\n",
       "      <td>Modified</td>\n",
       "    </tr>\n",
       "  </tbody>\n",
       "</table>\n",
       "</div>"
      ],
      "text/plain": [
       "                            Prospect ID  Lead Number              Lead Origin  \\\n",
       "0  7927b2df-8bba-4d29-b9a2-b6e0beafe620       660737                      API   \n",
       "1  2a272436-5132-4136-86fa-dcc88c88f482       660728                      API   \n",
       "2  8cc8c611-a219-4f35-ad23-fdfd2656bd8a       660727  Landing Page Submission   \n",
       "3  0cc2df48-7cf4-4e39-9de9-19797f9b38cc       660719  Landing Page Submission   \n",
       "4  3256f628-e534-4826-9d63-4a8b88782852       660681  Landing Page Submission   \n",
       "\n",
       "      Lead Source Do Not Email Do Not Call  Converted  TotalVisits  \\\n",
       "0      Olark Chat           No          No          0          0.0   \n",
       "1  Organic Search           No          No          0          5.0   \n",
       "2  Direct Traffic           No          No          1          2.0   \n",
       "3  Direct Traffic           No          No          0          1.0   \n",
       "4          Google           No          No          1          2.0   \n",
       "\n",
       "   Total Time Spent on Website  Page Views Per Visit            Last Activity  \\\n",
       "0                            0                   0.0  Page Visited on Website   \n",
       "1                          674                   2.5             Email Opened   \n",
       "2                         1532                   2.0             Email Opened   \n",
       "3                          305                   1.0              Unreachable   \n",
       "4                         1428                   1.0        Converted to Lead   \n",
       "\n",
       "  Country           Specialization How did you hear about X Education  \\\n",
       "0     NaN                   Select                             Select   \n",
       "1   India                   Select                             Select   \n",
       "2   India  Business Administration                             Select   \n",
       "3   India    Media and Advertising                      Word Of Mouth   \n",
       "4   India                   Select                              Other   \n",
       "\n",
       "  What is your current occupation  \\\n",
       "0                      Unemployed   \n",
       "1                      Unemployed   \n",
       "2                         Student   \n",
       "3                      Unemployed   \n",
       "4                      Unemployed   \n",
       "\n",
       "  What matters most to you in choosing a course Search Magazine  \\\n",
       "0                       Better Career Prospects     No       No   \n",
       "1                       Better Career Prospects     No       No   \n",
       "2                       Better Career Prospects     No       No   \n",
       "3                       Better Career Prospects     No       No   \n",
       "4                       Better Career Prospects     No       No   \n",
       "\n",
       "  Newspaper Article X Education Forums Newspaper Digital Advertisement  \\\n",
       "0                No                 No        No                    No   \n",
       "1                No                 No        No                    No   \n",
       "2                No                 No        No                    No   \n",
       "3                No                 No        No                    No   \n",
       "4                No                 No        No                    No   \n",
       "\n",
       "  Through Recommendations Receive More Updates About Our Courses  \\\n",
       "0                      No                                     No   \n",
       "1                      No                                     No   \n",
       "2                      No                                     No   \n",
       "3                      No                                     No   \n",
       "4                      No                                     No   \n",
       "\n",
       "                                  Tags      Lead Quality  \\\n",
       "0          Interested in other courses  Low in Relevance   \n",
       "1                              Ringing               NaN   \n",
       "2  Will revert after reading the email          Might be   \n",
       "3                              Ringing          Not Sure   \n",
       "4  Will revert after reading the email          Might be   \n",
       "\n",
       "  Update me on Supply Chain Content Get updates on DM Content    Lead Profile  \\\n",
       "0                                No                        No          Select   \n",
       "1                                No                        No          Select   \n",
       "2                                No                        No  Potential Lead   \n",
       "3                                No                        No          Select   \n",
       "4                                No                        No          Select   \n",
       "\n",
       "     City Asymmetrique Activity Index Asymmetrique Profile Index  \\\n",
       "0  Select                   02.Medium                  02.Medium   \n",
       "1  Select                   02.Medium                  02.Medium   \n",
       "2  Mumbai                   02.Medium                    01.High   \n",
       "3  Mumbai                   02.Medium                    01.High   \n",
       "4  Mumbai                   02.Medium                    01.High   \n",
       "\n",
       "   Asymmetrique Activity Score  Asymmetrique Profile Score  \\\n",
       "0                         15.0                        15.0   \n",
       "1                         15.0                        15.0   \n",
       "2                         14.0                        20.0   \n",
       "3                         13.0                        17.0   \n",
       "4                         15.0                        18.0   \n",
       "\n",
       "  I agree to pay the amount through cheque  \\\n",
       "0                                       No   \n",
       "1                                       No   \n",
       "2                                       No   \n",
       "3                                       No   \n",
       "4                                       No   \n",
       "\n",
       "  A free copy of Mastering The Interview Last Notable Activity  \n",
       "0                                     No              Modified  \n",
       "1                                     No          Email Opened  \n",
       "2                                    Yes          Email Opened  \n",
       "3                                     No              Modified  \n",
       "4                                     No              Modified  "
      ]
     },
     "execution_count": 2,
     "metadata": {},
     "output_type": "execute_result"
    }
   ],
   "source": [
    "lead = pd.read_csv('Leads.csv')\n",
    "lead.head()"
   ]
  },
  {
   "cell_type": "markdown",
   "metadata": {},
   "source": [
    "### Shape of the dataframe"
   ]
  },
  {
   "cell_type": "code",
   "execution_count": 3,
   "metadata": {},
   "outputs": [
    {
     "data": {
      "text/plain": [
       "(9240, 37)"
      ]
     },
     "execution_count": 3,
     "metadata": {},
     "output_type": "execute_result"
    }
   ],
   "source": [
    "lead.shape"
   ]
  },
  {
   "cell_type": "raw",
   "metadata": {},
   "source": [
    "There are total 9240 records and 37 columns in this dataframe."
   ]
  },
  {
   "cell_type": "markdown",
   "metadata": {},
   "source": [
    "### Dataframe Information"
   ]
  },
  {
   "cell_type": "code",
   "execution_count": 4,
   "metadata": {},
   "outputs": [
    {
     "name": "stdout",
     "output_type": "stream",
     "text": [
      "<class 'pandas.core.frame.DataFrame'>\n",
      "RangeIndex: 9240 entries, 0 to 9239\n",
      "Data columns (total 37 columns):\n",
      " #   Column                                         Non-Null Count  Dtype  \n",
      "---  ------                                         --------------  -----  \n",
      " 0   Prospect ID                                    9240 non-null   object \n",
      " 1   Lead Number                                    9240 non-null   int64  \n",
      " 2   Lead Origin                                    9240 non-null   object \n",
      " 3   Lead Source                                    9204 non-null   object \n",
      " 4   Do Not Email                                   9240 non-null   object \n",
      " 5   Do Not Call                                    9240 non-null   object \n",
      " 6   Converted                                      9240 non-null   int64  \n",
      " 7   TotalVisits                                    9103 non-null   float64\n",
      " 8   Total Time Spent on Website                    9240 non-null   int64  \n",
      " 9   Page Views Per Visit                           9103 non-null   float64\n",
      " 10  Last Activity                                  9137 non-null   object \n",
      " 11  Country                                        6779 non-null   object \n",
      " 12  Specialization                                 7802 non-null   object \n",
      " 13  How did you hear about X Education             7033 non-null   object \n",
      " 14  What is your current occupation                6550 non-null   object \n",
      " 15  What matters most to you in choosing a course  6531 non-null   object \n",
      " 16  Search                                         9240 non-null   object \n",
      " 17  Magazine                                       9240 non-null   object \n",
      " 18  Newspaper Article                              9240 non-null   object \n",
      " 19  X Education Forums                             9240 non-null   object \n",
      " 20  Newspaper                                      9240 non-null   object \n",
      " 21  Digital Advertisement                          9240 non-null   object \n",
      " 22  Through Recommendations                        9240 non-null   object \n",
      " 23  Receive More Updates About Our Courses         9240 non-null   object \n",
      " 24  Tags                                           5887 non-null   object \n",
      " 25  Lead Quality                                   4473 non-null   object \n",
      " 26  Update me on Supply Chain Content              9240 non-null   object \n",
      " 27  Get updates on DM Content                      9240 non-null   object \n",
      " 28  Lead Profile                                   6531 non-null   object \n",
      " 29  City                                           7820 non-null   object \n",
      " 30  Asymmetrique Activity Index                    5022 non-null   object \n",
      " 31  Asymmetrique Profile Index                     5022 non-null   object \n",
      " 32  Asymmetrique Activity Score                    5022 non-null   float64\n",
      " 33  Asymmetrique Profile Score                     5022 non-null   float64\n",
      " 34  I agree to pay the amount through cheque       9240 non-null   object \n",
      " 35  A free copy of Mastering The Interview         9240 non-null   object \n",
      " 36  Last Notable Activity                          9240 non-null   object \n",
      "dtypes: float64(4), int64(3), object(30)\n",
      "memory usage: 2.6+ MB\n"
     ]
    }
   ],
   "source": [
    "lead.info()"
   ]
  },
  {
   "cell_type": "markdown",
   "metadata": {},
   "source": [
    "### Treating incorrect datatype"
   ]
  },
  {
   "cell_type": "code",
   "execution_count": 5,
   "metadata": {},
   "outputs": [],
   "source": [
    "# 'Converted' is a binary categorical variable but with datatype as 'int64'\n",
    "lead['Converted'] = lead['Converted'].astype('category')"
   ]
  },
  {
   "cell_type": "code",
   "execution_count": 6,
   "metadata": {},
   "outputs": [
    {
     "data": {
      "text/plain": [
       "CategoricalDtype(categories=[0, 1], ordered=False)"
      ]
     },
     "execution_count": 6,
     "metadata": {},
     "output_type": "execute_result"
    }
   ],
   "source": [
    "lead['Converted'].dtype"
   ]
  },
  {
   "cell_type": "markdown",
   "metadata": {},
   "source": [
    "### Checking for the missing values"
   ]
  },
  {
   "cell_type": "markdown",
   "metadata": {},
   "source": [
    "#### A few categorical features have a label - 'Select', which is the default option of selecting the value of a feature and this means a lead has not selected any value; and hence we are good to treat this as a missing value"
   ]
  },
  {
   "cell_type": "code",
   "execution_count": 7,
   "metadata": {},
   "outputs": [],
   "source": [
    "# Replacing 'Select' with NaN value\n",
    "lead.replace({'Select' : np.nan},inplace=True)"
   ]
  },
  {
   "cell_type": "code",
   "execution_count": 8,
   "metadata": {},
   "outputs": [
    {
     "name": "stdout",
     "output_type": "stream",
     "text": [
      "False\n"
     ]
    }
   ],
   "source": [
    "# Validating whether all the 'Select' values got replaced or not\n",
    "res = lead.isin(['Select']).any().any()\n",
    "print(res)"
   ]
  },
  {
   "cell_type": "code",
   "execution_count": 9,
   "metadata": {},
   "outputs": [
    {
     "data": {
      "text/plain": [
       "How did you hear about X Education               78.46\n",
       "Lead Profile                                     74.19\n",
       "Lead Quality                                     51.59\n",
       "Asymmetrique Profile Score                       45.65\n",
       "Asymmetrique Activity Score                      45.65\n",
       "Asymmetrique Profile Index                       45.65\n",
       "Asymmetrique Activity Index                      45.65\n",
       "City                                             39.71\n",
       "Specialization                                   36.58\n",
       "Tags                                             36.29\n",
       "What matters most to you in choosing a course    29.32\n",
       "What is your current occupation                  29.11\n",
       "Country                                          26.63\n",
       "TotalVisits                                       1.48\n",
       "Page Views Per Visit                              1.48\n",
       "Last Activity                                     1.11\n",
       "Lead Source                                       0.39\n",
       "Lead Origin                                       0.00\n",
       "Lead Number                                       0.00\n",
       "Do Not Email                                      0.00\n",
       "Do Not Call                                       0.00\n",
       "Converted                                         0.00\n",
       "Total Time Spent on Website                       0.00\n",
       "Last Notable Activity                             0.00\n",
       "Newspaper Article                                 0.00\n",
       "Search                                            0.00\n",
       "Magazine                                          0.00\n",
       "A free copy of Mastering The Interview            0.00\n",
       "X Education Forums                                0.00\n",
       "Newspaper                                         0.00\n",
       "Digital Advertisement                             0.00\n",
       "Through Recommendations                           0.00\n",
       "Receive More Updates About Our Courses            0.00\n",
       "Update me on Supply Chain Content                 0.00\n",
       "Get updates on DM Content                         0.00\n",
       "I agree to pay the amount through cheque          0.00\n",
       "Prospect ID                                       0.00\n",
       "dtype: float64"
      ]
     },
     "execution_count": 9,
     "metadata": {},
     "output_type": "execute_result"
    }
   ],
   "source": [
    "# Checking the percentage of missing values\n",
    "round(100*(lead.isnull().sum()/len(lead.index)), 2).sort_values(ascending=False)"
   ]
  },
  {
   "cell_type": "raw",
   "metadata": {},
   "source": [
    "Observations:-\n",
    "1) There are no missing values for the target variable - Converted\n",
    "2) Prospect ID and Lead Number uniquely identify a lead from a customer, and these columns have no missing values.\n",
    "3) Certain columns like - How did you hear about X Education, Lead Profile, Lead Quality, Asymmetrique Activity Index, Asymmetrique Profile Index, Asymmetrique Activity Score and Asymmetrique Profile Score have missing value percentage higher then 45, and the nature being subjective too for these features, we are good to drop these fields."
   ]
  },
  {
   "cell_type": "code",
   "execution_count": 10,
   "metadata": {},
   "outputs": [
    {
     "data": {
      "text/plain": [
       "(9240, 30)"
      ]
     },
     "execution_count": 10,
     "metadata": {},
     "output_type": "execute_result"
    }
   ],
   "source": [
    "# Dropping the columns where the missing value percentage is greater than 45\n",
    "max_null_percentage = 45\n",
    "lead = lead.loc[:, ((lead.isnull().sum() * 100 / len(lead)) < max_null_percentage)]\n",
    "lead.shape"
   ]
  },
  {
   "cell_type": "raw",
   "metadata": {},
   "source": [
    "So now we have 30 columns, after deleting those 7 features."
   ]
  },
  {
   "cell_type": "code",
   "execution_count": 11,
   "metadata": {},
   "outputs": [
    {
     "data": {
      "text/plain": [
       "India                   95.766337\n",
       "United States            1.017849\n",
       "United Arab Emirates     0.781826\n",
       "Singapore                0.354035\n",
       "Saudi Arabia             0.309780\n",
       "United Kingdom           0.221272\n",
       "Australia                0.191769\n",
       "Qatar                    0.147514\n",
       "Bahrain                  0.103260\n",
       "Hong Kong                0.103260\n",
       "France                   0.088509\n",
       "Oman                     0.088509\n",
       "unknown                  0.073757\n",
       "Germany                  0.059006\n",
       "Canada                   0.059006\n",
       "South Africa             0.059006\n",
       "Nigeria                  0.059006\n",
       "Kuwait                   0.059006\n",
       "Sweden                   0.044254\n",
       "Italy                    0.029503\n",
       "Belgium                  0.029503\n",
       "Bangladesh               0.029503\n",
       "Netherlands              0.029503\n",
       "Philippines              0.029503\n",
       "Uganda                   0.029503\n",
       "China                    0.029503\n",
       "Ghana                    0.029503\n",
       "Asia/Pacific Region      0.029503\n",
       "Tanzania                 0.014751\n",
       "Denmark                  0.014751\n",
       "Switzerland              0.014751\n",
       "Liberia                  0.014751\n",
       "Sri Lanka                0.014751\n",
       "Malaysia                 0.014751\n",
       "Kenya                    0.014751\n",
       "Indonesia                0.014751\n",
       "Russia                   0.014751\n",
       "Vietnam                  0.014751\n",
       "Name: Country, dtype: float64"
      ]
     },
     "execution_count": 11,
     "metadata": {},
     "output_type": "execute_result"
    }
   ],
   "source": [
    "# Let us analyse the 'Country' column\n",
    "\n",
    "lead['Country'].value_counts(normalize=True)*100"
   ]
  },
  {
   "cell_type": "raw",
   "metadata": {},
   "source": [
    "'Country' is a highly skewed column, with over 95% data belonging to India. Hence this column can be dropped."
   ]
  },
  {
   "cell_type": "code",
   "execution_count": 12,
   "metadata": {},
   "outputs": [],
   "source": [
    "lead.drop(['Country'],axis=1, inplace=True)"
   ]
  },
  {
   "cell_type": "raw",
   "metadata": {},
   "source": [
    "'City' has about 40% missing values."
   ]
  },
  {
   "cell_type": "code",
   "execution_count": 13,
   "metadata": {},
   "outputs": [
    {
     "data": {
      "text/plain": [
       "Mumbai                         57.835218\n",
       "Thane & Outskirts              13.498474\n",
       "Other Cities                   12.313768\n",
       "Other Cities of Maharashtra     8.203195\n",
       "Other Metro Cities              6.821038\n",
       "Tier II Cities                  1.328307\n",
       "Name: City, dtype: float64"
      ]
     },
     "execution_count": 13,
     "metadata": {},
     "output_type": "execute_result"
    }
   ],
   "source": [
    "# Now let us treat 'City'\n",
    "\n",
    "lead['City'].value_counts(normalize=True)*100"
   ]
  },
  {
   "cell_type": "raw",
   "metadata": {},
   "source": [
    "Around 58% leads are from Mumbai. However, 40% missing values cannot be imputed with 'Mumbai'. So, we can club those missing cities with 'Other Cities'."
   ]
  },
  {
   "cell_type": "code",
   "execution_count": 14,
   "metadata": {},
   "outputs": [
    {
     "data": {
      "text/plain": [
       "Other Cities                   47.132035\n",
       "Mumbai                         34.870130\n",
       "Thane & Outskirts               8.138528\n",
       "Other Cities of Maharashtra     4.945887\n",
       "Other Metro Cities              4.112554\n",
       "Tier II Cities                  0.800866\n",
       "Name: City, dtype: float64"
      ]
     },
     "execution_count": 14,
     "metadata": {},
     "output_type": "execute_result"
    }
   ],
   "source": [
    "# Replacing all the missing values for 'City' with 'Other Cities'\n",
    "\n",
    "lead['City'].fillna('Other Cities',inplace=True)\n",
    "lead['City'].value_counts(normalize=True)*100"
   ]
  },
  {
   "cell_type": "code",
   "execution_count": 15,
   "metadata": {},
   "outputs": [
    {
     "data": {
      "text/plain": [
       "Finance Management                   16.655290\n",
       "Human Resource Management            14.470990\n",
       "Marketing Management                 14.300341\n",
       "Operations Management                 8.583618\n",
       "Business Administration               6.877133\n",
       "IT Projects Management                6.245734\n",
       "Supply Chain Management               5.955631\n",
       "Banking, Investment And Insurance     5.767918\n",
       "Media and Advertising                 3.464164\n",
       "Travel and Tourism                    3.464164\n",
       "International Business                3.037543\n",
       "Healthcare Management                 2.713311\n",
       "Hospitality Management                1.945392\n",
       "E-COMMERCE                            1.911263\n",
       "Retail Management                     1.706485\n",
       "Rural and Agribusiness                1.245734\n",
       "E-Business                            0.972696\n",
       "Services Excellence                   0.682594\n",
       "Name: Specialization, dtype: float64"
      ]
     },
     "execution_count": 15,
     "metadata": {},
     "output_type": "execute_result"
    }
   ],
   "source": [
    "# 'Specialization' has around 36.5% of missing values.\n",
    "\n",
    "lead['Specialization'].value_counts(normalize=True)*100"
   ]
  },
  {
   "cell_type": "raw",
   "metadata": {},
   "source": [
    "There are no dominant values in the 'Specialization' field. Hence, the missing values can be imputed with 'No Specialization'"
   ]
  },
  {
   "cell_type": "code",
   "execution_count": 16,
   "metadata": {},
   "outputs": [
    {
     "data": {
      "text/plain": [
       "No Specialization                    36.580087\n",
       "Finance Management                   10.562771\n",
       "Human Resource Management             9.177489\n",
       "Marketing Management                  9.069264\n",
       "Operations Management                 5.443723\n",
       "Business Administration               4.361472\n",
       "IT Projects Management                3.961039\n",
       "Supply Chain Management               3.777056\n",
       "Banking, Investment And Insurance     3.658009\n",
       "Media and Advertising                 2.196970\n",
       "Travel and Tourism                    2.196970\n",
       "International Business                1.926407\n",
       "Healthcare Management                 1.720779\n",
       "Hospitality Management                1.233766\n",
       "E-COMMERCE                            1.212121\n",
       "Retail Management                     1.082251\n",
       "Rural and Agribusiness                0.790043\n",
       "E-Business                            0.616883\n",
       "Services Excellence                   0.432900\n",
       "Name: Specialization, dtype: float64"
      ]
     },
     "execution_count": 16,
     "metadata": {},
     "output_type": "execute_result"
    }
   ],
   "source": [
    "lead['Specialization'].fillna('No Specialization',inplace=True)\n",
    "lead['Specialization'].value_counts(normalize=True)*100"
   ]
  },
  {
   "cell_type": "code",
   "execution_count": 17,
   "metadata": {},
   "outputs": [
    {
     "data": {
      "text/plain": [
       "26"
      ]
     },
     "execution_count": 17,
     "metadata": {},
     "output_type": "execute_result"
    }
   ],
   "source": [
    "# The column 'Tags' has a little over 36% missing values.\n",
    "\n",
    "lead['Tags'].nunique()"
   ]
  },
  {
   "cell_type": "raw",
   "metadata": {},
   "source": [
    "The feature 'Tags' has 26 unique values, which may be classified as random inputs taken from the leads. Hence, this column can be ignored."
   ]
  },
  {
   "cell_type": "code",
   "execution_count": 18,
   "metadata": {},
   "outputs": [
    {
     "data": {
      "text/plain": [
       "(9240, 28)"
      ]
     },
     "execution_count": 18,
     "metadata": {},
     "output_type": "execute_result"
    }
   ],
   "source": [
    "# Dropping the column 'Tags'\n",
    "\n",
    "lead.drop(['Tags'],axis=1,inplace=True)\n",
    "lead.shape"
   ]
  },
  {
   "cell_type": "raw",
   "metadata": {},
   "source": [
    "So now we have 28 features."
   ]
  },
  {
   "cell_type": "code",
   "execution_count": 19,
   "metadata": {},
   "outputs": [
    {
     "data": {
      "text/plain": [
       "Better Career Prospects      99.954065\n",
       "Flexibility & Convenience     0.030623\n",
       "Other                         0.015312\n",
       "Name: What matters most to you in choosing a course, dtype: float64"
      ]
     },
     "execution_count": 19,
     "metadata": {},
     "output_type": "execute_result"
    }
   ],
   "source": [
    "# Missing Values for 'What matters most to you in choosing a course'\n",
    "lead['What matters most to you in choosing a course'].value_counts(normalize=True)*100"
   ]
  },
  {
   "cell_type": "raw",
   "metadata": {},
   "source": [
    "The column - 'What matters most to you in choosing a course' is highly skewed, since over 99% records belong to the category 'Better Career Prospects'. Hence, this column can be dropped."
   ]
  },
  {
   "cell_type": "code",
   "execution_count": 20,
   "metadata": {},
   "outputs": [
    {
     "data": {
      "text/plain": [
       "(9240, 27)"
      ]
     },
     "execution_count": 20,
     "metadata": {},
     "output_type": "execute_result"
    }
   ],
   "source": [
    "# Dropping the column 'What matters most to you in choosing a course'\n",
    "\n",
    "lead.drop(['What matters most to you in choosing a course'],axis=1,inplace=True)\n",
    "lead.shape"
   ]
  },
  {
   "cell_type": "code",
   "execution_count": 21,
   "metadata": {},
   "outputs": [
    {
     "data": {
      "text/plain": [
       "Unemployed              85.496183\n",
       "Working Professional    10.778626\n",
       "Student                  3.206107\n",
       "Other                    0.244275\n",
       "Housewife                0.152672\n",
       "Businessman              0.122137\n",
       "Name: What is your current occupation, dtype: float64"
      ]
     },
     "execution_count": 21,
     "metadata": {},
     "output_type": "execute_result"
    }
   ],
   "source": [
    "# Missing Values for 'What is your current occupation'\n",
    "lead['What is your current occupation'].value_counts(normalize=True)*100"
   ]
  },
  {
   "cell_type": "raw",
   "metadata": {},
   "source": [
    "Again to remain unbias towards the dataset, the 29.11% missing values are to be imputed with 'Unknown'"
   ]
  },
  {
   "cell_type": "code",
   "execution_count": 22,
   "metadata": {},
   "outputs": [
    {
     "data": {
      "text/plain": [
       "Unemployed              60.606061\n",
       "Unknown                 29.112554\n",
       "Working Professional     7.640693\n",
       "Student                  2.272727\n",
       "Other                    0.173160\n",
       "Housewife                0.108225\n",
       "Businessman              0.086580\n",
       "Name: What is your current occupation, dtype: float64"
      ]
     },
     "execution_count": 22,
     "metadata": {},
     "output_type": "execute_result"
    }
   ],
   "source": [
    "lead['What is your current occupation'].fillna('Unknown',inplace=True)\n",
    "lead['What is your current occupation'].value_counts(normalize=True)*100"
   ]
  },
  {
   "cell_type": "code",
   "execution_count": 23,
   "metadata": {},
   "outputs": [
    {
     "data": {
      "text/plain": [
       "TotalVisits                                 1.48\n",
       "Page Views Per Visit                        1.48\n",
       "Last Activity                               1.11\n",
       "Lead Source                                 0.39\n",
       "Last Notable Activity                       0.00\n",
       "What is your current occupation             0.00\n",
       "Lead Number                                 0.00\n",
       "Lead Origin                                 0.00\n",
       "Do Not Email                                0.00\n",
       "Do Not Call                                 0.00\n",
       "Converted                                   0.00\n",
       "Total Time Spent on Website                 0.00\n",
       "Specialization                              0.00\n",
       "Search                                      0.00\n",
       "A free copy of Mastering The Interview      0.00\n",
       "Magazine                                    0.00\n",
       "Newspaper Article                           0.00\n",
       "X Education Forums                          0.00\n",
       "Newspaper                                   0.00\n",
       "Digital Advertisement                       0.00\n",
       "Through Recommendations                     0.00\n",
       "Receive More Updates About Our Courses      0.00\n",
       "Update me on Supply Chain Content           0.00\n",
       "Get updates on DM Content                   0.00\n",
       "City                                        0.00\n",
       "I agree to pay the amount through cheque    0.00\n",
       "Prospect ID                                 0.00\n",
       "dtype: float64"
      ]
     },
     "execution_count": 23,
     "metadata": {},
     "output_type": "execute_result"
    }
   ],
   "source": [
    "# Let us again check the percentage of missing values in the dataset\n",
    "\n",
    "round(100*(lead.isnull().sum()/len(lead.index)), 2).sort_values(ascending=False)"
   ]
  },
  {
   "cell_type": "raw",
   "metadata": {},
   "source": [
    "Columns such as - 'TotalVisits', 'Page Views Per Visit', 'Last Activity' and 'Lead Source' have less than 2% missing values, hence such rows can be dropped."
   ]
  },
  {
   "cell_type": "code",
   "execution_count": 24,
   "metadata": {},
   "outputs": [],
   "source": [
    "lead = lead.dropna(axis=0, subset=['TotalVisits','Page Views Per Visit','Last Activity','Lead Source'])"
   ]
  },
  {
   "cell_type": "code",
   "execution_count": 25,
   "metadata": {},
   "outputs": [
    {
     "data": {
      "text/plain": [
       "Last Notable Activity                       0.0\n",
       "What is your current occupation             0.0\n",
       "Lead Number                                 0.0\n",
       "Lead Origin                                 0.0\n",
       "Lead Source                                 0.0\n",
       "Do Not Email                                0.0\n",
       "Do Not Call                                 0.0\n",
       "Converted                                   0.0\n",
       "TotalVisits                                 0.0\n",
       "Total Time Spent on Website                 0.0\n",
       "Page Views Per Visit                        0.0\n",
       "Last Activity                               0.0\n",
       "Specialization                              0.0\n",
       "Search                                      0.0\n",
       "A free copy of Mastering The Interview      0.0\n",
       "Magazine                                    0.0\n",
       "Newspaper Article                           0.0\n",
       "X Education Forums                          0.0\n",
       "Newspaper                                   0.0\n",
       "Digital Advertisement                       0.0\n",
       "Through Recommendations                     0.0\n",
       "Receive More Updates About Our Courses      0.0\n",
       "Update me on Supply Chain Content           0.0\n",
       "Get updates on DM Content                   0.0\n",
       "City                                        0.0\n",
       "I agree to pay the amount through cheque    0.0\n",
       "Prospect ID                                 0.0\n",
       "dtype: float64"
      ]
     },
     "execution_count": 25,
     "metadata": {},
     "output_type": "execute_result"
    }
   ],
   "source": [
    "# Let us re-check the percentage of missing values in the dataset\n",
    "\n",
    "round(100*(lead.isnull().sum()/len(lead.index)), 2).sort_values(ascending=False)"
   ]
  },
  {
   "cell_type": "raw",
   "metadata": {},
   "source": [
    "Now our dataset has no missing values."
   ]
  },
  {
   "cell_type": "code",
   "execution_count": 26,
   "metadata": {},
   "outputs": [
    {
     "data": {
      "text/plain": [
       "(9074, 27)"
      ]
     },
     "execution_count": 26,
     "metadata": {},
     "output_type": "execute_result"
    }
   ],
   "source": [
    "lead.shape #checking shape again"
   ]
  },
  {
   "cell_type": "markdown",
   "metadata": {},
   "source": [
    "### Incorrect Label Treatment for the categorical columns"
   ]
  },
  {
   "cell_type": "code",
   "execution_count": 27,
   "metadata": {},
   "outputs": [
    {
     "name": "stdout",
     "output_type": "stream",
     "text": [
      "Levels in  Prospect ID  are  ['7927b2df-8bba-4d29-b9a2-b6e0beafe620'\n",
      " '2a272436-5132-4136-86fa-dcc88c88f482'\n",
      " '8cc8c611-a219-4f35-ad23-fdfd2656bd8a' ...\n",
      " 'aac550fe-a586-452d-8d3c-f1b62c94e02c'\n",
      " '5330a7d1-2f2b-4df4-85d6-64ca2f6b95b9'\n",
      " '571b5c8e-a5b2-4d57-8574-f2ffb06fdeff'] \n",
      "\n",
      "\n",
      "Levels in  Lead Origin  are  ['API' 'Landing Page Submission' 'Lead Add Form' 'Lead Import'] \n",
      "\n",
      "\n",
      "Levels in  Lead Source  are  ['Olark Chat' 'Organic Search' 'Direct Traffic' 'Google' 'Referral Sites'\n",
      " 'Reference' 'google' 'Welingak Website' 'Facebook' 'blog'\n",
      " 'Pay per Click Ads' 'bing' 'Social Media' 'WeLearn' 'Click2call'\n",
      " 'Live Chat' 'welearnblog_Home' 'youtubechannel' 'testone' 'Press_Release'\n",
      " 'NC_EDM'] \n",
      "\n",
      "\n",
      "Levels in  Do Not Email  are  ['No' 'Yes'] \n",
      "\n",
      "\n",
      "Levels in  Do Not Call  are  ['No' 'Yes'] \n",
      "\n",
      "\n",
      "Levels in  Last Activity  are  ['Page Visited on Website' 'Email Opened' 'Unreachable'\n",
      " 'Converted to Lead' 'Olark Chat Conversation' 'Email Bounced'\n",
      " 'Email Link Clicked' 'Form Submitted on Website' 'Unsubscribed'\n",
      " 'Had a Phone Conversation' 'View in browser link Clicked' 'SMS Sent'\n",
      " 'Visited Booth in Tradeshow' 'Approached upfront'\n",
      " 'Resubscribed to emails' 'Email Received' 'Email Marked Spam'] \n",
      "\n",
      "\n",
      "Levels in  Specialization  are  ['No Specialization' 'Business Administration' 'Media and Advertising'\n",
      " 'Supply Chain Management' 'IT Projects Management' 'Finance Management'\n",
      " 'Travel and Tourism' 'Human Resource Management' 'Marketing Management'\n",
      " 'Banking, Investment And Insurance' 'International Business' 'E-COMMERCE'\n",
      " 'Operations Management' 'Retail Management' 'Services Excellence'\n",
      " 'Hospitality Management' 'Rural and Agribusiness' 'Healthcare Management'\n",
      " 'E-Business'] \n",
      "\n",
      "\n",
      "Levels in  What is your current occupation  are  ['Unemployed' 'Student' 'Unknown' 'Working Professional' 'Businessman'\n",
      " 'Other' 'Housewife'] \n",
      "\n",
      "\n",
      "Levels in  Search  are  ['No' 'Yes'] \n",
      "\n",
      "\n",
      "Levels in  Magazine  are  ['No'] \n",
      "\n",
      "\n",
      "Levels in  Newspaper Article  are  ['No' 'Yes'] \n",
      "\n",
      "\n",
      "Levels in  X Education Forums  are  ['No' 'Yes'] \n",
      "\n",
      "\n",
      "Levels in  Newspaper  are  ['No' 'Yes'] \n",
      "\n",
      "\n",
      "Levels in  Digital Advertisement  are  ['No' 'Yes'] \n",
      "\n",
      "\n",
      "Levels in  Through Recommendations  are  ['No' 'Yes'] \n",
      "\n",
      "\n",
      "Levels in  Receive More Updates About Our Courses  are  ['No'] \n",
      "\n",
      "\n",
      "Levels in  Update me on Supply Chain Content  are  ['No'] \n",
      "\n",
      "\n",
      "Levels in  Get updates on DM Content  are  ['No'] \n",
      "\n",
      "\n",
      "Levels in  City  are  ['Other Cities' 'Mumbai' 'Thane & Outskirts' 'Other Metro Cities'\n",
      " 'Other Cities of Maharashtra' 'Tier II Cities'] \n",
      "\n",
      "\n",
      "Levels in  I agree to pay the amount through cheque  are  ['No'] \n",
      "\n",
      "\n",
      "Levels in  A free copy of Mastering The Interview  are  ['No' 'Yes'] \n",
      "\n",
      "\n",
      "Levels in  Last Notable Activity  are  ['Modified' 'Email Opened' 'Page Visited on Website' 'Email Bounced'\n",
      " 'Email Link Clicked' 'Unreachable' 'Unsubscribed'\n",
      " 'Had a Phone Conversation' 'Olark Chat Conversation' 'SMS Sent'\n",
      " 'Approached upfront' 'Resubscribed to emails'\n",
      " 'View in browser link Clicked' 'Form Submitted on Website'\n",
      " 'Email Received' 'Email Marked Spam'] \n",
      "\n",
      "\n"
     ]
    }
   ],
   "source": [
    "columns = lead.dtypes[lead.dtypes == 'object'].index.values\n",
    "for col in columns : \n",
    "    print('Levels in ',col,' are ' , lead[col].unique(),'\\n\\n')"
   ]
  },
  {
   "cell_type": "raw",
   "metadata": {},
   "source": [
    "In the column 'Lead Source', although they mean the same, but 'Google' and 'google' are two different distinct values and this needs to be fixed."
   ]
  },
  {
   "cell_type": "code",
   "execution_count": 28,
   "metadata": {},
   "outputs": [],
   "source": [
    "# Replacing 'google' with 'Google' in 'Lead Source'\n",
    "lead['Lead Source'] = lead['Lead Source'].str.replace('google','Google')"
   ]
  },
  {
   "cell_type": "code",
   "execution_count": 29,
   "metadata": {},
   "outputs": [],
   "source": [
    "# Dropping columns having only one label\n",
    "col_label_drop = ['Magazine','Receive More Updates About Our Courses','Update me on Supply Chain Content','Get updates on DM Content',\n",
    "                 'I agree to pay the amount through cheque']\n",
    "lead.drop(columns=col_label_drop,axis=1,inplace=True)"
   ]
  },
  {
   "cell_type": "code",
   "execution_count": 30,
   "metadata": {},
   "outputs": [
    {
     "data": {
      "text/plain": [
       "(9074, 22)"
      ]
     },
     "execution_count": 30,
     "metadata": {},
     "output_type": "execute_result"
    }
   ],
   "source": [
    "lead.shape"
   ]
  },
  {
   "cell_type": "raw",
   "metadata": {},
   "source": [
    "Now we are left with 22 columns."
   ]
  },
  {
   "cell_type": "raw",
   "metadata": {},
   "source": [
    "The columns - 'Last Activity' and 'Last Notable Activiy' are seem to be having similar labels."
   ]
  },
  {
   "cell_type": "code",
   "execution_count": 31,
   "metadata": {},
   "outputs": [
    {
     "data": {
      "text/plain": [
       "Email Opened                    37.822350\n",
       "SMS Sent                        29.931673\n",
       "Olark Chat Conversation         10.711924\n",
       "Page Visited on Website          7.053119\n",
       "Converted to Lead                4.716773\n",
       "Email Bounced                    3.438395\n",
       "Email Link Clicked               2.942473\n",
       "Form Submitted on Website        1.278378\n",
       "Unreachable                      0.991845\n",
       "Unsubscribed                     0.650209\n",
       "Had a Phone Conversation         0.275512\n",
       "View in browser link Clicked     0.066123\n",
       "Approached upfront               0.055102\n",
       "Email Marked Spam                0.022041\n",
       "Email Received                   0.022041\n",
       "Visited Booth in Tradeshow       0.011020\n",
       "Resubscribed to emails           0.011020\n",
       "Name: Last Activity, dtype: float64"
      ]
     },
     "execution_count": 31,
     "metadata": {},
     "output_type": "execute_result"
    }
   ],
   "source": [
    "lead['Last Activity'].value_counts(normalize=True)*100"
   ]
  },
  {
   "cell_type": "code",
   "execution_count": 32,
   "metadata": {},
   "outputs": [
    {
     "data": {
      "text/plain": [
       "Modified                        36.003967\n",
       "Email Opened                    31.110866\n",
       "SMS Sent                        23.716112\n",
       "Page Visited on Website          3.504518\n",
       "Olark Chat Conversation          2.016751\n",
       "Email Link Clicked               1.906546\n",
       "Email Bounced                    0.661230\n",
       "Unsubscribed                     0.495922\n",
       "Unreachable                      0.352656\n",
       "Had a Phone Conversation         0.154287\n",
       "Email Marked Spam                0.022041\n",
       "Form Submitted on Website        0.011020\n",
       "Email Received                   0.011020\n",
       "Resubscribed to emails           0.011020\n",
       "View in browser link Clicked     0.011020\n",
       "Approached upfront               0.011020\n",
       "Name: Last Notable Activity, dtype: float64"
      ]
     },
     "execution_count": 32,
     "metadata": {},
     "output_type": "execute_result"
    }
   ],
   "source": [
    "lead['Last Notable Activity'].value_counts(normalize=True)*100"
   ]
  },
  {
   "cell_type": "raw",
   "metadata": {},
   "source": [
    "Except the label 'Modified', the column 'Last Notable Activity' is equivalent to 'Last Activity'. Moreover, the purpose of that label is not understood. Hence, going forward, we will be using 'Last Activity', thereby dropping 'Last Notable Activity'."
   ]
  },
  {
   "cell_type": "code",
   "execution_count": 33,
   "metadata": {},
   "outputs": [],
   "source": [
    "# Dropping the column - 'Last Notable Activity'\n",
    "\n",
    "lead.drop(columns = ['Last Notable Activity'], inplace=True)"
   ]
  },
  {
   "cell_type": "code",
   "execution_count": 34,
   "metadata": {},
   "outputs": [
    {
     "data": {
      "text/plain": [
       "(9074, 21)"
      ]
     },
     "execution_count": 34,
     "metadata": {},
     "output_type": "execute_result"
    }
   ],
   "source": [
    "lead.shape"
   ]
  },
  {
   "cell_type": "raw",
   "metadata": {},
   "source": [
    "So we have 21 columns now."
   ]
  },
  {
   "cell_type": "raw",
   "metadata": {},
   "source": [
    "'Newspaper' and 'Newspaper Article' seems to have the same characteristics. Let us have a look."
   ]
  },
  {
   "cell_type": "code",
   "execution_count": 35,
   "metadata": {},
   "outputs": [
    {
     "data": {
      "text/plain": [
       "No     99.98898\n",
       "Yes     0.01102\n",
       "Name: Newspaper, dtype: float64"
      ]
     },
     "execution_count": 35,
     "metadata": {},
     "output_type": "execute_result"
    }
   ],
   "source": [
    "lead['Newspaper'].value_counts(normalize=True)*100"
   ]
  },
  {
   "cell_type": "code",
   "execution_count": 36,
   "metadata": {},
   "outputs": [
    {
     "data": {
      "text/plain": [
       "No     99.977959\n",
       "Yes     0.022041\n",
       "Name: Newspaper Article, dtype: float64"
      ]
     },
     "execution_count": 36,
     "metadata": {},
     "output_type": "execute_result"
    }
   ],
   "source": [
    "lead['Newspaper Article'].value_counts(normalize=True)*100"
   ]
  },
  {
   "cell_type": "raw",
   "metadata": {},
   "source": [
    "Both the features have same number of labels in equivalent proportions. Hence, we can drop any one of them."
   ]
  },
  {
   "cell_type": "code",
   "execution_count": 37,
   "metadata": {},
   "outputs": [],
   "source": [
    "# Dropping the column - 'Newspaper Article'\n",
    "\n",
    "lead.drop(columns = ['Newspaper Article'], inplace=True)"
   ]
  },
  {
   "cell_type": "code",
   "execution_count": 38,
   "metadata": {},
   "outputs": [
    {
     "data": {
      "text/plain": [
       "(9074, 20)"
      ]
     },
     "execution_count": 38,
     "metadata": {},
     "output_type": "execute_result"
    }
   ],
   "source": [
    "lead.shape"
   ]
  },
  {
   "cell_type": "code",
   "execution_count": 39,
   "metadata": {},
   "outputs": [
    {
     "data": {
      "text/plain": [
       "Landing Page Submission    53.835133\n",
       "API                        39.431342\n",
       "Lead Add Form               6.402909\n",
       "Lead Import                 0.330615\n",
       "Name: Lead Origin, dtype: float64"
      ]
     },
     "execution_count": 39,
     "metadata": {},
     "output_type": "execute_result"
    }
   ],
   "source": [
    "# Let us check the labels for 'Lead Origin'\n",
    "\n",
    "lead['Lead Origin'].value_counts(normalize=True)*100"
   ]
  },
  {
   "cell_type": "raw",
   "metadata": {},
   "source": [
    "The labels 'Lead Add Form' and 'Lead Import' have very low counts in compare to other 2 labels. Let us group them into one label as - 'Others'"
   ]
  },
  {
   "cell_type": "code",
   "execution_count": 40,
   "metadata": {},
   "outputs": [
    {
     "data": {
      "text/plain": [
       "Landing Page Submission    53.835133\n",
       "API                        39.431342\n",
       "Others                      6.733524\n",
       "Name: Lead Origin, dtype: float64"
      ]
     },
     "execution_count": 40,
     "metadata": {},
     "output_type": "execute_result"
    }
   ],
   "source": [
    "# Labeling those lead origins having very low lead counts as 'Others' \n",
    "\n",
    "lead_origin = lead['Lead Origin'].value_counts(normalize=True)\n",
    "low_lead_origin = lead_origin[lead_origin < 0.07].index\n",
    "\n",
    "lead['Lead Origin'].replace(low_lead_origin,'Others',inplace=True)\n",
    "lead['Lead Origin'].value_counts(normalize=True)*100"
   ]
  },
  {
   "cell_type": "code",
   "execution_count": 41,
   "metadata": {},
   "outputs": [
    {
     "data": {
      "text/plain": [
       "Google               31.661891\n",
       "Direct Traffic       28.025127\n",
       "Olark Chat           19.318933\n",
       "Organic Search       12.717655\n",
       "Reference             4.882081\n",
       "Welingak Website      1.421644\n",
       "Referral Sites        1.377562\n",
       "Facebook              0.341635\n",
       "bing                  0.066123\n",
       "Click2call            0.044082\n",
       "Social Media          0.022041\n",
       "Live Chat             0.022041\n",
       "Press_Release         0.022041\n",
       "blog                  0.011020\n",
       "youtubechannel        0.011020\n",
       "Pay per Click Ads     0.011020\n",
       "testone               0.011020\n",
       "WeLearn               0.011020\n",
       "welearnblog_Home      0.011020\n",
       "NC_EDM                0.011020\n",
       "Name: Lead Source, dtype: float64"
      ]
     },
     "execution_count": 41,
     "metadata": {},
     "output_type": "execute_result"
    }
   ],
   "source": [
    "# Let us check the labels for 'Lead Source'\n",
    "\n",
    "lead['Lead Source'].value_counts(normalize=True)*100"
   ]
  },
  {
   "cell_type": "raw",
   "metadata": {},
   "source": [
    "Many labels are there which contribute less than 10%, hence those can be clubbed as 'Others'"
   ]
  },
  {
   "cell_type": "code",
   "execution_count": 42,
   "metadata": {},
   "outputs": [
    {
     "data": {
      "text/plain": [
       "Google            31.661891\n",
       "Direct Traffic    28.025127\n",
       "Olark Chat        19.318933\n",
       "Organic Search    12.717655\n",
       "Others             8.276394\n",
       "Name: Lead Source, dtype: float64"
      ]
     },
     "execution_count": 42,
     "metadata": {},
     "output_type": "execute_result"
    }
   ],
   "source": [
    "lead_source = lead['Lead Source'].value_counts(normalize=True)\n",
    "low_lead_source = lead_source[lead_source < 0.1].index   \n",
    "\n",
    "lead['Lead Source'].replace(low_lead_source,'Others',inplace=True)\n",
    "lead['Lead Source'].value_counts(normalize=True)*100"
   ]
  },
  {
   "cell_type": "code",
   "execution_count": 43,
   "metadata": {},
   "outputs": [
    {
     "data": {
      "text/plain": [
       "Email Opened                    37.822350\n",
       "SMS Sent                        29.931673\n",
       "Olark Chat Conversation         10.711924\n",
       "Page Visited on Website          7.053119\n",
       "Converted to Lead                4.716773\n",
       "Email Bounced                    3.438395\n",
       "Email Link Clicked               2.942473\n",
       "Form Submitted on Website        1.278378\n",
       "Unreachable                      0.991845\n",
       "Unsubscribed                     0.650209\n",
       "Had a Phone Conversation         0.275512\n",
       "View in browser link Clicked     0.066123\n",
       "Approached upfront               0.055102\n",
       "Email Marked Spam                0.022041\n",
       "Email Received                   0.022041\n",
       "Visited Booth in Tradeshow       0.011020\n",
       "Resubscribed to emails           0.011020\n",
       "Name: Last Activity, dtype: float64"
      ]
     },
     "execution_count": 43,
     "metadata": {},
     "output_type": "execute_result"
    }
   ],
   "source": [
    "# Checking the labels for 'Last Activity'\n",
    "\n",
    "lead['Last Activity'].value_counts(normalize=True)*100"
   ]
  },
  {
   "cell_type": "raw",
   "metadata": {},
   "source": [
    "Many labels are there which contribute less than 10%, hence those can be clubbed as 'Others'"
   ]
  },
  {
   "cell_type": "code",
   "execution_count": 44,
   "metadata": {},
   "outputs": [
    {
     "data": {
      "text/plain": [
       "Email Opened               37.822350\n",
       "SMS Sent                   29.931673\n",
       "Others                     21.534053\n",
       "Olark Chat Conversation    10.711924\n",
       "Name: Last Activity, dtype: float64"
      ]
     },
     "execution_count": 44,
     "metadata": {},
     "output_type": "execute_result"
    }
   ],
   "source": [
    "lead_activity = lead['Last Activity'].value_counts(normalize=True)\n",
    "low_lead_activity = lead_activity[lead_activity < 0.1].index    \n",
    "\n",
    "lead['Last Activity'].replace(low_lead_activity,'Others',inplace=True)\n",
    "lead['Last Activity'].value_counts(normalize=True)*100"
   ]
  },
  {
   "cell_type": "code",
   "execution_count": 45,
   "metadata": {},
   "outputs": [
    {
     "data": {
      "text/plain": [
       "No Specialization                    36.169275\n",
       "Finance Management                   10.568658\n",
       "Human Resource Management             9.224157\n",
       "Marketing Management                  9.069870\n",
       "Operations Management                 5.499229\n",
       "Business Administration               4.397179\n",
       "IT Projects Management                4.033502\n",
       "Supply Chain Management               3.813092\n",
       "Banking, Investment And Insurance     3.691867\n",
       "Travel and Tourism                    2.226141\n",
       "Media and Advertising                 2.226141\n",
       "International Business                1.939608\n",
       "Healthcare Management                 1.719198\n",
       "E-COMMERCE                            1.223275\n",
       "Hospitality Management                1.223275\n",
       "Retail Management                     1.102050\n",
       "Rural and Agribusiness                0.804496\n",
       "E-Business                            0.628168\n",
       "Services Excellence                   0.440820\n",
       "Name: Specialization, dtype: float64"
      ]
     },
     "execution_count": 45,
     "metadata": {},
     "output_type": "execute_result"
    }
   ],
   "source": [
    "# Checking the labels for 'Specialization'\n",
    "\n",
    "lead['Specialization'].value_counts(normalize=True)*100"
   ]
  },
  {
   "cell_type": "raw",
   "metadata": {},
   "source": [
    "Many labels are there which contribute less than 5%, hence those can be clubbed as 'Others'"
   ]
  },
  {
   "cell_type": "code",
   "execution_count": 46,
   "metadata": {},
   "outputs": [
    {
     "data": {
      "text/plain": [
       "No Specialization            36.169275\n",
       "Others                       29.468812\n",
       "Finance Management           10.568658\n",
       "Human Resource Management     9.224157\n",
       "Marketing Management          9.069870\n",
       "Operations Management         5.499229\n",
       "Name: Specialization, dtype: float64"
      ]
     },
     "execution_count": 46,
     "metadata": {},
     "output_type": "execute_result"
    }
   ],
   "source": [
    "lead_spec = lead['Specialization'].value_counts(normalize=True)\n",
    "low_lead_spec = lead_spec[lead_spec < 0.05].index               \n",
    "\n",
    "lead['Specialization'].replace(low_lead_spec,'Others',inplace=True)\n",
    "lead['Specialization'].value_counts(normalize=True)*100"
   ]
  },
  {
   "cell_type": "markdown",
   "metadata": {},
   "source": [
    "### Outlier Analysis"
   ]
  },
  {
   "cell_type": "code",
   "execution_count": 47,
   "metadata": {},
   "outputs": [
    {
     "data": {
      "text/html": [
       "<div>\n",
       "<style scoped>\n",
       "    .dataframe tbody tr th:only-of-type {\n",
       "        vertical-align: middle;\n",
       "    }\n",
       "\n",
       "    .dataframe tbody tr th {\n",
       "        vertical-align: top;\n",
       "    }\n",
       "\n",
       "    .dataframe thead th {\n",
       "        text-align: right;\n",
       "    }\n",
       "</style>\n",
       "<table border=\"1\" class=\"dataframe\">\n",
       "  <thead>\n",
       "    <tr style=\"text-align: right;\">\n",
       "      <th></th>\n",
       "      <th>TotalVisits</th>\n",
       "      <th>Total Time Spent on Website</th>\n",
       "      <th>Page Views Per Visit</th>\n",
       "    </tr>\n",
       "  </thead>\n",
       "  <tbody>\n",
       "    <tr>\n",
       "      <th>count</th>\n",
       "      <td>9074.000000</td>\n",
       "      <td>9074.000000</td>\n",
       "      <td>9074.000000</td>\n",
       "    </tr>\n",
       "    <tr>\n",
       "      <th>mean</th>\n",
       "      <td>3.456028</td>\n",
       "      <td>482.887481</td>\n",
       "      <td>2.370151</td>\n",
       "    </tr>\n",
       "    <tr>\n",
       "      <th>std</th>\n",
       "      <td>4.858802</td>\n",
       "      <td>545.256560</td>\n",
       "      <td>2.160871</td>\n",
       "    </tr>\n",
       "    <tr>\n",
       "      <th>min</th>\n",
       "      <td>0.000000</td>\n",
       "      <td>0.000000</td>\n",
       "      <td>0.000000</td>\n",
       "    </tr>\n",
       "    <tr>\n",
       "      <th>25%</th>\n",
       "      <td>1.000000</td>\n",
       "      <td>11.000000</td>\n",
       "      <td>1.000000</td>\n",
       "    </tr>\n",
       "    <tr>\n",
       "      <th>50%</th>\n",
       "      <td>3.000000</td>\n",
       "      <td>246.000000</td>\n",
       "      <td>2.000000</td>\n",
       "    </tr>\n",
       "    <tr>\n",
       "      <th>75%</th>\n",
       "      <td>5.000000</td>\n",
       "      <td>922.750000</td>\n",
       "      <td>3.200000</td>\n",
       "    </tr>\n",
       "    <tr>\n",
       "      <th>90%</th>\n",
       "      <td>7.000000</td>\n",
       "      <td>1373.000000</td>\n",
       "      <td>5.000000</td>\n",
       "    </tr>\n",
       "    <tr>\n",
       "      <th>95%</th>\n",
       "      <td>10.000000</td>\n",
       "      <td>1557.000000</td>\n",
       "      <td>6.000000</td>\n",
       "    </tr>\n",
       "    <tr>\n",
       "      <th>99%</th>\n",
       "      <td>17.000000</td>\n",
       "      <td>1839.000000</td>\n",
       "      <td>9.000000</td>\n",
       "    </tr>\n",
       "    <tr>\n",
       "      <th>max</th>\n",
       "      <td>251.000000</td>\n",
       "      <td>2272.000000</td>\n",
       "      <td>55.000000</td>\n",
       "    </tr>\n",
       "  </tbody>\n",
       "</table>\n",
       "</div>"
      ],
      "text/plain": [
       "       TotalVisits  Total Time Spent on Website  Page Views Per Visit\n",
       "count  9074.000000                  9074.000000           9074.000000\n",
       "mean      3.456028                   482.887481              2.370151\n",
       "std       4.858802                   545.256560              2.160871\n",
       "min       0.000000                     0.000000              0.000000\n",
       "25%       1.000000                    11.000000              1.000000\n",
       "50%       3.000000                   246.000000              2.000000\n",
       "75%       5.000000                   922.750000              3.200000\n",
       "90%       7.000000                  1373.000000              5.000000\n",
       "95%      10.000000                  1557.000000              6.000000\n",
       "99%      17.000000                  1839.000000              9.000000\n",
       "max     251.000000                  2272.000000             55.000000"
      ]
     },
     "execution_count": 47,
     "metadata": {},
     "output_type": "execute_result"
    }
   ],
   "source": [
    "# Checking for the outliers for the continuous variables at 25%, 50%, 75%, 90%, 95% and 99%\n",
    "\n",
    "lead[['TotalVisits','Total Time Spent on Website','Page Views Per Visit']].describe(percentiles=[.25, .5, .75, .90, .95, .99])"
   ]
  },
  {
   "cell_type": "raw",
   "metadata": {},
   "source": [
    "Huge differences are observed between 99% and max values for all the continuous features."
   ]
  },
  {
   "cell_type": "code",
   "execution_count": 48,
   "metadata": {},
   "outputs": [],
   "source": [
    "# Let us cap the outliers at the 99th percentile\n",
    "\n",
    "cap1 = lead['TotalVisits'].quantile(0.99)\n",
    "cap2 = lead['Total Time Spent on Website'].quantile(0.99)\n",
    "cap3 = lead['Page Views Per Visit'].quantile(0.99)\n",
    "\n",
    "cond1 = lead['TotalVisits'] > cap1\n",
    "cond2 = lead['Total Time Spent on Website'] > cap2\n",
    "cond3 = lead['Page Views Per Visit'] > cap3\n",
    "\n",
    "lead.loc[cond1,'TotalVisits' ] = cap1\n",
    "lead.loc[cond1,'Total Time Spent on Website' ] = cap2\n",
    "lead.loc[cond1,'Page Views Per Visit' ] = cap3"
   ]
  },
  {
   "cell_type": "code",
   "execution_count": 49,
   "metadata": {},
   "outputs": [
    {
     "data": {
      "text/html": [
       "<div>\n",
       "<style scoped>\n",
       "    .dataframe tbody tr th:only-of-type {\n",
       "        vertical-align: middle;\n",
       "    }\n",
       "\n",
       "    .dataframe tbody tr th {\n",
       "        vertical-align: top;\n",
       "    }\n",
       "\n",
       "    .dataframe thead th {\n",
       "        text-align: right;\n",
       "    }\n",
       "</style>\n",
       "<table border=\"1\" class=\"dataframe\">\n",
       "  <thead>\n",
       "    <tr style=\"text-align: right;\">\n",
       "      <th></th>\n",
       "      <th>TotalVisits</th>\n",
       "      <th>Total Time Spent on Website</th>\n",
       "      <th>Page Views Per Visit</th>\n",
       "    </tr>\n",
       "  </thead>\n",
       "  <tbody>\n",
       "    <tr>\n",
       "      <th>count</th>\n",
       "      <td>9074.000000</td>\n",
       "      <td>9074.000000</td>\n",
       "      <td>9074.000000</td>\n",
       "    </tr>\n",
       "    <tr>\n",
       "      <th>mean</th>\n",
       "      <td>3.343178</td>\n",
       "      <td>493.724818</td>\n",
       "      <td>2.405464</td>\n",
       "    </tr>\n",
       "    <tr>\n",
       "      <th>std</th>\n",
       "      <td>3.252302</td>\n",
       "      <td>557.575905</td>\n",
       "      <td>2.147697</td>\n",
       "    </tr>\n",
       "    <tr>\n",
       "      <th>min</th>\n",
       "      <td>0.000000</td>\n",
       "      <td>0.000000</td>\n",
       "      <td>0.000000</td>\n",
       "    </tr>\n",
       "    <tr>\n",
       "      <th>25%</th>\n",
       "      <td>1.000000</td>\n",
       "      <td>11.000000</td>\n",
       "      <td>1.000000</td>\n",
       "    </tr>\n",
       "    <tr>\n",
       "      <th>50%</th>\n",
       "      <td>3.000000</td>\n",
       "      <td>248.000000</td>\n",
       "      <td>2.000000</td>\n",
       "    </tr>\n",
       "    <tr>\n",
       "      <th>75%</th>\n",
       "      <td>5.000000</td>\n",
       "      <td>942.000000</td>\n",
       "      <td>3.330000</td>\n",
       "    </tr>\n",
       "    <tr>\n",
       "      <th>90%</th>\n",
       "      <td>7.000000</td>\n",
       "      <td>1396.700000</td>\n",
       "      <td>5.000000</td>\n",
       "    </tr>\n",
       "    <tr>\n",
       "      <th>95%</th>\n",
       "      <td>10.000000</td>\n",
       "      <td>1594.000000</td>\n",
       "      <td>6.000000</td>\n",
       "    </tr>\n",
       "    <tr>\n",
       "      <th>99%</th>\n",
       "      <td>17.000000</td>\n",
       "      <td>1839.000000</td>\n",
       "      <td>9.000000</td>\n",
       "    </tr>\n",
       "    <tr>\n",
       "      <th>max</th>\n",
       "      <td>17.000000</td>\n",
       "      <td>2272.000000</td>\n",
       "      <td>16.000000</td>\n",
       "    </tr>\n",
       "  </tbody>\n",
       "</table>\n",
       "</div>"
      ],
      "text/plain": [
       "       TotalVisits  Total Time Spent on Website  Page Views Per Visit\n",
       "count  9074.000000                  9074.000000           9074.000000\n",
       "mean      3.343178                   493.724818              2.405464\n",
       "std       3.252302                   557.575905              2.147697\n",
       "min       0.000000                     0.000000              0.000000\n",
       "25%       1.000000                    11.000000              1.000000\n",
       "50%       3.000000                   248.000000              2.000000\n",
       "75%       5.000000                   942.000000              3.330000\n",
       "90%       7.000000                  1396.700000              5.000000\n",
       "95%      10.000000                  1594.000000              6.000000\n",
       "99%      17.000000                  1839.000000              9.000000\n",
       "max      17.000000                  2272.000000             16.000000"
      ]
     },
     "execution_count": 49,
     "metadata": {},
     "output_type": "execute_result"
    }
   ],
   "source": [
    "# Re-checking for the outliers for the continuous variables at 25%, 50%, 75%, 90%, 95% and 99%\n",
    "\n",
    "lead[['TotalVisits','Total Time Spent on Website','Page Views Per Visit']].describe(percentiles=[.25, .5, .75, .90, .95, .99])"
   ]
  },
  {
   "cell_type": "code",
   "execution_count": 50,
   "metadata": {},
   "outputs": [
    {
     "data": {
      "text/plain": [
       "(9074, 20)"
      ]
     },
     "execution_count": 50,
     "metadata": {},
     "output_type": "execute_result"
    }
   ],
   "source": [
    "lead.shape"
   ]
  },
  {
   "cell_type": "markdown",
   "metadata": {},
   "source": [
    "#### Total % of records retained = (Total no. of records after data cleaning / Total no. of records in the original data) * 100\n",
    "                               = (9074 / 9240) * 100\n",
    "                               = 98.2 %"
   ]
  },
  {
   "cell_type": "markdown",
   "metadata": {},
   "source": [
    "### Checking the balancing nature of the data"
   ]
  },
  {
   "cell_type": "code",
   "execution_count": 51,
   "metadata": {},
   "outputs": [
    {
     "data": {
      "text/plain": [
       "0    62.144589\n",
       "1    37.855411\n",
       "Name: Converted, dtype: float64"
      ]
     },
     "execution_count": 51,
     "metadata": {},
     "output_type": "execute_result"
    }
   ],
   "source": [
    "lead['Converted'].value_counts(normalize=True)*100"
   ]
  },
  {
   "cell_type": "raw",
   "metadata": {},
   "source": [
    "62% leads are uncoverted."
   ]
  },
  {
   "cell_type": "code",
   "execution_count": 52,
   "metadata": {},
   "outputs": [],
   "source": [
    "# Dividing the dataset w.r.t. successful or unsuccessful convertion of leads\n",
    "conv = lead[lead['Converted']==1]\n",
    "unconv = lead[lead['Converted']==0]"
   ]
  },
  {
   "cell_type": "markdown",
   "metadata": {},
   "source": [
    "### Analysis of the features"
   ]
  },
  {
   "cell_type": "code",
   "execution_count": 53,
   "metadata": {},
   "outputs": [],
   "source": [
    "def plot_bar(column_name, title_name, df1=lead, df2=conv, figsize=(7,4), kind='bar', normalize_df_appl=False, k=1):\n",
    "    plt.figure(figsize=figsize)\n",
    "    plt.subplot(1,2,1)\n",
    "    (df1[column_name].value_counts(normalize=normalize_df_appl)*k).plot(kind=kind)\n",
    "    plt.title('Total Leads by {0}'.format(title_name), fontsize=12)\n",
    "    \n",
    "    plt.subplot(1,2,2)\n",
    "    (df2[column_name].value_counts(normalize=True)*100).plot(kind=kind)\n",
    "    plt.title('Converted by {0} (%)'.format(title_name), fontsize=12)\n",
    "    \n",
    "    plt.show()"
   ]
  },
  {
   "cell_type": "code",
   "execution_count": 54,
   "metadata": {},
   "outputs": [
    {
     "data": {
      "image/png": "[encoded data removed]",
      "text/plain": [
       "<Figure size 504x288 with 2 Axes>"
      ]
     },
     "metadata": {
      "needs_background": "light"
     },
     "output_type": "display_data"
    }
   ],
   "source": [
    "# Univariate Analysis for 'Lead Origin'\n",
    "\n",
    "plot_bar('Lead Origin','Lead Origin')"
   ]
  },
  {
   "cell_type": "raw",
   "metadata": {},
   "source": [
    "Observations:-\n",
    "1) Convertion rate from APIs are not that great.\n",
    "2) Convertion rate from other origins, apart from Landing Page Submission and API, are much better."
   ]
  },
  {
   "cell_type": "code",
   "execution_count": 55,
   "metadata": {},
   "outputs": [
    {
     "data": {
      "image/png": "[encoded data removed]",
      "text/plain": [
       "<Figure size 504x288 with 2 Axes>"
      ]
     },
     "metadata": {
      "needs_background": "light"
     },
     "output_type": "display_data"
    }
   ],
   "source": [
    "# Univariate Analysis for 'Lead Source'\n",
    "\n",
    "plot_bar('Lead Source','Lead Source')"
   ]
  },
  {
   "cell_type": "raw",
   "metadata": {},
   "source": [
    "Observation:-\n",
    "The conversion rate of the sources like Direct Traffic and Olark Chat, are not great at all."
   ]
  },
  {
   "cell_type": "code",
   "execution_count": 56,
   "metadata": {},
   "outputs": [
    {
     "data": {
      "image/png": "[encoded data removed]",
      "text/plain": [
       "<Figure size 504x288 with 2 Axes>"
      ]
     },
     "metadata": {
      "needs_background": "light"
     },
     "output_type": "display_data"
    }
   ],
   "source": [
    "# Univariate Analysis for 'Do Not Email'\n",
    "\n",
    "plot_bar('Do Not Email','Do Not Email')"
   ]
  },
  {
   "cell_type": "raw",
   "metadata": {},
   "source": [
    "Observation:-\n",
    "Those leads who do not wish to get communicated over mail, have lower conversion rate."
   ]
  },
  {
   "cell_type": "code",
   "execution_count": 57,
   "metadata": {},
   "outputs": [
    {
     "data": {
      "image/png": "[encoded data removed]",
      "text/plain": [
       "<Figure size 504x288 with 2 Axes>"
      ]
     },
     "metadata": {
      "needs_background": "light"
     },
     "output_type": "display_data"
    }
   ],
   "source": [
    "# Univariate Analysis for 'Last Activity'\n",
    "\n",
    "plot_bar('Last Activity','Last Activity')"
   ]
  },
  {
   "cell_type": "raw",
   "metadata": {},
   "source": [
    "Observations:-\n",
    "1) Activities like 'SMS Sent' has the highest convertion rate\n",
    "2) all remaining activities like 'Email Opened', 'Olark Chat' and 'Others' has failed to convert at a signifant rate."
   ]
  },
  {
   "cell_type": "code",
   "execution_count": 58,
   "metadata": {},
   "outputs": [
    {
     "data": {
      "image/png": "[encoded data removed]",
      "text/plain": [
       "<Figure size 504x288 with 2 Axes>"
      ]
     },
     "metadata": {
      "needs_background": "light"
     },
     "output_type": "display_data"
    }
   ],
   "source": [
    "# Univariate Analysis for 'Specialization'\n",
    "\n",
    "plot_bar('Specialization','Specialization')"
   ]
  },
  {
   "cell_type": "raw",
   "metadata": {},
   "source": [
    "36.5% missing values have been imputed by 'No Specialization'\n",
    "'Others' category has good conversion chances while 'No Specialization' has less"
   ]
  },
  {
   "cell_type": "code",
   "execution_count": 59,
   "metadata": {},
   "outputs": [
    {
     "data": {
      "image/png": "[encoded data removed]",
      "text/plain": [
       "<Figure size 504x288 with 2 Axes>"
      ]
     },
     "metadata": {
      "needs_background": "light"
     },
     "output_type": "display_data"
    }
   ],
   "source": [
    "# Univariate Analysis for 'What is your current occupation'\n",
    "\n",
    "plot_bar('What is your current occupation','current occupation')"
   ]
  },
  {
   "cell_type": "raw",
   "metadata": {},
   "source": [
    "Observation:-\n",
    "Working Professionals have a tremendous convertion rates."
   ]
  },
  {
   "cell_type": "code",
   "execution_count": 60,
   "metadata": {},
   "outputs": [
    {
     "data": {
      "image/png": "[encoded data removed]",
      "text/plain": [
       "<Figure size 504x288 with 2 Axes>"
      ]
     },
     "metadata": {
      "needs_background": "light"
     },
     "output_type": "display_data"
    }
   ],
   "source": [
    "# Univariate Analysis for 'A free copy of Mastering The Interview'\n",
    "\n",
    "plot_bar('A free copy of Mastering The Interview','Mastering The Interview')"
   ]
  },
  {
   "cell_type": "raw",
   "metadata": {},
   "source": [
    "Observation:-\n",
    "Convertion rate of the leads those who want free copies of 'Mastering The Interview' is less."
   ]
  },
  {
   "cell_type": "code",
   "execution_count": 61,
   "metadata": {},
   "outputs": [],
   "source": [
    "# Defining function for continuous variable univariate analysis using disribution plot\n",
    "def plot_distplot(column_name, title_name):\n",
    "    plt.figure(figsize=(15,5))\n",
    "    plt.title('{0} - All leads vs Converted'.format(title_name), fontsize=12)\n",
    "    sns.distplot(lead[column_name],hist=False,label='All leads')\n",
    "    sns.distplot(conv[column_name],hist=False,label='Converted')\n",
    "    plt.show()"
   ]
  },
  {
   "cell_type": "code",
   "execution_count": 62,
   "metadata": {},
   "outputs": [
    {
     "data": {
      "image/png": "[encoded data removed]",
      "text/plain": [
       "<Figure size 1080x360 with 1 Axes>"
      ]
     },
     "metadata": {
      "needs_background": "light"
     },
     "output_type": "display_data"
    }
   ],
   "source": [
    "# Univariate Analysis for 'TotalVisits'\n",
    "plot_distplot('TotalVisits','TotalVisits')"
   ]
  },
  {
   "cell_type": "raw",
   "metadata": {},
   "source": [
    "Observation:-\n",
    "More the number of visits on the website, higher the convertion rate of the leads. Typically, convertion rate is lower if a lead visits less than 5 times."
   ]
  },
  {
   "cell_type": "code",
   "execution_count": 63,
   "metadata": {},
   "outputs": [
    {
     "data": {
      "image/png": "[encoded data removed]",
      "text/plain": [
       "<Figure size 1080x360 with 1 Axes>"
      ]
     },
     "metadata": {
      "needs_background": "light"
     },
     "output_type": "display_data"
    }
   ],
   "source": [
    "# Univariate Analysis for 'Total Time Spent on Website'\n",
    "plot_distplot('Total Time Spent on Website','Total Time Spent on Website')"
   ]
  },
  {
   "cell_type": "raw",
   "metadata": {},
   "source": [
    "Observation:-\n",
    "Convertion rate of the leads who have spent atleast 600 units of time on the website, is much higher."
   ]
  },
  {
   "cell_type": "code",
   "execution_count": 64,
   "metadata": {},
   "outputs": [
    {
     "data": {
      "image/png": "[encoded data removed]",
      "text/plain": [
       "<Figure size 1080x360 with 1 Axes>"
      ]
     },
     "metadata": {
      "needs_background": "light"
     },
     "output_type": "display_data"
    }
   ],
   "source": [
    "# Univariate Analysis for 'Page Views Per Visit '\n",
    "plot_distplot('Page Views Per Visit','Page Views Per Visit')"
   ]
  },
  {
   "cell_type": "raw",
   "metadata": {},
   "source": [
    "Observation:-\n",
    "No such clear trend is observed."
   ]
  },
  {
   "cell_type": "markdown",
   "metadata": {},
   "source": [
    "## Data Preparation"
   ]
  },
  {
   "cell_type": "markdown",
   "metadata": {},
   "source": [
    "### Variable Mapping & Creating Dummy Variables"
   ]
  },
  {
   "cell_type": "code",
   "execution_count": 65,
   "metadata": {},
   "outputs": [
    {
     "name": "stdout",
     "output_type": "stream",
     "text": [
      "Levels in  Prospect ID  are  ['7927b2df-8bba-4d29-b9a2-b6e0beafe620'\n",
      " '2a272436-5132-4136-86fa-dcc88c88f482'\n",
      " '8cc8c611-a219-4f35-ad23-fdfd2656bd8a' ...\n",
      " 'aac550fe-a586-452d-8d3c-f1b62c94e02c'\n",
      " '5330a7d1-2f2b-4df4-85d6-64ca2f6b95b9'\n",
      " '571b5c8e-a5b2-4d57-8574-f2ffb06fdeff'] \n",
      "\n",
      "\n",
      "Levels in  Lead Origin  are  ['API' 'Landing Page Submission' 'Others'] \n",
      "\n",
      "\n",
      "Levels in  Lead Source  are  ['Olark Chat' 'Organic Search' 'Direct Traffic' 'Google' 'Others'] \n",
      "\n",
      "\n",
      "Levels in  Do Not Email  are  ['No' 'Yes'] \n",
      "\n",
      "\n",
      "Levels in  Do Not Call  are  ['No' 'Yes'] \n",
      "\n",
      "\n",
      "Levels in  Last Activity  are  ['Others' 'Email Opened' 'Olark Chat Conversation' 'SMS Sent'] \n",
      "\n",
      "\n",
      "Levels in  Specialization  are  ['No Specialization' 'Others' 'Finance Management'\n",
      " 'Human Resource Management' 'Marketing Management'\n",
      " 'Operations Management'] \n",
      "\n",
      "\n",
      "Levels in  What is your current occupation  are  ['Unemployed' 'Student' 'Unknown' 'Working Professional' 'Businessman'\n",
      " 'Other' 'Housewife'] \n",
      "\n",
      "\n",
      "Levels in  Search  are  ['No' 'Yes'] \n",
      "\n",
      "\n",
      "Levels in  X Education Forums  are  ['No' 'Yes'] \n",
      "\n",
      "\n",
      "Levels in  Newspaper  are  ['No' 'Yes'] \n",
      "\n",
      "\n",
      "Levels in  Digital Advertisement  are  ['No' 'Yes'] \n",
      "\n",
      "\n",
      "Levels in  Through Recommendations  are  ['No' 'Yes'] \n",
      "\n",
      "\n",
      "Levels in  City  are  ['Other Cities' 'Mumbai' 'Thane & Outskirts' 'Other Metro Cities'\n",
      " 'Other Cities of Maharashtra' 'Tier II Cities'] \n",
      "\n",
      "\n",
      "Levels in  A free copy of Mastering The Interview  are  ['No' 'Yes'] \n",
      "\n",
      "\n"
     ]
    }
   ],
   "source": [
    "# Let us check once more the labels of all the categorical features\n",
    "\n",
    "columns = lead.dtypes[lead.dtypes == 'object'].index.values\n",
    "for col in columns : \n",
    "    print('Levels in ',col,' are ' , lead[col].unique(),'\\n\\n')"
   ]
  },
  {
   "cell_type": "raw",
   "metadata": {},
   "source": [
    "The binary categorical variables (Yes/No) are - 'Do Not Email', 'Do Not Call', 'Search', 'X Education Forums', 'Newspaper', 'Digital Advertisement', 'Through Recommendations' and 'A free copy of Mastering The Interview'."
   ]
  },
  {
   "cell_type": "code",
   "execution_count": 66,
   "metadata": {},
   "outputs": [],
   "source": [
    "# Mapping the binary categorical variables(yes/no) to 1/0\n",
    "\n",
    "varlist =  ['Do Not Email', 'Do Not Call', 'Search', 'X Education Forums', 'Newspaper', 'Digital Advertisement', 'Through Recommendations', 'A free copy of Mastering The Interview']\n",
    "\n",
    "# Defining the map function\n",
    "def binary_map(x):\n",
    "    return x.map({'Yes': 1, \"No\": 0})\n",
    "\n",
    "# Applying the function to the housing list\n",
    "lead[varlist] = lead[varlist].apply(binary_map)"
   ]
  },
  {
   "cell_type": "code",
   "execution_count": 67,
   "metadata": {},
   "outputs": [
    {
     "data": {
      "text/html": [
       "<div>\n",
       "<style scoped>\n",
       "    .dataframe tbody tr th:only-of-type {\n",
       "        vertical-align: middle;\n",
       "    }\n",
       "\n",
       "    .dataframe tbody tr th {\n",
       "        vertical-align: top;\n",
       "    }\n",
       "\n",
       "    .dataframe thead th {\n",
       "        text-align: right;\n",
       "    }\n",
       "</style>\n",
       "<table border=\"1\" class=\"dataframe\">\n",
       "  <thead>\n",
       "    <tr style=\"text-align: right;\">\n",
       "      <th></th>\n",
       "      <th>Prospect ID</th>\n",
       "      <th>Lead Number</th>\n",
       "      <th>Lead Origin</th>\n",
       "      <th>Lead Source</th>\n",
       "      <th>Do Not Email</th>\n",
       "      <th>Do Not Call</th>\n",
       "      <th>Converted</th>\n",
       "      <th>TotalVisits</th>\n",
       "      <th>Total Time Spent on Website</th>\n",
       "      <th>Page Views Per Visit</th>\n",
       "      <th>Last Activity</th>\n",
       "      <th>Specialization</th>\n",
       "      <th>What is your current occupation</th>\n",
       "      <th>Search</th>\n",
       "      <th>X Education Forums</th>\n",
       "      <th>Newspaper</th>\n",
       "      <th>Digital Advertisement</th>\n",
       "      <th>Through Recommendations</th>\n",
       "      <th>City</th>\n",
       "      <th>A free copy of Mastering The Interview</th>\n",
       "    </tr>\n",
       "  </thead>\n",
       "  <tbody>\n",
       "    <tr>\n",
       "      <th>0</th>\n",
       "      <td>7927b2df-8bba-4d29-b9a2-b6e0beafe620</td>\n",
       "      <td>660737</td>\n",
       "      <td>API</td>\n",
       "      <td>Olark Chat</td>\n",
       "      <td>0</td>\n",
       "      <td>0</td>\n",
       "      <td>0</td>\n",
       "      <td>0.0</td>\n",
       "      <td>0.0</td>\n",
       "      <td>0.0</td>\n",
       "      <td>Others</td>\n",
       "      <td>No Specialization</td>\n",
       "      <td>Unemployed</td>\n",
       "      <td>0</td>\n",
       "      <td>0</td>\n",
       "      <td>0</td>\n",
       "      <td>0</td>\n",
       "      <td>0</td>\n",
       "      <td>Other Cities</td>\n",
       "      <td>0</td>\n",
       "    </tr>\n",
       "    <tr>\n",
       "      <th>1</th>\n",
       "      <td>2a272436-5132-4136-86fa-dcc88c88f482</td>\n",
       "      <td>660728</td>\n",
       "      <td>API</td>\n",
       "      <td>Organic Search</td>\n",
       "      <td>0</td>\n",
       "      <td>0</td>\n",
       "      <td>0</td>\n",
       "      <td>5.0</td>\n",
       "      <td>674.0</td>\n",
       "      <td>2.5</td>\n",
       "      <td>Email Opened</td>\n",
       "      <td>No Specialization</td>\n",
       "      <td>Unemployed</td>\n",
       "      <td>0</td>\n",
       "      <td>0</td>\n",
       "      <td>0</td>\n",
       "      <td>0</td>\n",
       "      <td>0</td>\n",
       "      <td>Other Cities</td>\n",
       "      <td>0</td>\n",
       "    </tr>\n",
       "    <tr>\n",
       "      <th>2</th>\n",
       "      <td>8cc8c611-a219-4f35-ad23-fdfd2656bd8a</td>\n",
       "      <td>660727</td>\n",
       "      <td>Landing Page Submission</td>\n",
       "      <td>Direct Traffic</td>\n",
       "      <td>0</td>\n",
       "      <td>0</td>\n",
       "      <td>1</td>\n",
       "      <td>2.0</td>\n",
       "      <td>1532.0</td>\n",
       "      <td>2.0</td>\n",
       "      <td>Email Opened</td>\n",
       "      <td>Others</td>\n",
       "      <td>Student</td>\n",
       "      <td>0</td>\n",
       "      <td>0</td>\n",
       "      <td>0</td>\n",
       "      <td>0</td>\n",
       "      <td>0</td>\n",
       "      <td>Mumbai</td>\n",
       "      <td>1</td>\n",
       "    </tr>\n",
       "    <tr>\n",
       "      <th>3</th>\n",
       "      <td>0cc2df48-7cf4-4e39-9de9-19797f9b38cc</td>\n",
       "      <td>660719</td>\n",
       "      <td>Landing Page Submission</td>\n",
       "      <td>Direct Traffic</td>\n",
       "      <td>0</td>\n",
       "      <td>0</td>\n",
       "      <td>0</td>\n",
       "      <td>1.0</td>\n",
       "      <td>305.0</td>\n",
       "      <td>1.0</td>\n",
       "      <td>Others</td>\n",
       "      <td>Others</td>\n",
       "      <td>Unemployed</td>\n",
       "      <td>0</td>\n",
       "      <td>0</td>\n",
       "      <td>0</td>\n",
       "      <td>0</td>\n",
       "      <td>0</td>\n",
       "      <td>Mumbai</td>\n",
       "      <td>0</td>\n",
       "    </tr>\n",
       "    <tr>\n",
       "      <th>4</th>\n",
       "      <td>3256f628-e534-4826-9d63-4a8b88782852</td>\n",
       "      <td>660681</td>\n",
       "      <td>Landing Page Submission</td>\n",
       "      <td>Google</td>\n",
       "      <td>0</td>\n",
       "      <td>0</td>\n",
       "      <td>1</td>\n",
       "      <td>2.0</td>\n",
       "      <td>1428.0</td>\n",
       "      <td>1.0</td>\n",
       "      <td>Others</td>\n",
       "      <td>No Specialization</td>\n",
       "      <td>Unemployed</td>\n",
       "      <td>0</td>\n",
       "      <td>0</td>\n",
       "      <td>0</td>\n",
       "      <td>0</td>\n",
       "      <td>0</td>\n",
       "      <td>Mumbai</td>\n",
       "      <td>0</td>\n",
       "    </tr>\n",
       "  </tbody>\n",
       "</table>\n",
       "</div>"
      ],
      "text/plain": [
       "                            Prospect ID  Lead Number              Lead Origin  \\\n",
       "0  7927b2df-8bba-4d29-b9a2-b6e0beafe620       660737                      API   \n",
       "1  2a272436-5132-4136-86fa-dcc88c88f482       660728                      API   \n",
       "2  8cc8c611-a219-4f35-ad23-fdfd2656bd8a       660727  Landing Page Submission   \n",
       "3  0cc2df48-7cf4-4e39-9de9-19797f9b38cc       660719  Landing Page Submission   \n",
       "4  3256f628-e534-4826-9d63-4a8b88782852       660681  Landing Page Submission   \n",
       "\n",
       "      Lead Source  Do Not Email  Do Not Call Converted  TotalVisits  \\\n",
       "0      Olark Chat             0            0         0          0.0   \n",
       "1  Organic Search             0            0         0          5.0   \n",
       "2  Direct Traffic             0            0         1          2.0   \n",
       "3  Direct Traffic             0            0         0          1.0   \n",
       "4          Google             0            0         1          2.0   \n",
       "\n",
       "   Total Time Spent on Website  Page Views Per Visit Last Activity  \\\n",
       "0                          0.0                   0.0        Others   \n",
       "1                        674.0                   2.5  Email Opened   \n",
       "2                       1532.0                   2.0  Email Opened   \n",
       "3                        305.0                   1.0        Others   \n",
       "4                       1428.0                   1.0        Others   \n",
       "\n",
       "      Specialization What is your current occupation  Search  \\\n",
       "0  No Specialization                      Unemployed       0   \n",
       "1  No Specialization                      Unemployed       0   \n",
       "2             Others                         Student       0   \n",
       "3             Others                      Unemployed       0   \n",
       "4  No Specialization                      Unemployed       0   \n",
       "\n",
       "   X Education Forums  Newspaper  Digital Advertisement  \\\n",
       "0                   0          0                      0   \n",
       "1                   0          0                      0   \n",
       "2                   0          0                      0   \n",
       "3                   0          0                      0   \n",
       "4                   0          0                      0   \n",
       "\n",
       "   Through Recommendations          City  \\\n",
       "0                        0  Other Cities   \n",
       "1                        0  Other Cities   \n",
       "2                        0        Mumbai   \n",
       "3                        0        Mumbai   \n",
       "4                        0        Mumbai   \n",
       "\n",
       "   A free copy of Mastering The Interview  \n",
       "0                                       0  \n",
       "1                                       0  \n",
       "2                                       1  \n",
       "3                                       0  \n",
       "4                                       0  "
      ]
     },
     "execution_count": 67,
     "metadata": {},
     "output_type": "execute_result"
    }
   ],
   "source": [
    "lead.head()"
   ]
  },
  {
   "cell_type": "code",
   "execution_count": 68,
   "metadata": {},
   "outputs": [],
   "source": [
    "# Creating dummy variables for the remaining categorical features and removing the 'Others' category since it is \n",
    "# not very intuitive from model understanding perspective & adding them to the original dataframe\n",
    "\n",
    "dummy1 = pd.get_dummies(lead['Lead Origin'],prefix='Origin')      \n",
    "dummy1 = dummy1.drop(columns=['Origin_Others'])\n",
    "lead = pd.concat([lead,dummy1], axis=1)\n",
    "\n",
    "dummy2 = pd.get_dummies(lead['Lead Source'],prefix='Source')\n",
    "dummy2 = dummy2.drop(columns='Source_Others')\n",
    "lead = pd.concat([lead,dummy2], axis=1)\n",
    "\n",
    "dummy3 = pd.get_dummies(lead['Last Activity'],prefix='Activity')\n",
    "dummy3 = dummy3.drop(columns='Activity_Others')\n",
    "lead = pd.concat([lead,dummy3], axis=1)\n",
    "\n",
    "dummy4 = pd.get_dummies(lead['Specialization'],prefix='Spec')\n",
    "dummy4 = dummy4.drop(columns='Spec_Others')\n",
    "lead = pd.concat([lead,dummy4], axis=1)\n",
    "\n",
    "dummy5 = pd.get_dummies(lead['What is your current occupation'],drop_first=True,prefix='Occupation')\n",
    "lead = pd.concat([lead,dummy5], axis=1)\n",
    "\n",
    "dummy6 = pd.get_dummies(lead['City'],drop_first=True,prefix='City')\n",
    "lead = pd.concat([lead,dummy6], axis=1)"
   ]
  },
  {
   "cell_type": "code",
   "execution_count": 69,
   "metadata": {},
   "outputs": [
    {
     "data": {
      "text/html": [
       "<div>\n",
       "<style scoped>\n",
       "    .dataframe tbody tr th:only-of-type {\n",
       "        vertical-align: middle;\n",
       "    }\n",
       "\n",
       "    .dataframe tbody tr th {\n",
       "        vertical-align: top;\n",
       "    }\n",
       "\n",
       "    .dataframe thead th {\n",
       "        text-align: right;\n",
       "    }\n",
       "</style>\n",
       "<table border=\"1\" class=\"dataframe\">\n",
       "  <thead>\n",
       "    <tr style=\"text-align: right;\">\n",
       "      <th></th>\n",
       "      <th>Prospect ID</th>\n",
       "      <th>Lead Number</th>\n",
       "      <th>Lead Origin</th>\n",
       "      <th>Lead Source</th>\n",
       "      <th>Do Not Email</th>\n",
       "      <th>Do Not Call</th>\n",
       "      <th>Converted</th>\n",
       "      <th>TotalVisits</th>\n",
       "      <th>Total Time Spent on Website</th>\n",
       "      <th>Page Views Per Visit</th>\n",
       "      <th>Last Activity</th>\n",
       "      <th>Specialization</th>\n",
       "      <th>What is your current occupation</th>\n",
       "      <th>Search</th>\n",
       "      <th>X Education Forums</th>\n",
       "      <th>Newspaper</th>\n",
       "      <th>Digital Advertisement</th>\n",
       "      <th>Through Recommendations</th>\n",
       "      <th>City</th>\n",
       "      <th>A free copy of Mastering The Interview</th>\n",
       "      <th>Origin_API</th>\n",
       "      <th>Origin_Landing Page Submission</th>\n",
       "      <th>Source_Direct Traffic</th>\n",
       "      <th>Source_Google</th>\n",
       "      <th>Source_Olark Chat</th>\n",
       "      <th>Source_Organic Search</th>\n",
       "      <th>Activity_Email Opened</th>\n",
       "      <th>Activity_Olark Chat Conversation</th>\n",
       "      <th>Activity_SMS Sent</th>\n",
       "      <th>Spec_Finance Management</th>\n",
       "      <th>Spec_Human Resource Management</th>\n",
       "      <th>Spec_Marketing Management</th>\n",
       "      <th>Spec_No Specialization</th>\n",
       "      <th>Spec_Operations Management</th>\n",
       "      <th>Occupation_Housewife</th>\n",
       "      <th>Occupation_Other</th>\n",
       "      <th>Occupation_Student</th>\n",
       "      <th>Occupation_Unemployed</th>\n",
       "      <th>Occupation_Unknown</th>\n",
       "      <th>Occupation_Working Professional</th>\n",
       "      <th>City_Other Cities</th>\n",
       "      <th>City_Other Cities of Maharashtra</th>\n",
       "      <th>City_Other Metro Cities</th>\n",
       "      <th>City_Thane &amp; Outskirts</th>\n",
       "      <th>City_Tier II Cities</th>\n",
       "    </tr>\n",
       "  </thead>\n",
       "  <tbody>\n",
       "    <tr>\n",
       "      <th>0</th>\n",
       "      <td>7927b2df-8bba-4d29-b9a2-b6e0beafe620</td>\n",
       "      <td>660737</td>\n",
       "      <td>API</td>\n",
       "      <td>Olark Chat</td>\n",
       "      <td>0</td>\n",
       "      <td>0</td>\n",
       "      <td>0</td>\n",
       "      <td>0.0</td>\n",
       "      <td>0.0</td>\n",
       "      <td>0.0</td>\n",
       "      <td>Others</td>\n",
       "      <td>No Specialization</td>\n",
       "      <td>Unemployed</td>\n",
       "      <td>0</td>\n",
       "      <td>0</td>\n",
       "      <td>0</td>\n",
       "      <td>0</td>\n",
       "      <td>0</td>\n",
       "      <td>Other Cities</td>\n",
       "      <td>0</td>\n",
       "      <td>1</td>\n",
       "      <td>0</td>\n",
       "      <td>0</td>\n",
       "      <td>0</td>\n",
       "      <td>1</td>\n",
       "      <td>0</td>\n",
       "      <td>0</td>\n",
       "      <td>0</td>\n",
       "      <td>0</td>\n",
       "      <td>0</td>\n",
       "      <td>0</td>\n",
       "      <td>0</td>\n",
       "      <td>1</td>\n",
       "      <td>0</td>\n",
       "      <td>0</td>\n",
       "      <td>0</td>\n",
       "      <td>0</td>\n",
       "      <td>1</td>\n",
       "      <td>0</td>\n",
       "      <td>0</td>\n",
       "      <td>1</td>\n",
       "      <td>0</td>\n",
       "      <td>0</td>\n",
       "      <td>0</td>\n",
       "      <td>0</td>\n",
       "    </tr>\n",
       "    <tr>\n",
       "      <th>1</th>\n",
       "      <td>2a272436-5132-4136-86fa-dcc88c88f482</td>\n",
       "      <td>660728</td>\n",
       "      <td>API</td>\n",
       "      <td>Organic Search</td>\n",
       "      <td>0</td>\n",
       "      <td>0</td>\n",
       "      <td>0</td>\n",
       "      <td>5.0</td>\n",
       "      <td>674.0</td>\n",
       "      <td>2.5</td>\n",
       "      <td>Email Opened</td>\n",
       "      <td>No Specialization</td>\n",
       "      <td>Unemployed</td>\n",
       "      <td>0</td>\n",
       "      <td>0</td>\n",
       "      <td>0</td>\n",
       "      <td>0</td>\n",
       "      <td>0</td>\n",
       "      <td>Other Cities</td>\n",
       "      <td>0</td>\n",
       "      <td>1</td>\n",
       "      <td>0</td>\n",
       "      <td>0</td>\n",
       "      <td>0</td>\n",
       "      <td>0</td>\n",
       "      <td>1</td>\n",
       "      <td>1</td>\n",
       "      <td>0</td>\n",
       "      <td>0</td>\n",
       "      <td>0</td>\n",
       "      <td>0</td>\n",
       "      <td>0</td>\n",
       "      <td>1</td>\n",
       "      <td>0</td>\n",
       "      <td>0</td>\n",
       "      <td>0</td>\n",
       "      <td>0</td>\n",
       "      <td>1</td>\n",
       "      <td>0</td>\n",
       "      <td>0</td>\n",
       "      <td>1</td>\n",
       "      <td>0</td>\n",
       "      <td>0</td>\n",
       "      <td>0</td>\n",
       "      <td>0</td>\n",
       "    </tr>\n",
       "    <tr>\n",
       "      <th>2</th>\n",
       "      <td>8cc8c611-a219-4f35-ad23-fdfd2656bd8a</td>\n",
       "      <td>660727</td>\n",
       "      <td>Landing Page Submission</td>\n",
       "      <td>Direct Traffic</td>\n",
       "      <td>0</td>\n",
       "      <td>0</td>\n",
       "      <td>1</td>\n",
       "      <td>2.0</td>\n",
       "      <td>1532.0</td>\n",
       "      <td>2.0</td>\n",
       "      <td>Email Opened</td>\n",
       "      <td>Others</td>\n",
       "      <td>Student</td>\n",
       "      <td>0</td>\n",
       "      <td>0</td>\n",
       "      <td>0</td>\n",
       "      <td>0</td>\n",
       "      <td>0</td>\n",
       "      <td>Mumbai</td>\n",
       "      <td>1</td>\n",
       "      <td>0</td>\n",
       "      <td>1</td>\n",
       "      <td>1</td>\n",
       "      <td>0</td>\n",
       "      <td>0</td>\n",
       "      <td>0</td>\n",
       "      <td>1</td>\n",
       "      <td>0</td>\n",
       "      <td>0</td>\n",
       "      <td>0</td>\n",
       "      <td>0</td>\n",
       "      <td>0</td>\n",
       "      <td>0</td>\n",
       "      <td>0</td>\n",
       "      <td>0</td>\n",
       "      <td>0</td>\n",
       "      <td>1</td>\n",
       "      <td>0</td>\n",
       "      <td>0</td>\n",
       "      <td>0</td>\n",
       "      <td>0</td>\n",
       "      <td>0</td>\n",
       "      <td>0</td>\n",
       "      <td>0</td>\n",
       "      <td>0</td>\n",
       "    </tr>\n",
       "    <tr>\n",
       "      <th>3</th>\n",
       "      <td>0cc2df48-7cf4-4e39-9de9-19797f9b38cc</td>\n",
       "      <td>660719</td>\n",
       "      <td>Landing Page Submission</td>\n",
       "      <td>Direct Traffic</td>\n",
       "      <td>0</td>\n",
       "      <td>0</td>\n",
       "      <td>0</td>\n",
       "      <td>1.0</td>\n",
       "      <td>305.0</td>\n",
       "      <td>1.0</td>\n",
       "      <td>Others</td>\n",
       "      <td>Others</td>\n",
       "      <td>Unemployed</td>\n",
       "      <td>0</td>\n",
       "      <td>0</td>\n",
       "      <td>0</td>\n",
       "      <td>0</td>\n",
       "      <td>0</td>\n",
       "      <td>Mumbai</td>\n",
       "      <td>0</td>\n",
       "      <td>0</td>\n",
       "      <td>1</td>\n",
       "      <td>1</td>\n",
       "      <td>0</td>\n",
       "      <td>0</td>\n",
       "      <td>0</td>\n",
       "      <td>0</td>\n",
       "      <td>0</td>\n",
       "      <td>0</td>\n",
       "      <td>0</td>\n",
       "      <td>0</td>\n",
       "      <td>0</td>\n",
       "      <td>0</td>\n",
       "      <td>0</td>\n",
       "      <td>0</td>\n",
       "      <td>0</td>\n",
       "      <td>0</td>\n",
       "      <td>1</td>\n",
       "      <td>0</td>\n",
       "      <td>0</td>\n",
       "      <td>0</td>\n",
       "      <td>0</td>\n",
       "      <td>0</td>\n",
       "      <td>0</td>\n",
       "      <td>0</td>\n",
       "    </tr>\n",
       "    <tr>\n",
       "      <th>4</th>\n",
       "      <td>3256f628-e534-4826-9d63-4a8b88782852</td>\n",
       "      <td>660681</td>\n",
       "      <td>Landing Page Submission</td>\n",
       "      <td>Google</td>\n",
       "      <td>0</td>\n",
       "      <td>0</td>\n",
       "      <td>1</td>\n",
       "      <td>2.0</td>\n",
       "      <td>1428.0</td>\n",
       "      <td>1.0</td>\n",
       "      <td>Others</td>\n",
       "      <td>No Specialization</td>\n",
       "      <td>Unemployed</td>\n",
       "      <td>0</td>\n",
       "      <td>0</td>\n",
       "      <td>0</td>\n",
       "      <td>0</td>\n",
       "      <td>0</td>\n",
       "      <td>Mumbai</td>\n",
       "      <td>0</td>\n",
       "      <td>0</td>\n",
       "      <td>1</td>\n",
       "      <td>0</td>\n",
       "      <td>1</td>\n",
       "      <td>0</td>\n",
       "      <td>0</td>\n",
       "      <td>0</td>\n",
       "      <td>0</td>\n",
       "      <td>0</td>\n",
       "      <td>0</td>\n",
       "      <td>0</td>\n",
       "      <td>0</td>\n",
       "      <td>1</td>\n",
       "      <td>0</td>\n",
       "      <td>0</td>\n",
       "      <td>0</td>\n",
       "      <td>0</td>\n",
       "      <td>1</td>\n",
       "      <td>0</td>\n",
       "      <td>0</td>\n",
       "      <td>0</td>\n",
       "      <td>0</td>\n",
       "      <td>0</td>\n",
       "      <td>0</td>\n",
       "      <td>0</td>\n",
       "    </tr>\n",
       "  </tbody>\n",
       "</table>\n",
       "</div>"
      ],
      "text/plain": [
       "                            Prospect ID  Lead Number              Lead Origin  \\\n",
       "0  7927b2df-8bba-4d29-b9a2-b6e0beafe620       660737                      API   \n",
       "1  2a272436-5132-4136-86fa-dcc88c88f482       660728                      API   \n",
       "2  8cc8c611-a219-4f35-ad23-fdfd2656bd8a       660727  Landing Page Submission   \n",
       "3  0cc2df48-7cf4-4e39-9de9-19797f9b38cc       660719  Landing Page Submission   \n",
       "4  3256f628-e534-4826-9d63-4a8b88782852       660681  Landing Page Submission   \n",
       "\n",
       "      Lead Source  Do Not Email  Do Not Call Converted  TotalVisits  \\\n",
       "0      Olark Chat             0            0         0          0.0   \n",
       "1  Organic Search             0            0         0          5.0   \n",
       "2  Direct Traffic             0            0         1          2.0   \n",
       "3  Direct Traffic             0            0         0          1.0   \n",
       "4          Google             0            0         1          2.0   \n",
       "\n",
       "   Total Time Spent on Website  Page Views Per Visit Last Activity  \\\n",
       "0                          0.0                   0.0        Others   \n",
       "1                        674.0                   2.5  Email Opened   \n",
       "2                       1532.0                   2.0  Email Opened   \n",
       "3                        305.0                   1.0        Others   \n",
       "4                       1428.0                   1.0        Others   \n",
       "\n",
       "      Specialization What is your current occupation  Search  \\\n",
       "0  No Specialization                      Unemployed       0   \n",
       "1  No Specialization                      Unemployed       0   \n",
       "2             Others                         Student       0   \n",
       "3             Others                      Unemployed       0   \n",
       "4  No Specialization                      Unemployed       0   \n",
       "\n",
       "   X Education Forums  Newspaper  Digital Advertisement  \\\n",
       "0                   0          0                      0   \n",
       "1                   0          0                      0   \n",
       "2                   0          0                      0   \n",
       "3                   0          0                      0   \n",
       "4                   0          0                      0   \n",
       "\n",
       "   Through Recommendations          City  \\\n",
       "0                        0  Other Cities   \n",
       "1                        0  Other Cities   \n",
       "2                        0        Mumbai   \n",
       "3                        0        Mumbai   \n",
       "4                        0        Mumbai   \n",
       "\n",
       "   A free copy of Mastering The Interview  Origin_API  \\\n",
       "0                                       0           1   \n",
       "1                                       0           1   \n",
       "2                                       1           0   \n",
       "3                                       0           0   \n",
       "4                                       0           0   \n",
       "\n",
       "   Origin_Landing Page Submission  Source_Direct Traffic  Source_Google  \\\n",
       "0                               0                      0              0   \n",
       "1                               0                      0              0   \n",
       "2                               1                      1              0   \n",
       "3                               1                      1              0   \n",
       "4                               1                      0              1   \n",
       "\n",
       "   Source_Olark Chat  Source_Organic Search  Activity_Email Opened  \\\n",
       "0                  1                      0                      0   \n",
       "1                  0                      1                      1   \n",
       "2                  0                      0                      1   \n",
       "3                  0                      0                      0   \n",
       "4                  0                      0                      0   \n",
       "\n",
       "   Activity_Olark Chat Conversation  Activity_SMS Sent  \\\n",
       "0                                 0                  0   \n",
       "1                                 0                  0   \n",
       "2                                 0                  0   \n",
       "3                                 0                  0   \n",
       "4                                 0                  0   \n",
       "\n",
       "   Spec_Finance Management  Spec_Human Resource Management  \\\n",
       "0                        0                               0   \n",
       "1                        0                               0   \n",
       "2                        0                               0   \n",
       "3                        0                               0   \n",
       "4                        0                               0   \n",
       "\n",
       "   Spec_Marketing Management  Spec_No Specialization  \\\n",
       "0                          0                       1   \n",
       "1                          0                       1   \n",
       "2                          0                       0   \n",
       "3                          0                       0   \n",
       "4                          0                       1   \n",
       "\n",
       "   Spec_Operations Management  Occupation_Housewife  Occupation_Other  \\\n",
       "0                           0                     0                 0   \n",
       "1                           0                     0                 0   \n",
       "2                           0                     0                 0   \n",
       "3                           0                     0                 0   \n",
       "4                           0                     0                 0   \n",
       "\n",
       "   Occupation_Student  Occupation_Unemployed  Occupation_Unknown  \\\n",
       "0                   0                      1                   0   \n",
       "1                   0                      1                   0   \n",
       "2                   1                      0                   0   \n",
       "3                   0                      1                   0   \n",
       "4                   0                      1                   0   \n",
       "\n",
       "   Occupation_Working Professional  City_Other Cities  \\\n",
       "0                                0                  1   \n",
       "1                                0                  1   \n",
       "2                                0                  0   \n",
       "3                                0                  0   \n",
       "4                                0                  0   \n",
       "\n",
       "   City_Other Cities of Maharashtra  City_Other Metro Cities  \\\n",
       "0                                 0                        0   \n",
       "1                                 0                        0   \n",
       "2                                 0                        0   \n",
       "3                                 0                        0   \n",
       "4                                 0                        0   \n",
       "\n",
       "   City_Thane & Outskirts  City_Tier II Cities  \n",
       "0                       0                    0  \n",
       "1                       0                    0  \n",
       "2                       0                    0  \n",
       "3                       0                    0  \n",
       "4                       0                    0  "
      ]
     },
     "execution_count": 69,
     "metadata": {},
     "output_type": "execute_result"
    }
   ],
   "source": [
    "lead.head()"
   ]
  },
  {
   "cell_type": "code",
   "execution_count": 70,
   "metadata": {},
   "outputs": [],
   "source": [
    "# Dropping the features whose dummy variables have been created\n",
    "\n",
    "lead = lead.drop(['Lead Origin','Lead Source','Last Activity','Specialization','What is your current occupation','City'],1)"
   ]
  },
  {
   "cell_type": "code",
   "execution_count": 71,
   "metadata": {},
   "outputs": [
    {
     "name": "stdout",
     "output_type": "stream",
     "text": [
      "<class 'pandas.core.frame.DataFrame'>\n",
      "Int64Index: 9074 entries, 0 to 9239\n",
      "Data columns (total 39 columns):\n",
      " #   Column                                  Non-Null Count  Dtype   \n",
      "---  ------                                  --------------  -----   \n",
      " 0   Prospect ID                             9074 non-null   object  \n",
      " 1   Lead Number                             9074 non-null   int64   \n",
      " 2   Do Not Email                            9074 non-null   int64   \n",
      " 3   Do Not Call                             9074 non-null   int64   \n",
      " 4   Converted                               9074 non-null   category\n",
      " 5   TotalVisits                             9074 non-null   float64 \n",
      " 6   Total Time Spent on Website             9074 non-null   float64 \n",
      " 7   Page Views Per Visit                    9074 non-null   float64 \n",
      " 8   Search                                  9074 non-null   int64   \n",
      " 9   X Education Forums                      9074 non-null   int64   \n",
      " 10  Newspaper                               9074 non-null   int64   \n",
      " 11  Digital Advertisement                   9074 non-null   int64   \n",
      " 12  Through Recommendations                 9074 non-null   int64   \n",
      " 13  A free copy of Mastering The Interview  9074 non-null   int64   \n",
      " 14  Origin_API                              9074 non-null   uint8   \n",
      " 15  Origin_Landing Page Submission          9074 non-null   uint8   \n",
      " 16  Source_Direct Traffic                   9074 non-null   uint8   \n",
      " 17  Source_Google                           9074 non-null   uint8   \n",
      " 18  Source_Olark Chat                       9074 non-null   uint8   \n",
      " 19  Source_Organic Search                   9074 non-null   uint8   \n",
      " 20  Activity_Email Opened                   9074 non-null   uint8   \n",
      " 21  Activity_Olark Chat Conversation        9074 non-null   uint8   \n",
      " 22  Activity_SMS Sent                       9074 non-null   uint8   \n",
      " 23  Spec_Finance Management                 9074 non-null   uint8   \n",
      " 24  Spec_Human Resource Management          9074 non-null   uint8   \n",
      " 25  Spec_Marketing Management               9074 non-null   uint8   \n",
      " 26  Spec_No Specialization                  9074 non-null   uint8   \n",
      " 27  Spec_Operations Management              9074 non-null   uint8   \n",
      " 28  Occupation_Housewife                    9074 non-null   uint8   \n",
      " 29  Occupation_Other                        9074 non-null   uint8   \n",
      " 30  Occupation_Student                      9074 non-null   uint8   \n",
      " 31  Occupation_Unemployed                   9074 non-null   uint8   \n",
      " 32  Occupation_Unknown                      9074 non-null   uint8   \n",
      " 33  Occupation_Working Professional         9074 non-null   uint8   \n",
      " 34  City_Other Cities                       9074 non-null   uint8   \n",
      " 35  City_Other Cities of Maharashtra        9074 non-null   uint8   \n",
      " 36  City_Other Metro Cities                 9074 non-null   uint8   \n",
      " 37  City_Thane & Outskirts                  9074 non-null   uint8   \n",
      " 38  City_Tier II Cities                     9074 non-null   uint8   \n",
      "dtypes: category(1), float64(3), int64(9), object(1), uint8(25)\n",
      "memory usage: 1.2+ MB\n"
     ]
    }
   ],
   "source": [
    "lead.info()"
   ]
  },
  {
   "cell_type": "code",
   "execution_count": 72,
   "metadata": {},
   "outputs": [
    {
     "data": {
      "text/plain": [
       "(9074, 39)"
      ]
     },
     "execution_count": 72,
     "metadata": {},
     "output_type": "execute_result"
    }
   ],
   "source": [
    "lead.shape"
   ]
  },
  {
   "cell_type": "raw",
   "metadata": {},
   "source": [
    "Finally, after all the data cleaning and data preparation operations, we have 9074 rows and 39 columns."
   ]
  },
  {
   "cell_type": "markdown",
   "metadata": {},
   "source": [
    "### Correlation"
   ]
  },
  {
   "cell_type": "code",
   "execution_count": 73,
   "metadata": {},
   "outputs": [],
   "source": [
    "# Top Correlations\n",
    "def correlation(dataframe) : \n",
    "    cor0=dataframe.corr()\n",
    "    type(cor0)\n",
    "    cor0.where(np.triu(np.ones(cor0.shape),k=1).astype(np.bool))\n",
    "    cor0=cor0.unstack().reset_index()\n",
    "    cor0.columns=['VAR1','VAR2','CORR']\n",
    "    cor0.dropna(subset=['CORR'], inplace=True)\n",
    "    cor0.CORR=round(cor0['CORR'],2)\n",
    "    cor0.CORR=cor0.CORR.abs()\n",
    "    cor0.sort_values(by=['CORR'],ascending=False)\n",
    "    cor0=cor0[~(cor0['VAR1']==cor0['VAR2'])]\n",
    "    return pd.DataFrame(cor0.sort_values(by=['CORR'],ascending=False))"
   ]
  },
  {
   "cell_type": "code",
   "execution_count": 74,
   "metadata": {},
   "outputs": [
    {
     "data": {
      "text/html": [
       "<style  type=\"text/css\" >\n",
       "</style><table id=\"T_ff08a0d4_17b5_11eb_a8fb_87bb5eadc4c3\" ><thead>    <tr>        <th class=\"col_heading level0 col0\" >VAR1</th>        <th class=\"col_heading level0 col1\" >VAR2</th>        <th class=\"col_heading level0 col2\" >CORR</th>    </tr></thead><tbody>\n",
       "                <tr>\n",
       "                                <td id=\"T_ff08a0d4_17b5_11eb_a8fb_87bb5eadc4c3row0_col0\" class=\"data row0 col0\" >TotalVisits</td>\n",
       "                        <td id=\"T_ff08a0d4_17b5_11eb_a8fb_87bb5eadc4c3row0_col1\" class=\"data row0 col1\" >Page Views Per Visit</td>\n",
       "                        <td id=\"T_ff08a0d4_17b5_11eb_a8fb_87bb5eadc4c3row0_col2\" class=\"data row0 col2\" >0.750000</td>\n",
       "            </tr>\n",
       "            <tr>\n",
       "                                <td id=\"T_ff08a0d4_17b5_11eb_a8fb_87bb5eadc4c3row1_col0\" class=\"data row1 col0\" >Activity_Email Opened</td>\n",
       "                        <td id=\"T_ff08a0d4_17b5_11eb_a8fb_87bb5eadc4c3row1_col1\" class=\"data row1 col1\" >Activity_SMS Sent</td>\n",
       "                        <td id=\"T_ff08a0d4_17b5_11eb_a8fb_87bb5eadc4c3row1_col2\" class=\"data row1 col2\" >0.750000</td>\n",
       "            </tr>\n",
       "            <tr>\n",
       "                                <td id=\"T_ff08a0d4_17b5_11eb_a8fb_87bb5eadc4c3row2_col0\" class=\"data row2 col0\" >Origin_Landing Page Submission</td>\n",
       "                        <td id=\"T_ff08a0d4_17b5_11eb_a8fb_87bb5eadc4c3row2_col1\" class=\"data row2 col1\" >Origin_API</td>\n",
       "                        <td id=\"T_ff08a0d4_17b5_11eb_a8fb_87bb5eadc4c3row2_col2\" class=\"data row2 col2\" >0.710000</td>\n",
       "            </tr>\n",
       "            <tr>\n",
       "                                <td id=\"T_ff08a0d4_17b5_11eb_a8fb_87bb5eadc4c3row3_col0\" class=\"data row3 col0\" >Occupation_Working Professional</td>\n",
       "                        <td id=\"T_ff08a0d4_17b5_11eb_a8fb_87bb5eadc4c3row3_col1\" class=\"data row3 col1\" >Occupation_Unemployed</td>\n",
       "                        <td id=\"T_ff08a0d4_17b5_11eb_a8fb_87bb5eadc4c3row3_col2\" class=\"data row3 col2\" >0.690000</td>\n",
       "            </tr>\n",
       "            <tr>\n",
       "                                <td id=\"T_ff08a0d4_17b5_11eb_a8fb_87bb5eadc4c3row4_col0\" class=\"data row4 col0\" >Spec_No Specialization</td>\n",
       "                        <td id=\"T_ff08a0d4_17b5_11eb_a8fb_87bb5eadc4c3row4_col1\" class=\"data row4 col1\" >City_Other Cities</td>\n",
       "                        <td id=\"T_ff08a0d4_17b5_11eb_a8fb_87bb5eadc4c3row4_col2\" class=\"data row4 col2\" >0.630000</td>\n",
       "            </tr>\n",
       "            <tr>\n",
       "                                <td id=\"T_ff08a0d4_17b5_11eb_a8fb_87bb5eadc4c3row5_col0\" class=\"data row5 col0\" >Spec_No Specialization</td>\n",
       "                        <td id=\"T_ff08a0d4_17b5_11eb_a8fb_87bb5eadc4c3row5_col1\" class=\"data row5 col1\" >Origin_Landing Page Submission</td>\n",
       "                        <td id=\"T_ff08a0d4_17b5_11eb_a8fb_87bb5eadc4c3row5_col2\" class=\"data row5 col2\" >0.600000</td>\n",
       "            </tr>\n",
       "            <tr>\n",
       "                                <td id=\"T_ff08a0d4_17b5_11eb_a8fb_87bb5eadc4c3row6_col0\" class=\"data row6 col0\" >City_Other Cities</td>\n",
       "                        <td id=\"T_ff08a0d4_17b5_11eb_a8fb_87bb5eadc4c3row6_col1\" class=\"data row6 col1\" >Origin_Landing Page Submission</td>\n",
       "                        <td id=\"T_ff08a0d4_17b5_11eb_a8fb_87bb5eadc4c3row6_col2\" class=\"data row6 col2\" >0.600000</td>\n",
       "            </tr>\n",
       "            <tr>\n",
       "                                <td id=\"T_ff08a0d4_17b5_11eb_a8fb_87bb5eadc4c3row7_col0\" class=\"data row7 col0\" >Source_Direct Traffic</td>\n",
       "                        <td id=\"T_ff08a0d4_17b5_11eb_a8fb_87bb5eadc4c3row7_col1\" class=\"data row7 col1\" >A free copy of Mastering The Interview</td>\n",
       "                        <td id=\"T_ff08a0d4_17b5_11eb_a8fb_87bb5eadc4c3row7_col2\" class=\"data row7 col2\" >0.590000</td>\n",
       "            </tr>\n",
       "            <tr>\n",
       "                                <td id=\"T_ff08a0d4_17b5_11eb_a8fb_87bb5eadc4c3row8_col0\" class=\"data row8 col0\" >Origin_API</td>\n",
       "                        <td id=\"T_ff08a0d4_17b5_11eb_a8fb_87bb5eadc4c3row8_col1\" class=\"data row8 col1\" >Source_Olark Chat</td>\n",
       "                        <td id=\"T_ff08a0d4_17b5_11eb_a8fb_87bb5eadc4c3row8_col2\" class=\"data row8 col2\" >0.560000</td>\n",
       "            </tr>\n",
       "            <tr>\n",
       "                                <td id=\"T_ff08a0d4_17b5_11eb_a8fb_87bb5eadc4c3row9_col0\" class=\"data row9 col0\" >Spec_No Specialization</td>\n",
       "                        <td id=\"T_ff08a0d4_17b5_11eb_a8fb_87bb5eadc4c3row9_col1\" class=\"data row9 col1\" >Origin_API</td>\n",
       "                        <td id=\"T_ff08a0d4_17b5_11eb_a8fb_87bb5eadc4c3row9_col2\" class=\"data row9 col2\" >0.550000</td>\n",
       "            </tr>\n",
       "            <tr>\n",
       "                                <td id=\"T_ff08a0d4_17b5_11eb_a8fb_87bb5eadc4c3row10_col0\" class=\"data row10 col0\" >Page Views Per Visit</td>\n",
       "                        <td id=\"T_ff08a0d4_17b5_11eb_a8fb_87bb5eadc4c3row10_col1\" class=\"data row10 col1\" >Origin_Landing Page Submission</td>\n",
       "                        <td id=\"T_ff08a0d4_17b5_11eb_a8fb_87bb5eadc4c3row10_col2\" class=\"data row10 col2\" >0.540000</td>\n",
       "            </tr>\n",
       "            <tr>\n",
       "                                <td id=\"T_ff08a0d4_17b5_11eb_a8fb_87bb5eadc4c3row11_col0\" class=\"data row11 col0\" >Origin_Landing Page Submission</td>\n",
       "                        <td id=\"T_ff08a0d4_17b5_11eb_a8fb_87bb5eadc4c3row11_col1\" class=\"data row11 col1\" >A free copy of Mastering The Interview</td>\n",
       "                        <td id=\"T_ff08a0d4_17b5_11eb_a8fb_87bb5eadc4c3row11_col2\" class=\"data row11 col2\" >0.540000</td>\n",
       "            </tr>\n",
       "            <tr>\n",
       "                                <td id=\"T_ff08a0d4_17b5_11eb_a8fb_87bb5eadc4c3row12_col0\" class=\"data row12 col0\" >Occupation_Unemployed</td>\n",
       "                        <td id=\"T_ff08a0d4_17b5_11eb_a8fb_87bb5eadc4c3row12_col1\" class=\"data row12 col1\" >Occupation_Unknown</td>\n",
       "                        <td id=\"T_ff08a0d4_17b5_11eb_a8fb_87bb5eadc4c3row12_col2\" class=\"data row12 col2\" >0.510000</td>\n",
       "            </tr>\n",
       "            <tr>\n",
       "                                <td id=\"T_ff08a0d4_17b5_11eb_a8fb_87bb5eadc4c3row13_col0\" class=\"data row13 col0\" >Page Views Per Visit</td>\n",
       "                        <td id=\"T_ff08a0d4_17b5_11eb_a8fb_87bb5eadc4c3row13_col1\" class=\"data row13 col1\" >Total Time Spent on Website</td>\n",
       "                        <td id=\"T_ff08a0d4_17b5_11eb_a8fb_87bb5eadc4c3row13_col2\" class=\"data row13 col2\" >0.510000</td>\n",
       "            </tr>\n",
       "            <tr>\n",
       "                                <td id=\"T_ff08a0d4_17b5_11eb_a8fb_87bb5eadc4c3row14_col0\" class=\"data row14 col0\" >Total Time Spent on Website</td>\n",
       "                        <td id=\"T_ff08a0d4_17b5_11eb_a8fb_87bb5eadc4c3row14_col1\" class=\"data row14 col1\" >TotalVisits</td>\n",
       "                        <td id=\"T_ff08a0d4_17b5_11eb_a8fb_87bb5eadc4c3row14_col2\" class=\"data row14 col2\" >0.500000</td>\n",
       "            </tr>\n",
       "    </tbody></table>"
      ],
      "text/plain": [
       "<pandas.io.formats.style.Styler at 0xc4495c8>"
      ]
     },
     "execution_count": 74,
     "metadata": {},
     "output_type": "execute_result"
    }
   ],
   "source": [
    "#Correlations for Converted Leads \n",
    "\n",
    "convertedCondition= lead['Converted']==1\n",
    "correlation(lead[convertedCondition])[1:30:2].style.hide_index()"
   ]
  },
  {
   "cell_type": "code",
   "execution_count": 75,
   "metadata": {},
   "outputs": [
    {
     "data": {
      "text/html": [
       "<style  type=\"text/css\" >\n",
       "</style><table id=\"T_ff15e776_17b5_11eb_be62_87bb5eadc4c3\" ><thead>    <tr>        <th class=\"col_heading level0 col0\" >VAR1</th>        <th class=\"col_heading level0 col1\" >VAR2</th>        <th class=\"col_heading level0 col2\" >CORR</th>    </tr></thead><tbody>\n",
       "                <tr>\n",
       "                                <td id=\"T_ff15e776_17b5_11eb_be62_87bb5eadc4c3row0_col0\" class=\"data row0 col0\" >Origin_API</td>\n",
       "                        <td id=\"T_ff15e776_17b5_11eb_be62_87bb5eadc4c3row0_col1\" class=\"data row0 col1\" >Origin_Landing Page Submission</td>\n",
       "                        <td id=\"T_ff15e776_17b5_11eb_be62_87bb5eadc4c3row0_col2\" class=\"data row0 col2\" >0.980000</td>\n",
       "            </tr>\n",
       "            <tr>\n",
       "                                <td id=\"T_ff15e776_17b5_11eb_be62_87bb5eadc4c3row1_col0\" class=\"data row1 col0\" >Occupation_Unemployed</td>\n",
       "                        <td id=\"T_ff15e776_17b5_11eb_be62_87bb5eadc4c3row1_col1\" class=\"data row1 col1\" >Occupation_Unknown</td>\n",
       "                        <td id=\"T_ff15e776_17b5_11eb_be62_87bb5eadc4c3row1_col2\" class=\"data row1 col2\" >0.930000</td>\n",
       "            </tr>\n",
       "            <tr>\n",
       "                                <td id=\"T_ff15e776_17b5_11eb_be62_87bb5eadc4c3row2_col0\" class=\"data row2 col0\" >Origin_Landing Page Submission</td>\n",
       "                        <td id=\"T_ff15e776_17b5_11eb_be62_87bb5eadc4c3row2_col1\" class=\"data row2 col1\" >Spec_No Specialization</td>\n",
       "                        <td id=\"T_ff15e776_17b5_11eb_be62_87bb5eadc4c3row2_col2\" class=\"data row2 col2\" >0.870000</td>\n",
       "            </tr>\n",
       "            <tr>\n",
       "                                <td id=\"T_ff15e776_17b5_11eb_be62_87bb5eadc4c3row3_col0\" class=\"data row3 col0\" >Origin_API</td>\n",
       "                        <td id=\"T_ff15e776_17b5_11eb_be62_87bb5eadc4c3row3_col1\" class=\"data row3 col1\" >Spec_No Specialization</td>\n",
       "                        <td id=\"T_ff15e776_17b5_11eb_be62_87bb5eadc4c3row3_col2\" class=\"data row3 col2\" >0.860000</td>\n",
       "            </tr>\n",
       "            <tr>\n",
       "                                <td id=\"T_ff15e776_17b5_11eb_be62_87bb5eadc4c3row4_col0\" class=\"data row4 col0\" >Spec_No Specialization</td>\n",
       "                        <td id=\"T_ff15e776_17b5_11eb_be62_87bb5eadc4c3row4_col1\" class=\"data row4 col1\" >City_Other Cities</td>\n",
       "                        <td id=\"T_ff15e776_17b5_11eb_be62_87bb5eadc4c3row4_col2\" class=\"data row4 col2\" >0.790000</td>\n",
       "            </tr>\n",
       "            <tr>\n",
       "                                <td id=\"T_ff15e776_17b5_11eb_be62_87bb5eadc4c3row5_col0\" class=\"data row5 col0\" >Origin_API</td>\n",
       "                        <td id=\"T_ff15e776_17b5_11eb_be62_87bb5eadc4c3row5_col1\" class=\"data row5 col1\" >City_Other Cities</td>\n",
       "                        <td id=\"T_ff15e776_17b5_11eb_be62_87bb5eadc4c3row5_col2\" class=\"data row5 col2\" >0.780000</td>\n",
       "            </tr>\n",
       "            <tr>\n",
       "                                <td id=\"T_ff15e776_17b5_11eb_be62_87bb5eadc4c3row6_col0\" class=\"data row6 col0\" >City_Other Cities</td>\n",
       "                        <td id=\"T_ff15e776_17b5_11eb_be62_87bb5eadc4c3row6_col1\" class=\"data row6 col1\" >Origin_API</td>\n",
       "                        <td id=\"T_ff15e776_17b5_11eb_be62_87bb5eadc4c3row6_col2\" class=\"data row6 col2\" >0.780000</td>\n",
       "            </tr>\n",
       "            <tr>\n",
       "                                <td id=\"T_ff15e776_17b5_11eb_be62_87bb5eadc4c3row7_col0\" class=\"data row7 col0\" >Page Views Per Visit</td>\n",
       "                        <td id=\"T_ff15e776_17b5_11eb_be62_87bb5eadc4c3row7_col1\" class=\"data row7 col1\" >TotalVisits</td>\n",
       "                        <td id=\"T_ff15e776_17b5_11eb_be62_87bb5eadc4c3row7_col2\" class=\"data row7 col2\" >0.780000</td>\n",
       "            </tr>\n",
       "            <tr>\n",
       "                                <td id=\"T_ff15e776_17b5_11eb_be62_87bb5eadc4c3row8_col0\" class=\"data row8 col0\" >X Education Forums</td>\n",
       "                        <td id=\"T_ff15e776_17b5_11eb_be62_87bb5eadc4c3row8_col1\" class=\"data row8 col1\" >Through Recommendations</td>\n",
       "                        <td id=\"T_ff15e776_17b5_11eb_be62_87bb5eadc4c3row8_col2\" class=\"data row8 col2\" >0.710000</td>\n",
       "            </tr>\n",
       "            <tr>\n",
       "                                <td id=\"T_ff15e776_17b5_11eb_be62_87bb5eadc4c3row9_col0\" class=\"data row9 col0\" >Origin_API</td>\n",
       "                        <td id=\"T_ff15e776_17b5_11eb_be62_87bb5eadc4c3row9_col1\" class=\"data row9 col1\" >Source_Olark Chat</td>\n",
       "                        <td id=\"T_ff15e776_17b5_11eb_be62_87bb5eadc4c3row9_col2\" class=\"data row9 col2\" >0.620000</td>\n",
       "            </tr>\n",
       "            <tr>\n",
       "                                <td id=\"T_ff15e776_17b5_11eb_be62_87bb5eadc4c3row10_col0\" class=\"data row10 col0\" >Origin_Landing Page Submission</td>\n",
       "                        <td id=\"T_ff15e776_17b5_11eb_be62_87bb5eadc4c3row10_col1\" class=\"data row10 col1\" >Source_Olark Chat</td>\n",
       "                        <td id=\"T_ff15e776_17b5_11eb_be62_87bb5eadc4c3row10_col2\" class=\"data row10 col2\" >0.610000</td>\n",
       "            </tr>\n",
       "            <tr>\n",
       "                                <td id=\"T_ff15e776_17b5_11eb_be62_87bb5eadc4c3row11_col0\" class=\"data row11 col0\" >Source_Direct Traffic</td>\n",
       "                        <td id=\"T_ff15e776_17b5_11eb_be62_87bb5eadc4c3row11_col1\" class=\"data row11 col1\" >A free copy of Mastering The Interview</td>\n",
       "                        <td id=\"T_ff15e776_17b5_11eb_be62_87bb5eadc4c3row11_col2\" class=\"data row11 col2\" >0.600000</td>\n",
       "            </tr>\n",
       "            <tr>\n",
       "                                <td id=\"T_ff15e776_17b5_11eb_be62_87bb5eadc4c3row12_col0\" class=\"data row12 col0\" >A free copy of Mastering The Interview</td>\n",
       "                        <td id=\"T_ff15e776_17b5_11eb_be62_87bb5eadc4c3row12_col1\" class=\"data row12 col1\" >Spec_No Specialization</td>\n",
       "                        <td id=\"T_ff15e776_17b5_11eb_be62_87bb5eadc4c3row12_col2\" class=\"data row12 col2\" >0.590000</td>\n",
       "            </tr>\n",
       "            <tr>\n",
       "                                <td id=\"T_ff15e776_17b5_11eb_be62_87bb5eadc4c3row13_col0\" class=\"data row13 col0\" >Spec_No Specialization</td>\n",
       "                        <td id=\"T_ff15e776_17b5_11eb_be62_87bb5eadc4c3row13_col1\" class=\"data row13 col1\" >A free copy of Mastering The Interview</td>\n",
       "                        <td id=\"T_ff15e776_17b5_11eb_be62_87bb5eadc4c3row13_col2\" class=\"data row13 col2\" >0.590000</td>\n",
       "            </tr>\n",
       "            <tr>\n",
       "                                <td id=\"T_ff15e776_17b5_11eb_be62_87bb5eadc4c3row14_col0\" class=\"data row14 col0\" >X Education Forums</td>\n",
       "                        <td id=\"T_ff15e776_17b5_11eb_be62_87bb5eadc4c3row14_col1\" class=\"data row14 col1\" >Digital Advertisement</td>\n",
       "                        <td id=\"T_ff15e776_17b5_11eb_be62_87bb5eadc4c3row14_col2\" class=\"data row14 col2\" >0.580000</td>\n",
       "            </tr>\n",
       "    </tbody></table>"
      ],
      "text/plain": [
       "<pandas.io.formats.style.Styler at 0xc391488>"
      ]
     },
     "execution_count": 75,
     "metadata": {},
     "output_type": "execute_result"
    }
   ],
   "source": [
    "#Correlations for Unconverted Leads \n",
    "\n",
    "unconvertedCondition= lead['Converted']==0\n",
    "correlation(lead[unconvertedCondition])[1:30:2].style.hide_index()"
   ]
  },
  {
   "cell_type": "code",
   "execution_count": 76,
   "metadata": {},
   "outputs": [],
   "source": [
    "# Dividing the dataset into 2 seperate dataframes - one with 'Prospect ID' and 'Lead Number', to be used for the eventual \n",
    "# lead scoring purpose, and another without those 2 features for model building purpose\n",
    "\n",
    "lead_org = lead.copy()\n",
    "lead_org = lead_org.drop(lead_org.iloc[:,2:],axis=1) \n",
    "lead = lead.drop(['Prospect ID','Lead Number'],axis=1)"
   ]
  },
  {
   "cell_type": "markdown",
   "metadata": {},
   "source": [
    "### Test-Train Split"
   ]
  },
  {
   "cell_type": "code",
   "execution_count": 77,
   "metadata": {},
   "outputs": [],
   "source": [
    "X = lead\n",
    "y = lead.pop('Converted')\n",
    "\n",
    "X_train,X_test,y_train,y_test = train_test_split(X,y,train_size=0.7,random_state=100)"
   ]
  },
  {
   "cell_type": "markdown",
   "metadata": {},
   "source": [
    "### Feature Scaling"
   ]
  },
  {
   "cell_type": "code",
   "execution_count": 78,
   "metadata": {},
   "outputs": [],
   "source": [
    "scaler = StandardScaler()\n",
    "\n",
    "# fitting and transforming train set\n",
    "# Apply scaler() to all the columns except the 'yes-no' and 'dummy' variables\n",
    "\n",
    "X_train[['TotalVisits','Total Time Spent on Website','Page Views Per Visit']] = scaler.fit_transform(X_train[['TotalVisits','Total Time Spent on Website','Page Views Per Visit']])"
   ]
  },
  {
   "cell_type": "markdown",
   "metadata": {},
   "source": [
    "### Feature Selction Using RFE"
   ]
  },
  {
   "cell_type": "code",
   "execution_count": 79,
   "metadata": {},
   "outputs": [
    {
     "data": {
      "text/plain": [
       "36"
      ]
     },
     "execution_count": 79,
     "metadata": {},
     "output_type": "execute_result"
    }
   ],
   "source": [
    "len(X_train.columns)"
   ]
  },
  {
   "cell_type": "raw",
   "metadata": {},
   "source": [
    "Currently we have 36 columns. "
   ]
  },
  {
   "cell_type": "raw",
   "metadata": {},
   "source": [
    "Approach - We will follow a mixed approach for feature elimination. Initially, using RFE, 15 features will be selected. Then, manually, with respect to p-value and VIF, other features will be removed."
   ]
  },
  {
   "cell_type": "code",
   "execution_count": 80,
   "metadata": {},
   "outputs": [],
   "source": [
    "logreg = LogisticRegression()"
   ]
  },
  {
   "cell_type": "code",
   "execution_count": 81,
   "metadata": {},
   "outputs": [],
   "source": [
    "rfe = RFE(logreg, 15)             \n",
    "rfe = rfe.fit(X_train, y_train)"
   ]
  },
  {
   "cell_type": "code",
   "execution_count": 82,
   "metadata": {},
   "outputs": [
    {
     "data": {
      "text/plain": [
       "[('Do Not Email', True, 1),\n",
       " ('Do Not Call', False, 3),\n",
       " ('TotalVisits', False, 12),\n",
       " ('Total Time Spent on Website', True, 1),\n",
       " ('Page Views Per Visit', False, 11),\n",
       " ('Search', False, 22),\n",
       " ('X Education Forums', False, 4),\n",
       " ('Newspaper', True, 1),\n",
       " ('Digital Advertisement', False, 9),\n",
       " ('Through Recommendations', False, 18),\n",
       " ('A free copy of Mastering The Interview', False, 10),\n",
       " ('Origin_API', True, 1),\n",
       " ('Origin_Landing Page Submission', True, 1),\n",
       " ('Source_Direct Traffic', False, 5),\n",
       " ('Source_Google', False, 7),\n",
       " ('Source_Olark Chat', True, 1),\n",
       " ('Source_Organic Search', False, 6),\n",
       " ('Activity_Email Opened', True, 1),\n",
       " ('Activity_Olark Chat Conversation', True, 1),\n",
       " ('Activity_SMS Sent', True, 1),\n",
       " ('Spec_Finance Management', False, 17),\n",
       " ('Spec_Human Resource Management', False, 21),\n",
       " ('Spec_Marketing Management', False, 8),\n",
       " ('Spec_No Specialization', True, 1),\n",
       " ('Spec_Operations Management', False, 19),\n",
       " ('Occupation_Housewife', True, 1),\n",
       " ('Occupation_Other', False, 14),\n",
       " ('Occupation_Student', False, 2),\n",
       " ('Occupation_Unemployed', True, 1),\n",
       " ('Occupation_Unknown', True, 1),\n",
       " ('Occupation_Working Professional', True, 1),\n",
       " ('City_Other Cities', False, 15),\n",
       " ('City_Other Cities of Maharashtra', False, 20),\n",
       " ('City_Other Metro Cities', False, 13),\n",
       " ('City_Thane & Outskirts', False, 16),\n",
       " ('City_Tier II Cities', True, 1)]"
      ]
     },
     "execution_count": 82,
     "metadata": {},
     "output_type": "execute_result"
    }
   ],
   "source": [
    "list(zip(X_train.columns, rfe.support_, rfe.ranking_))"
   ]
  },
  {
   "cell_type": "code",
   "execution_count": 83,
   "metadata": {},
   "outputs": [
    {
     "data": {
      "text/plain": [
       "Index(['Do Not Email', 'Total Time Spent on Website', 'Newspaper',\n",
       "       'Origin_API', 'Origin_Landing Page Submission', 'Source_Olark Chat',\n",
       "       'Activity_Email Opened', 'Activity_Olark Chat Conversation',\n",
       "       'Activity_SMS Sent', 'Spec_No Specialization', 'Occupation_Housewife',\n",
       "       'Occupation_Unemployed', 'Occupation_Unknown',\n",
       "       'Occupation_Working Professional', 'City_Tier II Cities'],\n",
       "      dtype='object')"
      ]
     },
     "execution_count": 83,
     "metadata": {},
     "output_type": "execute_result"
    }
   ],
   "source": [
    "# top 15 Columns selected by rfe\n",
    "\n",
    "col = X_train.columns[rfe.support_]\n",
    "col"
   ]
  },
  {
   "cell_type": "markdown",
   "metadata": {},
   "source": [
    "### Building model using statsmodel, for the detailed statistics"
   ]
  },
  {
   "cell_type": "markdown",
   "metadata": {},
   "source": [
    "#### Model 1"
   ]
  },
  {
   "cell_type": "code",
   "execution_count": 84,
   "metadata": {},
   "outputs": [],
   "source": [
    "# Creating the first dataframe model with RFE selected variables\n",
    "X_train_1 = X_train[col]"
   ]
  },
  {
   "cell_type": "code",
   "execution_count": 85,
   "metadata": {},
   "outputs": [],
   "source": [
    "# Adding a constant variable\n",
    "X_train_1 = sm.add_constant(X_train_1)"
   ]
  },
  {
   "cell_type": "code",
   "execution_count": 86,
   "metadata": {},
   "outputs": [],
   "source": [
    "# Running the logistic model\n",
    "\n",
    "lgm = sm.GLM(y_train,X_train_1,family = sm.families.Binomial()).fit()"
   ]
  },
  {
   "cell_type": "code",
   "execution_count": 87,
   "metadata": {},
   "outputs": [
    {
     "name": "stdout",
     "output_type": "stream",
     "text": [
      "                 Generalized Linear Model Regression Results                  \n",
      "==============================================================================\n",
      "Dep. Variable:              Converted   No. Observations:                 6351\n",
      "Model:                            GLM   Df Residuals:                     6335\n",
      "Model Family:                Binomial   Df Model:                           15\n",
      "Link Function:                  logit   Scale:                          1.0000\n",
      "Method:                          IRLS   Log-Likelihood:                -2601.7\n",
      "Date:                Mon, 26 Oct 2020   Deviance:                       5203.5\n",
      "Time:                        23:36:47   Pearson chi2:                 6.26e+03\n",
      "No. Iterations:                    21                                         \n",
      "Covariance Type:            nonrobust                                         \n",
      "====================================================================================================\n",
      "                                       coef    std err          z      P>|z|      [0.025      0.975]\n",
      "----------------------------------------------------------------------------------------------------\n",
      "const                                2.6829      0.292      9.195      0.000       2.111       3.255\n",
      "Do Not Email                        -1.4202      0.174     -8.142      0.000      -1.762      -1.078\n",
      "Total Time Spent on Website          1.0957      0.041     26.964      0.000       1.016       1.175\n",
      "Newspaper                          -24.0832   4.82e+04     -0.000      1.000   -9.45e+04    9.44e+04\n",
      "Origin_API                          -3.1182      0.193    -16.184      0.000      -3.496      -2.741\n",
      "Origin_Landing Page Submission      -4.0533      0.198    -20.440      0.000      -4.442      -3.665\n",
      "Source_Olark Chat                    1.2138      0.124      9.764      0.000       0.970       1.457\n",
      "Activity_Email Opened                0.5083      0.103      4.939      0.000       0.307       0.710\n",
      "Activity_Olark Chat Conversation    -0.9224      0.183     -5.027      0.000      -1.282      -0.563\n",
      "Activity_SMS Sent                    1.7075      0.104     16.394      0.000       1.503       1.912\n",
      "Spec_No Specialization              -0.8467      0.124     -6.848      0.000      -1.089      -0.604\n",
      "Occupation_Housewife                22.3761   1.54e+04      0.001      0.999   -3.02e+04    3.03e+04\n",
      "Occupation_Unemployed               -0.2114      0.210     -1.007      0.314      -0.623       0.200\n",
      "Occupation_Unknown                  -1.4208      0.220     -6.450      0.000      -1.853      -0.989\n",
      "Occupation_Working Professional      2.1801      0.277      7.869      0.000       1.637       2.723\n",
      "City_Tier II Cities                 -0.5687      0.432     -1.318      0.188      -1.415       0.277\n",
      "====================================================================================================\n"
     ]
    }
   ],
   "source": [
    "# Summary of the new model\n",
    "print(lgm.summary())"
   ]
  },
  {
   "cell_type": "code",
   "execution_count": 88,
   "metadata": {},
   "outputs": [],
   "source": [
    "# Dropping the const variable\n",
    "\n",
    "X_train_1_ = X_train_1.drop(['const'], axis=1)"
   ]
  },
  {
   "cell_type": "code",
   "execution_count": 89,
   "metadata": {},
   "outputs": [
    {
     "data": {
      "text/html": [
       "<div>\n",
       "<style scoped>\n",
       "    .dataframe tbody tr th:only-of-type {\n",
       "        vertical-align: middle;\n",
       "    }\n",
       "\n",
       "    .dataframe tbody tr th {\n",
       "        vertical-align: top;\n",
       "    }\n",
       "\n",
       "    .dataframe thead th {\n",
       "        text-align: right;\n",
       "    }\n",
       "</style>\n",
       "<table border=\"1\" class=\"dataframe\">\n",
       "  <thead>\n",
       "    <tr style=\"text-align: right;\">\n",
       "      <th></th>\n",
       "      <th>Features</th>\n",
       "      <th>VIF</th>\n",
       "    </tr>\n",
       "  </thead>\n",
       "  <tbody>\n",
       "    <tr>\n",
       "      <th>11</th>\n",
       "      <td>Occupation_Unemployed</td>\n",
       "      <td>9.88</td>\n",
       "    </tr>\n",
       "    <tr>\n",
       "      <th>4</th>\n",
       "      <td>Origin_Landing Page Submission</td>\n",
       "      <td>7.93</td>\n",
       "    </tr>\n",
       "    <tr>\n",
       "      <th>3</th>\n",
       "      <td>Origin_API</td>\n",
       "      <td>7.59</td>\n",
       "    </tr>\n",
       "    <tr>\n",
       "      <th>12</th>\n",
       "      <td>Occupation_Unknown</td>\n",
       "      <td>6.03</td>\n",
       "    </tr>\n",
       "    <tr>\n",
       "      <th>9</th>\n",
       "      <td>Spec_No Specialization</td>\n",
       "      <td>4.32</td>\n",
       "    </tr>\n",
       "    <tr>\n",
       "      <th>6</th>\n",
       "      <td>Activity_Email Opened</td>\n",
       "      <td>2.88</td>\n",
       "    </tr>\n",
       "    <tr>\n",
       "      <th>8</th>\n",
       "      <td>Activity_SMS Sent</td>\n",
       "      <td>2.51</td>\n",
       "    </tr>\n",
       "    <tr>\n",
       "      <th>5</th>\n",
       "      <td>Source_Olark Chat</td>\n",
       "      <td>2.32</td>\n",
       "    </tr>\n",
       "    <tr>\n",
       "      <th>7</th>\n",
       "      <td>Activity_Olark Chat Conversation</td>\n",
       "      <td>1.85</td>\n",
       "    </tr>\n",
       "    <tr>\n",
       "      <th>13</th>\n",
       "      <td>Occupation_Working Professional</td>\n",
       "      <td>1.85</td>\n",
       "    </tr>\n",
       "    <tr>\n",
       "      <th>1</th>\n",
       "      <td>Total Time Spent on Website</td>\n",
       "      <td>1.31</td>\n",
       "    </tr>\n",
       "    <tr>\n",
       "      <th>0</th>\n",
       "      <td>Do Not Email</td>\n",
       "      <td>1.23</td>\n",
       "    </tr>\n",
       "    <tr>\n",
       "      <th>14</th>\n",
       "      <td>City_Tier II Cities</td>\n",
       "      <td>1.02</td>\n",
       "    </tr>\n",
       "    <tr>\n",
       "      <th>10</th>\n",
       "      <td>Occupation_Housewife</td>\n",
       "      <td>1.01</td>\n",
       "    </tr>\n",
       "    <tr>\n",
       "      <th>2</th>\n",
       "      <td>Newspaper</td>\n",
       "      <td>1.00</td>\n",
       "    </tr>\n",
       "  </tbody>\n",
       "</table>\n",
       "</div>"
      ],
      "text/plain": [
       "                            Features   VIF\n",
       "11             Occupation_Unemployed  9.88\n",
       "4     Origin_Landing Page Submission  7.93\n",
       "3                         Origin_API  7.59\n",
       "12                Occupation_Unknown  6.03\n",
       "9             Spec_No Specialization  4.32\n",
       "6              Activity_Email Opened  2.88\n",
       "8                  Activity_SMS Sent  2.51\n",
       "5                  Source_Olark Chat  2.32\n",
       "7   Activity_Olark Chat Conversation  1.85\n",
       "13   Occupation_Working Professional  1.85\n",
       "1        Total Time Spent on Website  1.31\n",
       "0                       Do Not Email  1.23\n",
       "14               City_Tier II Cities  1.02\n",
       "10              Occupation_Housewife  1.01\n",
       "2                          Newspaper  1.00"
      ]
     },
     "execution_count": 89,
     "metadata": {},
     "output_type": "execute_result"
    }
   ],
   "source": [
    "# Calculating the VIFs for the new model\n",
    "\n",
    "vif = pd.DataFrame()\n",
    "X = X_train_1_\n",
    "vif['Features'] = X.columns\n",
    "vif['VIF'] = [variance_inflation_factor(X.values, i) for i in range(X.shape[1])]\n",
    "vif['VIF'] = round(vif['VIF'], 2)\n",
    "vif = vif.sort_values(by = \"VIF\", ascending = False)\n",
    "vif"
   ]
  },
  {
   "cell_type": "markdown",
   "metadata": {},
   "source": [
    "We will be following the below rule to eliminate the features one by one, as per the priorities mentioned by the following sequence:-\n",
    "\n",
    "* We will first check the summary and VIF\n",
    "* If a variable has got high p-value(>0.05) as well as high VIF(>5), we need to drop that first\n",
    "* If a variable has got high p-value(>0.05) but low VIF(<5), then we need to drop such\n",
    "* Still if we have a variable with low p-value(<0.05) but high VIF(>5), we need to drop such at the very end"
   ]
  },
  {
   "cell_type": "raw",
   "metadata": {},
   "source": [
    "In Model 1, although 'Occupation_Housewife' is the most insignificant variable with the highest p-value, but owing to its low VIF, and since 'Occupation_Unemployed' has both high p-value and high VIF, so we will drop it first."
   ]
  },
  {
   "cell_type": "markdown",
   "metadata": {},
   "source": [
    "#### Model 2"
   ]
  },
  {
   "cell_type": "code",
   "execution_count": 90,
   "metadata": {},
   "outputs": [],
   "source": [
    "# Rebuilding the model without 'Occupation_Unemployed'  \n",
    "\n",
    "X_train_2 = X_train_1.drop(['const','Occupation_Unemployed'], axis=1)"
   ]
  },
  {
   "cell_type": "code",
   "execution_count": 91,
   "metadata": {},
   "outputs": [],
   "source": [
    "# Adding a constant variable\n",
    "X_train_2 = sm.add_constant(X_train_2)"
   ]
  },
  {
   "cell_type": "code",
   "execution_count": 92,
   "metadata": {},
   "outputs": [],
   "source": [
    "# Running the logistic model\n",
    "\n",
    "lgm = sm.GLM(y_train,X_train_2,family = sm.families.Binomial()).fit()"
   ]
  },
  {
   "cell_type": "code",
   "execution_count": 93,
   "metadata": {},
   "outputs": [
    {
     "name": "stdout",
     "output_type": "stream",
     "text": [
      "                 Generalized Linear Model Regression Results                  \n",
      "==============================================================================\n",
      "Dep. Variable:              Converted   No. Observations:                 6351\n",
      "Model:                            GLM   Df Residuals:                     6336\n",
      "Model Family:                Binomial   Df Model:                           14\n",
      "Link Function:                  logit   Scale:                          1.0000\n",
      "Method:                          IRLS   Log-Likelihood:                -2602.2\n",
      "Date:                Mon, 26 Oct 2020   Deviance:                       5204.5\n",
      "Time:                        23:36:48   Pearson chi2:                 6.26e+03\n",
      "No. Iterations:                    21                                         \n",
      "Covariance Type:            nonrobust                                         \n",
      "====================================================================================================\n",
      "                                       coef    std err          z      P>|z|      [0.025      0.975]\n",
      "----------------------------------------------------------------------------------------------------\n",
      "const                                2.4773      0.208     11.931      0.000       2.070       2.884\n",
      "Do Not Email                        -1.4184      0.175     -8.128      0.000      -1.760      -1.076\n",
      "Total Time Spent on Website          1.0958      0.041     26.965      0.000       1.016       1.175\n",
      "Newspaper                          -24.0940   4.82e+04     -0.000      1.000   -9.45e+04    9.44e+04\n",
      "Origin_API                          -3.1173      0.193    -16.185      0.000      -3.495      -2.740\n",
      "Origin_Landing Page Submission      -4.0514      0.198    -20.445      0.000      -4.440      -3.663\n",
      "Source_Olark Chat                    1.2174      0.124      9.795      0.000       0.974       1.461\n",
      "Activity_Email Opened                0.5111      0.103      4.966      0.000       0.309       0.713\n",
      "Activity_Olark Chat Conversation    -0.9171      0.183     -5.001      0.000      -1.277      -0.558\n",
      "Activity_SMS Sent                    1.7042      0.104     16.369      0.000       1.500       1.908\n",
      "Spec_No Specialization              -0.8475      0.124     -6.848      0.000      -1.090      -0.605\n",
      "Occupation_Housewife                22.5775   1.54e+04      0.001      0.999   -3.03e+04    3.03e+04\n",
      "Occupation_Unknown                  -1.2175      0.089    -13.753      0.000      -1.391      -1.044\n",
      "Occupation_Working Professional      2.3832      0.190     12.528      0.000       2.010       2.756\n",
      "City_Tier II Cities                 -0.5735      0.431     -1.329      0.184      -1.419       0.272\n",
      "====================================================================================================\n"
     ]
    }
   ],
   "source": [
    "# Summary of the new model\n",
    "print(lgm.summary())"
   ]
  },
  {
   "cell_type": "code",
   "execution_count": 94,
   "metadata": {},
   "outputs": [],
   "source": [
    "# Dropping the const variable\n",
    "\n",
    "X_train_2_ = X_train_2.drop(['const'], axis=1)"
   ]
  },
  {
   "cell_type": "code",
   "execution_count": 95,
   "metadata": {},
   "outputs": [
    {
     "data": {
      "text/html": [
       "<div>\n",
       "<style scoped>\n",
       "    .dataframe tbody tr th:only-of-type {\n",
       "        vertical-align: middle;\n",
       "    }\n",
       "\n",
       "    .dataframe tbody tr th {\n",
       "        vertical-align: top;\n",
       "    }\n",
       "\n",
       "    .dataframe thead th {\n",
       "        text-align: right;\n",
       "    }\n",
       "</style>\n",
       "<table border=\"1\" class=\"dataframe\">\n",
       "  <thead>\n",
       "    <tr style=\"text-align: right;\">\n",
       "      <th></th>\n",
       "      <th>Features</th>\n",
       "      <th>VIF</th>\n",
       "    </tr>\n",
       "  </thead>\n",
       "  <tbody>\n",
       "    <tr>\n",
       "      <th>3</th>\n",
       "      <td>Origin_API</td>\n",
       "      <td>5.28</td>\n",
       "    </tr>\n",
       "    <tr>\n",
       "      <th>9</th>\n",
       "      <td>Spec_No Specialization</td>\n",
       "      <td>4.04</td>\n",
       "    </tr>\n",
       "    <tr>\n",
       "      <th>4</th>\n",
       "      <td>Origin_Landing Page Submission</td>\n",
       "      <td>3.07</td>\n",
       "    </tr>\n",
       "    <tr>\n",
       "      <th>6</th>\n",
       "      <td>Activity_Email Opened</td>\n",
       "      <td>2.51</td>\n",
       "    </tr>\n",
       "    <tr>\n",
       "      <th>5</th>\n",
       "      <td>Source_Olark Chat</td>\n",
       "      <td>2.30</td>\n",
       "    </tr>\n",
       "    <tr>\n",
       "      <th>8</th>\n",
       "      <td>Activity_SMS Sent</td>\n",
       "      <td>2.10</td>\n",
       "    </tr>\n",
       "    <tr>\n",
       "      <th>7</th>\n",
       "      <td>Activity_Olark Chat Conversation</td>\n",
       "      <td>1.79</td>\n",
       "    </tr>\n",
       "    <tr>\n",
       "      <th>11</th>\n",
       "      <td>Occupation_Unknown</td>\n",
       "      <td>1.62</td>\n",
       "    </tr>\n",
       "    <tr>\n",
       "      <th>1</th>\n",
       "      <td>Total Time Spent on Website</td>\n",
       "      <td>1.28</td>\n",
       "    </tr>\n",
       "    <tr>\n",
       "      <th>0</th>\n",
       "      <td>Do Not Email</td>\n",
       "      <td>1.21</td>\n",
       "    </tr>\n",
       "    <tr>\n",
       "      <th>12</th>\n",
       "      <td>Occupation_Working Professional</td>\n",
       "      <td>1.14</td>\n",
       "    </tr>\n",
       "    <tr>\n",
       "      <th>13</th>\n",
       "      <td>City_Tier II Cities</td>\n",
       "      <td>1.02</td>\n",
       "    </tr>\n",
       "    <tr>\n",
       "      <th>2</th>\n",
       "      <td>Newspaper</td>\n",
       "      <td>1.00</td>\n",
       "    </tr>\n",
       "    <tr>\n",
       "      <th>10</th>\n",
       "      <td>Occupation_Housewife</td>\n",
       "      <td>1.00</td>\n",
       "    </tr>\n",
       "  </tbody>\n",
       "</table>\n",
       "</div>"
      ],
      "text/plain": [
       "                            Features   VIF\n",
       "3                         Origin_API  5.28\n",
       "9             Spec_No Specialization  4.04\n",
       "4     Origin_Landing Page Submission  3.07\n",
       "6              Activity_Email Opened  2.51\n",
       "5                  Source_Olark Chat  2.30\n",
       "8                  Activity_SMS Sent  2.10\n",
       "7   Activity_Olark Chat Conversation  1.79\n",
       "11                Occupation_Unknown  1.62\n",
       "1        Total Time Spent on Website  1.28\n",
       "0                       Do Not Email  1.21\n",
       "12   Occupation_Working Professional  1.14\n",
       "13               City_Tier II Cities  1.02\n",
       "2                          Newspaper  1.00\n",
       "10              Occupation_Housewife  1.00"
      ]
     },
     "execution_count": 95,
     "metadata": {},
     "output_type": "execute_result"
    }
   ],
   "source": [
    "# Calculating the VIFs for the new model\n",
    "\n",
    "vif = pd.DataFrame()\n",
    "X = X_train_2_\n",
    "vif['Features'] = X.columns\n",
    "vif['VIF'] = [variance_inflation_factor(X.values, i) for i in range(X.shape[1])]\n",
    "vif['VIF'] = round(vif['VIF'], 2)\n",
    "vif = vif.sort_values(by = \"VIF\", ascending = False)\n",
    "vif"
   ]
  },
  {
   "cell_type": "raw",
   "metadata": {},
   "source": [
    "Now, 'Occupation_Housewife', 'Newspaper' have the highest p-value but low VIF, so we can drop any one of them. Lets drop 'Occupation_Housewife' since it is intuitively less important to model. ALthough 'Origin_API' has high VIF but comparatively lower p-value, so we wont drop it now, since its p-value may come down after dropping other variable."
   ]
  },
  {
   "cell_type": "markdown",
   "metadata": {},
   "source": [
    "#### Model 3"
   ]
  },
  {
   "cell_type": "code",
   "execution_count": 96,
   "metadata": {},
   "outputs": [],
   "source": [
    "# Rebuilding the model without 'Occupation_Housewife'\n",
    "\n",
    "X_train_3 = X_train_2.drop(['const','Occupation_Housewife'], axis=1)"
   ]
  },
  {
   "cell_type": "code",
   "execution_count": 97,
   "metadata": {},
   "outputs": [],
   "source": [
    "# Adding a constant variable\n",
    "X_train_3 = sm.add_constant(X_train_3)"
   ]
  },
  {
   "cell_type": "code",
   "execution_count": 98,
   "metadata": {},
   "outputs": [],
   "source": [
    "# Running the logistic model\n",
    "\n",
    "lgm = sm.GLM(y_train,X_train_3,family = sm.families.Binomial()).fit()"
   ]
  },
  {
   "cell_type": "code",
   "execution_count": 99,
   "metadata": {},
   "outputs": [
    {
     "name": "stdout",
     "output_type": "stream",
     "text": [
      "                 Generalized Linear Model Regression Results                  \n",
      "==============================================================================\n",
      "Dep. Variable:              Converted   No. Observations:                 6351\n",
      "Model:                            GLM   Df Residuals:                     6337\n",
      "Model Family:                Binomial   Df Model:                           13\n",
      "Link Function:                  logit   Scale:                          1.0000\n",
      "Method:                          IRLS   Log-Likelihood:                -2606.1\n",
      "Date:                Mon, 26 Oct 2020   Deviance:                       5212.3\n",
      "Time:                        23:36:49   Pearson chi2:                 6.27e+03\n",
      "No. Iterations:                    19                                         \n",
      "Covariance Type:            nonrobust                                         \n",
      "====================================================================================================\n",
      "                                       coef    std err          z      P>|z|      [0.025      0.975]\n",
      "----------------------------------------------------------------------------------------------------\n",
      "const                                2.4898      0.207     12.025      0.000       2.084       2.896\n",
      "Do Not Email                        -1.4197      0.175     -8.135      0.000      -1.762      -1.078\n",
      "Total Time Spent on Website          1.0949      0.041     26.972      0.000       1.015       1.175\n",
      "Newspaper                          -22.1000   1.77e+04     -0.001      0.999   -3.48e+04    3.47e+04\n",
      "Origin_API                          -3.1253      0.192    -16.240      0.000      -3.502      -2.748\n",
      "Origin_Landing Page Submission      -4.0604      0.198    -20.537      0.000      -4.448      -3.673\n",
      "Source_Olark Chat                    1.2158      0.124      9.785      0.000       0.972       1.459\n",
      "Activity_Email Opened                0.5156      0.103      5.016      0.000       0.314       0.717\n",
      "Activity_Olark Chat Conversation    -0.9160      0.183     -4.995      0.000      -1.275      -0.557\n",
      "Activity_SMS Sent                    1.7028      0.104     16.365      0.000       1.499       1.907\n",
      "Spec_No Specialization              -0.8529      0.124     -6.898      0.000      -1.095      -0.611\n",
      "Occupation_Unknown                  -1.2197      0.088    -13.783      0.000      -1.393      -1.046\n",
      "Occupation_Working Professional      2.3783      0.190     12.502      0.000       2.005       2.751\n",
      "City_Tier II Cities                 -0.5761      0.431     -1.335      0.182      -1.422       0.269\n",
      "====================================================================================================\n"
     ]
    }
   ],
   "source": [
    "# Summary of the new model\n",
    "print(lgm.summary())"
   ]
  },
  {
   "cell_type": "code",
   "execution_count": 100,
   "metadata": {},
   "outputs": [],
   "source": [
    "# Dropping the const variable\n",
    "\n",
    "X_train_3_ = X_train_3.drop(['const'], axis=1)"
   ]
  },
  {
   "cell_type": "code",
   "execution_count": 101,
   "metadata": {},
   "outputs": [
    {
     "data": {
      "text/html": [
       "<div>\n",
       "<style scoped>\n",
       "    .dataframe tbody tr th:only-of-type {\n",
       "        vertical-align: middle;\n",
       "    }\n",
       "\n",
       "    .dataframe tbody tr th {\n",
       "        vertical-align: top;\n",
       "    }\n",
       "\n",
       "    .dataframe thead th {\n",
       "        text-align: right;\n",
       "    }\n",
       "</style>\n",
       "<table border=\"1\" class=\"dataframe\">\n",
       "  <thead>\n",
       "    <tr style=\"text-align: right;\">\n",
       "      <th></th>\n",
       "      <th>Features</th>\n",
       "      <th>VIF</th>\n",
       "    </tr>\n",
       "  </thead>\n",
       "  <tbody>\n",
       "    <tr>\n",
       "      <th>3</th>\n",
       "      <td>Origin_API</td>\n",
       "      <td>5.28</td>\n",
       "    </tr>\n",
       "    <tr>\n",
       "      <th>9</th>\n",
       "      <td>Spec_No Specialization</td>\n",
       "      <td>4.04</td>\n",
       "    </tr>\n",
       "    <tr>\n",
       "      <th>4</th>\n",
       "      <td>Origin_Landing Page Submission</td>\n",
       "      <td>3.07</td>\n",
       "    </tr>\n",
       "    <tr>\n",
       "      <th>6</th>\n",
       "      <td>Activity_Email Opened</td>\n",
       "      <td>2.51</td>\n",
       "    </tr>\n",
       "    <tr>\n",
       "      <th>5</th>\n",
       "      <td>Source_Olark Chat</td>\n",
       "      <td>2.30</td>\n",
       "    </tr>\n",
       "    <tr>\n",
       "      <th>8</th>\n",
       "      <td>Activity_SMS Sent</td>\n",
       "      <td>2.10</td>\n",
       "    </tr>\n",
       "    <tr>\n",
       "      <th>7</th>\n",
       "      <td>Activity_Olark Chat Conversation</td>\n",
       "      <td>1.79</td>\n",
       "    </tr>\n",
       "    <tr>\n",
       "      <th>10</th>\n",
       "      <td>Occupation_Unknown</td>\n",
       "      <td>1.62</td>\n",
       "    </tr>\n",
       "    <tr>\n",
       "      <th>1</th>\n",
       "      <td>Total Time Spent on Website</td>\n",
       "      <td>1.28</td>\n",
       "    </tr>\n",
       "    <tr>\n",
       "      <th>0</th>\n",
       "      <td>Do Not Email</td>\n",
       "      <td>1.21</td>\n",
       "    </tr>\n",
       "    <tr>\n",
       "      <th>11</th>\n",
       "      <td>Occupation_Working Professional</td>\n",
       "      <td>1.14</td>\n",
       "    </tr>\n",
       "    <tr>\n",
       "      <th>12</th>\n",
       "      <td>City_Tier II Cities</td>\n",
       "      <td>1.02</td>\n",
       "    </tr>\n",
       "    <tr>\n",
       "      <th>2</th>\n",
       "      <td>Newspaper</td>\n",
       "      <td>1.00</td>\n",
       "    </tr>\n",
       "  </tbody>\n",
       "</table>\n",
       "</div>"
      ],
      "text/plain": [
       "                            Features   VIF\n",
       "3                         Origin_API  5.28\n",
       "9             Spec_No Specialization  4.04\n",
       "4     Origin_Landing Page Submission  3.07\n",
       "6              Activity_Email Opened  2.51\n",
       "5                  Source_Olark Chat  2.30\n",
       "8                  Activity_SMS Sent  2.10\n",
       "7   Activity_Olark Chat Conversation  1.79\n",
       "10                Occupation_Unknown  1.62\n",
       "1        Total Time Spent on Website  1.28\n",
       "0                       Do Not Email  1.21\n",
       "11   Occupation_Working Professional  1.14\n",
       "12               City_Tier II Cities  1.02\n",
       "2                          Newspaper  1.00"
      ]
     },
     "execution_count": 101,
     "metadata": {},
     "output_type": "execute_result"
    }
   ],
   "source": [
    "# Calculating the VIFs for the new model\n",
    "\n",
    "vif = pd.DataFrame()\n",
    "X = X_train_3_\n",
    "vif['Features'] = X.columns\n",
    "vif['VIF'] = [variance_inflation_factor(X.values, i) for i in range(X.shape[1])]\n",
    "vif['VIF'] = round(vif['VIF'], 2)\n",
    "vif = vif.sort_values(by = \"VIF\", ascending = False)\n",
    "vif"
   ]
  },
  {
   "cell_type": "raw",
   "metadata": {},
   "source": [
    "Lets drop 'Newspaper' next on account of high p-value"
   ]
  },
  {
   "cell_type": "markdown",
   "metadata": {},
   "source": [
    "#### Model 4"
   ]
  },
  {
   "cell_type": "code",
   "execution_count": 102,
   "metadata": {},
   "outputs": [],
   "source": [
    "# Rebuilding the model without 'Newspaper'\n",
    "\n",
    "X_train_4 = X_train_3.drop(['const','Newspaper'], axis=1)"
   ]
  },
  {
   "cell_type": "code",
   "execution_count": 103,
   "metadata": {},
   "outputs": [],
   "source": [
    "# Adding a constant variable\n",
    "X_train_4 = sm.add_constant(X_train_4)"
   ]
  },
  {
   "cell_type": "code",
   "execution_count": 104,
   "metadata": {},
   "outputs": [],
   "source": [
    "# Running the logistic model\n",
    "\n",
    "lgm = sm.GLM(y_train,X_train_4,family = sm.families.Binomial()).fit()"
   ]
  },
  {
   "cell_type": "code",
   "execution_count": 105,
   "metadata": {},
   "outputs": [
    {
     "name": "stdout",
     "output_type": "stream",
     "text": [
      "                 Generalized Linear Model Regression Results                  \n",
      "==============================================================================\n",
      "Dep. Variable:              Converted   No. Observations:                 6351\n",
      "Model:                            GLM   Df Residuals:                     6338\n",
      "Model Family:                Binomial   Df Model:                           12\n",
      "Link Function:                  logit   Scale:                          1.0000\n",
      "Method:                          IRLS   Log-Likelihood:                -2607.9\n",
      "Date:                Mon, 26 Oct 2020   Deviance:                       5215.7\n",
      "Time:                        23:36:50   Pearson chi2:                 6.27e+03\n",
      "No. Iterations:                     6                                         \n",
      "Covariance Type:            nonrobust                                         \n",
      "====================================================================================================\n",
      "                                       coef    std err          z      P>|z|      [0.025      0.975]\n",
      "----------------------------------------------------------------------------------------------------\n",
      "const                                2.4896      0.207     12.026      0.000       2.084       2.895\n",
      "Do Not Email                        -1.4191      0.174     -8.134      0.000      -1.761      -1.077\n",
      "Total Time Spent on Website          1.0923      0.041     26.941      0.000       1.013       1.172\n",
      "Origin_API                          -3.1226      0.192    -16.228      0.000      -3.500      -2.745\n",
      "Origin_Landing Page Submission      -4.0597      0.198    -20.535      0.000      -4.447      -3.672\n",
      "Source_Olark Chat                    1.2128      0.124      9.765      0.000       0.969       1.456\n",
      "Activity_Email Opened                0.5128      0.103      4.991      0.000       0.311       0.714\n",
      "Activity_Olark Chat Conversation    -0.9169      0.183     -5.002      0.000      -1.276      -0.558\n",
      "Activity_SMS Sent                    1.7020      0.104     16.365      0.000       1.498       1.906\n",
      "Spec_No Specialization              -0.8535      0.124     -6.904      0.000      -1.096      -0.611\n",
      "Occupation_Unknown                  -1.2180      0.088    -13.769      0.000      -1.391      -1.045\n",
      "Occupation_Working Professional      2.3792      0.190     12.510      0.000       2.006       2.752\n",
      "City_Tier II Cities                 -0.5746      0.431     -1.333      0.183      -1.420       0.270\n",
      "====================================================================================================\n"
     ]
    }
   ],
   "source": [
    "# Summary of the new model\n",
    "print(lgm.summary())"
   ]
  },
  {
   "cell_type": "code",
   "execution_count": 106,
   "metadata": {},
   "outputs": [],
   "source": [
    "# Dropping the const variable\n",
    "\n",
    "X_train_4_ = X_train_4.drop(['const'], axis=1)"
   ]
  },
  {
   "cell_type": "code",
   "execution_count": 107,
   "metadata": {},
   "outputs": [
    {
     "data": {
      "text/html": [
       "<div>\n",
       "<style scoped>\n",
       "    .dataframe tbody tr th:only-of-type {\n",
       "        vertical-align: middle;\n",
       "    }\n",
       "\n",
       "    .dataframe tbody tr th {\n",
       "        vertical-align: top;\n",
       "    }\n",
       "\n",
       "    .dataframe thead th {\n",
       "        text-align: right;\n",
       "    }\n",
       "</style>\n",
       "<table border=\"1\" class=\"dataframe\">\n",
       "  <thead>\n",
       "    <tr style=\"text-align: right;\">\n",
       "      <th></th>\n",
       "      <th>Features</th>\n",
       "      <th>VIF</th>\n",
       "    </tr>\n",
       "  </thead>\n",
       "  <tbody>\n",
       "    <tr>\n",
       "      <th>2</th>\n",
       "      <td>Origin_API</td>\n",
       "      <td>5.28</td>\n",
       "    </tr>\n",
       "    <tr>\n",
       "      <th>8</th>\n",
       "      <td>Spec_No Specialization</td>\n",
       "      <td>4.04</td>\n",
       "    </tr>\n",
       "    <tr>\n",
       "      <th>3</th>\n",
       "      <td>Origin_Landing Page Submission</td>\n",
       "      <td>3.07</td>\n",
       "    </tr>\n",
       "    <tr>\n",
       "      <th>5</th>\n",
       "      <td>Activity_Email Opened</td>\n",
       "      <td>2.51</td>\n",
       "    </tr>\n",
       "    <tr>\n",
       "      <th>4</th>\n",
       "      <td>Source_Olark Chat</td>\n",
       "      <td>2.29</td>\n",
       "    </tr>\n",
       "    <tr>\n",
       "      <th>7</th>\n",
       "      <td>Activity_SMS Sent</td>\n",
       "      <td>2.10</td>\n",
       "    </tr>\n",
       "    <tr>\n",
       "      <th>6</th>\n",
       "      <td>Activity_Olark Chat Conversation</td>\n",
       "      <td>1.79</td>\n",
       "    </tr>\n",
       "    <tr>\n",
       "      <th>9</th>\n",
       "      <td>Occupation_Unknown</td>\n",
       "      <td>1.62</td>\n",
       "    </tr>\n",
       "    <tr>\n",
       "      <th>1</th>\n",
       "      <td>Total Time Spent on Website</td>\n",
       "      <td>1.28</td>\n",
       "    </tr>\n",
       "    <tr>\n",
       "      <th>0</th>\n",
       "      <td>Do Not Email</td>\n",
       "      <td>1.21</td>\n",
       "    </tr>\n",
       "    <tr>\n",
       "      <th>10</th>\n",
       "      <td>Occupation_Working Professional</td>\n",
       "      <td>1.14</td>\n",
       "    </tr>\n",
       "    <tr>\n",
       "      <th>11</th>\n",
       "      <td>City_Tier II Cities</td>\n",
       "      <td>1.02</td>\n",
       "    </tr>\n",
       "  </tbody>\n",
       "</table>\n",
       "</div>"
      ],
      "text/plain": [
       "                            Features   VIF\n",
       "2                         Origin_API  5.28\n",
       "8             Spec_No Specialization  4.04\n",
       "3     Origin_Landing Page Submission  3.07\n",
       "5              Activity_Email Opened  2.51\n",
       "4                  Source_Olark Chat  2.29\n",
       "7                  Activity_SMS Sent  2.10\n",
       "6   Activity_Olark Chat Conversation  1.79\n",
       "9                 Occupation_Unknown  1.62\n",
       "1        Total Time Spent on Website  1.28\n",
       "0                       Do Not Email  1.21\n",
       "10   Occupation_Working Professional  1.14\n",
       "11               City_Tier II Cities  1.02"
      ]
     },
     "execution_count": 107,
     "metadata": {},
     "output_type": "execute_result"
    }
   ],
   "source": [
    "# Calculating the VIFs for the new model\n",
    "\n",
    "vif = pd.DataFrame()\n",
    "X = X_train_4_\n",
    "vif['Features'] = X.columns\n",
    "vif['VIF'] = [variance_inflation_factor(X.values, i) for i in range(X.shape[1])]\n",
    "vif['VIF'] = round(vif['VIF'], 2)\n",
    "vif = vif.sort_values(by = \"VIF\", ascending = False)\n",
    "vif"
   ]
  },
  {
   "cell_type": "raw",
   "metadata": {},
   "source": [
    "Lets drop 'City_Tier II Cities' next on account of high p-value"
   ]
  },
  {
   "cell_type": "markdown",
   "metadata": {},
   "source": [
    "#### Model 5"
   ]
  },
  {
   "cell_type": "code",
   "execution_count": 108,
   "metadata": {},
   "outputs": [],
   "source": [
    "# Rebuilding the model without 'City_Tier II Cities'\n",
    "\n",
    "X_train_5 = X_train_4.drop(['const','City_Tier II Cities'], axis=1)"
   ]
  },
  {
   "cell_type": "code",
   "execution_count": 109,
   "metadata": {},
   "outputs": [],
   "source": [
    "# Adding a constant variable\n",
    "X_train_5 = sm.add_constant(X_train_5)"
   ]
  },
  {
   "cell_type": "code",
   "execution_count": 110,
   "metadata": {},
   "outputs": [],
   "source": [
    "# Running the logistic model\n",
    "\n",
    "lgm = sm.GLM(y_train,X_train_5,family = sm.families.Binomial()).fit()"
   ]
  },
  {
   "cell_type": "code",
   "execution_count": 111,
   "metadata": {},
   "outputs": [
    {
     "name": "stdout",
     "output_type": "stream",
     "text": [
      "                 Generalized Linear Model Regression Results                  \n",
      "==============================================================================\n",
      "Dep. Variable:              Converted   No. Observations:                 6351\n",
      "Model:                            GLM   Df Residuals:                     6339\n",
      "Model Family:                Binomial   Df Model:                           11\n",
      "Link Function:                  logit   Scale:                          1.0000\n",
      "Method:                          IRLS   Log-Likelihood:                -2608.8\n",
      "Date:                Mon, 26 Oct 2020   Deviance:                       5217.6\n",
      "Time:                        23:36:51   Pearson chi2:                 6.27e+03\n",
      "No. Iterations:                     6                                         \n",
      "Covariance Type:            nonrobust                                         \n",
      "====================================================================================================\n",
      "                                       coef    std err          z      P>|z|      [0.025      0.975]\n",
      "----------------------------------------------------------------------------------------------------\n",
      "const                                2.4872      0.207     12.015      0.000       2.081       2.893\n",
      "Do Not Email                        -1.4235      0.174     -8.174      0.000      -1.765      -1.082\n",
      "Total Time Spent on Website          1.0925      0.041     26.953      0.000       1.013       1.172\n",
      "Origin_API                          -3.1226      0.192    -16.228      0.000      -3.500      -2.745\n",
      "Origin_Landing Page Submission      -4.0657      0.198    -20.569      0.000      -4.453      -3.678\n",
      "Source_Olark Chat                    1.2125      0.124      9.764      0.000       0.969       1.456\n",
      "Activity_Email Opened                0.5160      0.103      5.024      0.000       0.315       0.717\n",
      "Activity_Olark Chat Conversation    -0.9142      0.183     -4.988      0.000      -1.273      -0.555\n",
      "Activity_SMS Sent                    1.7029      0.104     16.380      0.000       1.499       1.907\n",
      "Spec_No Specialization              -0.8525      0.124     -6.895      0.000      -1.095      -0.610\n",
      "Occupation_Unknown                  -1.2185      0.088    -13.774      0.000      -1.392      -1.045\n",
      "Occupation_Working Professional      2.3759      0.190     12.506      0.000       2.004       2.748\n",
      "====================================================================================================\n"
     ]
    }
   ],
   "source": [
    "# Summary of the new model\n",
    "print(lgm.summary())"
   ]
  },
  {
   "cell_type": "code",
   "execution_count": 112,
   "metadata": {},
   "outputs": [],
   "source": [
    "# Dropping the const variable\n",
    "\n",
    "X_train_5_ = X_train_5.drop(['const'], axis=1)"
   ]
  },
  {
   "cell_type": "code",
   "execution_count": 113,
   "metadata": {},
   "outputs": [
    {
     "data": {
      "text/html": [
       "<div>\n",
       "<style scoped>\n",
       "    .dataframe tbody tr th:only-of-type {\n",
       "        vertical-align: middle;\n",
       "    }\n",
       "\n",
       "    .dataframe tbody tr th {\n",
       "        vertical-align: top;\n",
       "    }\n",
       "\n",
       "    .dataframe thead th {\n",
       "        text-align: right;\n",
       "    }\n",
       "</style>\n",
       "<table border=\"1\" class=\"dataframe\">\n",
       "  <thead>\n",
       "    <tr style=\"text-align: right;\">\n",
       "      <th></th>\n",
       "      <th>Features</th>\n",
       "      <th>VIF</th>\n",
       "    </tr>\n",
       "  </thead>\n",
       "  <tbody>\n",
       "    <tr>\n",
       "      <th>2</th>\n",
       "      <td>Origin_API</td>\n",
       "      <td>5.28</td>\n",
       "    </tr>\n",
       "    <tr>\n",
       "      <th>8</th>\n",
       "      <td>Spec_No Specialization</td>\n",
       "      <td>4.04</td>\n",
       "    </tr>\n",
       "    <tr>\n",
       "      <th>3</th>\n",
       "      <td>Origin_Landing Page Submission</td>\n",
       "      <td>3.05</td>\n",
       "    </tr>\n",
       "    <tr>\n",
       "      <th>5</th>\n",
       "      <td>Activity_Email Opened</td>\n",
       "      <td>2.51</td>\n",
       "    </tr>\n",
       "    <tr>\n",
       "      <th>4</th>\n",
       "      <td>Source_Olark Chat</td>\n",
       "      <td>2.29</td>\n",
       "    </tr>\n",
       "    <tr>\n",
       "      <th>7</th>\n",
       "      <td>Activity_SMS Sent</td>\n",
       "      <td>2.10</td>\n",
       "    </tr>\n",
       "    <tr>\n",
       "      <th>6</th>\n",
       "      <td>Activity_Olark Chat Conversation</td>\n",
       "      <td>1.79</td>\n",
       "    </tr>\n",
       "    <tr>\n",
       "      <th>9</th>\n",
       "      <td>Occupation_Unknown</td>\n",
       "      <td>1.62</td>\n",
       "    </tr>\n",
       "    <tr>\n",
       "      <th>1</th>\n",
       "      <td>Total Time Spent on Website</td>\n",
       "      <td>1.28</td>\n",
       "    </tr>\n",
       "    <tr>\n",
       "      <th>0</th>\n",
       "      <td>Do Not Email</td>\n",
       "      <td>1.21</td>\n",
       "    </tr>\n",
       "    <tr>\n",
       "      <th>10</th>\n",
       "      <td>Occupation_Working Professional</td>\n",
       "      <td>1.14</td>\n",
       "    </tr>\n",
       "  </tbody>\n",
       "</table>\n",
       "</div>"
      ],
      "text/plain": [
       "                            Features   VIF\n",
       "2                         Origin_API  5.28\n",
       "8             Spec_No Specialization  4.04\n",
       "3     Origin_Landing Page Submission  3.05\n",
       "5              Activity_Email Opened  2.51\n",
       "4                  Source_Olark Chat  2.29\n",
       "7                  Activity_SMS Sent  2.10\n",
       "6   Activity_Olark Chat Conversation  1.79\n",
       "9                 Occupation_Unknown  1.62\n",
       "1        Total Time Spent on Website  1.28\n",
       "0                       Do Not Email  1.21\n",
       "10   Occupation_Working Professional  1.14"
      ]
     },
     "execution_count": 113,
     "metadata": {},
     "output_type": "execute_result"
    }
   ],
   "source": [
    "# Calculating the VIFs for the new model\n",
    "\n",
    "vif = pd.DataFrame()\n",
    "X = X_train_5_\n",
    "vif['Features'] = X.columns\n",
    "vif['VIF'] = [variance_inflation_factor(X.values, i) for i in range(X.shape[1])]\n",
    "vif['VIF'] = round(vif['VIF'], 2)\n",
    "vif = vif.sort_values(by = \"VIF\", ascending = False)\n",
    "vif"
   ]
  },
  {
   "cell_type": "raw",
   "metadata": {},
   "source": [
    "Lets drop 'Origin_API' next on account of high VIF"
   ]
  },
  {
   "cell_type": "markdown",
   "metadata": {},
   "source": [
    "#### Model 6"
   ]
  },
  {
   "cell_type": "code",
   "execution_count": 114,
   "metadata": {},
   "outputs": [],
   "source": [
    "# Rebuilding the model without 'Origin_API'\n",
    "\n",
    "X_train_6 = X_train_5.drop(['const','Origin_API'], axis=1)"
   ]
  },
  {
   "cell_type": "code",
   "execution_count": 115,
   "metadata": {},
   "outputs": [],
   "source": [
    "# Adding a constant variable\n",
    "X_train_6 = sm.add_constant(X_train_6)"
   ]
  },
  {
   "cell_type": "code",
   "execution_count": 116,
   "metadata": {},
   "outputs": [],
   "source": [
    "# Running the logistic model\n",
    "\n",
    "lgm = sm.GLM(y_train,X_train_6,family = sm.families.Binomial()).fit()"
   ]
  },
  {
   "cell_type": "code",
   "execution_count": 117,
   "metadata": {},
   "outputs": [
    {
     "name": "stdout",
     "output_type": "stream",
     "text": [
      "                 Generalized Linear Model Regression Results                  \n",
      "==============================================================================\n",
      "Dep. Variable:              Converted   No. Observations:                 6351\n",
      "Model:                            GLM   Df Residuals:                     6340\n",
      "Model Family:                Binomial   Df Model:                           10\n",
      "Link Function:                  logit   Scale:                          1.0000\n",
      "Method:                          IRLS   Log-Likelihood:                -2786.8\n",
      "Date:                Mon, 26 Oct 2020   Deviance:                       5573.5\n",
      "Time:                        23:36:52   Pearson chi2:                 5.93e+03\n",
      "No. Iterations:                     6                                         \n",
      "Covariance Type:            nonrobust                                         \n",
      "====================================================================================================\n",
      "                                       coef    std err          z      P>|z|      [0.025      0.975]\n",
      "----------------------------------------------------------------------------------------------------\n",
      "const                                0.3199      0.128      2.506      0.012       0.070       0.570\n",
      "Do Not Email                        -1.2623      0.166     -7.605      0.000      -1.588      -0.937\n",
      "Total Time Spent on Website          0.8939      0.038     23.801      0.000       0.820       0.968\n",
      "Origin_Landing Page Submission      -1.8930      0.114    -16.565      0.000      -2.117      -1.669\n",
      "Source_Olark Chat                    0.3538      0.110      3.203      0.001       0.137       0.570\n",
      "Activity_Email Opened                0.6283      0.098      6.399      0.000       0.436       0.821\n",
      "Activity_Olark Chat Conversation    -0.9875      0.181     -5.466      0.000      -1.342      -0.633\n",
      "Activity_SMS Sent                    1.8478      0.100     18.510      0.000       1.652       2.043\n",
      "Spec_No Specialization              -1.1953      0.115    -10.393      0.000      -1.421      -0.970\n",
      "Occupation_Unknown                  -1.3795      0.087    -15.918      0.000      -1.549      -1.210\n",
      "Occupation_Working Professional      2.3786      0.186     12.812      0.000       2.015       2.743\n",
      "====================================================================================================\n"
     ]
    }
   ],
   "source": [
    "# Summary of the new model\n",
    "print(lgm.summary())"
   ]
  },
  {
   "cell_type": "code",
   "execution_count": 118,
   "metadata": {},
   "outputs": [],
   "source": [
    "# Dropping the const variable\n",
    "\n",
    "X_train_6_ = X_train_6.drop(['const'], axis=1)"
   ]
  },
  {
   "cell_type": "code",
   "execution_count": 119,
   "metadata": {},
   "outputs": [
    {
     "data": {
      "text/html": [
       "<div>\n",
       "<style scoped>\n",
       "    .dataframe tbody tr th:only-of-type {\n",
       "        vertical-align: middle;\n",
       "    }\n",
       "\n",
       "    .dataframe tbody tr th {\n",
       "        vertical-align: top;\n",
       "    }\n",
       "\n",
       "    .dataframe thead th {\n",
       "        text-align: right;\n",
       "    }\n",
       "</style>\n",
       "<table border=\"1\" class=\"dataframe\">\n",
       "  <thead>\n",
       "    <tr style=\"text-align: right;\">\n",
       "      <th></th>\n",
       "      <th>Features</th>\n",
       "      <th>VIF</th>\n",
       "    </tr>\n",
       "  </thead>\n",
       "  <tbody>\n",
       "    <tr>\n",
       "      <th>2</th>\n",
       "      <td>Origin_Landing Page Submission</td>\n",
       "      <td>2.65</td>\n",
       "    </tr>\n",
       "    <tr>\n",
       "      <th>7</th>\n",
       "      <td>Spec_No Specialization</td>\n",
       "      <td>2.61</td>\n",
       "    </tr>\n",
       "    <tr>\n",
       "      <th>4</th>\n",
       "      <td>Activity_Email Opened</td>\n",
       "      <td>2.21</td>\n",
       "    </tr>\n",
       "    <tr>\n",
       "      <th>3</th>\n",
       "      <td>Source_Olark Chat</td>\n",
       "      <td>2.02</td>\n",
       "    </tr>\n",
       "    <tr>\n",
       "      <th>6</th>\n",
       "      <td>Activity_SMS Sent</td>\n",
       "      <td>1.95</td>\n",
       "    </tr>\n",
       "    <tr>\n",
       "      <th>5</th>\n",
       "      <td>Activity_Olark Chat Conversation</td>\n",
       "      <td>1.71</td>\n",
       "    </tr>\n",
       "    <tr>\n",
       "      <th>8</th>\n",
       "      <td>Occupation_Unknown</td>\n",
       "      <td>1.60</td>\n",
       "    </tr>\n",
       "    <tr>\n",
       "      <th>1</th>\n",
       "      <td>Total Time Spent on Website</td>\n",
       "      <td>1.20</td>\n",
       "    </tr>\n",
       "    <tr>\n",
       "      <th>0</th>\n",
       "      <td>Do Not Email</td>\n",
       "      <td>1.19</td>\n",
       "    </tr>\n",
       "    <tr>\n",
       "      <th>9</th>\n",
       "      <td>Occupation_Working Professional</td>\n",
       "      <td>1.13</td>\n",
       "    </tr>\n",
       "  </tbody>\n",
       "</table>\n",
       "</div>"
      ],
      "text/plain": [
       "                           Features   VIF\n",
       "2    Origin_Landing Page Submission  2.65\n",
       "7            Spec_No Specialization  2.61\n",
       "4             Activity_Email Opened  2.21\n",
       "3                 Source_Olark Chat  2.02\n",
       "6                 Activity_SMS Sent  1.95\n",
       "5  Activity_Olark Chat Conversation  1.71\n",
       "8                Occupation_Unknown  1.60\n",
       "1       Total Time Spent on Website  1.20\n",
       "0                      Do Not Email  1.19\n",
       "9   Occupation_Working Professional  1.13"
      ]
     },
     "execution_count": 119,
     "metadata": {},
     "output_type": "execute_result"
    }
   ],
   "source": [
    "# Calculating the VIFs for the new model\n",
    "\n",
    "vif = pd.DataFrame()\n",
    "X = X_train_6_\n",
    "vif['Features'] = X.columns\n",
    "vif['VIF'] = [variance_inflation_factor(X.values, i) for i in range(X.shape[1])]\n",
    "vif['VIF'] = round(vif['VIF'], 2)\n",
    "vif = vif.sort_values(by = \"VIF\", ascending = False)\n",
    "vif"
   ]
  },
  {
   "cell_type": "raw",
   "metadata": {},
   "source": [
    "Model 6 is best model achieved, having all the features statistically significant, with no multi-collinearity among them."
   ]
  },
  {
   "cell_type": "code",
   "execution_count": 120,
   "metadata": {},
   "outputs": [
    {
     "data": {
      "text/plain": [
       "array(['Do Not Email', 'Total Time Spent on Website',\n",
       "       'Origin_Landing Page Submission', 'Source_Olark Chat',\n",
       "       'Activity_Email Opened', 'Activity_Olark Chat Conversation',\n",
       "       'Activity_SMS Sent', 'Spec_No Specialization',\n",
       "       'Occupation_Unknown', 'Occupation_Working Professional'],\n",
       "      dtype=object)"
      ]
     },
     "execution_count": 120,
     "metadata": {},
     "output_type": "execute_result"
    }
   ],
   "source": [
    "# Final Features\n",
    "\n",
    "Final_cols = X_train_6.columns.values\n",
    "Final_col = np.delete(Final_cols,0)   # Removing the 'const' variable for future use\n",
    "Final_col"
   ]
  },
  {
   "cell_type": "markdown",
   "metadata": {},
   "source": [
    "### Prediction"
   ]
  },
  {
   "cell_type": "code",
   "execution_count": 121,
   "metadata": {},
   "outputs": [],
   "source": [
    "lgm = sm.GLM(y_train,X_train_6,family = sm.families.Binomial()).fit()  #as obtained previously\n",
    "y_train_pred = lgm.predict(X_train_6)"
   ]
  },
  {
   "cell_type": "code",
   "execution_count": 122,
   "metadata": {},
   "outputs": [
    {
     "data": {
      "text/html": [
       "<div>\n",
       "<style scoped>\n",
       "    .dataframe tbody tr th:only-of-type {\n",
       "        vertical-align: middle;\n",
       "    }\n",
       "\n",
       "    .dataframe tbody tr th {\n",
       "        vertical-align: top;\n",
       "    }\n",
       "\n",
       "    .dataframe thead th {\n",
       "        text-align: right;\n",
       "    }\n",
       "</style>\n",
       "<table border=\"1\" class=\"dataframe\">\n",
       "  <thead>\n",
       "    <tr style=\"text-align: right;\">\n",
       "      <th></th>\n",
       "      <th>Converted</th>\n",
       "      <th>Conv_Prob</th>\n",
       "      <th>LeadID</th>\n",
       "    </tr>\n",
       "  </thead>\n",
       "  <tbody>\n",
       "    <tr>\n",
       "      <th>3009</th>\n",
       "      <td>0</td>\n",
       "      <td>0.077178</td>\n",
       "      <td>3009</td>\n",
       "    </tr>\n",
       "    <tr>\n",
       "      <th>1012</th>\n",
       "      <td>0</td>\n",
       "      <td>0.105151</td>\n",
       "      <td>1012</td>\n",
       "    </tr>\n",
       "    <tr>\n",
       "      <th>9226</th>\n",
       "      <td>0</td>\n",
       "      <td>0.629943</td>\n",
       "      <td>9226</td>\n",
       "    </tr>\n",
       "    <tr>\n",
       "      <th>4750</th>\n",
       "      <td>1</td>\n",
       "      <td>0.578273</td>\n",
       "      <td>4750</td>\n",
       "    </tr>\n",
       "    <tr>\n",
       "      <th>7987</th>\n",
       "      <td>1</td>\n",
       "      <td>0.883141</td>\n",
       "      <td>7987</td>\n",
       "    </tr>\n",
       "  </tbody>\n",
       "</table>\n",
       "</div>"
      ],
      "text/plain": [
       "     Converted  Conv_Prob  LeadID\n",
       "3009         0   0.077178    3009\n",
       "1012         0   0.105151    1012\n",
       "9226         0   0.629943    9226\n",
       "4750         1   0.578273    4750\n",
       "7987         1   0.883141    7987"
      ]
     },
     "execution_count": 122,
     "metadata": {},
     "output_type": "execute_result"
    }
   ],
   "source": [
    "y_train_pred_final = pd.DataFrame({'Converted':y_train.values, 'Conv_Prob':y_train_pred})\n",
    "y_train_pred_final['LeadID'] = y_train.index\n",
    "y_train_pred_final.head()"
   ]
  },
  {
   "cell_type": "code",
   "execution_count": 123,
   "metadata": {},
   "outputs": [
    {
     "data": {
      "text/html": [
       "<div>\n",
       "<style scoped>\n",
       "    .dataframe tbody tr th:only-of-type {\n",
       "        vertical-align: middle;\n",
       "    }\n",
       "\n",
       "    .dataframe tbody tr th {\n",
       "        vertical-align: top;\n",
       "    }\n",
       "\n",
       "    .dataframe thead th {\n",
       "        text-align: right;\n",
       "    }\n",
       "</style>\n",
       "<table border=\"1\" class=\"dataframe\">\n",
       "  <thead>\n",
       "    <tr style=\"text-align: right;\">\n",
       "      <th></th>\n",
       "      <th>Converted</th>\n",
       "      <th>Conv_Prob</th>\n",
       "      <th>LeadID</th>\n",
       "      <th>Lead_Pred</th>\n",
       "    </tr>\n",
       "  </thead>\n",
       "  <tbody>\n",
       "    <tr>\n",
       "      <th>3009</th>\n",
       "      <td>0</td>\n",
       "      <td>0.077178</td>\n",
       "      <td>3009</td>\n",
       "      <td>0</td>\n",
       "    </tr>\n",
       "    <tr>\n",
       "      <th>1012</th>\n",
       "      <td>0</td>\n",
       "      <td>0.105151</td>\n",
       "      <td>1012</td>\n",
       "      <td>0</td>\n",
       "    </tr>\n",
       "    <tr>\n",
       "      <th>9226</th>\n",
       "      <td>0</td>\n",
       "      <td>0.629943</td>\n",
       "      <td>9226</td>\n",
       "      <td>1</td>\n",
       "    </tr>\n",
       "    <tr>\n",
       "      <th>4750</th>\n",
       "      <td>1</td>\n",
       "      <td>0.578273</td>\n",
       "      <td>4750</td>\n",
       "      <td>1</td>\n",
       "    </tr>\n",
       "    <tr>\n",
       "      <th>7987</th>\n",
       "      <td>1</td>\n",
       "      <td>0.883141</td>\n",
       "      <td>7987</td>\n",
       "      <td>1</td>\n",
       "    </tr>\n",
       "  </tbody>\n",
       "</table>\n",
       "</div>"
      ],
      "text/plain": [
       "     Converted  Conv_Prob  LeadID  Lead_Pred\n",
       "3009         0   0.077178    3009          0\n",
       "1012         0   0.105151    1012          0\n",
       "9226         0   0.629943    9226          1\n",
       "4750         1   0.578273    4750          1\n",
       "7987         1   0.883141    7987          1"
      ]
     },
     "execution_count": 123,
     "metadata": {},
     "output_type": "execute_result"
    }
   ],
   "source": [
    "# Creating new column 'Lead_Pred' with 1 if Conv_Prob > 0.5 else 0\n",
    "\n",
    "y_train_pred_final['Lead_Pred'] = y_train_pred_final['Conv_Prob'].map(lambda x: 1 if x > 0.5 else 0)\n",
    "y_train_pred_final.head()"
   ]
  },
  {
   "cell_type": "markdown",
   "metadata": {},
   "source": [
    "#### Confusion Matrix for Train Set"
   ]
  },
  {
   "cell_type": "code",
   "execution_count": 124,
   "metadata": {},
   "outputs": [
    {
     "name": "stdout",
     "output_type": "stream",
     "text": [
      "[[3356  549]\n",
      " [ 748 1698]]\n"
     ]
    }
   ],
   "source": [
    "confusion = metrics.confusion_matrix(y_train_pred_final['Converted'], y_train_pred_final['Lead_Pred'])\n",
    "print(confusion)"
   ]
  },
  {
   "cell_type": "markdown",
   "metadata": {},
   "source": [
    "#### Accuracy for Train Model"
   ]
  },
  {
   "cell_type": "code",
   "execution_count": 125,
   "metadata": {},
   "outputs": [
    {
     "name": "stdout",
     "output_type": "stream",
     "text": [
      "Accuracy on Train Data :  79.58 %\n"
     ]
    }
   ],
   "source": [
    "accuracy = metrics.accuracy_score(y_train_pred_final['Converted'], y_train_pred_final['Lead_Pred'])\n",
    "print('Accuracy on Train Data : ', round(100*accuracy,2),'%')"
   ]
  },
  {
   "cell_type": "markdown",
   "metadata": {},
   "source": [
    "#### Metrics beyond simple accuracy"
   ]
  },
  {
   "cell_type": "code",
   "execution_count": 126,
   "metadata": {},
   "outputs": [
    {
     "name": "stdout",
     "output_type": "stream",
     "text": [
      "Sensitivity :  69.42 %\n",
      "Specificity :  85.94 %\n",
      "False Positive Rate :  14.06 %\n",
      "Positive Predictive Power :  75.57 %\n",
      "Negative Predictive Power :  81.77 %\n"
     ]
    }
   ],
   "source": [
    "TP = confusion[1,1] # true positive \n",
    "TN = confusion[0,0] # true negatives\n",
    "FP = confusion[0,1] # false positives\n",
    "FN = confusion[1,0] # false negatives\n",
    "sensitivity = TP/(FN + TP)\n",
    "specificity = TN/(FP + TN)\n",
    "falsepositiverate = FP/(FP + TN)\n",
    "positivepredictivevalue = TP/(TP +FP )\n",
    "negativepredictivevalue = TN/(TN + FN)\n",
    "print('Sensitivity : ', round(100*sensitivity,2),'%')\n",
    "print('Specificity : ',  round(100*specificity,2),'%')\n",
    "print('False Positive Rate : ',  round(100*falsepositiverate,2),'%')\n",
    "print('Positive Predictive Power : ',  round(100*positivepredictivevalue,2),'%')\n",
    "print('Negative Predictive Power : ',  round(100*negativepredictivevalue,2),'%')"
   ]
  },
  {
   "cell_type": "markdown",
   "metadata": {},
   "source": [
    "#### Plotting ROC Curve"
   ]
  },
  {
   "cell_type": "code",
   "execution_count": 127,
   "metadata": {},
   "outputs": [],
   "source": [
    "def draw_roc( actual, probs ):\n",
    "    fpr, tpr, thresholds = metrics.roc_curve( actual, probs,\n",
    "                                              drop_intermediate = False )\n",
    "    auc_score = metrics.roc_auc_score( actual, probs )\n",
    "    plt.figure(figsize=(5, 5))\n",
    "    plt.plot( fpr, tpr, label='ROC curve (area = %0.2f)' % auc_score )\n",
    "    plt.plot([0, 1], [0, 1], 'k--')\n",
    "    plt.xlim([0.0, 1.0])\n",
    "    plt.ylim([0.0, 1.05])\n",
    "    plt.xlabel('False Positive Rate or [1 - True Negative Rate]')\n",
    "    plt.ylabel('True Positive Rate')\n",
    "    plt.title('Receiver operating characteristic example')\n",
    "    plt.legend(loc=\"lower right\")\n",
    "    plt.show()\n",
    "\n",
    "    return None"
   ]
  },
  {
   "cell_type": "code",
   "execution_count": 128,
   "metadata": {},
   "outputs": [],
   "source": [
    "fpr, tpr, thresholds = metrics.roc_curve( y_train_pred_final['Converted'], y_train_pred_final['Conv_Prob'], drop_intermediate = False )"
   ]
  },
  {
   "cell_type": "code",
   "execution_count": 129,
   "metadata": {},
   "outputs": [
    {
     "data": {
      "image/png": "[encoded data removed]",
      "text/plain": [
       "<Figure size 360x360 with 1 Axes>"
      ]
     },
     "metadata": {
      "needs_background": "light"
     },
     "output_type": "display_data"
    }
   ],
   "source": [
    "draw_roc(y_train_pred_final['Converted'], y_train_pred_final['Conv_Prob'])"
   ]
  },
  {
   "cell_type": "raw",
   "metadata": {},
   "source": [
    "AUC=0.87"
   ]
  },
  {
   "cell_type": "markdown",
   "metadata": {},
   "source": [
    "#### Finding Optimal Cutoff Point"
   ]
  },
  {
   "cell_type": "code",
   "execution_count": 130,
   "metadata": {},
   "outputs": [
    {
     "data": {
      "text/html": [
       "<div>\n",
       "<style scoped>\n",
       "    .dataframe tbody tr th:only-of-type {\n",
       "        vertical-align: middle;\n",
       "    }\n",
       "\n",
       "    .dataframe tbody tr th {\n",
       "        vertical-align: top;\n",
       "    }\n",
       "\n",
       "    .dataframe thead th {\n",
       "        text-align: right;\n",
       "    }\n",
       "</style>\n",
       "<table border=\"1\" class=\"dataframe\">\n",
       "  <thead>\n",
       "    <tr style=\"text-align: right;\">\n",
       "      <th></th>\n",
       "      <th>Converted</th>\n",
       "      <th>Conv_Prob</th>\n",
       "      <th>LeadID</th>\n",
       "      <th>Lead_Pred</th>\n",
       "      <th>0.0</th>\n",
       "      <th>0.1</th>\n",
       "      <th>0.2</th>\n",
       "      <th>0.3</th>\n",
       "      <th>0.4</th>\n",
       "      <th>0.5</th>\n",
       "      <th>0.6</th>\n",
       "      <th>0.7</th>\n",
       "      <th>0.8</th>\n",
       "      <th>0.9</th>\n",
       "    </tr>\n",
       "  </thead>\n",
       "  <tbody>\n",
       "    <tr>\n",
       "      <th>3009</th>\n",
       "      <td>0</td>\n",
       "      <td>0.077178</td>\n",
       "      <td>3009</td>\n",
       "      <td>0</td>\n",
       "      <td>1</td>\n",
       "      <td>0</td>\n",
       "      <td>0</td>\n",
       "      <td>0</td>\n",
       "      <td>0</td>\n",
       "      <td>0</td>\n",
       "      <td>0</td>\n",
       "      <td>0</td>\n",
       "      <td>0</td>\n",
       "      <td>0</td>\n",
       "    </tr>\n",
       "    <tr>\n",
       "      <th>1012</th>\n",
       "      <td>0</td>\n",
       "      <td>0.105151</td>\n",
       "      <td>1012</td>\n",
       "      <td>0</td>\n",
       "      <td>1</td>\n",
       "      <td>1</td>\n",
       "      <td>0</td>\n",
       "      <td>0</td>\n",
       "      <td>0</td>\n",
       "      <td>0</td>\n",
       "      <td>0</td>\n",
       "      <td>0</td>\n",
       "      <td>0</td>\n",
       "      <td>0</td>\n",
       "    </tr>\n",
       "    <tr>\n",
       "      <th>9226</th>\n",
       "      <td>0</td>\n",
       "      <td>0.629943</td>\n",
       "      <td>9226</td>\n",
       "      <td>1</td>\n",
       "      <td>1</td>\n",
       "      <td>1</td>\n",
       "      <td>1</td>\n",
       "      <td>1</td>\n",
       "      <td>1</td>\n",
       "      <td>1</td>\n",
       "      <td>1</td>\n",
       "      <td>0</td>\n",
       "      <td>0</td>\n",
       "      <td>0</td>\n",
       "    </tr>\n",
       "    <tr>\n",
       "      <th>4750</th>\n",
       "      <td>1</td>\n",
       "      <td>0.578273</td>\n",
       "      <td>4750</td>\n",
       "      <td>1</td>\n",
       "      <td>1</td>\n",
       "      <td>1</td>\n",
       "      <td>1</td>\n",
       "      <td>1</td>\n",
       "      <td>1</td>\n",
       "      <td>1</td>\n",
       "      <td>0</td>\n",
       "      <td>0</td>\n",
       "      <td>0</td>\n",
       "      <td>0</td>\n",
       "    </tr>\n",
       "    <tr>\n",
       "      <th>7987</th>\n",
       "      <td>1</td>\n",
       "      <td>0.883141</td>\n",
       "      <td>7987</td>\n",
       "      <td>1</td>\n",
       "      <td>1</td>\n",
       "      <td>1</td>\n",
       "      <td>1</td>\n",
       "      <td>1</td>\n",
       "      <td>1</td>\n",
       "      <td>1</td>\n",
       "      <td>1</td>\n",
       "      <td>1</td>\n",
       "      <td>1</td>\n",
       "      <td>0</td>\n",
       "    </tr>\n",
       "  </tbody>\n",
       "</table>\n",
       "</div>"
      ],
      "text/plain": [
       "     Converted  Conv_Prob  LeadID  Lead_Pred  0.0  0.1  0.2  0.3  0.4  0.5  \\\n",
       "3009         0   0.077178    3009          0    1    0    0    0    0    0   \n",
       "1012         0   0.105151    1012          0    1    1    0    0    0    0   \n",
       "9226         0   0.629943    9226          1    1    1    1    1    1    1   \n",
       "4750         1   0.578273    4750          1    1    1    1    1    1    1   \n",
       "7987         1   0.883141    7987          1    1    1    1    1    1    1   \n",
       "\n",
       "      0.6  0.7  0.8  0.9  \n",
       "3009    0    0    0    0  \n",
       "1012    0    0    0    0  \n",
       "9226    1    0    0    0  \n",
       "4750    0    0    0    0  \n",
       "7987    1    1    1    0  "
      ]
     },
     "execution_count": 130,
     "metadata": {},
     "output_type": "execute_result"
    }
   ],
   "source": [
    "# Let's create columns with different probability cutoffs \n",
    "numbers = [float(x)/10 for x in range(10)]\n",
    "for i in numbers:\n",
    "    y_train_pred_final[i]= y_train_pred_final['Conv_Prob'].map(lambda x: 1 if x > i else 0)\n",
    "y_train_pred_final.head()"
   ]
  },
  {
   "cell_type": "code",
   "execution_count": 131,
   "metadata": {},
   "outputs": [
    {
     "name": "stdout",
     "output_type": "stream",
     "text": [
      "     prob  accuracy     sensi     speci\n",
      "0.0   0.0  0.385136  1.000000  0.000000\n",
      "0.1   0.1  0.601323  0.981194  0.363380\n",
      "0.2   0.2  0.724610  0.930499  0.595647\n",
      "0.3   0.3  0.764919  0.843827  0.715493\n",
      "0.4   0.4  0.785073  0.771055  0.793854\n",
      "0.5   0.5  0.795780  0.694195  0.859411\n",
      "0.6   0.6  0.768383  0.549877  0.905250\n",
      "0.7   0.7  0.750276  0.438267  0.945711\n",
      "0.8   0.8  0.725398  0.336877  0.968758\n",
      "0.9   0.9  0.689655  0.210548  0.989757\n"
     ]
    }
   ],
   "source": [
    "# Now let's calculate accuracy sensitivity and specificity for various probability cutoffs.\n",
    "cutoff_df = pd.DataFrame( columns = ['prob','accuracy','sensi','speci'])\n",
    "from sklearn.metrics import confusion_matrix\n",
    "\n",
    "# TP = confusion[1,1] # true positive \n",
    "# TN = confusion[0,0] # true negatives\n",
    "# FP = confusion[0,1] # false positives\n",
    "# FN = confusion[1,0] # false negatives\n",
    "\n",
    "num = [0.0,0.1,0.2,0.3,0.4,0.5,0.6,0.7,0.8,0.9]\n",
    "for i in num:\n",
    "    cm1 = metrics.confusion_matrix(y_train_pred_final['Converted'], y_train_pred_final[i] )\n",
    "    total1=sum(sum(cm1))\n",
    "    accuracy = (cm1[0,0]+cm1[1,1])/total1\n",
    "    \n",
    "    speci = cm1[0,0]/(cm1[0,0]+cm1[0,1])\n",
    "    sensi = cm1[1,1]/(cm1[1,0]+cm1[1,1])\n",
    "    cutoff_df.loc[i] =[ i ,accuracy,sensi,speci]\n",
    "print(cutoff_df)"
   ]
  },
  {
   "cell_type": "code",
   "execution_count": 132,
   "metadata": {},
   "outputs": [
    {
     "data": {
      "image/png": "[encoded data removed]",
      "text/plain": [
       "<Figure size 432x288 with 1 Axes>"
      ]
     },
     "metadata": {
      "needs_background": "light"
     },
     "output_type": "display_data"
    }
   ],
   "source": [
    "# Let's plot accuracy sensitivity and specificity for various probabilities.\n",
    "cutoff_df.plot.line(x='prob', y=['accuracy','sensi','speci'])\n",
    "plt.show()"
   ]
  },
  {
   "cell_type": "raw",
   "metadata": {},
   "source": [
    "From the curve above, 0.38 seems to be the optimum cutoff probability."
   ]
  },
  {
   "cell_type": "code",
   "execution_count": 133,
   "metadata": {},
   "outputs": [
    {
     "data": {
      "text/html": [
       "<div>\n",
       "<style scoped>\n",
       "    .dataframe tbody tr th:only-of-type {\n",
       "        vertical-align: middle;\n",
       "    }\n",
       "\n",
       "    .dataframe tbody tr th {\n",
       "        vertical-align: top;\n",
       "    }\n",
       "\n",
       "    .dataframe thead th {\n",
       "        text-align: right;\n",
       "    }\n",
       "</style>\n",
       "<table border=\"1\" class=\"dataframe\">\n",
       "  <thead>\n",
       "    <tr style=\"text-align: right;\">\n",
       "      <th></th>\n",
       "      <th>Converted</th>\n",
       "      <th>Conv_Prob</th>\n",
       "      <th>LeadID</th>\n",
       "      <th>Lead_Pred</th>\n",
       "      <th>0.0</th>\n",
       "      <th>0.1</th>\n",
       "      <th>0.2</th>\n",
       "      <th>0.3</th>\n",
       "      <th>0.4</th>\n",
       "      <th>0.5</th>\n",
       "      <th>0.6</th>\n",
       "      <th>0.7</th>\n",
       "      <th>0.8</th>\n",
       "      <th>0.9</th>\n",
       "      <th>final_predicted</th>\n",
       "    </tr>\n",
       "  </thead>\n",
       "  <tbody>\n",
       "    <tr>\n",
       "      <th>3009</th>\n",
       "      <td>0</td>\n",
       "      <td>0.077178</td>\n",
       "      <td>3009</td>\n",
       "      <td>0</td>\n",
       "      <td>1</td>\n",
       "      <td>0</td>\n",
       "      <td>0</td>\n",
       "      <td>0</td>\n",
       "      <td>0</td>\n",
       "      <td>0</td>\n",
       "      <td>0</td>\n",
       "      <td>0</td>\n",
       "      <td>0</td>\n",
       "      <td>0</td>\n",
       "      <td>0</td>\n",
       "    </tr>\n",
       "    <tr>\n",
       "      <th>1012</th>\n",
       "      <td>0</td>\n",
       "      <td>0.105151</td>\n",
       "      <td>1012</td>\n",
       "      <td>0</td>\n",
       "      <td>1</td>\n",
       "      <td>1</td>\n",
       "      <td>0</td>\n",
       "      <td>0</td>\n",
       "      <td>0</td>\n",
       "      <td>0</td>\n",
       "      <td>0</td>\n",
       "      <td>0</td>\n",
       "      <td>0</td>\n",
       "      <td>0</td>\n",
       "      <td>0</td>\n",
       "    </tr>\n",
       "    <tr>\n",
       "      <th>9226</th>\n",
       "      <td>0</td>\n",
       "      <td>0.629943</td>\n",
       "      <td>9226</td>\n",
       "      <td>1</td>\n",
       "      <td>1</td>\n",
       "      <td>1</td>\n",
       "      <td>1</td>\n",
       "      <td>1</td>\n",
       "      <td>1</td>\n",
       "      <td>1</td>\n",
       "      <td>1</td>\n",
       "      <td>0</td>\n",
       "      <td>0</td>\n",
       "      <td>0</td>\n",
       "      <td>1</td>\n",
       "    </tr>\n",
       "    <tr>\n",
       "      <th>4750</th>\n",
       "      <td>1</td>\n",
       "      <td>0.578273</td>\n",
       "      <td>4750</td>\n",
       "      <td>1</td>\n",
       "      <td>1</td>\n",
       "      <td>1</td>\n",
       "      <td>1</td>\n",
       "      <td>1</td>\n",
       "      <td>1</td>\n",
       "      <td>1</td>\n",
       "      <td>0</td>\n",
       "      <td>0</td>\n",
       "      <td>0</td>\n",
       "      <td>0</td>\n",
       "      <td>1</td>\n",
       "    </tr>\n",
       "    <tr>\n",
       "      <th>7987</th>\n",
       "      <td>1</td>\n",
       "      <td>0.883141</td>\n",
       "      <td>7987</td>\n",
       "      <td>1</td>\n",
       "      <td>1</td>\n",
       "      <td>1</td>\n",
       "      <td>1</td>\n",
       "      <td>1</td>\n",
       "      <td>1</td>\n",
       "      <td>1</td>\n",
       "      <td>1</td>\n",
       "      <td>1</td>\n",
       "      <td>1</td>\n",
       "      <td>0</td>\n",
       "      <td>1</td>\n",
       "    </tr>\n",
       "  </tbody>\n",
       "</table>\n",
       "</div>"
      ],
      "text/plain": [
       "     Converted  Conv_Prob  LeadID  Lead_Pred  0.0  0.1  0.2  0.3  0.4  0.5  \\\n",
       "3009         0   0.077178    3009          0    1    0    0    0    0    0   \n",
       "1012         0   0.105151    1012          0    1    1    0    0    0    0   \n",
       "9226         0   0.629943    9226          1    1    1    1    1    1    1   \n",
       "4750         1   0.578273    4750          1    1    1    1    1    1    1   \n",
       "7987         1   0.883141    7987          1    1    1    1    1    1    1   \n",
       "\n",
       "      0.6  0.7  0.8  0.9  final_predicted  \n",
       "3009    0    0    0    0                0  \n",
       "1012    0    0    0    0                0  \n",
       "9226    1    0    0    0                1  \n",
       "4750    0    0    0    0                1  \n",
       "7987    1    1    1    0                1  "
      ]
     },
     "execution_count": 133,
     "metadata": {},
     "output_type": "execute_result"
    }
   ],
   "source": [
    "y_train_pred_final['final_predicted'] = y_train_pred_final['Conv_Prob'].map( lambda x: 1 if x > 0.38 else 0)\n",
    "\n",
    "y_train_pred_final.head()"
   ]
  },
  {
   "cell_type": "code",
   "execution_count": 134,
   "metadata": {},
   "outputs": [
    {
     "name": "stdout",
     "output_type": "stream",
     "text": [
      "Accuracy on Train set at Optimum Cut Off :  78.3 %\n"
     ]
    }
   ],
   "source": [
    "# Let's check the overall accuracy.\n",
    "accu = metrics.accuracy_score(y_train_pred_final['Converted'], y_train_pred_final['final_predicted'])\n",
    "print('Accuracy on Train set at Optimum Cut Off : ', round(100*accu,2),'%')"
   ]
  },
  {
   "cell_type": "code",
   "execution_count": 135,
   "metadata": {},
   "outputs": [
    {
     "data": {
      "text/plain": [
       "array([[3050,  855],\n",
       "       [ 523, 1923]], dtype=int64)"
      ]
     },
     "execution_count": 135,
     "metadata": {},
     "output_type": "execute_result"
    }
   ],
   "source": [
    "# Confusion Matrix for the train set at the Optimum Cut-Off\n",
    "\n",
    "confusion2 = metrics.confusion_matrix(y_train_pred_final['Converted'], y_train_pred_final['final_predicted'])\n",
    "confusion2"
   ]
  },
  {
   "cell_type": "code",
   "execution_count": 136,
   "metadata": {},
   "outputs": [
    {
     "name": "stdout",
     "output_type": "stream",
     "text": [
      "Sensitivity :  78.62 %\n",
      "Specificity :  78.1 %\n",
      "False Positive Rate :  21.9 %\n",
      "Positive Predictive Power :  69.22 %\n",
      "Negative Predictive Power :  85.36 %\n"
     ]
    }
   ],
   "source": [
    "TP = confusion2[1,1] # true positive \n",
    "TN = confusion2[0,0] # true negatives\n",
    "FP = confusion2[0,1] # false positives\n",
    "FN = confusion2[1,0] # false negatives\n",
    "sensitivity = TP/(FN + TP)\n",
    "specificity = TN/(FP + TN)\n",
    "falsepositiverate = FP/(FP + TN)\n",
    "positivepredictivevalue = TP/(TP +FP )\n",
    "negativepredictivevalue = TN/(TN + FN)\n",
    "print('Sensitivity : ', round(100*sensitivity,2),'%')\n",
    "print('Specificity : ',  round(100*specificity,2),'%')\n",
    "print('False Positive Rate : ',  round(100*falsepositiverate,2),'%')\n",
    "print('Positive Predictive Power : ',  round(100*positivepredictivevalue,2),'%')\n",
    "print('Negative Predictive Power : ',  round(100*negativepredictivevalue,2),'%')"
   ]
  },
  {
   "cell_type": "code",
   "execution_count": 137,
   "metadata": {},
   "outputs": [
    {
     "data": {
      "image/png": "[encoded data removed]",
      "text/plain": [
       "<Figure size 360x360 with 1 Axes>"
      ]
     },
     "metadata": {
      "needs_background": "light"
     },
     "output_type": "display_data"
    }
   ],
   "source": [
    "# ROC curve for cut off probability of 0.38\n",
    "draw_roc(y_train_pred_final['Converted'], y_train_pred_final['final_predicted'])"
   ]
  },
  {
   "cell_type": "raw",
   "metadata": {},
   "source": [
    "AUC=0.78"
   ]
  },
  {
   "cell_type": "markdown",
   "metadata": {},
   "source": [
    "#### Precision and Recall"
   ]
  },
  {
   "cell_type": "code",
   "execution_count": 138,
   "metadata": {},
   "outputs": [
    {
     "data": {
      "text/plain": [
       "0.7556742323097463"
      ]
     },
     "execution_count": 138,
     "metadata": {},
     "output_type": "execute_result"
    }
   ],
   "source": [
    "precision_score(y_train_pred_final['Converted'], y_train_pred_final['Lead_Pred'])"
   ]
  },
  {
   "cell_type": "code",
   "execution_count": 139,
   "metadata": {},
   "outputs": [
    {
     "data": {
      "text/plain": [
       "0.6941946034341783"
      ]
     },
     "execution_count": 139,
     "metadata": {},
     "output_type": "execute_result"
    }
   ],
   "source": [
    "recall_score(y_train_pred_final['Converted'], y_train_pred_final['Lead_Pred'])"
   ]
  },
  {
   "cell_type": "markdown",
   "metadata": {},
   "source": [
    "#### Precision and Recall tradeoff"
   ]
  },
  {
   "cell_type": "code",
   "execution_count": 140,
   "metadata": {},
   "outputs": [
    {
     "data": {
      "image/png": "[encoded data removed]",
      "text/plain": [
       "<Figure size 432x288 with 1 Axes>"
      ]
     },
     "metadata": {
      "needs_background": "light"
     },
     "output_type": "display_data"
    }
   ],
   "source": [
    "p, r, thresholds = precision_recall_curve(y_train_pred_final['Converted'], y_train_pred_final['Conv_Prob'])\n",
    "plt.plot(thresholds, p[:-1], \"g-\")\n",
    "plt.plot(thresholds, r[:-1], \"r-\")\n",
    "plt.show()"
   ]
  },
  {
   "cell_type": "raw",
   "metadata": {},
   "source": [
    "The cut-off point from the precision-recall curve is  about 0.4."
   ]
  },
  {
   "cell_type": "markdown",
   "metadata": {},
   "source": [
    "### Predictions on the Test Data"
   ]
  },
  {
   "cell_type": "code",
   "execution_count": 141,
   "metadata": {},
   "outputs": [],
   "source": [
    "# Fit and transform operations are done on the training data but only transform operation will be done on the test data\n",
    "\n",
    "X_test[['TotalVisits','Total Time Spent on Website','Page Views Per Visit']] = scaler.transform(X_test[['TotalVisits','Total Time Spent on Website','Page Views Per Visit']])"
   ]
  },
  {
   "cell_type": "code",
   "execution_count": 142,
   "metadata": {},
   "outputs": [],
   "source": [
    "# Aligning X_test with the final features\n",
    "\n",
    "X_test = X_test[Final_col]"
   ]
  },
  {
   "cell_type": "code",
   "execution_count": 143,
   "metadata": {},
   "outputs": [],
   "source": [
    "X_test_sm = sm.add_constant(X_test)"
   ]
  },
  {
   "cell_type": "code",
   "execution_count": 144,
   "metadata": {},
   "outputs": [],
   "source": [
    "y_test_pred = lgm.predict(X_test_sm)"
   ]
  },
  {
   "cell_type": "code",
   "execution_count": 145,
   "metadata": {},
   "outputs": [
    {
     "data": {
      "text/html": [
       "<div>\n",
       "<style scoped>\n",
       "    .dataframe tbody tr th:only-of-type {\n",
       "        vertical-align: middle;\n",
       "    }\n",
       "\n",
       "    .dataframe tbody tr th {\n",
       "        vertical-align: top;\n",
       "    }\n",
       "\n",
       "    .dataframe thead th {\n",
       "        text-align: right;\n",
       "    }\n",
       "</style>\n",
       "<table border=\"1\" class=\"dataframe\">\n",
       "  <thead>\n",
       "    <tr style=\"text-align: right;\">\n",
       "      <th></th>\n",
       "      <th>Converted</th>\n",
       "      <th>Conv_Prob</th>\n",
       "      <th>LeadID</th>\n",
       "    </tr>\n",
       "  </thead>\n",
       "  <tbody>\n",
       "    <tr>\n",
       "      <th>3271</th>\n",
       "      <td>0</td>\n",
       "      <td>0.102587</td>\n",
       "      <td>3271</td>\n",
       "    </tr>\n",
       "    <tr>\n",
       "      <th>1490</th>\n",
       "      <td>1</td>\n",
       "      <td>0.955541</td>\n",
       "      <td>1490</td>\n",
       "    </tr>\n",
       "    <tr>\n",
       "      <th>7936</th>\n",
       "      <td>0</td>\n",
       "      <td>0.090958</td>\n",
       "      <td>7936</td>\n",
       "    </tr>\n",
       "    <tr>\n",
       "      <th>4216</th>\n",
       "      <td>1</td>\n",
       "      <td>0.538420</td>\n",
       "      <td>4216</td>\n",
       "    </tr>\n",
       "    <tr>\n",
       "      <th>3830</th>\n",
       "      <td>0</td>\n",
       "      <td>0.054411</td>\n",
       "      <td>3830</td>\n",
       "    </tr>\n",
       "  </tbody>\n",
       "</table>\n",
       "</div>"
      ],
      "text/plain": [
       "     Converted  Conv_Prob  LeadID\n",
       "3271         0   0.102587    3271\n",
       "1490         1   0.955541    1490\n",
       "7936         0   0.090958    7936\n",
       "4216         1   0.538420    4216\n",
       "3830         0   0.054411    3830"
      ]
     },
     "execution_count": 145,
     "metadata": {},
     "output_type": "execute_result"
    }
   ],
   "source": [
    "y_test_pred_final = pd.DataFrame({'Converted':y_test, 'Conv_Prob':y_test_pred, 'LeadID':y_test.index})\n",
    "y_test_pred_final.head()"
   ]
  },
  {
   "cell_type": "code",
   "execution_count": 146,
   "metadata": {},
   "outputs": [],
   "source": [
    "# Making predictions with optimal cut off = 0.38\n",
    "\n",
    "y_test_pred_final['final_predicted'] = y_test_pred_final['Conv_Prob'].map(lambda x: 1 if x > 0.38 else 0)"
   ]
  },
  {
   "cell_type": "code",
   "execution_count": 147,
   "metadata": {},
   "outputs": [
    {
     "data": {
      "text/html": [
       "<div>\n",
       "<style scoped>\n",
       "    .dataframe tbody tr th:only-of-type {\n",
       "        vertical-align: middle;\n",
       "    }\n",
       "\n",
       "    .dataframe tbody tr th {\n",
       "        vertical-align: top;\n",
       "    }\n",
       "\n",
       "    .dataframe thead th {\n",
       "        text-align: right;\n",
       "    }\n",
       "</style>\n",
       "<table border=\"1\" class=\"dataframe\">\n",
       "  <thead>\n",
       "    <tr style=\"text-align: right;\">\n",
       "      <th></th>\n",
       "      <th>Converted</th>\n",
       "      <th>Conv_Prob</th>\n",
       "      <th>LeadID</th>\n",
       "      <th>final_predicted</th>\n",
       "    </tr>\n",
       "  </thead>\n",
       "  <tbody>\n",
       "    <tr>\n",
       "      <th>3271</th>\n",
       "      <td>0</td>\n",
       "      <td>0.102587</td>\n",
       "      <td>3271</td>\n",
       "      <td>0</td>\n",
       "    </tr>\n",
       "    <tr>\n",
       "      <th>1490</th>\n",
       "      <td>1</td>\n",
       "      <td>0.955541</td>\n",
       "      <td>1490</td>\n",
       "      <td>1</td>\n",
       "    </tr>\n",
       "    <tr>\n",
       "      <th>7936</th>\n",
       "      <td>0</td>\n",
       "      <td>0.090958</td>\n",
       "      <td>7936</td>\n",
       "      <td>0</td>\n",
       "    </tr>\n",
       "    <tr>\n",
       "      <th>4216</th>\n",
       "      <td>1</td>\n",
       "      <td>0.538420</td>\n",
       "      <td>4216</td>\n",
       "      <td>1</td>\n",
       "    </tr>\n",
       "    <tr>\n",
       "      <th>3830</th>\n",
       "      <td>0</td>\n",
       "      <td>0.054411</td>\n",
       "      <td>3830</td>\n",
       "      <td>0</td>\n",
       "    </tr>\n",
       "  </tbody>\n",
       "</table>\n",
       "</div>"
      ],
      "text/plain": [
       "     Converted  Conv_Prob  LeadID  final_predicted\n",
       "3271         0   0.102587    3271                0\n",
       "1490         1   0.955541    1490                1\n",
       "7936         0   0.090958    7936                0\n",
       "4216         1   0.538420    4216                1\n",
       "3830         0   0.054411    3830                0"
      ]
     },
     "execution_count": 147,
     "metadata": {},
     "output_type": "execute_result"
    }
   ],
   "source": [
    "y_test_pred_final.head()"
   ]
  },
  {
   "cell_type": "markdown",
   "metadata": {},
   "source": [
    "#### Accuracy of the test data"
   ]
  },
  {
   "cell_type": "code",
   "execution_count": 148,
   "metadata": {},
   "outputs": [
    {
     "name": "stdout",
     "output_type": "stream",
     "text": [
      "Accuracy on Test Data :  78.33 %\n"
     ]
    }
   ],
   "source": [
    "accuracy = metrics.accuracy_score(y_test_pred_final['Converted'], y_test_pred_final['final_predicted'])\n",
    "print('Accuracy on Test Data : ', round(100*accuracy,2),'%')"
   ]
  },
  {
   "cell_type": "markdown",
   "metadata": {},
   "source": [
    "#### Confusion Matrix for Test Data"
   ]
  },
  {
   "cell_type": "code",
   "execution_count": 149,
   "metadata": {},
   "outputs": [
    {
     "name": "stdout",
     "output_type": "stream",
     "text": [
      "[[1365  369]\n",
      " [ 221  768]]\n"
     ]
    }
   ],
   "source": [
    "confusion3 = metrics.confusion_matrix(y_test_pred_final['Converted'], y_test_pred_final['final_predicted'])\n",
    "print(confusion3)"
   ]
  },
  {
   "cell_type": "code",
   "execution_count": 150,
   "metadata": {},
   "outputs": [
    {
     "name": "stdout",
     "output_type": "stream",
     "text": [
      "Sensitivity :  77.65 %\n",
      "Specificity :  78.72 %\n",
      "False Positive Rate :  21.28 %\n",
      "Positive Predictive Power :  67.55 %\n",
      "Negative Predictive Power :  86.07 %\n"
     ]
    }
   ],
   "source": [
    "TP = confusion3[1,1] # true positive \n",
    "TN = confusion3[0,0] # true negatives\n",
    "FP = confusion3[0,1] # false positives\n",
    "FN = confusion3[1,0] # false negatives\n",
    "sensitivity = TP/(FN + TP)\n",
    "specificity = TN/(FP + TN)\n",
    "falsepositiverate = FP/(FP + TN)\n",
    "positivepredictivevalue = TP/(TP +FP )\n",
    "negativepredictivevalue = TN/(TN + FN)\n",
    "print('Sensitivity : ', round(100*sensitivity,2),'%')\n",
    "print('Specificity : ',  round(100*specificity,2),'%')\n",
    "print('False Positive Rate : ',  round(100*falsepositiverate,2),'%')\n",
    "print('Positive Predictive Power : ',  round(100*positivepredictivevalue,2),'%')\n",
    "print('Negative Predictive Power : ',  round(100*negativepredictivevalue,2),'%')"
   ]
  },
  {
   "cell_type": "markdown",
   "metadata": {},
   "source": [
    "#### ROC Curve"
   ]
  },
  {
   "cell_type": "code",
   "execution_count": 151,
   "metadata": {},
   "outputs": [
    {
     "data": {
      "image/png": "[encoded data removed]",
      "text/plain": [
       "<Figure size 360x360 with 1 Axes>"
      ]
     },
     "metadata": {
      "needs_background": "light"
     },
     "output_type": "display_data"
    }
   ],
   "source": [
    "draw_roc(y_test_pred_final['Converted'], y_test_pred_final['final_predicted'])"
   ]
  },
  {
   "cell_type": "raw",
   "metadata": {},
   "source": [
    "AUC=0.78"
   ]
  },
  {
   "cell_type": "markdown",
   "metadata": {},
   "source": [
    "### Lead Scoring"
   ]
  },
  {
   "cell_type": "raw",
   "metadata": {},
   "source": [
    "Lead Scoring is done to generate a score against each lead, for a possiblity of getting successfully converted. Higher the score of a lead. the greater is the chance for its successful conversion. This will minimise the effort of the sales team to identify those leads who are having higher chances for a successful convertion."
   ]
  },
  {
   "cell_type": "code",
   "execution_count": 152,
   "metadata": {},
   "outputs": [
    {
     "data": {
      "text/html": [
       "<div>\n",
       "<style scoped>\n",
       "    .dataframe tbody tr th:only-of-type {\n",
       "        vertical-align: middle;\n",
       "    }\n",
       "\n",
       "    .dataframe tbody tr th {\n",
       "        vertical-align: top;\n",
       "    }\n",
       "\n",
       "    .dataframe thead th {\n",
       "        text-align: right;\n",
       "    }\n",
       "</style>\n",
       "<table border=\"1\" class=\"dataframe\">\n",
       "  <thead>\n",
       "    <tr style=\"text-align: right;\">\n",
       "      <th></th>\n",
       "      <th>index</th>\n",
       "      <th>Conv_Prob</th>\n",
       "    </tr>\n",
       "  </thead>\n",
       "  <tbody>\n",
       "    <tr>\n",
       "      <th>0</th>\n",
       "      <td>3271</td>\n",
       "      <td>0.102587</td>\n",
       "    </tr>\n",
       "    <tr>\n",
       "      <th>1</th>\n",
       "      <td>1490</td>\n",
       "      <td>0.955541</td>\n",
       "    </tr>\n",
       "    <tr>\n",
       "      <th>2</th>\n",
       "      <td>7936</td>\n",
       "      <td>0.090958</td>\n",
       "    </tr>\n",
       "  </tbody>\n",
       "</table>\n",
       "</div>"
      ],
      "text/plain": [
       "   index  Conv_Prob\n",
       "0   3271   0.102587\n",
       "1   1490   0.955541\n",
       "2   7936   0.090958"
      ]
     },
     "execution_count": 152,
     "metadata": {},
     "output_type": "execute_result"
    }
   ],
   "source": [
    "conversionprob = pd.concat([y_test_pred_final['Conv_Prob'],y_train_pred_final['Conv_Prob']],axis=0)\n",
    "convprob = pd.DataFrame(conversionprob)  #creating a dataframe instead of a pandas series\n",
    "convprob.reset_index(inplace=True)\n",
    "convprob.head(3)"
   ]
  },
  {
   "cell_type": "code",
   "execution_count": 153,
   "metadata": {},
   "outputs": [
    {
     "data": {
      "text/html": [
       "<div>\n",
       "<style scoped>\n",
       "    .dataframe tbody tr th:only-of-type {\n",
       "        vertical-align: middle;\n",
       "    }\n",
       "\n",
       "    .dataframe tbody tr th {\n",
       "        vertical-align: top;\n",
       "    }\n",
       "\n",
       "    .dataframe thead th {\n",
       "        text-align: right;\n",
       "    }\n",
       "</style>\n",
       "<table border=\"1\" class=\"dataframe\">\n",
       "  <thead>\n",
       "    <tr style=\"text-align: right;\">\n",
       "      <th></th>\n",
       "      <th>index</th>\n",
       "      <th>Prospect ID</th>\n",
       "      <th>Lead Number</th>\n",
       "    </tr>\n",
       "  </thead>\n",
       "  <tbody>\n",
       "    <tr>\n",
       "      <th>0</th>\n",
       "      <td>0</td>\n",
       "      <td>7927b2df-8bba-4d29-b9a2-b6e0beafe620</td>\n",
       "      <td>660737</td>\n",
       "    </tr>\n",
       "    <tr>\n",
       "      <th>1</th>\n",
       "      <td>1</td>\n",
       "      <td>2a272436-5132-4136-86fa-dcc88c88f482</td>\n",
       "      <td>660728</td>\n",
       "    </tr>\n",
       "    <tr>\n",
       "      <th>2</th>\n",
       "      <td>2</td>\n",
       "      <td>8cc8c611-a219-4f35-ad23-fdfd2656bd8a</td>\n",
       "      <td>660727</td>\n",
       "    </tr>\n",
       "  </tbody>\n",
       "</table>\n",
       "</div>"
      ],
      "text/plain": [
       "   index                           Prospect ID  Lead Number\n",
       "0      0  7927b2df-8bba-4d29-b9a2-b6e0beafe620       660737\n",
       "1      1  2a272436-5132-4136-86fa-dcc88c88f482       660728\n",
       "2      2  8cc8c611-a219-4f35-ad23-fdfd2656bd8a       660727"
      ]
     },
     "execution_count": 153,
     "metadata": {},
     "output_type": "execute_result"
    }
   ],
   "source": [
    "lead_org.reset_index(inplace=True)\n",
    "lead_org.head(3)"
   ]
  },
  {
   "cell_type": "code",
   "execution_count": 154,
   "metadata": {},
   "outputs": [],
   "source": [
    "leads = pd.merge(lead_org,convprob,on='index',how='outer')\n",
    "leads['Lead Score'] = round(leads['Conv_Prob']*100,2)"
   ]
  },
  {
   "cell_type": "code",
   "execution_count": 155,
   "metadata": {},
   "outputs": [
    {
     "data": {
      "text/html": [
       "<div>\n",
       "<style scoped>\n",
       "    .dataframe tbody tr th:only-of-type {\n",
       "        vertical-align: middle;\n",
       "    }\n",
       "\n",
       "    .dataframe tbody tr th {\n",
       "        vertical-align: top;\n",
       "    }\n",
       "\n",
       "    .dataframe thead th {\n",
       "        text-align: right;\n",
       "    }\n",
       "</style>\n",
       "<table border=\"1\" class=\"dataframe\">\n",
       "  <thead>\n",
       "    <tr style=\"text-align: right;\">\n",
       "      <th></th>\n",
       "      <th>index</th>\n",
       "      <th>Prospect ID</th>\n",
       "      <th>Lead Number</th>\n",
       "      <th>Conv_Prob</th>\n",
       "      <th>Lead Score</th>\n",
       "    </tr>\n",
       "  </thead>\n",
       "  <tbody>\n",
       "    <tr>\n",
       "      <th>5557</th>\n",
       "      <td>5671</td>\n",
       "      <td>623bc6c9-9184-4437-b38f-d374be49d1a3</td>\n",
       "      <td>606508</td>\n",
       "      <td>0.999225</td>\n",
       "      <td>99.92</td>\n",
       "    </tr>\n",
       "    <tr>\n",
       "      <th>2428</th>\n",
       "      <td>2497</td>\n",
       "      <td>e5fb32dd-b3b7-4fbf-972d-c13d2cfc6866</td>\n",
       "      <td>635761</td>\n",
       "      <td>0.998813</td>\n",
       "      <td>99.88</td>\n",
       "    </tr>\n",
       "    <tr>\n",
       "      <th>6953</th>\n",
       "      <td>7094</td>\n",
       "      <td>9ec1cafe-b019-498e-b246-7ab06167d72c</td>\n",
       "      <td>595141</td>\n",
       "      <td>0.998763</td>\n",
       "      <td>99.88</td>\n",
       "    </tr>\n",
       "    <tr>\n",
       "      <th>4919</th>\n",
       "      <td>5026</td>\n",
       "      <td>698a32b4-24a3-4c35-be41-b7e8710f31bc</td>\n",
       "      <td>611589</td>\n",
       "      <td>0.998775</td>\n",
       "      <td>99.88</td>\n",
       "    </tr>\n",
       "    <tr>\n",
       "      <th>7277</th>\n",
       "      <td>7420</td>\n",
       "      <td>2caa32d0-50b7-4d29-b31f-2528b06d7bc8</td>\n",
       "      <td>592625</td>\n",
       "      <td>0.998743</td>\n",
       "      <td>99.87</td>\n",
       "    </tr>\n",
       "    <tr>\n",
       "      <th>7074</th>\n",
       "      <td>7215</td>\n",
       "      <td>618b4f84-d8c9-4644-8c39-0b1d4a515e51</td>\n",
       "      <td>594057</td>\n",
       "      <td>0.998200</td>\n",
       "      <td>99.82</td>\n",
       "    </tr>\n",
       "    <tr>\n",
       "      <th>1237</th>\n",
       "      <td>1290</td>\n",
       "      <td>fefb0c70-497b-46d2-9dc2-095379258fd9</td>\n",
       "      <td>646330</td>\n",
       "      <td>0.998075</td>\n",
       "      <td>99.81</td>\n",
       "    </tr>\n",
       "    <tr>\n",
       "      <th>8765</th>\n",
       "      <td>8928</td>\n",
       "      <td>3de4d942-f83f-407f-a47b-4be6e67e8fbd</td>\n",
       "      <td>581888</td>\n",
       "      <td>0.997737</td>\n",
       "      <td>99.77</td>\n",
       "    </tr>\n",
       "    <tr>\n",
       "      <th>2420</th>\n",
       "      <td>2489</td>\n",
       "      <td>f23d4d1d-f52f-4baa-87a4-d68e175aca16</td>\n",
       "      <td>635810</td>\n",
       "      <td>0.997726</td>\n",
       "      <td>99.77</td>\n",
       "    </tr>\n",
       "    <tr>\n",
       "      <th>7026</th>\n",
       "      <td>7167</td>\n",
       "      <td>bad2625c-31f7-48da-bb7d-812c08673014</td>\n",
       "      <td>594521</td>\n",
       "      <td>0.997682</td>\n",
       "      <td>99.77</td>\n",
       "    </tr>\n",
       "  </tbody>\n",
       "</table>\n",
       "</div>"
      ],
      "text/plain": [
       "      index                           Prospect ID  Lead Number  Conv_Prob  \\\n",
       "5557   5671  623bc6c9-9184-4437-b38f-d374be49d1a3       606508   0.999225   \n",
       "2428   2497  e5fb32dd-b3b7-4fbf-972d-c13d2cfc6866       635761   0.998813   \n",
       "6953   7094  9ec1cafe-b019-498e-b246-7ab06167d72c       595141   0.998763   \n",
       "4919   5026  698a32b4-24a3-4c35-be41-b7e8710f31bc       611589   0.998775   \n",
       "7277   7420  2caa32d0-50b7-4d29-b31f-2528b06d7bc8       592625   0.998743   \n",
       "7074   7215  618b4f84-d8c9-4644-8c39-0b1d4a515e51       594057   0.998200   \n",
       "1237   1290  fefb0c70-497b-46d2-9dc2-095379258fd9       646330   0.998075   \n",
       "8765   8928  3de4d942-f83f-407f-a47b-4be6e67e8fbd       581888   0.997737   \n",
       "2420   2489  f23d4d1d-f52f-4baa-87a4-d68e175aca16       635810   0.997726   \n",
       "7026   7167  bad2625c-31f7-48da-bb7d-812c08673014       594521   0.997682   \n",
       "\n",
       "      Lead Score  \n",
       "5557       99.92  \n",
       "2428       99.88  \n",
       "6953       99.88  \n",
       "4919       99.88  \n",
       "7277       99.87  \n",
       "7074       99.82  \n",
       "1237       99.81  \n",
       "8765       99.77  \n",
       "2420       99.77  \n",
       "7026       99.77  "
      ]
     },
     "execution_count": 155,
     "metadata": {},
     "output_type": "execute_result"
    }
   ],
   "source": [
    "leads.sort_values('Lead Score',ascending=False).head(10)"
   ]
  },
  {
   "cell_type": "markdown",
   "metadata": {},
   "source": [
    "### Interpretation\n",
    "\n",
    "We have arrived at a very decent model for the the convertion of leads using 10 variables. It can predict the potential leads (leads who eventually get converted) correctly upto 78%. We also have the corresponding lead scores of conversion.\n",
    "\n",
    "The final relationship between log Odds of Conversion Probability and lead features is    \n",
    "  \n",
    "`logOdds(Conversion Probability)` = 0.3199 - 1.2623 * `Do Not Email` + 0.8939 `Total Time Spent on Website` - 1.893 `Origin_Landing Page Submission` + 0.3538 `Source_Olark Chat` + 0.6283 `Activity_Email Opened` - 0.9875 `Activity_Olark Chat Conversation` + 1.8478 `Activity_SMS Sent` - 1.1953 `Spec_No Specialization` - 1.3795 `Occupation_Unknown` + 2.3786 `Occupation_Working Professional`\n",
    "  \n",
    "where `Total Time Spent on Website` is standardized to $\\mu=0,\\sigma=1$\n",
    "\n",
    "\n",
    "Interpreting the top features affecting Conversion Probability :   \n",
    "- Leads who are `Working Professionals` have 2.38 times higher log odds of conversion than those with other professions (such as student, housewife, unemployed etc.) combined\n",
    "- Leads having `SMS Sent` as the last registered activity have 1.8 times higher log odds of conversion than leads having all other last activity (such as email opened, page visited etc.) combined \n",
    "- Leads having `Email Opened` as the last registered activity have 0.6 times higher log odds of conversion than leads having all other last activity (such as email marked spam, email link opened, page visited on website etc.) combined \n",
    "- Leads who landed on the company’s website through `Olark Chat` as the source, have 0.35 times higher log odds of conversion compared to other lead sources (such as google, facebook etc.) combined\n",
    "- Leads whose origin was a `Landing Page Submission` have 1.9 times lesser log odds of conversion than other lead sources (such as API etc.) combined\n",
    "- Leads who have not provided details of their Occupation or in other words, have `Unknown Occupation` have 1.37 times lower log odds of conversion compared to all the leads who have filled their occupation (as either unemployed, working etc.) combined\n",
    "- Leads who chose not to receive email updates (`Do Not Email`) have 1.26 times lower log odds of conversion compared to leads who would like email updates\n",
    "- Leads with `No Specialization` have 1.2 times lower log odds of conversion than all leads having some specialization (either Banking, Healthcare, Finance etc.) combined\n",
    "- Leads with `Olark Chat conversation` as the last activity registered have 0.99 times lower log odds of conversion compared to leads having all other last activity (such as email opened, sms sent etc.) combined\n",
    "    "
   ]
  },
  {
   "cell_type": "markdown",
   "metadata": {},
   "source": [
    "### Business Goals/ Action to be taken\n",
    "\n",
    "* The sales team should target those leads on high priority, who are working professionals, who spend significant amount of time on the website, wishes to communicate over mail and with whom the last method of contact was SMS sent\n",
    "\n",
    "* The sales team should provide low importance to those leads, who have not mentioned either of their occupation or specialization, and do not wishes to communicate over mail"
   ]
  }
 ],
 "metadata": {
  "kernelspec": {
   "display_name": "Python 3",
   "language": "python",
   "name": "python3"
  },
  "language_info": {
   "codemirror_mode": {
    "name": "ipython",
    "version": 3
   },
   "file_extension": ".py",
   "mimetype": "text/x-python",
   "name": "python",
   "nbconvert_exporter": "python",
   "pygments_lexer": "ipython3",
   "version": "3.7.6"
  }
 },
 "nbformat": 4,
 "nbformat_minor": 4
}
